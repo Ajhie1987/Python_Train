{
 "cells": [
  {
   "cell_type": "markdown",
   "id": "5ad04a6b",
   "metadata": {},
   "source": [
    "# sesi 2 - conditional\n",
    "\n",
    "## Conditional \n",
    "membuat kondisi\n",
    "\n",
    "membuat peraturan untuk programnya\n",
    "\n",
    "kalau hari ini hujan, maka kita bawa payung"
   ]
  },
  {
   "cell_type": "code",
   "execution_count": 17,
   "id": "fcf49890-e7db-46fb-ba79-f754d1b796d7",
   "metadata": {},
   "outputs": [
    {
     "name": "stdout",
     "output_type": "stream",
     "text": [
      "bawa payung\n"
     ]
    }
   ],
   "source": [
    "hujan = True\n",
    "\n",
    "if (hujan):\n",
    "    print(\"bawa payung\")"
   ]
  },
  {
   "cell_type": "code",
   "execution_count": 18,
   "id": "f6a4ffb5",
   "metadata": {},
   "outputs": [
    {
     "name": "stdout",
     "output_type": "stream",
     "text": [
      "True\n",
      "False\n",
      "False\n",
      "True\n"
     ]
    }
   ],
   "source": [
    "#operator pembanding\n",
    "\n",
    "a = 10\n",
    "b = 5\n",
    "print(a>b)\n",
    "print(a<b)\n",
    "print(a==b)\n",
    "print(a!=b)"
   ]
  },
  {
   "cell_type": "code",
   "execution_count": 19,
   "id": "ff334dc8",
   "metadata": {},
   "outputs": [
    {
     "name": "stdout",
     "output_type": "stream",
     "text": [
      "True\n"
     ]
    }
   ],
   "source": [
    "print(bool(a))"
   ]
  },
  {
   "cell_type": "code",
   "execution_count": 20,
   "id": "7ba74951",
   "metadata": {},
   "outputs": [
    {
     "name": "stdout",
     "output_type": "stream",
     "text": [
      "Belum punya KTP\n"
     ]
    }
   ],
   "source": [
    "umur_andri = 20\n",
    "warga_negara = \"Zimbabwe\"\n",
    "\n",
    "if(umur_andri>=17 and warga_negara==\"Indonesia\"):\n",
    "    print(\"Punya Ktp\")\n",
    "else:\n",
    "    print(\"Belum punya KTP\")"
   ]
  },
  {
   "cell_type": "code",
   "execution_count": 21,
   "id": "a71be79a",
   "metadata": {},
   "outputs": [
    {
     "name": "stdout",
     "output_type": "stream",
     "text": [
      "Grade A\n"
     ]
    }
   ],
   "source": [
    "nilai = 90\n",
    "\n",
    "if(nilai >= 90):\n",
    "    print(\"Grade A\")\n",
    "elif (nilai >=80 and nilai <= 90):\n",
    "    print(\"Grade B\")\n",
    "elif (nilai >= 70 and nilai <= 80):\n",
    "    print(\"Grade C\")\n",
    "else:\n",
    "    print(\"Grade D\")\n",
    "    print(\"Kamu Tidak Lulus\")\n"
   ]
  },
  {
   "cell_type": "code",
   "execution_count": 22,
   "id": "b1b72aca",
   "metadata": {},
   "outputs": [
    {
     "name": "stdout",
     "output_type": "stream",
     "text": [
      "Tidak Lulus\n",
      "Nilai Cukup\n",
      "Absen kurang dari 75%\n"
     ]
    }
   ],
   "source": [
    "nilai = 80\n",
    "absen = 5/10\n",
    "\n",
    "if(nilai > 70 and absen >= 0.75):\n",
    "    print(\"Lulus\")\n",
    "else:\n",
    "    print(\"Tidak Lulus\")\n",
    "\n",
    "    if(nilai<70):\n",
    "        print(\"Nilai tidak mencukupi\")\n",
    "    else:\n",
    "        print(\"Nilai Cukup\")\n",
    "    \n",
    "    if(absen<0.75):\n",
    "        print(\"Absen kurang dari 75%\")\n",
    "    else:\n",
    "        print(\"Absen Cukup\")"
   ]
  },
  {
   "cell_type": "code",
   "execution_count": 23,
   "id": "ba6c0651",
   "metadata": {},
   "outputs": [
    {
     "name": "stdout",
     "output_type": "stream",
     "text": [
      "Ketemu Python didalam message\n"
     ]
    }
   ],
   "source": [
    "message = \"hari ini kita belajar Conditional Python\"\n",
    "\n",
    "if(\"Python\" in message):\n",
    "    print(\"Ketemu Python didalam message\")\n",
    "else:\n",
    "    print(\"Tidak ketemu\")"
   ]
  },
  {
   "cell_type": "code",
   "execution_count": 24,
   "id": "45711ef6",
   "metadata": {},
   "outputs": [
    {
     "name": "stdout",
     "output_type": "stream",
     "text": [
      "Buah jeruk tidak ada dalam list\n"
     ]
    }
   ],
   "source": [
    "buah_buahan = [\"apel\",\"pisang\",\"mangga\"]\n",
    "buah_fav = \"jeruk\"\n",
    "\n",
    "if(buah_fav in buah_buahan):\n",
    "    print(\"Buah \"+buah_fav+\" ada di list\")\n",
    "else:\n",
    "    print(\"Buah \"+buah_fav+\" tidak ada dalam list\")"
   ]
  },
  {
   "cell_type": "code",
   "execution_count": 25,
   "id": "906d4232",
   "metadata": {},
   "outputs": [
    {
     "name": "stdout",
     "output_type": "stream",
     "text": [
      "Kita main dirumah aja\n"
     ]
    }
   ],
   "source": [
    "hujan = True\n",
    "\n",
    "print(\"Kita main dirumah aja\") if hujan else print(\"Kita main diluar\")"
   ]
  },
  {
   "cell_type": "markdown",
   "id": "0d1f9321",
   "metadata": {},
   "source": [
    "## Iteration\n",
    "\n",
    "perulangan , loop\n",
    "\n",
    "WHILE - selama kondisi true maka code diulang\n",
    "FOR - mengambil satu per satu item didalam sebuah kondisi"
   ]
  },
  {
   "cell_type": "code",
   "execution_count": 26,
   "id": "9ce534cd",
   "metadata": {},
   "outputs": [
    {
     "name": "stdout",
     "output_type": "stream",
     "text": [
      "Nilai A = 5\n",
      "\n",
      "5\n",
      "4\n",
      "3\n",
      "2\n",
      "1\n",
      "\n",
      "Selesai, nilai A sekarang = 0\n"
     ]
    }
   ],
   "source": [
    "a = 5\n",
    "print(\"Nilai A =\",a)\n",
    "print(\"\")\n",
    "while (a>0):\n",
    "    print(a)\n",
    "    a -= 1          ## a = a-1\n",
    "print(\"\")\n",
    "print (\"Selesai, nilai A sekarang =\",a)"
   ]
  },
  {
   "cell_type": "code",
   "execution_count": 27,
   "id": "6aa3bfcb",
   "metadata": {},
   "outputs": [
    {
     "name": "stdout",
     "output_type": "stream",
     "text": [
      "9 adalah faktor 18\n",
      "18 bukan prima\n"
     ]
    }
   ],
   "source": [
    "angka = 18\n",
    "pembagi = angka - 1\n",
    "\n",
    "while (pembagi > 1):\n",
    "    if(angka % pembagi == 0):\n",
    "        print(pembagi, \"adalah faktor\", angka)\n",
    "        print(angka,\"bukan prima\")\n",
    "        break\n",
    "    pembagi -= 1"
   ]
  },
  {
   "cell_type": "code",
   "execution_count": 28,
   "id": "70ea85b4",
   "metadata": {},
   "outputs": [
    {
     "name": "stdout",
     "output_type": "stream",
     "text": [
      "Nilai A = 5\n",
      "\n",
      "5\n",
      "4\n",
      "3\n",
      "Nilai A sekarang 3\n",
      "\n",
      "Selesai, nilai A sekarang = 3\n"
     ]
    }
   ],
   "source": [
    "a = 5\n",
    "print(\"Nilai A =\",a)\n",
    "print(\"\")\n",
    "while (a>0):\n",
    "    print(a)\n",
    "    if(a==3):       ## cek nilai A apakah 3\n",
    "        print (\"Nilai A sekarang\",a) \n",
    "        break       ## stop paksa\n",
    "    a -= 1          ## a = a-1\n",
    "print(\"\")\n",
    "print (\"Selesai, nilai A sekarang =\",a)"
   ]
  },
  {
   "cell_type": "markdown",
   "id": "7017add3",
   "metadata": {},
   "source": [
    "## for loop\n",
    "\n",
    "koleksi :"
   ]
  },
  {
   "cell_type": "code",
   "execution_count": 29,
   "id": "75ce0d35",
   "metadata": {},
   "outputs": [
    {
     "name": "stdout",
     "output_type": "stream",
     "text": [
      "H\n",
      "a\n",
      "c\n",
      "t\n",
      "i\n",
      "v\n",
      "8\n"
     ]
    }
   ],
   "source": [
    "for huruf in \"Hactiv8\":\n",
    "    print(huruf)"
   ]
  },
  {
   "cell_type": "code",
   "execution_count": 30,
   "id": "95967aa9",
   "metadata": {},
   "outputs": [
    {
     "name": "stdout",
     "output_type": "stream",
     "text": [
      "0\n",
      "1\n",
      "2\n",
      "3\n",
      "4\n"
     ]
    }
   ],
   "source": [
    "for a in range(5):\n",
    "    print(a)"
   ]
  },
  {
   "cell_type": "code",
   "execution_count": 31,
   "id": "49dc27d3",
   "metadata": {},
   "outputs": [
    {
     "name": "stdout",
     "output_type": "stream",
     "text": [
      "apel\n",
      "3\n",
      "pisang\n",
      "2\n"
     ]
    }
   ],
   "source": [
    "d_buah = {\"apel\": 3, \"pisang\": 2}\n",
    "\n",
    "for key in d_buah:\n",
    "    print(key)\n",
    "    print(d_buah[key])\n"
   ]
  },
  {
   "cell_type": "code",
   "execution_count": 32,
   "id": "602f0b7f",
   "metadata": {},
   "outputs": [
    {
     "name": "stdout",
     "output_type": "stream",
     "text": [
      "F\n",
      "a\n",
      "j\n",
      "r\n",
      "i\n",
      " \n",
      "S\n",
      "o\n",
      "f\n",
      "i\n",
      "a\n",
      "n\n",
      "t\n",
      "o\n"
     ]
    }
   ],
   "source": [
    "for b in \"Fajri Sofianto\":\n",
    "    print(b)"
   ]
  },
  {
   "cell_type": "code",
   "execution_count": null,
   "id": "96cc9047",
   "metadata": {},
   "outputs": [],
   "source": []
  }
 ],
 "metadata": {
  "kernelspec": {
   "display_name": "Python 3 (ipykernel)",
   "language": "python",
   "name": "python3"
  },
  "language_info": {
   "codemirror_mode": {
    "name": "ipython",
    "version": 3
   },
   "file_extension": ".py",
   "mimetype": "text/x-python",
   "name": "python",
   "nbconvert_exporter": "python",
   "pygments_lexer": "ipython3",
   "version": "3.9.6"
  }
 },
 "nbformat": 4,
 "nbformat_minor": 5
}
