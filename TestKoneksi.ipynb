{
 "cells": [
  {
   "cell_type": "code",
   "execution_count": 1,
   "metadata": {},
   "outputs": [],
   "source": [
    "import pyodbc \n",
    "\n",
    "conn = pyodbc.connect(\"Driver={SQL Server};\"\n",
    "                        \"Server=VMWWEBACL;\"\n",
    "                        \"Database=IAD_EDW;\"\n",
    "                        \"uid=sa;pwd=BTNB@tara123\")\n",
    "\n",
    "cursor = conn.cursor()\n",
    "cursor.execute('SELECT JDCBR, JDBR, JDNAME FROM JHDATA where JDCBR = JDBR')\n",
    "for i in cursor:\n",
    "    print(i)"
   ]
  },
  {
   "cell_type": "code",
   "execution_count": 30,
   "metadata": {},
   "outputs": [
    {
     "name": "stdout",
     "output_type": "stream",
     "text": [
      "     JDCBR   JDBR                 JDNAME\n",
      "0      1.0    1.0       JAKARTA KUNINGAN\n",
      "1      2.0    2.0               SURABAYA\n",
      "2      3.0    3.0                  MEDAN\n",
      "3      4.0    4.0               MAKASSAR\n",
      "4      5.0    5.0             YOGYAKARTA\n",
      "..     ...    ...                    ...\n",
      "98   909.0  909.0         CBC BALIKPAPAN\n",
      "99   910.0  910.0           CBC SEMARANG\n",
      "100  921.0  921.0        SALES CENTER KG\n",
      "101  922.0  922.0       SALES CENTER BSD\n",
      "102  923.0  923.0  SALES CENTER SURABAYA\n",
      "\n",
      "[103 rows x 3 columns]\n",
      "\n",
      "          gp1pdx     gp1pjd\n",
      "0  July 31, 2023  2023212.0\n",
      "\n"
     ]
    },
    {
     "name": "stderr",
     "output_type": "stream",
     "text": [
      "C:\\Users\\Data Analytic\\AppData\\Local\\Temp\\ipykernel_6444\\187500253.py:9: UserWarning: pandas only supports SQLAlchemy connectable (engine/connection) or database string URI or sqlite3 DBAPI2 connection. Other DBAPI2 objects are not tested. Please consider using SQLAlchemy.\n",
      "  dframe = pd.read_sql_query('SELECT JDCBR, JDBR, JDNAME FROM JHDATA where JDCBR = JDBR', conn)\n",
      "C:\\Users\\Data Analytic\\AppData\\Local\\Temp\\ipykernel_6444\\187500253.py:12: UserWarning: pandas only supports SQLAlchemy connectable (engine/connection) or database string URI or sqlite3 DBAPI2 connection. Other DBAPI2 objects are not tested. Please consider using SQLAlchemy.\n",
      "  glpar1 = pd.read_sql_query('Select gp1pdx,gp1pjd from GLPAR1', conn)\n"
     ]
    }
   ],
   "source": [
    "import pyodbc \n",
    "import pandas as pd   \n",
    "\n",
    "conn = pyodbc.connect(\"Driver={SQL Server};\"\n",
    "                        \"Server=VMWWEBACL;\"\n",
    "                        \"Database=IAD_EDW;\"\n",
    "                        \"uid=sa;pwd=BTNB@tara123\")\n",
    "\n",
    "dframe = pd.read_sql_query('SELECT JDCBR, JDBR, JDNAME FROM JHDATA where JDCBR = JDBR', conn)\n",
    "print(dframe)\n",
    "print(\"\")\n",
    "glpar1 = pd.read_sql_query('Select gp1pdx,gp1pjd from GLPAR1', conn)\n",
    "print(glpar1)\n",
    "print(\"\")"
   ]
  },
  {
   "cell_type": "code",
   "execution_count": null,
   "metadata": {},
   "outputs": [],
   "source": []
  }
 ],
 "metadata": {
  "kernelspec": {
   "display_name": "base",
   "language": "python",
   "name": "python3"
  },
  "language_info": {
   "codemirror_mode": {
    "name": "ipython",
    "version": 3
   },
   "file_extension": ".py",
   "mimetype": "text/x-python",
   "name": "python",
   "nbconvert_exporter": "python",
   "pygments_lexer": "ipython3",
   "version": "3.11.3"
  },
  "orig_nbformat": 4
 },
 "nbformat": 4,
 "nbformat_minor": 2
}
