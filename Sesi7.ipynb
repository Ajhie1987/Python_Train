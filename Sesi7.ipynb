{
 "cells": [
  {
   "cell_type": "code",
   "execution_count": 1,
   "metadata": {},
   "outputs": [],
   "source": [
    "import numpy as np\n",
    "import pandas as pd\n",
    "import matplotlib as mpl\n",
    "import matplotlib.pyplot as plt\n"
   ]
  },
  {
   "cell_type": "code",
   "execution_count": 3,
   "metadata": {},
   "outputs": [
    {
     "name": "stdout",
     "output_type": "stream",
     "text": [
      "<class 'pandas.core.frame.DataFrame'>\n",
      "RangeIndex: 5706 entries, 0 to 5705\n",
      "Data columns (total 7 columns):\n",
      " #   Column    Non-Null Count  Dtype  \n",
      "---  ------    --------------  -----  \n",
      " 0   Date      5706 non-null   object \n",
      " 1   Open      5706 non-null   float64\n",
      " 2   High      5706 non-null   float64\n",
      " 3   Low       5706 non-null   float64\n",
      " 4   Close     5706 non-null   float64\n",
      " 5   Volume    5706 non-null   int64  \n",
      " 6   Currency  5706 non-null   object \n",
      "dtypes: float64(4), int64(1), object(2)\n",
      "memory usage: 312.2+ KB\n"
     ]
    }
   ],
   "source": [
    "test_data = pd.read_csv(\"https://raw.githubusercontent.com/stefkwan-h8/dataset/main/gold.csv\")"
   ]
  },
  {
   "cell_type": "code",
   "execution_count": null,
   "metadata": {},
   "outputs": [],
   "source": []
  }
 ],
 "metadata": {
  "kernelspec": {
   "display_name": "base",
   "language": "python",
   "name": "python3"
  },
  "language_info": {
   "codemirror_mode": {
    "name": "ipython",
    "version": 3
   },
   "file_extension": ".py",
   "mimetype": "text/x-python",
   "name": "python",
   "nbconvert_exporter": "python",
   "pygments_lexer": "ipython3",
   "version": "3.11.3"
  },
  "orig_nbformat": 4
 },
 "nbformat": 4,
 "nbformat_minor": 2
}
