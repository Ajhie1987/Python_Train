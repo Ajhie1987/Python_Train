{
  "nbformat": 4,
  "nbformat_minor": 0,
  "metadata": {
    "colab": {
      "provenance": []
    },
    "kernelspec": {
      "name": "python3",
      "display_name": "Python 3"
    },
    "language_info": {
      "name": "python"
    }
  },
  "cells": [
    {
      "cell_type": "markdown",
      "source": [
        "# Machine Learning - Supervised - Classification\n",
        "machine learning yang membuat prediksi tipe kategorikal.\n",
        "\n",
        "1. pilih tipe algoritma: salah satu algoritma classification\n",
        "2. masukkan data: pisahin jadi fitur dan target\n",
        "3. latih - menggunakan sklearn\n",
        "4. dapat model yang sudah terlatih - jangan lupa untuk tes akurasi modelnya\n",
        "\n",
        "step-step membuat model ML masih sama, kita mulai dari persiapan data.\n",
        "1. persiapan data\n",
        "2. rapiin data\n",
        "  - data harus numerik, kalau ada data text kita encoding dulu\n",
        "  - pilih fitur dan target\n",
        "  - pisahin jadi training dan testing dataset\n",
        "3. pilih algoritma dan latih model\n",
        "4. evaluasi model\n",
        "  - regression model: R-squared\n",
        "  - classification model: confusion matrix dan classification report\n",
        "5. tuning - kembali ke step 1-4 untuk mencoba membuat model lebih baik"
      ],
      "metadata": {
        "id": "CSZr1J6HGh50"
      }
    },
    {
      "cell_type": "code",
      "execution_count": null,
      "metadata": {
        "id": "cBaj-NLPDQWk"
      },
      "outputs": [],
      "source": [
        "import numpy as np\n",
        "import pandas as pd\n",
        "import matplotlib.pyplot as plt\n",
        "\n"
      ]
    },
    {
      "cell_type": "markdown",
      "source": [
        "kali ini kita akan latihan membuat model tipe klasifikasi dengan data diabetes [raw data](https://raw.githubusercontent.com/stefkwan-h8/dataset/main/diabetes.csv)\n",
        "\n",
        "kita akan membuat model yang bisa memprediksi apakah seseorang memiliki diabetes atau tidak, jika kita punya informasi tentang:\n",
        "- Pregnancies\n",
        "- Glucose\n",
        "- BloodPressure\n",
        "- SkinThickness\n",
        "- Insulin\n",
        "- BMI\n",
        "- DiabetesPedigreeFunction,\n",
        "- Age"
      ],
      "metadata": {
        "id": "5mWb1iU0K4wy"
      }
    },
    {
      "cell_type": "code",
      "source": [
        "# 1. import data"
      ],
      "metadata": {
        "id": "yHgjbCWFK2t0"
      },
      "execution_count": null,
      "outputs": []
    }
  ]
}