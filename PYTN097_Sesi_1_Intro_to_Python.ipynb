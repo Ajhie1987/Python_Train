{
 "cells": [
  {
   "cell_type": "code",
   "execution_count": null,
   "metadata": {
    "colab": {
     "base_uri": "https://localhost:8080/"
    },
    "id": "pKZg7w8q3j7O",
    "outputId": "84008245-7442-420a-dfb0-c7032524732c"
   },
   "outputs": [
    {
     "name": "stdout",
     "output_type": "stream",
     "text": [
      "Selamat malam, selamat datang ke kelas Hacktiv8\n"
     ]
    }
   ],
   "source": [
    "print(\"Selamat malam, selamat datang ke kelas Hacktiv8\")"
   ]
  },
  {
   "cell_type": "code",
   "execution_count": 1,
   "metadata": {
    "colab": {
     "base_uri": "https://localhost:8080/"
    },
    "id": "9R_AYi_m4WWC",
    "outputId": "eeb4d61e-aebf-40e6-926c-04cb6c07f8c0"
   },
   "outputs": [
    {
     "name": "stdout",
     "output_type": "stream",
     "text": [
      "tes pake Python\n"
     ]
    }
   ],
   "source": [
    "print(\"tes pake Python\")"
   ]
  },
  {
   "cell_type": "markdown",
   "metadata": {
    "id": "ZHY3IENk4XwJ"
   },
   "source": [
    "# Sesi 1 - Intro to Python\n",
    "Di sesi ini kita akan mempelajari basic syntax python, termasuk:\n",
    "- print\n",
    "- data types\n",
    "  - numerik: integer, float\n",
    "  - text: string (di kutip \"\")\n",
    "  - boolean (hanya true/false)\n",
    "  - list\n",
    "  - dictionary\n",
    "- variable"
   ]
  },
  {
   "cell_type": "code",
   "execution_count": null,
   "metadata": {
    "colab": {
     "base_uri": "https://localhost:8080/"
    },
    "id": "b3mfDKK04Zu7",
    "outputId": "b9d6b342-72a4-451c-bff0-bc54380d870b"
   },
   "outputs": [
    {
     "data": {
      "text/plain": [
       "3456"
      ]
     },
     "execution_count": 11,
     "metadata": {},
     "output_type": "execute_result"
    }
   ],
   "source": [
    "123\n",
    "12\n",
    "12354\n",
    "3456"
   ]
  },
  {
   "cell_type": "markdown",
   "metadata": {
    "id": "ZkXvfP_o6EV7"
   },
   "source": [
    "karena python notebook hanya memperlihatkan data yang terakhir kita tulis di sebuah kotak, kita bisa pakai keyword \"print\" untuk memastikan data yang mau kelihatan, di tampilkan"
   ]
  },
  {
   "cell_type": "code",
   "execution_count": null,
   "metadata": {
    "colab": {
     "base_uri": "https://localhost:8080/"
    },
    "id": "F9E-G50A6Lq9",
    "outputId": "b56628bd-2072-43ba-a072-a189fb434517"
   },
   "outputs": [
    {
     "name": "stdout",
     "output_type": "stream",
     "text": [
      "a\n",
      "b\n",
      "123\n",
      "3456\n"
     ]
    }
   ],
   "source": [
    "print(\"a\")\n",
    "print(\"b\")\n",
    "print(123)\n",
    "print(3456)"
   ]
  },
  {
   "cell_type": "markdown",
   "metadata": {
    "id": "khudKEpP6bPz"
   },
   "source": [
    "## Basic Data Types\n",
    "tipe data yang berdiri sendiri, mendasar, primitif, simple\n",
    "\n",
    "1. Integer, tipe data angka numerik yang tidak memiliki desimal\n",
    "2. float, untuk angka yang memiliki desimal point, dinamakan sebagai \"float\" bukan integer. walaupun 0.0, desimal 0, tetap dianggap float.\n",
    "3. string, tipe data non-numerik, termasuk alphabet, angka, simbol, spasi, dan lain-lain. asalkan datanya dikutip.\n",
    "4. boolean, true atau false, dua pilihan saja"
   ]
  },
  {
   "cell_type": "code",
   "execution_count": null,
   "metadata": {
    "id": "YG3hrIgg6P02"
   },
   "outputs": [],
   "source": [
    "123\n",
    "1\n",
    "0\n",
    "-500\n",
    "734"
   ]
  },
  {
   "cell_type": "markdown",
   "metadata": {
    "id": "QRUHYbQs6tXx"
   },
   "source": [
    "untuk cek tipe data, kita bisa gunakan keyword \"type\""
   ]
  },
  {
   "cell_type": "code",
   "execution_count": null,
   "metadata": {
    "colab": {
     "base_uri": "https://localhost:8080/"
    },
    "id": "Id7ZsrWe6vjq",
    "outputId": "47cd9669-e973-46c5-9b2f-2145aefc49f3"
   },
   "outputs": [
    {
     "data": {
      "text/plain": [
       "int"
      ]
     },
     "execution_count": 13,
     "metadata": {},
     "output_type": "execute_result"
    }
   ],
   "source": [
    "type(123)"
   ]
  },
  {
   "cell_type": "markdown",
   "metadata": {
    "id": "2SOjnU7v6zRA"
   },
   "source": [
    "untuk lebih rapi, type nya kita bungkus dengan print"
   ]
  },
  {
   "cell_type": "code",
   "execution_count": null,
   "metadata": {
    "colab": {
     "base_uri": "https://localhost:8080/"
    },
    "id": "NGGKfyzJ6xdN",
    "outputId": "7eafd442-2284-4bcd-b9e8-5ece4b961b02"
   },
   "outputs": [
    {
     "name": "stdout",
     "output_type": "stream",
     "text": [
      "<class 'int'>\n"
     ]
    }
   ],
   "source": [
    "print(type(123))"
   ]
  },
  {
   "cell_type": "markdown",
   "metadata": {
    "id": "ATREB0qP67v4"
   },
   "source": [
    "class adalah sebuah konsep dalam bahasa pemrograman, untuk sebuah tipe data.\n",
    "\n",
    "kalau mau buat tipe data custom, kita bisa buat class baru. tapi di kelas data analysis ini tidak kita pelajari."
   ]
  },
  {
   "cell_type": "code",
   "execution_count": 4,
   "metadata": {
    "colab": {
     "base_uri": "https://localhost:8080/"
    },
    "id": "3qPr7rFN65Y3",
    "outputId": "8e31b4fc-c0a1-4d22-9477-abab4eee8e39"
   },
   "outputs": [
    {
     "name": "stdout",
     "output_type": "stream",
     "text": [
      "<class 'int'>\n",
      "<class 'int'>\n",
      "<class 'int'>\n",
      "<class 'int'>\n"
     ]
    }
   ],
   "source": [
    "print(type(-156))\n",
    "print(type(0))\n",
    "print(type(123654968656546578461681313))\n",
    "print(type(9999999999999999999999999999999))"
   ]
  },
  {
   "cell_type": "markdown",
   "metadata": {
    "id": "DcIg14wY7lKH"
   },
   "source": [
    "2. float, untuk angka yang memiliki desimal point, dinamakan sebagai \"float\" bukan integer. walaupun 0.0, desimal 0, tetap dianggap float."
   ]
  },
  {
   "cell_type": "code",
   "execution_count": null,
   "metadata": {
    "colab": {
     "base_uri": "https://localhost:8080/"
    },
    "id": "AzzHhkLb7eaM",
    "outputId": "655352f2-e9a2-4a97-be32-4540b2aa2696"
   },
   "outputs": [
    {
     "name": "stdout",
     "output_type": "stream",
     "text": [
      "<class 'float'>\n",
      "<class 'float'>\n",
      "<class 'float'>\n",
      "<class 'float'>\n"
     ]
    }
   ],
   "source": [
    "print(type(-156.8))\n",
    "print(type(0.0))\n",
    "print(type(123654968656546578461681313.235))\n",
    "print(type(9999999999999999999999999999999.99999999999999))"
   ]
  },
  {
   "cell_type": "markdown",
   "metadata": {
    "id": "3b4Kd3KB78Pd"
   },
   "source": [
    "3. string, tipe data non-numerik, termasuk alphabet, angka, simbol, spasi, dan lain-lain. asalkan datanya dikutip."
   ]
  },
  {
   "cell_type": "code",
   "execution_count": null,
   "metadata": {
    "colab": {
     "base_uri": "https://localhost:8080/"
    },
    "id": "6897-Ank75Bu",
    "outputId": "2f5c13cc-87cf-423b-8247-140809da3fc3"
   },
   "outputs": [
    {
     "name": "stdout",
     "output_type": "stream",
     "text": [
      "<class 'str'>\n",
      "<class 'str'>\n",
      "<class 'str'>\n",
      "<class 'str'>\n"
     ]
    }
   ],
   "source": [
    "print(type(\"Hacktiv8\"))\n",
    "print(type(\"\"))\n",
    "print(type(\"aku mau belajar data analysis..!\"))\n",
    "print(type(\"123746512834765 !@#%(%$&^$)\"))"
   ]
  },
  {
   "cell_type": "markdown",
   "metadata": {
    "id": "fwdW1_B_8SGW"
   },
   "source": [
    "4. boolean, true atau false, dua pilihan saja\n",
    "\n",
    "karena cara menyimpan data di sebuah bahasa pemrograman sangat kaku, semua data di klasifikasi menjadi true atau false."
   ]
  },
  {
   "cell_type": "code",
   "execution_count": null,
   "metadata": {
    "colab": {
     "base_uri": "https://localhost:8080/"
    },
    "id": "OJdKlD5Y8O8X",
    "outputId": "90c8cef6-296c-445b-f2df-2f2f5bff0502"
   },
   "outputs": [
    {
     "name": "stdout",
     "output_type": "stream",
     "text": [
      "<class 'bool'>\n",
      "<class 'bool'>\n"
     ]
    }
   ],
   "source": [
    "print(type(True))\n",
    "print(type(False))"
   ]
  },
  {
   "cell_type": "markdown",
   "metadata": {
    "id": "KTC4kTD788xZ"
   },
   "source": [
    "nama class untuk tipe data kita: int, float, str, bool\n",
    "\n",
    "bisa digunakan untuk meng-convert data dari satu tipe ke tipe lainnya"
   ]
  },
  {
   "cell_type": "code",
   "execution_count": null,
   "metadata": {
    "colab": {
     "base_uri": "https://localhost:8080/"
    },
    "id": "wfrLLnI98rpR",
    "outputId": "cf2754fc-97ba-46ba-beed-d8444611057b"
   },
   "outputs": [
    {
     "data": {
      "text/plain": [
       "123"
      ]
     },
     "execution_count": 19,
     "metadata": {},
     "output_type": "execute_result"
    }
   ],
   "source": [
    "# mau konversi 123.5 menjadi integer\n",
    "int(123.5)"
   ]
  },
  {
   "cell_type": "code",
   "execution_count": null,
   "metadata": {
    "colab": {
     "base_uri": "https://localhost:8080/"
    },
    "id": "PpANlsBf9NSt",
    "outputId": "6801c9c8-44ae-4ee6-f019-d3371278d485"
   },
   "outputs": [
    {
     "data": {
      "text/plain": [
       "501"
      ]
     },
     "execution_count": 20,
     "metadata": {},
     "output_type": "execute_result"
    }
   ],
   "source": [
    "# mau konversi string \"501\" menjadi integer\n",
    "int(\"501\")"
   ]
  },
  {
   "cell_type": "code",
   "execution_count": null,
   "metadata": {
    "id": "rlc_46NT9um3"
   },
   "outputs": [],
   "source": [
    "# print(int(\"123.5\"))\n",
    "# tidak bisa convert string \"21.5\" menjadi int, tapi bisa convert jadi float"
   ]
  },
  {
   "cell_type": "markdown",
   "metadata": {
    "id": "2S9HTL8s-S8O"
   },
   "source": [
    "untuk konversi float ke integer, tidak ada masalah\n",
    "\n",
    "untuk konversi string ke integer, pastikan string nya berisi angka integer - string yang berisi angka float tidak bisa di konversi ke integer secara langsung, harus ke float dulu, baru ke integer"
   ]
  },
  {
   "cell_type": "code",
   "execution_count": null,
   "metadata": {
    "colab": {
     "base_uri": "https://localhost:8080/"
    },
    "id": "altqibKV9lLI",
    "outputId": "3b067283-496a-4d7f-89d6-2d332ebac00c"
   },
   "outputs": [
    {
     "name": "stdout",
     "output_type": "stream",
     "text": [
      "12\n",
      "345\n",
      "1\n",
      "0\n"
     ]
    }
   ],
   "source": [
    "# mau konversi jadi int\n",
    "print(int(12.456))\n",
    "print(int(\"345\"))\n",
    "print(int(True))\n",
    "print(int(False))"
   ]
  },
  {
   "cell_type": "code",
   "execution_count": null,
   "metadata": {
    "colab": {
     "base_uri": "https://localhost:8080/"
    },
    "id": "LSRVqVb19Um_",
    "outputId": "6e93b8ca-6ad0-4486-9b08-ba418f207596"
   },
   "outputs": [
    {
     "name": "stdout",
     "output_type": "stream",
     "text": [
      "12.0\n",
      "123.5\n",
      "1.0\n",
      "0.0\n"
     ]
    }
   ],
   "source": [
    "# mau konversi jadi float\n",
    "print(float(12))\n",
    "print(float(\"123.5\"))\n",
    "print(float(True))\n",
    "print(float(False))"
   ]
  },
  {
   "cell_type": "code",
   "execution_count": null,
   "metadata": {
    "colab": {
     "base_uri": "https://localhost:8080/"
    },
    "id": "c8R3FauR9fkz",
    "outputId": "fcc315e9-2fe0-4747-aab6-a478ee20bdda"
   },
   "outputs": [
    {
     "name": "stdout",
     "output_type": "stream",
     "text": [
      "12\n",
      "12.5464\n",
      "123.5\n",
      "True\n",
      "False\n"
     ]
    }
   ],
   "source": [
    "# mau konversi jadi string\n",
    "print(str(12))\n",
    "print(str(12.5464))\n",
    "print(str(\"123.5\"))\n",
    "print(str(True))\n",
    "print(str(False))"
   ]
  },
  {
   "cell_type": "code",
   "execution_count": 2,
   "metadata": {
    "colab": {
     "base_uri": "https://localhost:8080/"
    },
    "id": "U1fKEKei-uh5",
    "outputId": "4f73bbb5-e43d-418a-f707-e1398cc567c7"
   },
   "outputs": [
    {
     "name": "stdout",
     "output_type": "stream",
     "text": [
      "True\n",
      "True\n",
      "True\n",
      "True\n",
      "False\n"
     ]
    }
   ],
   "source": [
    "# mau konversi jadi boolean\n",
    "print(bool(-12))\n",
    "print(bool(12.5464))\n",
    "print(bool(\"123.5\"))\n",
    "print(bool(True))\n",
    "print(bool(False))"
   ]
  },
  {
   "cell_type": "markdown",
   "metadata": {
    "id": "J0pVOEJT-07M"
   },
   "source": [
    "Ada konsep \"falsy\" dimana kita menandai beberapa data sebagai False. Data lain semuanya True.\n",
    "\n",
    "Data yang dianggap False adalah:\n",
    "- boolean False\n",
    "- integer 0\n",
    "- float 0.0\n",
    "- string \"\"\n",
    "- list []\n",
    "- tuple ()\n",
    "- dictionary {}\n",
    "\n",
    "yang kosong kosong dianggap False\n",
    "\n",
    "yang ada isinya dianggap True, walaupun misalkan angka negatif"
   ]
  },
  {
   "cell_type": "code",
   "execution_count": 5,
   "metadata": {
    "id": "zbaKOugZ-zBa"
   },
   "outputs": [
    {
     "name": "stdout",
     "output_type": "stream",
     "text": [
      "Tes Halooooo\n"
     ]
    }
   ],
   "source": [
    "print(\"Tes Halooooo\")"
   ]
  },
  {
   "cell_type": "code",
   "execution_count": null,
   "metadata": {},
   "outputs": [],
   "source": []
  }
 ],
 "metadata": {
  "colab": {
   "provenance": []
  },
  "kernelspec": {
   "display_name": "Python 3 (ipykernel)",
   "language": "python",
   "name": "python3"
  },
  "language_info": {
   "codemirror_mode": {
    "name": "ipython",
    "version": 3
   },
   "file_extension": ".py",
   "mimetype": "text/x-python",
   "name": "python",
   "nbconvert_exporter": "python",
   "pygments_lexer": "ipython3",
   "version": "3.9.6"
  }
 },
 "nbformat": 4,
 "nbformat_minor": 4
}
