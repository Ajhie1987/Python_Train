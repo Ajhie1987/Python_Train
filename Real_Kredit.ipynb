{
 "cells": [
  {
   "cell_type": "code",
   "execution_count": 1,
   "metadata": {},
   "outputs": [],
   "source": [
    "import pandas as pd\n",
    "import matplotlib.pyplot as plt\n",
    "import numpy as np\n",
    "import seaborn as sns\n",
    "import scipy.stats\n",
    "from scipy.stats import uniform\n",
    "\n",
    "from sklearn.naive_bayes import GaussianNB\n",
    "from sklearn.neighbors import KNeighborsClassifier\n",
    "from sklearn.metrics import classification_report, confusion_matrix, ConfusionMatrixDisplay\n",
    "from sklearn.preprocessing import LabelEncoder\n",
    "from sklearn.datasets import load_digits\n",
    "from sklearn.model_selection import train_test_split"
   ]
  },
  {
   "cell_type": "code",
   "execution_count": 2,
   "metadata": {},
   "outputs": [
    {
     "name": "stderr",
     "output_type": "stream",
     "text": [
      "C:\\Users\\Data Analytic\\AppData\\Local\\Temp\\ipykernel_97168\\3970644761.py:1: DtypeWarning: Columns (0) have mixed types. Specify dtype option on import or set low_memory=False.\n",
      "  df = pd.read_csv('D:\\File_Analisa_Python\\ML_ProbabilityDefault.csv', sep='|')\n"
     ]
    },
    {
     "name": "stdout",
     "output_type": "stream",
     "text": [
      "<class 'pandas.core.frame.DataFrame'>\n",
      "RangeIndex: 1961552 entries, 0 to 1961551\n",
      "Data columns (total 25 columns):\n",
      " #   Column             Dtype  \n",
      "---  ------             -----  \n",
      " 0   ACCTNO             object \n",
      " 1   NAMA_DEBITUR       object \n",
      " 2   POSISI             object \n",
      " 3   ROA                float64\n",
      " 4   CBAL               float64\n",
      " 5   JML_PENGHASILAN    float64\n",
      " 6   ORGAMT             float64\n",
      " 7   JUMLAH_CICILAN     float64\n",
      " 8   TENOR_BLN          float64\n",
      " 9   MARITAL_ID         object \n",
      " 10  GENDER_ID          float64\n",
      " 11  KOL                float64\n",
      " 12  DEVCODE            object \n",
      " 13  ED_DESC            object \n",
      " 14  LONDSC             object \n",
      " 15  COL_DESC           object \n",
      " 16  COL_VALUE          float64\n",
      " 17  LUAS_BGN_AGUNAN    float64\n",
      " 18  LUAS_TNH_BANGUNAN  float64\n",
      " 19  KET_AGF            float64\n",
      " 20  SEGMEN             float64\n",
      " 21  STFSTATUS          object \n",
      " 22  RASIO_RPC          float64\n",
      " 23  RASIO_AGUNAN       float64\n",
      " 24  TARGET             float64\n",
      "dtypes: float64(16), object(9)\n",
      "memory usage: 374.1+ MB\n"
     ]
    }
   ],
   "source": [
    "df = pd.read_csv('D:\\File_Analisa_Python\\ML_ProbabilityDefault.csv', sep='|')\n",
    "df.info()"
   ]
  },
  {
   "cell_type": "code",
   "execution_count": 8,
   "metadata": {},
   "outputs": [
    {
     "data": {
      "text/plain": [
       "ACCTNO                   0\n",
       "NAMA_DEBITUR         12779\n",
       "POSISI                   0\n",
       "ROA                      0\n",
       "CBAL                     0\n",
       "JML_PENGHASILAN          0\n",
       "ORGAMT                   0\n",
       "JUMLAH_CICILAN           0\n",
       "TENOR_BLN                0\n",
       "MARITAL_ID               0\n",
       "GENDER_ID                0\n",
       "KOL                      0\n",
       "DEVCODE               2332\n",
       "ED_DESC                  0\n",
       "LONDSC                   0\n",
       "COL_DESC                 0\n",
       "COL_VALUE                0\n",
       "LUAS_BGN_AGUNAN          0\n",
       "LUAS_TNH_BANGUNAN        0\n",
       "KET_AGF                  0\n",
       "SEGMEN                   0\n",
       "STFSTATUS               13\n",
       "RASIO_RPC                0\n",
       "RASIO_AGUNAN             0\n",
       "TARGET                   0\n",
       "dtype: int64"
      ]
     },
     "execution_count": 8,
     "metadata": {},
     "output_type": "execute_result"
    }
   ],
   "source": [
    "df\n",
    "df = df.drop(index=1961551)\n",
    "df.isna().sum()"
   ]
  },
  {
   "cell_type": "code",
   "execution_count": 10,
   "metadata": {},
   "outputs": [
    {
     "data": {
      "text/plain": [
       "ACCTNO                   0\n",
       "NAMA_DEBITUR         12779\n",
       "POSISI                   0\n",
       "ROA                      0\n",
       "CBAL                     0\n",
       "JML_PENGHASILAN          0\n",
       "ORGAMT                   0\n",
       "JUMLAH_CICILAN           0\n",
       "TENOR_BLN                0\n",
       "MARITAL_ID               0\n",
       "GENDER_ID                0\n",
       "KOL                      0\n",
       "DEVCODE                  0\n",
       "ED_DESC                  0\n",
       "LONDSC                   0\n",
       "COL_DESC                 0\n",
       "COL_VALUE                0\n",
       "LUAS_BGN_AGUNAN          0\n",
       "LUAS_TNH_BANGUNAN        0\n",
       "KET_AGF                  0\n",
       "SEGMEN                   0\n",
       "STFSTATUS                0\n",
       "RASIO_RPC                0\n",
       "RASIO_AGUNAN             0\n",
       "TARGET                   0\n",
       "dtype: int64"
      ]
     },
     "execution_count": 10,
     "metadata": {},
     "output_type": "execute_result"
    }
   ],
   "source": [
    "#df['KOL'] = df['KOL'].fillna(0)\n",
    "df['DEVCODE'] = df['DEVCODE'].fillna('ZZZZ')\n",
    "df['STFSTATUS'] = df['STFSTATUS'].fillna('TIDAKADA')\n",
    "df.isna().sum()"
   ]
  },
  {
   "cell_type": "code",
   "execution_count": 14,
   "metadata": {},
   "outputs": [
    {
     "name": "stdout",
     "output_type": "stream",
     "text": [
      "<class 'pandas.core.frame.DataFrame'>\n",
      "RangeIndex: 1961551 entries, 0 to 1961550\n",
      "Data columns (total 24 columns):\n",
      " #   Column             Dtype  \n",
      "---  ------             -----  \n",
      " 0   ACCTNO             object \n",
      " 1   POSISI             object \n",
      " 2   ROA                float64\n",
      " 3   CBAL               float64\n",
      " 4   JML_PENGHASILAN    float64\n",
      " 5   ORGAMT             float64\n",
      " 6   JUMLAH_CICILAN     float64\n",
      " 7   TENOR_BLN          float64\n",
      " 8   MARITAL_ID         object \n",
      " 9   GENDER_ID          float64\n",
      " 10  KOL                float64\n",
      " 11  DEVCODE            object \n",
      " 12  ED_DESC            object \n",
      " 13  LONDSC             object \n",
      " 14  COL_DESC           object \n",
      " 15  COL_VALUE          float64\n",
      " 16  LUAS_BGN_AGUNAN    float64\n",
      " 17  LUAS_TNH_BANGUNAN  float64\n",
      " 18  KET_AGF            float64\n",
      " 19  SEGMEN             float64\n",
      " 20  STFSTATUS          object \n",
      " 21  RASIO_RPC          float64\n",
      " 22  RASIO_AGUNAN       float64\n",
      " 23  TARGET             float64\n",
      "dtypes: float64(16), object(8)\n",
      "memory usage: 359.2+ MB\n"
     ]
    }
   ],
   "source": [
    "df=df.drop(columns=['NAMA_DEBITUR'])\n",
    "df.info()"
   ]
  },
  {
   "cell_type": "markdown",
   "metadata": {},
   "source": [
    "# Encoding Label"
   ]
  },
  {
   "cell_type": "code",
   "execution_count": 15,
   "metadata": {},
   "outputs": [
    {
     "name": "stdout",
     "output_type": "stream",
     "text": [
      "MARITAL_ID ['A' 'B' 'C' 'D' 'E' 'F' 'G' 'X' 'Z']\n",
      "ED_DESC ['DIPLOMA 1' 'DIPLOMA 2' 'DIPLOMA 3' 'Diploma' 'S1' 'S2' 'S3' 'SD' 'SLTA'\n",
      " 'SMP' 'UNKNOWN']\n",
      "LONDSC ['KREDIT KPR']\n",
      "COL_DESC [\"'\" '-' '.' '0' '00003/080311/00152' '00006/120111/00159'\n",
      " '00012/100809/00096' '00016/310806/01870' '001' '020709/00053' '1' '102'\n",
      " '203' '2827' '7892' 'A' 'ABDUL GAFFAR MUSTAFA' 'ABDUL ROHISMANTO'\n",
      " 'ADI SUCIPTO' 'AF01' 'AGUNAN POKOK' 'AGUS RAMLI' 'AJB NO,464/JUN/IX/2008'\n",
      " 'AKHMAD SYAHIDA' 'AKTA JUAL BELI, SURAT-SURAT PL DAN UWTO LUNAS 30 T'\n",
      " 'AKTE JUAL BELI BANGUNAN DAN PERALIHA HAK ATAS TANA' 'AN.DIKDIK SODIKIN'\n",
      " 'APARTEMEN' 'APARTEMEN CITYPARK' 'APARTEMEN SEIBU MANSION' 'APLIKASI'\n",
      " 'APOT' 'ARSENO' 'ASABRI MATUNGKAS' 'ASLIMAN' 'ASMADI'\n",
      " 'B.02/DS. HEGARMANAH' 'BAGAIN DARI SHM' 'BAGIAN DARI HPL'\n",
      " 'BAGIAN DARI PERUMAHAN' 'BAGIAN DARI SERTIFIKAT'\n",
      " 'BAGIAN DARI SERTIFIKAT SHM' 'BAGIAN DARI SERTIPIKAT'\n",
      " 'BAGIAN DARI SERTIPIKAT HAK MILIK' 'BAGIAN DARI SHB' 'BAGIAN DARI SHBG'\n",
      " 'BAGIAN DARI SHM' 'BAGIAN DARI SHPL' 'BAGIAN DARI SK HAK'\n",
      " 'BAGIAN DARI STF' 'BAGIAN DARI TANAH HAK MILIK' 'BAGIAN DARI TANAH HM'\n",
      " 'BAGIAN SERTIPIKAT SHM' 'BAGIAN SGHB' 'BAGIAN SHM'\n",
      " 'BAGIAN SHM DAN PERUBAHANNYA' 'BAGIAN SPL' 'BAMBANG KETUT I'\n",
      " 'BAMBANG SULISTIYANTO' 'BANGUNAN' 'BANTEN INDAH PERMAI' 'BASNAH'\n",
      " 'BEJO LAKSONO' 'BENGKULU' 'BERINGIN RAYA BLOK D.I NO.07 TKB'\n",
      " 'BINTANG RAJAWALI' 'BTN DEPOK' 'BUGAHATEK' 'BUMI CITEREUP ASRI'\n",
      " 'BUMI PERMAI BLOK B.1 NO.4' 'C/00027/220310/00523' 'CENGKARENG RESIDENCE'\n",
      " 'CHRISTIAN CANDRA' 'CITYPARK APARTEMEN' 'COVERNOTE'\n",
      " 'CV ADINDA PALANGKARAYA' 'CV ANIGRAH WAHANA INDAH'\n",
      " 'CV ANUGRAH WAHANA INDAH' 'CV BSA' 'CV. ADIL JAYA'\n",
      " 'CV. ANUGERAH TENRILAWA' 'CV. DHANY SURYA PRATAMA' 'CV. LANTEANGORO'\n",
      " 'CV. SURYA DUTA CEMERLANG' 'DEDDY RACHMAN' 'DIDIK KURNIAWAN' 'DPK' 'DPKK'\n",
      " 'DPPK' 'DR TIEN MULIAWATI ABADI' 'DRS CHAERUDDIN SONHADJI' 'EFENDI RAIS'\n",
      " 'EFRAN YUDIA' 'EKO WAHYUDI' 'FAHRURAJI' 'FL' 'FRANGKY KOROMPIS'\n",
      " 'GAJI DAN THT' 'GAJI PENSIUN & THT' 'GAJI PENSIUN &THT' 'GAJI&THT'\n",
      " 'GANTI BLOK' 'GRAHA BANGUN PERMAI' 'GRAHA NATAR LESTARI BLOK A NO. 15'\n",
      " 'GRAHA NATAR LESTARI BLOK B NO.5' 'GRAHA NATAR LESTARI BLOK B NO.6'\n",
      " 'GREEN HILLS REGENCY' 'GRIYA ATHENA III' 'GRIYA BSA' 'GRIYA BSA PERMAI'\n",
      " 'GRIYA CITRA PERSADA' 'GRIYA SUMPUT ASRI GRESIK' 'GRWS' 'GS' 'HAK'\n",
      " 'HAK GUAN BANGUN' 'HAK GUNA BANGUN' 'HAK GUNA BANGUNAN'\n",
      " 'HAK GUNA BANGUNAN NO 493' 'HAK MILIK' 'HAK MILIK PECAHAN'\n",
      " 'HAK PENGELOLAAN' 'HAK PENGELOLAAN LAHAN'\n",
      " 'HAK PENGELOLAAN NO.1 DAN ATAU PERUBAHANNYA' 'HERDIYANTI' 'HG' 'HGU' 'HM'\n",
      " 'HM (TANAH & BANGUNAN)' 'HM 01219' 'HM 05871' 'HM INDUK (SEB DARI)'\n",
      " 'HM NO. 142' 'HM SATUAN RUMAH SUSUN' 'HM SATUAN RUSUN' 'HM. 2252'\n",
      " 'HM. 4543 AN. ANDREAS MESTOKO MAHDIE' 'HM. NO.07379 AN. ANITA RAHMANI'\n",
      " 'HM.4413' 'HM/HB' 'HOLEK' 'HP' 'HPL' 'HPL 01' 'HPL 1' 'HPL 31' 'HPL 44'\n",
      " 'HPL INDUK' 'HPL NO. 00001 AN. PERUM PERUMNAS'\n",
      " 'HPL NO. 1 AN PERUM PERUMNAS' 'HPL NO. 1 AN. PERUM PERUMNAS' 'HPL NO.01'\n",
      " 'HPL NO.1    AN. PERUM PERUMNAS' 'HPL NO.1 AN. PERUM PERUMNAS' 'HPL01'\n",
      " 'HPL1' 'HSBG' 'HSGB' 'IHWAN NUDIN' 'INDUK' 'INDUK HM' 'INKOPOL BP TWP'\n",
      " 'IR MUH IKHSAN FUDHAIL' 'IR. DICK JEAN JOHANES HERKLOTS' 'JAMSOSTEK'\n",
      " 'JUMIATI' 'KOHIR NO 3 PERSIL NO 163 KELAS E I'\n",
      " 'KOMP. ASABRI PT. WIDYA KENCANA SUDIANG' 'KOSASIH' 'KPR SUBSIDI'\n",
      " 'KREDIT PEGAWAI' 'LAINNYA - KLK' 'LAINNYA-KLK' 'LESTARI' 'LETTER C'\n",
      " 'LUKMAN NUL HAKIM' 'M' 'MARKIYAM' 'MCLD' 'MEGA MUSTIKA G PT.' 'MIDHE'\n",
      " 'MILIK' 'MUHAMMAD BAIHAKI' 'MUHAMMAD FAHMI ISKANDAR' 'MUHAMMAD TAHIR S'\n",
      " 'MUHAMMAD YUSUF' 'NANA RANTAU ASMAWATI' 'NASER SALIM' 'NIB' 'NIB.'\n",
      " 'NORHIDAYAT' 'NUNIK TRI MULYANI' 'NUR SHOLIKATUL LAILIYAH'\n",
      " 'PECAHAN SERTIFIKAT HAK GUNA BANGUNAN' 'PEKANBARU'\n",
      " 'PERSADA JAYA ARTHA PT.' 'PERUM BUMI ROWOREJO ASRI'\n",
      " 'PERUM CITRA INDAH JONGGOL BOGOR' 'PERUM CITRA INDAH JONGGOL CILEUNGSI'\n",
      " 'PERUM CITRA INDAH SUKAMAJU' 'PERUM CITRA INDAH SUKAMAJU JONGGOL BOGOR'\n",
      " 'PERUM GRAHA BERINGIN MAS' 'PERUM GRAHA WIJAYA KUSUMA'\n",
      " 'PERUM ISTANA MEGA ASRI' 'PERUM MIJEN HARMONI' 'PERUM PURI DELTA ASRI 3'\n",
      " 'PERUM PURI NIRWANA III KARADENAN CIBINONG BOGOR'\n",
      " 'PERUM TAMAN PALEM PERMAI F/4' 'PERUM. CITRA INDAH JONGGOL BOGOR'\n",
      " 'PERUM. PERMATA TANGERANG PASAR KEMIS TANGERANG'\n",
      " 'PERUM. TAMAN KIRANA SURYA' 'PERUM.BRG.RAYA BLOK D.1 NO.03 KEMILING'\n",
      " 'PERUM.BRG.RAYA BLOK D.4 NO.13 KEMILING'\n",
      " 'PERUM.BUKIT BILABONG JAYA BLOK C.1 NO.22'\n",
      " 'PERUM.BUMI BAHTERA INDAH BLOK 4 NO.7 CAMPANG'\n",
      " 'PERUM.BUMI BAHTERA INDAH BLOK 5 NO.09 CAMPANG' 'PERUM.BUMI PERMAI A4/2'\n",
      " 'PERUM.CHITRA PERSADA BLOK M NO.5 KALIAWI'\n",
      " 'PERUM.GRIYA KERETA API LESTARI BLOK A NO.5'\n",
      " 'PERUM.KUTO ALAM PERMAI A.2 NO.9 KOTABUMI'\n",
      " 'PERUM.PERUMNAS SUMBEREJO BLOK S NO.155 TJK.BARAT'\n",
      " 'PERUM.TAMAN PALEM PERMAI F/3' 'PERUM.TANJUNG RAYA PERMAI BLOK 16 NO.38'\n",
      " 'PERUMAHAN' 'PERUMAHAN GRAHA BERINGIN MAS' 'PERUMAHAN GRIYA PERSADA'\n",
      " 'PERUMAHAN ORVIL LANDS BOYA BALIASE' 'PERUMNAS' 'PERUMNAS PAREPARE' 'PL'\n",
      " 'PL  INDUK' 'PL & PENGURUSAN BALIK NAMA DI NOTARIS SYAIFUDIN,SH'\n",
      " 'PL INDUK' 'PL PECAH' 'PPJB' 'PT ANDY PUTRA' 'PT ANEKA JAYA LAND'\n",
      " 'PT BIS' 'PT CATUR PARTIAL' 'PT CIBINONG GRIYA P'\n",
      " 'PT CITRA VILLA  BOJONGKULUR' 'PT CITRA VILLA BOJONG KULUR'\n",
      " 'PT CITRA VILLA BOJONGKULUR' 'PT DEWI FORTUNA' 'PT ERLANDO'\n",
      " 'PT FAJAR ANDIKA' 'PT KARSATAMA' 'PT KARSATAMA BS/PT RIFIJAYA SEJATI'\n",
      " 'PT KARSATAMA BUMISEJAHTERA' 'PT PAPAN LINTAS INDAH'\n",
      " 'PT. ANEKA JAYA LAND' 'PT. BAKOLU GOWA PERSADA' 'PT. BINTANG ADI KARYA'\n",
      " 'PT. BINTANG ADIKARYA' 'PT. CITRA VILLA BOJONG KULUR'\n",
      " 'PT. CITRA VILLA BOJONGKULUR' 'PT. DANA DEWA DEVELOPMENT'\n",
      " 'PT. INTI ADHIYASA' 'PT. KREASICIPTA BUKITASRI'\n",
      " 'PT. LANGIT GRAHA KONSTRUKSI' 'PT. LINO HARAPAN RAYA'\n",
      " 'PT. LUWU RAYA INDONESIA' 'PT. MULIA PRIBADI' 'PT. PAPAN LINTAS INDAH'\n",
      " 'PT. RAHENDRA MAKMUR PUTRA' 'PT.GRIYA WINAYA' 'PUGUH MULYO' 'PUM'\n",
      " 'PUM KB JAMSOSTEK' 'PUM TGL. 27 AGUSTUS 2009' 'PUMP JAMSOSTEK' 'PUMP KB'\n",
      " 'PUMP KB JAMSOSTEK' 'PUMP-KB' 'PUMP-KB JAMSOSTEK' 'RACHMATULLAH'\n",
      " 'RAGOM MUFAKAT II BLOK A.2 NO.7 KALIANDA' 'RANDY WIRATMOKO' 'RAUNAN'\n",
      " 'REKY NELSON LOPULALAN' 'REZA GEOVANI KLAVERT' 'RO02SHM' 'RSH'\n",
      " 'RUMAH & TANAH' 'RUMAH DAN TANAH' 'RUMAH DAN TANAH SHM' 'RUMAH KOSONG'\n",
      " 'RUMAH PERUM JATISARI PERMAI' 'RUMAH SECOND' 'RUMAH SEHAT A'\n",
      " 'RUMAH SEHAT A  SHM' 'RUMAH SEHAT A BAGIAN DARI TANAH HAK PAKAI'\n",
      " 'RUMAH SEHAT A BAGIAN DARI TANAH HM' 'RUMAH SEHAT A HAK GUNA BANGUN'\n",
      " 'RUMAH SEHAT A HAK MILIK' 'RUMAH SEHAT A SEBAGIAN DARI'\n",
      " 'RUMAH SEHAT A SERTIFIKAT HAK' 'RUMAH SEHAT A SHM' 'RUSLI ARIADI'\n",
      " 'RUSUNAMI' 'RUTH MARDIANA RATISTA' 'S' 'S H G B' 'S H M' 'SACRONI' 'SAGB'\n",
      " 'SAPARUDDIN' 'SARANA SAMPIT PT' 'SARI HIDAYATI' 'SARTIFIKAT'\n",
      " 'SBAGIAN DARI HPL' 'SBGN SERTIFIKAT HAK MILIK INDUK'\n",
      " 'SBGN SERTIFIKAT HBG INDUK' 'SBGN SERTIFIKAT HM INDUK'\n",
      " 'SBGN SERTIFIKAT HP INDUK' 'SBGN SERTIFIKAT HPL INDUK'\n",
      " 'SEABGIAN DR INDUK' 'SEBAGIAN' 'SEBAGIAN  HAK GUNA BANGUNAN' 'SEBAGIAN 1'\n",
      " 'SEBAGIAN DARI' 'SEBAGIAN DARI HPL' 'SEBAGIAN DARI SHM'\n",
      " 'SEBAGIAN DARI TANAH' 'SEBAGIAN DR INDUK' 'SEBAGIAN DRI INDUK'\n",
      " 'SEBAGIAN HAK GUNA BANGUNAN' 'SEBAGIAN HAK MILIK' 'SEBAGIAN HM'\n",
      " 'SEBAGIAN HPL' 'SEBAGIAN HSGB' 'SEBAGIAN SERTIFIKAT HAK MILIK'\n",
      " 'SEBAGIAN SHM' 'SEBAGIAN SHPL' 'SEBAGINA HAK GUNA BANGUNAN'\n",
      " 'SEBAGINA SHM' 'SEBGAIAN HAK GUNA BANGUNAN' 'SEBGIAN HAK MILIK'\n",
      " 'SEERTIFIKAT' 'SENAGIAN HAK MILIK' 'SERANG'\n",
      " 'SERFIKAT HAK MILIK ATAS SARUSUN' 'SERIFIKAT'\n",
      " 'SERIFIKAT HAK GUNA BANGUNAN' 'SERIFIKAT HAK MILIK' 'SERIFIKAT HM'\n",
      " 'SERIPIKAT HAK GUNA BANGUNAN' 'SERRTIFIKAT' 'SERSTIFIKAT HM' 'SERTFIKAT'\n",
      " 'SERTFIKAT HAK MILIK' 'SERTFIKAT HM' 'SERTFIKAT HPL' 'SERTFIKAT TANAH'\n",
      " 'SERTFIKAT TANH DAN BANGUNAN' 'SERTI FI KAT'\n",
      " 'SERTI9FIKAT HAK MILIK INDUK' 'SERTIFAT' 'SERTIFIAKT'\n",
      " 'SERTIFIAKT HM INDUK' 'SERTIFIKA HAK GUNA BANGUNAN' 'SERTIFIKA/SHM'\n",
      " 'SERTIFIKAR' 'SERTIFIKAR HAK MILIK' 'SERTIFIKAT' 'SERTIFIKAT  HAK MILIK'\n",
      " 'SERTIFIKAT  HM' 'SERTIFIKAT & IMB' 'SERTIFIKAT (NIB)' 'SERTIFIKAT (SHM)'\n",
      " 'SERTIFIKAT / SHM' 'SERTIFIKAT BAGIAN DARI' 'SERTIFIKAT BAGIAN DARI HM'\n",
      " 'SERTIFIKAT BAGIAN DARI INDUK' 'SERTIFIKAT BAGIAN DARI SHM'\n",
      " 'SERTIFIKAT BAGIAN DARI TANAH HB' 'SERTIFIKAT BAGIAN DARI TANAH HM'\n",
      " 'SERTIFIKAT DAN BANGUNAN' 'SERTIFIKAT DAN IMB'\n",
      " 'SERTIFIKAT DAN IMB , SERTIFIKAT :' 'SERTIFIKAT INDUK'\n",
      " 'SERTIFIKAT INDUK HAK MILIK' 'SERTIFIKAT NIB' 'SERTIFIKAT NOMOR'\n",
      " 'SERTIFIKAT PECAHAN HAK GUNA BANGUNAN' 'SERTIFIKAT RUMAH'\n",
      " 'SERTIFIKAT RUMAH DAN TANAH' 'SERTIFIKAT RUSUN' 'SERTIFIKAT SHM'\n",
      " 'SERTIFIKAT SHM 000832' 'SERTIFIKAT SHM 404' 'SERTIFIKAT SHM NIB'\n",
      " 'SERTIFIKAT SRATA TITLE' 'SERTIFIKAT STRATA' 'SERTIFIKAT STRATA TITLE'\n",
      " 'SERTIFIKAT TANAH' 'SERTIFIKAT TANAH  DAN BANGUNAN'\n",
      " 'SERTIFIKAT TANAH & BANGUNAN' 'SERTIFIKAT TANAH & SERTIFIKAT'\n",
      " 'SERTIFIKAT TANH DAN BANGUNAN' 'SERTIFIKAT(SHM)' 'SERTIFIKAT, IMB'\n",
      " 'SERTIFIKAT/ SHM' 'SERTIFIKAT/SHM' 'SERTIFIKAT1' 'SERTIFIKATA HM'\n",
      " 'SERTIFIKATA TANAH' 'SERTIFIKATHAK MILIK' 'SERTIFIKATHM' 'SERTIFIKATI'\n",
      " 'SERTIFIKATNIB' 'SERTIFIKAT`' 'SERTIFIKFAT' 'SERTIFIKST HM'\n",
      " 'SERTIFIKT HM' 'SERTIFILAT' 'SERTIFKAT' 'SERTIFKAT HAK GUNA BANGUNAN'\n",
      " 'SERTIFKAT HM' 'SERTIFKAT TANAH' 'SERTIIFKAT HM' 'SERTIIKAT HAK MILIK'\n",
      " 'SERTIPIAKAT HAK MILIK ATAS UNIT SARUSUN' 'SERTIPIKAT'\n",
      " 'SERTIPIKAT  HM INDUK' 'SERTIPIKAT (HAK GUNA BANGUNAN)'\n",
      " 'SERTIPIKAT BAGIAN DARI HAK MILIK' 'SERTIPIKAT BAGIAN DARI SHM'\n",
      " 'SERTIPIKAT HAK GINA BANGUNAN' 'SERTIPIKAT HAK GUNA BANGUANAN'\n",
      " 'SERTIPIKAT HAK GUNA BANGUNAN' 'SERTIPIKAT HAK GUNA BANGUNAN INDUK'\n",
      " 'SERTIPIKAT HAK GYNA BANGUNAN' 'SERTIPIKAT HAK MILIK'\n",
      " 'SERTIPIKAT HAK MILIK (INDUK)' 'SERTIPIKAT HAK MILIK ATAS  UNIT SARUSUN'\n",
      " 'SERTIPIKAT HAK MILIK ATAS SARUSUN'\n",
      " 'SERTIPIKAT HAK MILIK ATAS UNIT SARUSUN'\n",
      " 'SERTIPIKAT HAK MILIK SATUAN UNIT RUMAH SUSUN'\n",
      " 'SERTIPIKAT HAK MILIK SATUAN UNIT SARUSUN'\n",
      " 'SERTIPIKAT HAK MILIK TAS UNIT SARUSUN'\n",
      " 'SERTIPIKAT HAK MILIKATAS SATUAN SARUSUN'\n",
      " 'SERTIPIKAT HAK MKILIK ATAS UNIT SARUSUN'\n",
      " 'SERTIPIKAT HAK MLIK ATAS UNIT SARUSUN' 'SERTIPIKAT HAK PENGELOAAN'\n",
      " 'SERTIPIKAT HAK PENGELOLAAN' 'SERTIPIKAT HBG INDUK' 'SERTIPIKAT HH'\n",
      " 'SERTIPIKAT HM' 'SERTIPIKAT HM  INDUK' 'SERTIPIKAT HM INDUK'\n",
      " 'SERTIPIKAT HM NO. 03787 DS. CIBALONGSARI' 'SERTIPIKAT HP INDUK'\n",
      " 'SERTIPIKAT HPL' 'SERTIPIKAT HPL INDUK' 'SERTIPIKAT INDUK'\n",
      " 'SERTIPIKAT MILIK' 'SERTIPIKAT PECAHAN' 'SERTIPIKAT PECAHAN HM'\n",
      " 'SERTIPIKAT SHM' 'SERTIPIKAT SHM INDUK' 'SERTIPIKAT TANAH'\n",
      " 'SERTIPIKAT TANAH & BANGUNAN' 'SERTIPIKAT TANAH HM'\n",
      " 'SERTIPIKAT TANAH HM & BANGUNAN' 'SERTIPIKAT TANAH SHM'\n",
      " 'SERTIPIKAT TANAH,RUMAH' 'SERTIPIKAT TANH DAN BANGUNAN'\n",
      " 'SERTIPIKAT, BAGIAN DARI SHM' 'SERTIPIKATA TANAH & BANGUNAN'\n",
      " 'SERTIPIKAT`' 'SERTIPIKST HSK MILIK ATAS UNIT SARUSUN'\n",
      " 'SERTIPKAT HAK MILIK ATAS UNIT SARUSUN' 'SERTIPKAT PECAHAN'\n",
      " 'SERTIPKAT TANAH & BANGUNAN'\n",
      " 'SERTIRIKAT HAK MILIK ATAS SATUAN RUMAH SUSUN' 'SERTITFIKAT'\n",
      " 'SERTPIKAT HAK MILIK' 'SERTPIKAT HAK MILIK ATAS  UNIT SARUSUN'\n",
      " 'SERTPIKAT HAK MILIK ATAS UNIT SARUSUN' 'SERTPIKAT HM'\n",
      " 'SERTPIKAT PECAHAN' 'SERTPIKATHP' 'SERTTIFIKAT' 'SERTTIFIKAT HAK MILIK'\n",
      " 'SERTTIFIKAT HM' 'SERUFUKAT HM' 'SETIFIKAT' 'SETIFIKAT HM' 'SETIPIKAT'\n",
      " 'SFT HM' 'SGB' 'SGHB' 'SGHB INDUK' 'SGHB PECAHAN' 'SH M' 'SHB' 'SHBG'\n",
      " 'SHBG INDUK' 'SHBG NO.          AN. PT. BANGUN KARYA UTAMA'\n",
      " 'SHBG S.D 06 JANUARI 2041' 'SHBG STRATA TITLE' 'SHDB' 'SHFGB' 'SHG'\n",
      " 'SHG INDUK' 'SHGB' 'SHGFB' 'SHGH' 'SHGM' 'SHGM INDUK' 'SHGT' 'SHHM'\n",
      " 'SHJGB' 'SHL' 'SHM' 'SHP' 'SHP NO 01 DAN ATAU PERUBAHANNYA' 'SHPL'\n",
      " 'SHPL INDUK' 'SHPL NO 13' 'SHT' 'SITI NURCHOTIMAH' 'SK' 'SLAMET PURWANTO'\n",
      " 'SLAMET RIYADI' 'SMH' 'SPH' 'SRATA 1' 'SRATA TITLE' 'SRATA TITTLE'\n",
      " 'SRI KENCANAWATI' 'SRTIFIKAT' 'SRTIFIKAT HAK MILIK' 'SSERTIFIKAT'\n",
      " 'SSERTIFIKAT HAK MILIK' 'ST F HM' 'STARATA TITEL' 'STATRA TITLE'\n",
      " 'STEPANI ROMPAS' 'STM HM' 'STRATA  TITLE' 'STRATA TITLE' 'STRATA TITLLE'\n",
      " 'STRATA TITTLE' 'SU' 'SUANTA' 'SUMARTINAH' 'SUMARYONO' 'SUPRIANOR'\n",
      " 'SURAT PENGALIHAN HAK' 'SURAT REKOMENDASI JAMSOSTEK' 'SUROBO'\n",
      " 'SYAMSUDDIN' 'TAANAH DAN BANGUNAN' 'TAANH DAN BANGUNAN' 'TAMAN ANGGREK'\n",
      " 'TAMAN CIRUAS PERMAI' 'TANAH  DAN BANGUNAN' 'TANAH & BAGN' 'TANAH - KSB'\n",
      " 'TANAH BANGUNAN' 'TANAH DA BANGUNAN' 'TANAH DAN BANGUNAN'\n",
      " 'TANAH DNA BANGUNAN' 'TANAH FAN BANGUNAN' 'TANAH HAK BANGUNAN'\n",
      " 'TANAH HAK MILIK' 'TANAH HM' 'TANAHD DAN BANGUNAN' 'TANAHDAN BANGUNAN'\n",
      " 'TANAHG DAN BANGUNAN' 'TANH DAN BANGUNAN RENI MARLENI'\n",
      " 'TANHA DAN BANGUNAN' 'TANJUNG WANGI' 'TATANG SURYANA' 'TAWUN' 'TBM1'\n",
      " 'TEGUH WINARNO' 'THT' 'TIDAKADA' 'TNAH DAN BANGUNAN' 'TNAH DAN BNAGUNAN'\n",
      " 'TRI NURTJAHJANI' 'UD TIMURAMA RAYA/MALLAWA' 'UTWO' 'UWTO'\n",
      " 'VILA MUTIARA LIDO' 'VILLA MUTIARA JAYA' 'WAHYUDIN' 'YUDI HERWANTO'\n",
      " 'YUSUF ARIFIN' '`PL']\n",
      "STFSTATUS ['H' 'R' 'TIDAKADA']\n"
     ]
    },
    {
     "data": {
      "text/html": [
       "<div>\n",
       "<style scoped>\n",
       "    .dataframe tbody tr th:only-of-type {\n",
       "        vertical-align: middle;\n",
       "    }\n",
       "\n",
       "    .dataframe tbody tr th {\n",
       "        vertical-align: top;\n",
       "    }\n",
       "\n",
       "    .dataframe thead th {\n",
       "        text-align: right;\n",
       "    }\n",
       "</style>\n",
       "<table border=\"1\" class=\"dataframe\">\n",
       "  <thead>\n",
       "    <tr style=\"text-align: right;\">\n",
       "      <th></th>\n",
       "      <th>ACCTNO</th>\n",
       "      <th>POSISI</th>\n",
       "      <th>ROA</th>\n",
       "      <th>CBAL</th>\n",
       "      <th>JML_PENGHASILAN</th>\n",
       "      <th>ORGAMT</th>\n",
       "      <th>JUMLAH_CICILAN</th>\n",
       "      <th>TENOR_BLN</th>\n",
       "      <th>MARITAL_ID</th>\n",
       "      <th>GENDER_ID</th>\n",
       "      <th>...</th>\n",
       "      <th>COL_DESC</th>\n",
       "      <th>COL_VALUE</th>\n",
       "      <th>LUAS_BGN_AGUNAN</th>\n",
       "      <th>LUAS_TNH_BANGUNAN</th>\n",
       "      <th>KET_AGF</th>\n",
       "      <th>SEGMEN</th>\n",
       "      <th>STFSTATUS</th>\n",
       "      <th>RASIO_RPC</th>\n",
       "      <th>RASIO_AGUNAN</th>\n",
       "      <th>TARGET</th>\n",
       "    </tr>\n",
       "  </thead>\n",
       "  <tbody>\n",
       "    <tr>\n",
       "      <th>0</th>\n",
       "      <td>101010002204</td>\n",
       "      <td>October 31, 2023</td>\n",
       "      <td>2.0</td>\n",
       "      <td>541893.0</td>\n",
       "      <td>0.0</td>\n",
       "      <td>24389620.0</td>\n",
       "      <td>674940.0</td>\n",
       "      <td>83.0</td>\n",
       "      <td>1</td>\n",
       "      <td>1.0</td>\n",
       "      <td>...</td>\n",
       "      <td>563</td>\n",
       "      <td>107400000.0</td>\n",
       "      <td>0.0</td>\n",
       "      <td>54.0</td>\n",
       "      <td>0.0</td>\n",
       "      <td>1.0</td>\n",
       "      <td>2</td>\n",
       "      <td>0.0</td>\n",
       "      <td>4.403513</td>\n",
       "      <td>2.0</td>\n",
       "    </tr>\n",
       "    <tr>\n",
       "      <th>1</th>\n",
       "      <td>101010002262</td>\n",
       "      <td>October 31, 2023</td>\n",
       "      <td>2.0</td>\n",
       "      <td>7350262.0</td>\n",
       "      <td>0.0</td>\n",
       "      <td>36200000.0</td>\n",
       "      <td>235600.0</td>\n",
       "      <td>202.0</td>\n",
       "      <td>1</td>\n",
       "      <td>1.0</td>\n",
       "      <td>...</td>\n",
       "      <td>563</td>\n",
       "      <td>327400000.0</td>\n",
       "      <td>0.0</td>\n",
       "      <td>54.0</td>\n",
       "      <td>0.0</td>\n",
       "      <td>1.0</td>\n",
       "      <td>2</td>\n",
       "      <td>0.0</td>\n",
       "      <td>9.044199</td>\n",
       "      <td>2.0</td>\n",
       "    </tr>\n",
       "    <tr>\n",
       "      <th>2</th>\n",
       "      <td>101010002288</td>\n",
       "      <td>October 31, 2023</td>\n",
       "      <td>2.0</td>\n",
       "      <td>16881750.0</td>\n",
       "      <td>0.0</td>\n",
       "      <td>17177210.0</td>\n",
       "      <td>649990.0</td>\n",
       "      <td>57.0</td>\n",
       "      <td>0</td>\n",
       "      <td>1.0</td>\n",
       "      <td>...</td>\n",
       "      <td>563</td>\n",
       "      <td>175000000.0</td>\n",
       "      <td>0.0</td>\n",
       "      <td>36.0</td>\n",
       "      <td>0.0</td>\n",
       "      <td>1.0</td>\n",
       "      <td>2</td>\n",
       "      <td>0.0</td>\n",
       "      <td>10.187918</td>\n",
       "      <td>2.0</td>\n",
       "    </tr>\n",
       "    <tr>\n",
       "      <th>3</th>\n",
       "      <td>101010002343</td>\n",
       "      <td>October 31, 2023</td>\n",
       "      <td>2.0</td>\n",
       "      <td>16954341.0</td>\n",
       "      <td>0.0</td>\n",
       "      <td>40610450.0</td>\n",
       "      <td>799540.0</td>\n",
       "      <td>137.0</td>\n",
       "      <td>0</td>\n",
       "      <td>1.0</td>\n",
       "      <td>...</td>\n",
       "      <td>563</td>\n",
       "      <td>275100000.0</td>\n",
       "      <td>0.0</td>\n",
       "      <td>69.0</td>\n",
       "      <td>0.0</td>\n",
       "      <td>1.0</td>\n",
       "      <td>2</td>\n",
       "      <td>0.0</td>\n",
       "      <td>6.774118</td>\n",
       "      <td>2.0</td>\n",
       "    </tr>\n",
       "    <tr>\n",
       "      <th>4</th>\n",
       "      <td>101010002440</td>\n",
       "      <td>October 31, 2023</td>\n",
       "      <td>2.0</td>\n",
       "      <td>876415.0</td>\n",
       "      <td>0.0</td>\n",
       "      <td>23000000.0</td>\n",
       "      <td>604700.0</td>\n",
       "      <td>25.0</td>\n",
       "      <td>1</td>\n",
       "      <td>1.0</td>\n",
       "      <td>...</td>\n",
       "      <td>563</td>\n",
       "      <td>107400000.0</td>\n",
       "      <td>0.0</td>\n",
       "      <td>54.0</td>\n",
       "      <td>0.0</td>\n",
       "      <td>1.0</td>\n",
       "      <td>2</td>\n",
       "      <td>0.0</td>\n",
       "      <td>4.669565</td>\n",
       "      <td>2.0</td>\n",
       "    </tr>\n",
       "  </tbody>\n",
       "</table>\n",
       "<p>5 rows × 24 columns</p>\n",
       "</div>"
      ],
      "text/plain": [
       "         ACCTNO            POSISI  ROA        CBAL  JML_PENGHASILAN  \\\n",
       "0  101010002204  October 31, 2023  2.0    541893.0              0.0   \n",
       "1  101010002262  October 31, 2023  2.0   7350262.0              0.0   \n",
       "2  101010002288  October 31, 2023  2.0  16881750.0              0.0   \n",
       "3  101010002343  October 31, 2023  2.0  16954341.0              0.0   \n",
       "4  101010002440  October 31, 2023  2.0    876415.0              0.0   \n",
       "\n",
       "       ORGAMT  JUMLAH_CICILAN  TENOR_BLN  MARITAL_ID  GENDER_ID  ...  \\\n",
       "0  24389620.0        674940.0       83.0           1        1.0  ...   \n",
       "1  36200000.0        235600.0      202.0           1        1.0  ...   \n",
       "2  17177210.0        649990.0       57.0           0        1.0  ...   \n",
       "3  40610450.0        799540.0      137.0           0        1.0  ...   \n",
       "4  23000000.0        604700.0       25.0           1        1.0  ...   \n",
       "\n",
       "   COL_DESC    COL_VALUE  LUAS_BGN_AGUNAN  LUAS_TNH_BANGUNAN  KET_AGF  SEGMEN  \\\n",
       "0       563  107400000.0              0.0               54.0      0.0     1.0   \n",
       "1       563  327400000.0              0.0               54.0      0.0     1.0   \n",
       "2       563  175000000.0              0.0               36.0      0.0     1.0   \n",
       "3       563  275100000.0              0.0               69.0      0.0     1.0   \n",
       "4       563  107400000.0              0.0               54.0      0.0     1.0   \n",
       "\n",
       "   STFSTATUS  RASIO_RPC  RASIO_AGUNAN  TARGET  \n",
       "0          2        0.0      4.403513     2.0  \n",
       "1          2        0.0      9.044199     2.0  \n",
       "2          2        0.0     10.187918     2.0  \n",
       "3          2        0.0      6.774118     2.0  \n",
       "4          2        0.0      4.669565     2.0  \n",
       "\n",
       "[5 rows x 24 columns]"
      ]
     },
     "execution_count": 15,
     "metadata": {},
     "output_type": "execute_result"
    }
   ],
   "source": [
    "df_copy = df.copy()\n",
    "\n",
    "col_to_encode = ['MARITAL_ID', 'ED_DESC','LONDSC','COL_DESC', 'STFSTATUS']\n",
    "\n",
    "for c in col_to_encode:\n",
    "  le = LabelEncoder()\n",
    "  df_copy[c] = le.fit_transform(df_copy[c])\n",
    "  print(c, le.classes_)\n",
    "\n",
    "df_copy.head()"
   ]
  },
  {
   "cell_type": "code",
   "execution_count": 16,
   "metadata": {},
   "outputs": [
    {
     "name": "stdout",
     "output_type": "stream",
     "text": [
      "<class 'pandas.core.frame.DataFrame'>\n",
      "RangeIndex: 1961551 entries, 0 to 1961550\n",
      "Data columns (total 24 columns):\n",
      " #   Column             Dtype  \n",
      "---  ------             -----  \n",
      " 0   ACCTNO             object \n",
      " 1   POSISI             object \n",
      " 2   ROA                float64\n",
      " 3   CBAL               float64\n",
      " 4   JML_PENGHASILAN    float64\n",
      " 5   ORGAMT             float64\n",
      " 6   JUMLAH_CICILAN     float64\n",
      " 7   TENOR_BLN          float64\n",
      " 8   MARITAL_ID         int32  \n",
      " 9   GENDER_ID          float64\n",
      " 10  KOL                float64\n",
      " 11  DEVCODE            object \n",
      " 12  ED_DESC            int32  \n",
      " 13  LONDSC             int32  \n",
      " 14  COL_DESC           int32  \n",
      " 15  COL_VALUE          float64\n",
      " 16  LUAS_BGN_AGUNAN    float64\n",
      " 17  LUAS_TNH_BANGUNAN  float64\n",
      " 18  KET_AGF            float64\n",
      " 19  SEGMEN             float64\n",
      " 20  STFSTATUS          int32  \n",
      " 21  RASIO_RPC          float64\n",
      " 22  RASIO_AGUNAN       float64\n",
      " 23  TARGET             float64\n",
      "dtypes: float64(16), int32(5), object(3)\n",
      "memory usage: 321.8+ MB\n"
     ]
    }
   ],
   "source": [
    "df_copy.info()"
   ]
  },
  {
   "cell_type": "code",
   "execution_count": 17,
   "metadata": {},
   "outputs": [],
   "source": [
    "target = df_copy['TARGET']\n",
    "\n",
    "fitur = df_copy[['JML_PENGHASILAN','ORGAMT','JUMLAH_CICILAN','TENOR_BLN',\n",
    "         'MARITAL_ID','GENDER_ID','COL_DESC','COL_VALUE','LUAS_BGN_AGUNAN',\n",
    "         'LUAS_TNH_BANGUNAN','KET_AGF','SEGMEN','STFSTATUS','RASIO_RPC','RASIO_AGUNAN','KOL','ED_DESC','LONDSC']]"
   ]
  },
  {
   "cell_type": "code",
   "execution_count": 18,
   "metadata": {},
   "outputs": [],
   "source": [
    "x_train, x_test, y_train, y_test = train_test_split(fitur, target, test_size=0.2, random_state=0)\n"
   ]
  },
  {
   "cell_type": "code",
   "execution_count": 19,
   "metadata": {},
   "outputs": [
    {
     "data": {
      "text/html": [
       "<style>#sk-container-id-1 {color: black;background-color: white;}#sk-container-id-1 pre{padding: 0;}#sk-container-id-1 div.sk-toggleable {background-color: white;}#sk-container-id-1 label.sk-toggleable__label {cursor: pointer;display: block;width: 100%;margin-bottom: 0;padding: 0.3em;box-sizing: border-box;text-align: center;}#sk-container-id-1 label.sk-toggleable__label-arrow:before {content: \"▸\";float: left;margin-right: 0.25em;color: #696969;}#sk-container-id-1 label.sk-toggleable__label-arrow:hover:before {color: black;}#sk-container-id-1 div.sk-estimator:hover label.sk-toggleable__label-arrow:before {color: black;}#sk-container-id-1 div.sk-toggleable__content {max-height: 0;max-width: 0;overflow: hidden;text-align: left;background-color: #f0f8ff;}#sk-container-id-1 div.sk-toggleable__content pre {margin: 0.2em;color: black;border-radius: 0.25em;background-color: #f0f8ff;}#sk-container-id-1 input.sk-toggleable__control:checked~div.sk-toggleable__content {max-height: 200px;max-width: 100%;overflow: auto;}#sk-container-id-1 input.sk-toggleable__control:checked~label.sk-toggleable__label-arrow:before {content: \"▾\";}#sk-container-id-1 div.sk-estimator input.sk-toggleable__control:checked~label.sk-toggleable__label {background-color: #d4ebff;}#sk-container-id-1 div.sk-label input.sk-toggleable__control:checked~label.sk-toggleable__label {background-color: #d4ebff;}#sk-container-id-1 input.sk-hidden--visually {border: 0;clip: rect(1px 1px 1px 1px);clip: rect(1px, 1px, 1px, 1px);height: 1px;margin: -1px;overflow: hidden;padding: 0;position: absolute;width: 1px;}#sk-container-id-1 div.sk-estimator {font-family: monospace;background-color: #f0f8ff;border: 1px dotted black;border-radius: 0.25em;box-sizing: border-box;margin-bottom: 0.5em;}#sk-container-id-1 div.sk-estimator:hover {background-color: #d4ebff;}#sk-container-id-1 div.sk-parallel-item::after {content: \"\";width: 100%;border-bottom: 1px solid gray;flex-grow: 1;}#sk-container-id-1 div.sk-label:hover label.sk-toggleable__label {background-color: #d4ebff;}#sk-container-id-1 div.sk-serial::before {content: \"\";position: absolute;border-left: 1px solid gray;box-sizing: border-box;top: 0;bottom: 0;left: 50%;z-index: 0;}#sk-container-id-1 div.sk-serial {display: flex;flex-direction: column;align-items: center;background-color: white;padding-right: 0.2em;padding-left: 0.2em;position: relative;}#sk-container-id-1 div.sk-item {position: relative;z-index: 1;}#sk-container-id-1 div.sk-parallel {display: flex;align-items: stretch;justify-content: center;background-color: white;position: relative;}#sk-container-id-1 div.sk-item::before, #sk-container-id-1 div.sk-parallel-item::before {content: \"\";position: absolute;border-left: 1px solid gray;box-sizing: border-box;top: 0;bottom: 0;left: 50%;z-index: -1;}#sk-container-id-1 div.sk-parallel-item {display: flex;flex-direction: column;z-index: 1;position: relative;background-color: white;}#sk-container-id-1 div.sk-parallel-item:first-child::after {align-self: flex-end;width: 50%;}#sk-container-id-1 div.sk-parallel-item:last-child::after {align-self: flex-start;width: 50%;}#sk-container-id-1 div.sk-parallel-item:only-child::after {width: 0;}#sk-container-id-1 div.sk-dashed-wrapped {border: 1px dashed gray;margin: 0 0.4em 0.5em 0.4em;box-sizing: border-box;padding-bottom: 0.4em;background-color: white;}#sk-container-id-1 div.sk-label label {font-family: monospace;font-weight: bold;display: inline-block;line-height: 1.2em;}#sk-container-id-1 div.sk-label-container {text-align: center;}#sk-container-id-1 div.sk-container {/* jupyter's `normalize.less` sets `[hidden] { display: none; }` but bootstrap.min.css set `[hidden] { display: none !important; }` so we also need the `!important` here to be able to override the default hidden behavior on the sphinx rendered scikit-learn.org. See: https://github.com/scikit-learn/scikit-learn/issues/21755 */display: inline-block !important;position: relative;}#sk-container-id-1 div.sk-text-repr-fallback {display: none;}</style><div id=\"sk-container-id-1\" class=\"sk-top-container\"><div class=\"sk-text-repr-fallback\"><pre>GaussianNB()</pre><b>In a Jupyter environment, please rerun this cell to show the HTML representation or trust the notebook. <br />On GitHub, the HTML representation is unable to render, please try loading this page with nbviewer.org.</b></div><div class=\"sk-container\" hidden><div class=\"sk-item\"><div class=\"sk-estimator sk-toggleable\"><input class=\"sk-toggleable__control sk-hidden--visually\" id=\"sk-estimator-id-1\" type=\"checkbox\" checked><label for=\"sk-estimator-id-1\" class=\"sk-toggleable__label sk-toggleable__label-arrow\">GaussianNB</label><div class=\"sk-toggleable__content\"><pre>GaussianNB()</pre></div></div></div></div></div>"
      ],
      "text/plain": [
       "GaussianNB()"
      ]
     },
     "execution_count": 19,
     "metadata": {},
     "output_type": "execute_result"
    }
   ],
   "source": [
    "model_digits_LR = GaussianNB()\n",
    "model_digits_LR.fit(x_train, y_train)"
   ]
  },
  {
   "cell_type": "code",
   "execution_count": 20,
   "metadata": {},
   "outputs": [
    {
     "name": "stdout",
     "output_type": "stream",
     "text": [
      "              precision    recall  f1-score   support\n",
      "\n",
      "         1.0       0.88      0.00      0.00    367027\n",
      "         2.0       0.06      1.00      0.12     25284\n",
      "\n",
      "    accuracy                           0.07    392311\n",
      "   macro avg       0.47      0.50      0.06    392311\n",
      "weighted avg       0.83      0.07      0.01    392311\n",
      "\n"
     ]
    }
   ],
   "source": [
    "y_pred = model_digits_LR.predict(x_test)\n",
    "print(classification_report(y_test, y_pred))"
   ]
  },
  {
   "cell_type": "code",
   "execution_count": 21,
   "metadata": {},
   "outputs": [],
   "source": [
    "def visualCM(x, y, total_label=2, title=\"\"):\n",
    "  cm = confusion_matrix(x, y)\n",
    "  fig, ax = plt.subplots(figsize=(total_label, total_label))\n",
    "  ax.imshow(cm)\n",
    "  ax.grid(False)\n",
    "  ax.matshow(cm, cmap=plt.cm.Blues, alpha=0.3)\n",
    "  ticks = range(0, total_label)\n",
    "  ax.xaxis.set(ticks=ticks, ticklabels=ticks)\n",
    "  ax.yaxis.set(ticks=ticks, ticklabels=ticks)\n",
    "  ax.set_ylim(total_label-0.5, -0.5)\n",
    "  for i in range(total_label):\n",
    "      for j in range(total_label):\n",
    "          ax.text(j, i, cm[i, j], ha='center', va='center', color='black')\n",
    "  plt.title(title)\n",
    "  plt.xlabel(\"Predicted\")\n",
    "  plt.ylabel(\"Actual\")\n",
    "  plt.show()"
   ]
  },
  {
   "cell_type": "code",
   "execution_count": 22,
   "metadata": {},
   "outputs": [
    {
     "data": {
      "image/png": "[encoded data removed]",
      "text/plain": [
       "<Figure size 200x200 with 1 Axes>"
      ]
     },
     "metadata": {},
     "output_type": "display_data"
    }
   ],
   "source": [
    "visualCM(y_test, y_pred, 2, \"model Naive Bayes prediksi Kredit Default / Tidak\")"
   ]
  },
  {
   "cell_type": "code",
   "execution_count": 23,
   "metadata": {},
   "outputs": [
    {
     "data": {
      "text/plain": [
       "array([[   358, 366669],\n",
       "       [    48,  25236]], dtype=int64)"
      ]
     },
     "execution_count": 23,
     "metadata": {},
     "output_type": "execute_result"
    }
   ],
   "source": [
    "confusion_matrix(y_test,y_pred)"
   ]
  },
  {
   "cell_type": "markdown",
   "metadata": {},
   "source": [
    "# Test Accuracy Score"
   ]
  },
  {
   "cell_type": "code",
   "execution_count": 24,
   "metadata": {},
   "outputs": [
    {
     "data": {
      "text/plain": [
       "1.0    367027\n",
       "2.0     25284\n",
       "Name: TARGET, dtype: int64"
      ]
     },
     "execution_count": 24,
     "metadata": {},
     "output_type": "execute_result"
    }
   ],
   "source": [
    "y_test.value_counts()"
   ]
  },
  {
   "cell_type": "code",
   "execution_count": 25,
   "metadata": {},
   "outputs": [
    {
     "name": "stdout",
     "output_type": "stream",
     "text": [
      "Null accuracy score: 0.9325\n"
     ]
    }
   ],
   "source": [
    "null_accuracy = (379791/(379791+27481))\n",
    "\n",
    "print('Null accuracy score: {0:0.4f}'. format(null_accuracy))"
   ]
  },
  {
   "cell_type": "code",
   "execution_count": 26,
   "metadata": {},
   "outputs": [
    {
     "data": {
      "image/png": "[encoded data removed]",
      "text/plain": [
       "<Figure size 640x480 with 2 Axes>"
      ]
     },
     "metadata": {},
     "output_type": "display_data"
    }
   ],
   "source": [
    "labels = [\"Lancar\", \"Macet\"]\n",
    "cm = confusion_matrix(y_test, y_pred)\n",
    "disp = ConfusionMatrixDisplay(confusion_matrix=cm, display_labels=labels)\n",
    "disp.plot();"
   ]
  },
  {
   "cell_type": "code",
   "execution_count": 28,
   "metadata": {},
   "outputs": [
    {
     "name": "stdout",
     "output_type": "stream",
     "text": [
      "Confusion matrix\n",
      "\n",
      " [[   358 366669]\n",
      " [    48  25236]]\n",
      "\n",
      "True Positives(TP) =  358\n",
      "\n",
      "True Negatives(TN) =  25236\n",
      "\n",
      "False Positives(FP) =  366669\n",
      "\n",
      "False Negatives(FN) =  48\n"
     ]
    }
   ],
   "source": [
    "print('Confusion matrix\\n\\n', cm)\n",
    "\n",
    "print('\\nTrue Positives(TP) = ', cm[0,0])\n",
    "\n",
    "print('\\nTrue Negatives(TN) = ', cm[1,1])\n",
    "\n",
    "print('\\nFalse Positives(FP) = ', cm[0,1])\n",
    "\n",
    "print('\\nFalse Negatives(FN) = ', cm[1,0])"
   ]
  }
 ],
 "metadata": {
  "kernelspec": {
   "display_name": "base",
   "language": "python",
   "name": "python3"
  },
  "language_info": {
   "codemirror_mode": {
    "name": "ipython",
    "version": 3
   },
   "file_extension": ".py",
   "mimetype": "text/x-python",
   "name": "python",
   "nbconvert_exporter": "python",
   "pygments_lexer": "ipython3",
   "version": "3.11.3"
  },
  "orig_nbformat": 4
 },
 "nbformat": 4,
 "nbformat_minor": 2
}
