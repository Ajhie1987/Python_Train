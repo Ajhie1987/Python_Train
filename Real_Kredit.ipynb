{
 "cells": [
  {
   "cell_type": "code",
   "execution_count": 131,
   "metadata": {},
   "outputs": [],
   "source": [
    "import pandas as pd\n",
    "import matplotlib.pyplot as plt\n",
    "import numpy as np\n",
    "import seaborn as sns\n",
    "import scipy.stats\n",
    "from scipy.stats import uniform\n",
    "\n",
    "from sklearn.naive_bayes import GaussianNB\n",
    "from sklearn.neighbors import KNeighborsClassifier\n",
    "from sklearn.metrics import classification_report, confusion_matrix, ConfusionMatrixDisplay\n",
    "from sklearn.preprocessing import LabelEncoder\n",
    "from sklearn.datasets import load_digits\n",
    "from sklearn.model_selection import train_test_split"
   ]
  },
  {
   "cell_type": "code",
   "execution_count": 132,
   "metadata": {},
   "outputs": [
    {
     "name": "stdout",
     "output_type": "stream",
     "text": [
      "<class 'pandas.core.frame.DataFrame'>\n",
      "RangeIndex: 2036361 entries, 0 to 2036360\n",
      "Data columns (total 24 columns):\n",
      " #   Column             Dtype  \n",
      "---  ------             -----  \n",
      " 0   POSISI             object \n",
      " 1   ACCTNO             float64\n",
      " 2   ROA                float64\n",
      " 3   CBAL               float64\n",
      " 4   JML_PENGHASILAN    float64\n",
      " 5   ORGAMT             float64\n",
      " 6   JUMLAH_CICILAN     float64\n",
      " 7   TENOR_BLN          float64\n",
      " 8   MARITAL_ID         object \n",
      " 9   GENDER_ID          float64\n",
      " 10  KOL                float64\n",
      " 11  DEVCODE            object \n",
      " 12  ED_DESC            object \n",
      " 13  LONDSC             object \n",
      " 14  COL_DESC           object \n",
      " 15  COL_VALUE          float64\n",
      " 16  LUAS_BGN_AGUNAN    float64\n",
      " 17  LUAS_TNH_BANGUNAN  float64\n",
      " 18  KET_AGF            float64\n",
      " 19  SEGMEN             float64\n",
      " 20  STFSTATUS          object \n",
      " 21  RASIO_RPC          float64\n",
      " 22  RASIO_AGUNAN       float64\n",
      " 23  TARGET             float64\n",
      "dtypes: float64(17), object(7)\n",
      "memory usage: 372.9+ MB\n"
     ]
    }
   ],
   "source": [
    "df = pd.read_csv('D:\\File_Analisa_Python\\ML_ProbabilityDefault.csv', sep='|')\n",
    "df.info()"
   ]
  },
  {
   "cell_type": "code",
   "execution_count": 133,
   "metadata": {},
   "outputs": [
    {
     "data": {
      "text/plain": [
       "POSISI                  0\n",
       "ACCTNO                  0\n",
       "ROA                     0\n",
       "CBAL                    0\n",
       "JML_PENGHASILAN         0\n",
       "ORGAMT                  0\n",
       "JUMLAH_CICILAN          0\n",
       "TENOR_BLN               0\n",
       "MARITAL_ID              0\n",
       "GENDER_ID               0\n",
       "KOL                     1\n",
       "DEVCODE              2356\n",
       "ED_DESC                 0\n",
       "LONDSC                  0\n",
       "COL_DESC                0\n",
       "COL_VALUE               0\n",
       "LUAS_BGN_AGUNAN         0\n",
       "LUAS_TNH_BANGUNAN       0\n",
       "KET_AGF                 0\n",
       "SEGMEN                  0\n",
       "STFSTATUS              13\n",
       "RASIO_RPC               0\n",
       "RASIO_AGUNAN            0\n",
       "TARGET                  0\n",
       "dtype: int64"
      ]
     },
     "execution_count": 133,
     "metadata": {},
     "output_type": "execute_result"
    }
   ],
   "source": [
    "df\n",
    "df = df.drop(index=2036360)\n",
    "df.isna().sum()"
   ]
  },
  {
   "cell_type": "code",
   "execution_count": 134,
   "metadata": {},
   "outputs": [
    {
     "data": {
      "text/plain": [
       "POSISI               0\n",
       "ACCTNO               0\n",
       "ROA                  0\n",
       "CBAL                 0\n",
       "JML_PENGHASILAN      0\n",
       "ORGAMT               0\n",
       "JUMLAH_CICILAN       0\n",
       "TENOR_BLN            0\n",
       "MARITAL_ID           0\n",
       "GENDER_ID            0\n",
       "KOL                  0\n",
       "DEVCODE              0\n",
       "ED_DESC              0\n",
       "LONDSC               0\n",
       "COL_DESC             0\n",
       "COL_VALUE            0\n",
       "LUAS_BGN_AGUNAN      0\n",
       "LUAS_TNH_BANGUNAN    0\n",
       "KET_AGF              0\n",
       "SEGMEN               0\n",
       "STFSTATUS            0\n",
       "RASIO_RPC            0\n",
       "RASIO_AGUNAN         0\n",
       "TARGET               0\n",
       "dtype: int64"
      ]
     },
     "execution_count": 134,
     "metadata": {},
     "output_type": "execute_result"
    }
   ],
   "source": [
    "df['KOL'] = df['KOL'].fillna(0)\n",
    "df['DEVCODE'] = df['DEVCODE'].fillna('ZZZZ')\n",
    "df['STFSTATUS'] = df['STFSTATUS'].fillna('TIDAKADA')\n",
    "df.isna().sum()"
   ]
  },
  {
   "cell_type": "code",
   "execution_count": 135,
   "metadata": {},
   "outputs": [
    {
     "name": "stdout",
     "output_type": "stream",
     "text": [
      "<class 'pandas.core.frame.DataFrame'>\n",
      "RangeIndex: 2036360 entries, 0 to 2036359\n",
      "Data columns (total 24 columns):\n",
      " #   Column             Dtype  \n",
      "---  ------             -----  \n",
      " 0   POSISI             object \n",
      " 1   ACCTNO             float64\n",
      " 2   ROA                float64\n",
      " 3   CBAL               float64\n",
      " 4   JML_PENGHASILAN    float64\n",
      " 5   ORGAMT             float64\n",
      " 6   JUMLAH_CICILAN     float64\n",
      " 7   TENOR_BLN          float64\n",
      " 8   MARITAL_ID         object \n",
      " 9   GENDER_ID          float64\n",
      " 10  KOL                float64\n",
      " 11  DEVCODE            object \n",
      " 12  ED_DESC            object \n",
      " 13  LONDSC             object \n",
      " 14  COL_DESC           object \n",
      " 15  COL_VALUE          float64\n",
      " 16  LUAS_BGN_AGUNAN    float64\n",
      " 17  LUAS_TNH_BANGUNAN  float64\n",
      " 18  KET_AGF            float64\n",
      " 19  SEGMEN             float64\n",
      " 20  STFSTATUS          object \n",
      " 21  RASIO_RPC          float64\n",
      " 22  RASIO_AGUNAN       float64\n",
      " 23  TARGET             float64\n",
      "dtypes: float64(17), object(7)\n",
      "memory usage: 372.9+ MB\n"
     ]
    }
   ],
   "source": [
    "df.info()"
   ]
  },
  {
   "cell_type": "markdown",
   "metadata": {},
   "source": [
    "# Encoding Label"
   ]
  },
  {
   "cell_type": "code",
   "execution_count": 136,
   "metadata": {},
   "outputs": [
    {
     "name": "stdout",
     "output_type": "stream",
     "text": [
      "MARITAL_ID ['A' 'B' 'C' 'D' 'E' 'F' 'G' 'Z']\n",
      "ED_DESC ['DIPLOMA 1' 'DIPLOMA 2' 'DIPLOMA 3' 'Diploma' 'S1' 'S2' 'S3' 'SD' 'SLTA'\n",
      " 'SMP' 'UNKNOWN']\n",
      "LONDSC ['KREDIT KPR' 'KREDIT UMUM' 'KREDIT UMUM LAINNYA']\n",
      "COL_DESC ['SIMPANAN' 'SK' 'TANAH DAN BANGUNAN' 'TIDAKADA']\n",
      "STFSTATUS ['H' 'R' 'TIDAKADA']\n"
     ]
    },
    {
     "data": {
      "text/html": [
       "<div>\n",
       "<style scoped>\n",
       "    .dataframe tbody tr th:only-of-type {\n",
       "        vertical-align: middle;\n",
       "    }\n",
       "\n",
       "    .dataframe tbody tr th {\n",
       "        vertical-align: top;\n",
       "    }\n",
       "\n",
       "    .dataframe thead th {\n",
       "        text-align: right;\n",
       "    }\n",
       "</style>\n",
       "<table border=\"1\" class=\"dataframe\">\n",
       "  <thead>\n",
       "    <tr style=\"text-align: right;\">\n",
       "      <th></th>\n",
       "      <th>POSISI</th>\n",
       "      <th>ACCTNO</th>\n",
       "      <th>ROA</th>\n",
       "      <th>CBAL</th>\n",
       "      <th>JML_PENGHASILAN</th>\n",
       "      <th>ORGAMT</th>\n",
       "      <th>JUMLAH_CICILAN</th>\n",
       "      <th>TENOR_BLN</th>\n",
       "      <th>MARITAL_ID</th>\n",
       "      <th>GENDER_ID</th>\n",
       "      <th>...</th>\n",
       "      <th>COL_DESC</th>\n",
       "      <th>COL_VALUE</th>\n",
       "      <th>LUAS_BGN_AGUNAN</th>\n",
       "      <th>LUAS_TNH_BANGUNAN</th>\n",
       "      <th>KET_AGF</th>\n",
       "      <th>SEGMEN</th>\n",
       "      <th>STFSTATUS</th>\n",
       "      <th>RASIO_RPC</th>\n",
       "      <th>RASIO_AGUNAN</th>\n",
       "      <th>TARGET</th>\n",
       "    </tr>\n",
       "  </thead>\n",
       "  <tbody>\n",
       "    <tr>\n",
       "      <th>0</th>\n",
       "      <td>August 31, 2023</td>\n",
       "      <td>1.010100e+11</td>\n",
       "      <td>2.0</td>\n",
       "      <td>19900660.0</td>\n",
       "      <td>0.0</td>\n",
       "      <td>25000000.0</td>\n",
       "      <td>378600.0</td>\n",
       "      <td>73.0</td>\n",
       "      <td>1</td>\n",
       "      <td>0.0</td>\n",
       "      <td>...</td>\n",
       "      <td>3</td>\n",
       "      <td>0.0</td>\n",
       "      <td>0.0</td>\n",
       "      <td>69.0</td>\n",
       "      <td>0.0</td>\n",
       "      <td>1.0</td>\n",
       "      <td>2</td>\n",
       "      <td>0.000000</td>\n",
       "      <td>16.632000</td>\n",
       "      <td>2.0</td>\n",
       "    </tr>\n",
       "    <tr>\n",
       "      <th>1</th>\n",
       "      <td>August 31, 2023</td>\n",
       "      <td>1.010100e+11</td>\n",
       "      <td>2.0</td>\n",
       "      <td>11332169.0</td>\n",
       "      <td>0.0</td>\n",
       "      <td>25500000.0</td>\n",
       "      <td>81600.0</td>\n",
       "      <td>97.0</td>\n",
       "      <td>1</td>\n",
       "      <td>0.0</td>\n",
       "      <td>...</td>\n",
       "      <td>3</td>\n",
       "      <td>0.0</td>\n",
       "      <td>0.0</td>\n",
       "      <td>50.0</td>\n",
       "      <td>0.0</td>\n",
       "      <td>1.0</td>\n",
       "      <td>2</td>\n",
       "      <td>0.000000</td>\n",
       "      <td>1.886275</td>\n",
       "      <td>2.0</td>\n",
       "    </tr>\n",
       "    <tr>\n",
       "      <th>2</th>\n",
       "      <td>August 31, 2023</td>\n",
       "      <td>1.010100e+11</td>\n",
       "      <td>2.0</td>\n",
       "      <td>2357910.0</td>\n",
       "      <td>0.0</td>\n",
       "      <td>15000000.0</td>\n",
       "      <td>153700.0</td>\n",
       "      <td>41.0</td>\n",
       "      <td>1</td>\n",
       "      <td>1.0</td>\n",
       "      <td>...</td>\n",
       "      <td>3</td>\n",
       "      <td>0.0</td>\n",
       "      <td>0.0</td>\n",
       "      <td>36.0</td>\n",
       "      <td>0.0</td>\n",
       "      <td>1.0</td>\n",
       "      <td>2</td>\n",
       "      <td>0.000000</td>\n",
       "      <td>10.640000</td>\n",
       "      <td>2.0</td>\n",
       "    </tr>\n",
       "    <tr>\n",
       "      <th>3</th>\n",
       "      <td>August 31, 2023</td>\n",
       "      <td>1.010100e+11</td>\n",
       "      <td>2.0</td>\n",
       "      <td>26385770.0</td>\n",
       "      <td>0.0</td>\n",
       "      <td>28500000.0</td>\n",
       "      <td>178500.0</td>\n",
       "      <td>134.0</td>\n",
       "      <td>1</td>\n",
       "      <td>0.0</td>\n",
       "      <td>...</td>\n",
       "      <td>3</td>\n",
       "      <td>0.0</td>\n",
       "      <td>0.0</td>\n",
       "      <td>90.0</td>\n",
       "      <td>0.0</td>\n",
       "      <td>1.0</td>\n",
       "      <td>2</td>\n",
       "      <td>0.000000</td>\n",
       "      <td>3.729474</td>\n",
       "      <td>2.0</td>\n",
       "    </tr>\n",
       "    <tr>\n",
       "      <th>4</th>\n",
       "      <td>August 31, 2023</td>\n",
       "      <td>1.010101e+11</td>\n",
       "      <td>2.0</td>\n",
       "      <td>0.0</td>\n",
       "      <td>2763000.0</td>\n",
       "      <td>45000000.0</td>\n",
       "      <td>639800.0</td>\n",
       "      <td>180.0</td>\n",
       "      <td>0</td>\n",
       "      <td>1.0</td>\n",
       "      <td>...</td>\n",
       "      <td>3</td>\n",
       "      <td>0.0</td>\n",
       "      <td>36.0</td>\n",
       "      <td>82.0</td>\n",
       "      <td>1.0</td>\n",
       "      <td>1.0</td>\n",
       "      <td>2</td>\n",
       "      <td>23.155989</td>\n",
       "      <td>7.994044</td>\n",
       "      <td>2.0</td>\n",
       "    </tr>\n",
       "  </tbody>\n",
       "</table>\n",
       "<p>5 rows × 24 columns</p>\n",
       "</div>"
      ],
      "text/plain": [
       "            POSISI        ACCTNO  ROA        CBAL  JML_PENGHASILAN  \\\n",
       "0  August 31, 2023  1.010100e+11  2.0  19900660.0              0.0   \n",
       "1  August 31, 2023  1.010100e+11  2.0  11332169.0              0.0   \n",
       "2  August 31, 2023  1.010100e+11  2.0   2357910.0              0.0   \n",
       "3  August 31, 2023  1.010100e+11  2.0  26385770.0              0.0   \n",
       "4  August 31, 2023  1.010101e+11  2.0         0.0        2763000.0   \n",
       "\n",
       "       ORGAMT  JUMLAH_CICILAN  TENOR_BLN  MARITAL_ID  GENDER_ID  ...  \\\n",
       "0  25000000.0        378600.0       73.0           1        0.0  ...   \n",
       "1  25500000.0         81600.0       97.0           1        0.0  ...   \n",
       "2  15000000.0        153700.0       41.0           1        1.0  ...   \n",
       "3  28500000.0        178500.0      134.0           1        0.0  ...   \n",
       "4  45000000.0        639800.0      180.0           0        1.0  ...   \n",
       "\n",
       "   COL_DESC COL_VALUE  LUAS_BGN_AGUNAN  LUAS_TNH_BANGUNAN  KET_AGF  SEGMEN  \\\n",
       "0         3       0.0              0.0               69.0      0.0     1.0   \n",
       "1         3       0.0              0.0               50.0      0.0     1.0   \n",
       "2         3       0.0              0.0               36.0      0.0     1.0   \n",
       "3         3       0.0              0.0               90.0      0.0     1.0   \n",
       "4         3       0.0             36.0               82.0      1.0     1.0   \n",
       "\n",
       "   STFSTATUS  RASIO_RPC  RASIO_AGUNAN  TARGET  \n",
       "0          2   0.000000     16.632000     2.0  \n",
       "1          2   0.000000      1.886275     2.0  \n",
       "2          2   0.000000     10.640000     2.0  \n",
       "3          2   0.000000      3.729474     2.0  \n",
       "4          2  23.155989      7.994044     2.0  \n",
       "\n",
       "[5 rows x 24 columns]"
      ]
     },
     "execution_count": 136,
     "metadata": {},
     "output_type": "execute_result"
    }
   ],
   "source": [
    "df_copy = df.copy()\n",
    "\n",
    "col_to_encode = ['MARITAL_ID', 'ED_DESC','LONDSC','COL_DESC', 'STFSTATUS']\n",
    "\n",
    "for c in col_to_encode:\n",
    "  le = LabelEncoder()\n",
    "  df_copy[c] = le.fit_transform(df_copy[c])\n",
    "  print(c, le.classes_)\n",
    "\n",
    "df_copy.head()"
   ]
  },
  {
   "cell_type": "code",
   "execution_count": 137,
   "metadata": {},
   "outputs": [
    {
     "name": "stdout",
     "output_type": "stream",
     "text": [
      "<class 'pandas.core.frame.DataFrame'>\n",
      "RangeIndex: 2036360 entries, 0 to 2036359\n",
      "Data columns (total 24 columns):\n",
      " #   Column             Dtype  \n",
      "---  ------             -----  \n",
      " 0   POSISI             object \n",
      " 1   ACCTNO             float64\n",
      " 2   ROA                float64\n",
      " 3   CBAL               float64\n",
      " 4   JML_PENGHASILAN    float64\n",
      " 5   ORGAMT             float64\n",
      " 6   JUMLAH_CICILAN     float64\n",
      " 7   TENOR_BLN          float64\n",
      " 8   MARITAL_ID         int32  \n",
      " 9   GENDER_ID          float64\n",
      " 10  KOL                float64\n",
      " 11  DEVCODE            object \n",
      " 12  ED_DESC            int32  \n",
      " 13  LONDSC             int32  \n",
      " 14  COL_DESC           int32  \n",
      " 15  COL_VALUE          float64\n",
      " 16  LUAS_BGN_AGUNAN    float64\n",
      " 17  LUAS_TNH_BANGUNAN  float64\n",
      " 18  KET_AGF            float64\n",
      " 19  SEGMEN             float64\n",
      " 20  STFSTATUS          int32  \n",
      " 21  RASIO_RPC          float64\n",
      " 22  RASIO_AGUNAN       float64\n",
      " 23  TARGET             float64\n",
      "dtypes: float64(17), int32(5), object(2)\n",
      "memory usage: 334.0+ MB\n"
     ]
    }
   ],
   "source": [
    "df_copy.info()"
   ]
  },
  {
   "cell_type": "code",
   "execution_count": 138,
   "metadata": {},
   "outputs": [],
   "source": [
    "target = df_copy['TARGET']\n",
    "\n",
    "fitur = df_copy[['JML_PENGHASILAN','ORGAMT','JUMLAH_CICILAN','TENOR_BLN',\n",
    "         'MARITAL_ID','GENDER_ID','COL_DESC','COL_VALUE','LUAS_BGN_AGUNAN',\n",
    "         'LUAS_TNH_BANGUNAN','KET_AGF','SEGMEN','STFSTATUS','RASIO_RPC','RASIO_AGUNAN','KOL','ED_DESC','LONDSC']]"
   ]
  },
  {
   "cell_type": "code",
   "execution_count": 139,
   "metadata": {},
   "outputs": [],
   "source": [
    "x_train, x_test, y_train, y_test = train_test_split(fitur, target, test_size=0.2, random_state=0)\n"
   ]
  },
  {
   "cell_type": "code",
   "execution_count": 140,
   "metadata": {},
   "outputs": [
    {
     "data": {
      "text/html": [
       "<style>#sk-container-id-13 {color: black;background-color: white;}#sk-container-id-13 pre{padding: 0;}#sk-container-id-13 div.sk-toggleable {background-color: white;}#sk-container-id-13 label.sk-toggleable__label {cursor: pointer;display: block;width: 100%;margin-bottom: 0;padding: 0.3em;box-sizing: border-box;text-align: center;}#sk-container-id-13 label.sk-toggleable__label-arrow:before {content: \"▸\";float: left;margin-right: 0.25em;color: #696969;}#sk-container-id-13 label.sk-toggleable__label-arrow:hover:before {color: black;}#sk-container-id-13 div.sk-estimator:hover label.sk-toggleable__label-arrow:before {color: black;}#sk-container-id-13 div.sk-toggleable__content {max-height: 0;max-width: 0;overflow: hidden;text-align: left;background-color: #f0f8ff;}#sk-container-id-13 div.sk-toggleable__content pre {margin: 0.2em;color: black;border-radius: 0.25em;background-color: #f0f8ff;}#sk-container-id-13 input.sk-toggleable__control:checked~div.sk-toggleable__content {max-height: 200px;max-width: 100%;overflow: auto;}#sk-container-id-13 input.sk-toggleable__control:checked~label.sk-toggleable__label-arrow:before {content: \"▾\";}#sk-container-id-13 div.sk-estimator input.sk-toggleable__control:checked~label.sk-toggleable__label {background-color: #d4ebff;}#sk-container-id-13 div.sk-label input.sk-toggleable__control:checked~label.sk-toggleable__label {background-color: #d4ebff;}#sk-container-id-13 input.sk-hidden--visually {border: 0;clip: rect(1px 1px 1px 1px);clip: rect(1px, 1px, 1px, 1px);height: 1px;margin: -1px;overflow: hidden;padding: 0;position: absolute;width: 1px;}#sk-container-id-13 div.sk-estimator {font-family: monospace;background-color: #f0f8ff;border: 1px dotted black;border-radius: 0.25em;box-sizing: border-box;margin-bottom: 0.5em;}#sk-container-id-13 div.sk-estimator:hover {background-color: #d4ebff;}#sk-container-id-13 div.sk-parallel-item::after {content: \"\";width: 100%;border-bottom: 1px solid gray;flex-grow: 1;}#sk-container-id-13 div.sk-label:hover label.sk-toggleable__label {background-color: #d4ebff;}#sk-container-id-13 div.sk-serial::before {content: \"\";position: absolute;border-left: 1px solid gray;box-sizing: border-box;top: 0;bottom: 0;left: 50%;z-index: 0;}#sk-container-id-13 div.sk-serial {display: flex;flex-direction: column;align-items: center;background-color: white;padding-right: 0.2em;padding-left: 0.2em;position: relative;}#sk-container-id-13 div.sk-item {position: relative;z-index: 1;}#sk-container-id-13 div.sk-parallel {display: flex;align-items: stretch;justify-content: center;background-color: white;position: relative;}#sk-container-id-13 div.sk-item::before, #sk-container-id-13 div.sk-parallel-item::before {content: \"\";position: absolute;border-left: 1px solid gray;box-sizing: border-box;top: 0;bottom: 0;left: 50%;z-index: -1;}#sk-container-id-13 div.sk-parallel-item {display: flex;flex-direction: column;z-index: 1;position: relative;background-color: white;}#sk-container-id-13 div.sk-parallel-item:first-child::after {align-self: flex-end;width: 50%;}#sk-container-id-13 div.sk-parallel-item:last-child::after {align-self: flex-start;width: 50%;}#sk-container-id-13 div.sk-parallel-item:only-child::after {width: 0;}#sk-container-id-13 div.sk-dashed-wrapped {border: 1px dashed gray;margin: 0 0.4em 0.5em 0.4em;box-sizing: border-box;padding-bottom: 0.4em;background-color: white;}#sk-container-id-13 div.sk-label label {font-family: monospace;font-weight: bold;display: inline-block;line-height: 1.2em;}#sk-container-id-13 div.sk-label-container {text-align: center;}#sk-container-id-13 div.sk-container {/* jupyter's `normalize.less` sets `[hidden] { display: none; }` but bootstrap.min.css set `[hidden] { display: none !important; }` so we also need the `!important` here to be able to override the default hidden behavior on the sphinx rendered scikit-learn.org. See: https://github.com/scikit-learn/scikit-learn/issues/21755 */display: inline-block !important;position: relative;}#sk-container-id-13 div.sk-text-repr-fallback {display: none;}</style><div id=\"sk-container-id-13\" class=\"sk-top-container\"><div class=\"sk-text-repr-fallback\"><pre>GaussianNB()</pre><b>In a Jupyter environment, please rerun this cell to show the HTML representation or trust the notebook. <br />On GitHub, the HTML representation is unable to render, please try loading this page with nbviewer.org.</b></div><div class=\"sk-container\" hidden><div class=\"sk-item\"><div class=\"sk-estimator sk-toggleable\"><input class=\"sk-toggleable__control sk-hidden--visually\" id=\"sk-estimator-id-13\" type=\"checkbox\" checked><label for=\"sk-estimator-id-13\" class=\"sk-toggleable__label sk-toggleable__label-arrow\">GaussianNB</label><div class=\"sk-toggleable__content\"><pre>GaussianNB()</pre></div></div></div></div></div>"
      ],
      "text/plain": [
       "GaussianNB()"
      ]
     },
     "execution_count": 140,
     "metadata": {},
     "output_type": "execute_result"
    }
   ],
   "source": [
    "model_digits_LR = GaussianNB()\n",
    "model_digits_LR.fit(x_train, y_train)"
   ]
  },
  {
   "cell_type": "code",
   "execution_count": 141,
   "metadata": {},
   "outputs": [
    {
     "name": "stdout",
     "output_type": "stream",
     "text": [
      "              precision    recall  f1-score   support\n",
      "\n",
      "         1.0       0.93      1.00      0.96    379791\n",
      "         2.0       0.15      0.00      0.00     27481\n",
      "\n",
      "    accuracy                           0.93    407272\n",
      "   macro avg       0.54      0.50      0.48    407272\n",
      "weighted avg       0.88      0.93      0.90    407272\n",
      "\n"
     ]
    }
   ],
   "source": [
    "y_pred = model_digits_LR.predict(x_test)\n",
    "print(classification_report(y_test, y_pred))"
   ]
  },
  {
   "cell_type": "code",
   "execution_count": 142,
   "metadata": {},
   "outputs": [],
   "source": [
    "def visualCM(x, y, total_label=2, title=\"\"):\n",
    "  cm = confusion_matrix(x, y)\n",
    "  fig, ax = plt.subplots(figsize=(total_label, total_label))\n",
    "  ax.imshow(cm)\n",
    "  ax.grid(False)\n",
    "  ax.matshow(cm, cmap=plt.cm.Blues, alpha=0.3)\n",
    "  ticks = range(0, total_label)\n",
    "  ax.xaxis.set(ticks=ticks, ticklabels=ticks)\n",
    "  ax.yaxis.set(ticks=ticks, ticklabels=ticks)\n",
    "  ax.set_ylim(total_label-0.5, -0.5)\n",
    "  for i in range(total_label):\n",
    "      for j in range(total_label):\n",
    "          ax.text(j, i, cm[i, j], ha='center', va='center', color='black')\n",
    "  plt.title(title)\n",
    "  plt.xlabel(\"Predicted\")\n",
    "  plt.ylabel(\"Actual\")\n",
    "  plt.show()"
   ]
  },
  {
   "cell_type": "code",
   "execution_count": 143,
   "metadata": {},
   "outputs": [
    {
     "data": {
      "image/png": "[encoded data removed]",
      "text/plain": [
       "<Figure size 200x200 with 1 Axes>"
      ]
     },
     "metadata": {},
     "output_type": "display_data"
    }
   ],
   "source": [
    "visualCM(y_test, y_pred, 2, \"model Naive Bayes prediksi Kredit Default / Tidak\")"
   ]
  },
  {
   "cell_type": "code",
   "execution_count": 144,
   "metadata": {},
   "outputs": [
    {
     "data": {
      "text/plain": [
       "array([[379634,    157],\n",
       "       [ 27453,     28]], dtype=int64)"
      ]
     },
     "execution_count": 144,
     "metadata": {},
     "output_type": "execute_result"
    }
   ],
   "source": [
    "confusion_matrix(y_test,y_pred)"
   ]
  },
  {
   "cell_type": "markdown",
   "metadata": {},
   "source": [
    "# Test Accuracy Score"
   ]
  },
  {
   "cell_type": "code",
   "execution_count": 145,
   "metadata": {},
   "outputs": [
    {
     "data": {
      "text/plain": [
       "1.0    379791\n",
       "2.0     27481\n",
       "Name: TARGET, dtype: int64"
      ]
     },
     "execution_count": 145,
     "metadata": {},
     "output_type": "execute_result"
    }
   ],
   "source": [
    "y_test.value_counts()"
   ]
  },
  {
   "cell_type": "code",
   "execution_count": 146,
   "metadata": {},
   "outputs": [
    {
     "name": "stdout",
     "output_type": "stream",
     "text": [
      "Null accuracy score: 0.9325\n"
     ]
    }
   ],
   "source": [
    "null_accuracy = (379791/(379791+27481))\n",
    "\n",
    "print('Null accuracy score: {0:0.4f}'. format(null_accuracy))"
   ]
  },
  {
   "cell_type": "code",
   "execution_count": 147,
   "metadata": {},
   "outputs": [
    {
     "data": {
      "image/png": "[encoded data removed]",
      "text/plain": [
       "<Figure size 640x480 with 2 Axes>"
      ]
     },
     "metadata": {},
     "output_type": "display_data"
    }
   ],
   "source": [
    "labels = [\"Lancar\", \"Macet\"]\n",
    "cm = confusion_matrix(y_test, y_pred)\n",
    "disp = ConfusionMatrixDisplay(confusion_matrix=cm, display_labels=labels)\n",
    "disp.plot();"
   ]
  },
  {
   "cell_type": "code",
   "execution_count": 148,
   "metadata": {},
   "outputs": [
    {
     "name": "stdout",
     "output_type": "stream",
     "text": [
      "Confusion matrix\n",
      "\n",
      " [[379634    157]\n",
      " [ 27453     28]]\n",
      "\n",
      "True Positives(TP) =  379634\n",
      "\n",
      "True Negatives(TN) =  28\n",
      "\n",
      "False Positives(FP) =  157\n",
      "\n",
      "False Negatives(FN) =  27453\n"
     ]
    }
   ],
   "source": [
    "print('Confusion matrix\\n\\n', cm)\n",
    "\n",
    "print('\\nTrue Positives(TP) = ', cm[0,0])\n",
    "\n",
    "print('\\nTrue Negatives(TN) = ', cm[1,1])\n",
    "\n",
    "print('\\nFalse Positives(FP) = ', cm[0,1])\n",
    "\n",
    "print('\\nFalse Negatives(FN) = ', cm[1,0])"
   ]
  }
 ],
 "metadata": {
  "kernelspec": {
   "display_name": "base",
   "language": "python",
   "name": "python3"
  },
  "language_info": {
   "codemirror_mode": {
    "name": "ipython",
    "version": 3
   },
   "file_extension": ".py",
   "mimetype": "text/x-python",
   "name": "python",
   "nbconvert_exporter": "python",
   "pygments_lexer": "ipython3",
   "version": "3.11.3"
  },
  "orig_nbformat": 4
 },
 "nbformat": 4,
 "nbformat_minor": 2
}
