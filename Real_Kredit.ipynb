{
 "cells": [
  {
   "cell_type": "code",
   "execution_count": 34,
   "metadata": {},
   "outputs": [],
   "source": [
    "import pandas as pd\n",
    "import matplotlib.pyplot as plt\n",
    "import numpy as np\n",
    "import seaborn as sns\n",
    "import scipy.stats\n",
    "from scipy.stats import uniform\n",
    "\n",
    "from sklearn.linear_model import LogisticRegression\n",
    "from sklearn.neighbors import KNeighborsClassifier\n",
    "from sklearn.metrics import classification_report, confusion_matrix\n",
    "\n",
    "from sklearn.datasets import load_digits\n",
    "from sklearn.model_selection import train_test_split"
   ]
  },
  {
   "cell_type": "code",
   "execution_count": 35,
   "metadata": {},
   "outputs": [
    {
     "name": "stdout",
     "output_type": "stream",
     "text": [
      "<class 'pandas.core.frame.DataFrame'>\n",
      "RangeIndex: 2072516 entries, 0 to 2072515\n",
      "Data columns (total 29 columns):\n",
      " #   Column               Dtype  \n",
      "---  ------               -----  \n",
      " 0   POSISI               object \n",
      " 1   ROA                  float64\n",
      " 2   CBAL                 float64\n",
      " 3   GAJI_TOTAL           float64\n",
      " 4   JML_PENGHASILAN      float64\n",
      " 5   ORGAMT               float64\n",
      " 6   JUMLAH_CICILAN       float64\n",
      " 7   TUNGGAKAN_DENDA      float64\n",
      " 8   TUNGGAKAN_POKOK      float64\n",
      " 9   TUNGGAKAN_BUNGA      float64\n",
      " 10  SUKU_BUNGA           float64\n",
      " 11  JANGKA_WAKTU_KREDIT  float64\n",
      " 12  MARITAL_ID           object \n",
      " 13  GENDER_ID            float64\n",
      " 14  KOL                  float64\n",
      " 15  JENIS                float64\n",
      " 16  LONDSC               object \n",
      " 17  AGUNAN               object \n",
      " 18  NILAI_AGUNAN         float64\n",
      " 19  LUAS_BGN_AGUNAN      float64\n",
      " 20  LUAS_TNH_BANGUNAN    float64\n",
      " 21  KET_AGF              float64\n",
      " 22  SEGMEN               float64\n",
      " 23  RASIO                float64\n",
      " 24  STATREK              float64\n",
      " 25  TARGET               float64\n",
      " 26  TAHUN                float64\n",
      " 27  BULAN                object \n",
      " 28  BLN                  float64\n",
      "dtypes: float64(24), object(5)\n",
      "memory usage: 458.5+ MB\n"
     ]
    }
   ],
   "source": [
    "df = pd.read_csv('D:\\File_Analisa_Python\\ML_ProbabilityDefault.csv', sep='|')\n",
    "df.info()"
   ]
  },
  {
   "cell_type": "code",
   "execution_count": 37,
   "metadata": {},
   "outputs": [
    {
     "data": {
      "text/plain": [
       "POSISI                 0\n",
       "ROA                    0\n",
       "CBAL                   0\n",
       "GAJI_TOTAL             0\n",
       "JML_PENGHASILAN        0\n",
       "ORGAMT                 0\n",
       "JUMLAH_CICILAN         0\n",
       "TUNGGAKAN_DENDA        0\n",
       "TUNGGAKAN_POKOK        0\n",
       "TUNGGAKAN_BUNGA        0\n",
       "SUKU_BUNGA             0\n",
       "JANGKA_WAKTU_KREDIT    0\n",
       "MARITAL_ID             0\n",
       "GENDER_ID              0\n",
       "KOL                    1\n",
       "JENIS                  0\n",
       "LONDSC                 0\n",
       "AGUNAN                 0\n",
       "NILAI_AGUNAN           0\n",
       "LUAS_BGN_AGUNAN        0\n",
       "LUAS_TNH_BANGUNAN      0\n",
       "KET_AGF                0\n",
       "SEGMEN                 0\n",
       "RASIO                  0\n",
       "STATREK                0\n",
       "TARGET                 0\n",
       "TAHUN                  0\n",
       "BULAN                  0\n",
       "BLN                    0\n",
       "dtype: int64"
      ]
     },
     "execution_count": 37,
     "metadata": {},
     "output_type": "execute_result"
    }
   ],
   "source": [
    "df = df.drop(index=2072515)\n",
    "df.isna().sum()"
   ]
  },
  {
   "cell_type": "code",
   "execution_count": 43,
   "metadata": {},
   "outputs": [
    {
     "data": {
      "text/plain": [
       "POSISI                 0\n",
       "ROA                    0\n",
       "CBAL                   0\n",
       "GAJI_TOTAL             0\n",
       "JML_PENGHASILAN        0\n",
       "ORGAMT                 0\n",
       "JUMLAH_CICILAN         0\n",
       "TUNGGAKAN_DENDA        0\n",
       "TUNGGAKAN_POKOK        0\n",
       "TUNGGAKAN_BUNGA        0\n",
       "SUKU_BUNGA             0\n",
       "JANGKA_WAKTU_KREDIT    0\n",
       "MARITAL_ID             0\n",
       "GENDER_ID              0\n",
       "KOL                    0\n",
       "JENIS                  0\n",
       "LONDSC                 0\n",
       "AGUNAN                 0\n",
       "NILAI_AGUNAN           0\n",
       "LUAS_BGN_AGUNAN        0\n",
       "LUAS_TNH_BANGUNAN      0\n",
       "KET_AGF                0\n",
       "SEGMEN                 0\n",
       "RASIO                  0\n",
       "STATREK                0\n",
       "TARGET                 0\n",
       "TAHUN                  0\n",
       "BULAN                  0\n",
       "BLN                    0\n",
       "dtype: int64"
      ]
     },
     "execution_count": 43,
     "metadata": {},
     "output_type": "execute_result"
    }
   ],
   "source": [
    "df['KOL'] = df['KOL'].fillna(0)\n",
    "\n",
    "df.isna().sum()"
   ]
  },
  {
   "cell_type": "code",
   "execution_count": 44,
   "metadata": {},
   "outputs": [
    {
     "name": "stdout",
     "output_type": "stream",
     "text": [
      "<class 'pandas.core.frame.DataFrame'>\n",
      "RangeIndex: 2072515 entries, 0 to 2072514\n",
      "Data columns (total 29 columns):\n",
      " #   Column               Dtype  \n",
      "---  ------               -----  \n",
      " 0   POSISI               object \n",
      " 1   ROA                  float64\n",
      " 2   CBAL                 float64\n",
      " 3   GAJI_TOTAL           float64\n",
      " 4   JML_PENGHASILAN      float64\n",
      " 5   ORGAMT               float64\n",
      " 6   JUMLAH_CICILAN       float64\n",
      " 7   TUNGGAKAN_DENDA      float64\n",
      " 8   TUNGGAKAN_POKOK      float64\n",
      " 9   TUNGGAKAN_BUNGA      float64\n",
      " 10  SUKU_BUNGA           float64\n",
      " 11  JANGKA_WAKTU_KREDIT  float64\n",
      " 12  MARITAL_ID           object \n",
      " 13  GENDER_ID            float64\n",
      " 14  KOL                  float64\n",
      " 15  JENIS                float64\n",
      " 16  LONDSC               object \n",
      " 17  AGUNAN               object \n",
      " 18  NILAI_AGUNAN         float64\n",
      " 19  LUAS_BGN_AGUNAN      float64\n",
      " 20  LUAS_TNH_BANGUNAN    float64\n",
      " 21  KET_AGF              float64\n",
      " 22  SEGMEN               float64\n",
      " 23  RASIO                float64\n",
      " 24  STATREK              float64\n",
      " 25  TARGET               float64\n",
      " 26  TAHUN                float64\n",
      " 27  BULAN                object \n",
      " 28  BLN                  float64\n",
      "dtypes: float64(24), object(5)\n",
      "memory usage: 458.5+ MB\n"
     ]
    }
   ],
   "source": [
    "df.info()"
   ]
  },
  {
   "cell_type": "markdown",
   "metadata": {},
   "source": [
    "# Encoding Label"
   ]
  },
  {
   "cell_type": "code",
   "execution_count": 52,
   "metadata": {},
   "outputs": [
    {
     "data": {
      "text/html": [
       "<div>\n",
       "<style scoped>\n",
       "    .dataframe tbody tr th:only-of-type {\n",
       "        vertical-align: middle;\n",
       "    }\n",
       "\n",
       "    .dataframe tbody tr th {\n",
       "        vertical-align: top;\n",
       "    }\n",
       "\n",
       "    .dataframe thead th {\n",
       "        text-align: right;\n",
       "    }\n",
       "</style>\n",
       "<table border=\"1\" class=\"dataframe\">\n",
       "  <thead>\n",
       "    <tr style=\"text-align: right;\">\n",
       "      <th></th>\n",
       "      <th>LONDSC</th>\n",
       "    </tr>\n",
       "    <tr>\n",
       "      <th>MARITAL_ID</th>\n",
       "      <th></th>\n",
       "    </tr>\n",
       "  </thead>\n",
       "  <tbody>\n",
       "    <tr>\n",
       "      <th>A</th>\n",
       "      <td>1570872</td>\n",
       "    </tr>\n",
       "    <tr>\n",
       "      <th>B</th>\n",
       "      <td>467813</td>\n",
       "    </tr>\n",
       "    <tr>\n",
       "      <th>C</th>\n",
       "      <td>17490</td>\n",
       "    </tr>\n",
       "    <tr>\n",
       "      <th>D</th>\n",
       "      <td>6267</td>\n",
       "    </tr>\n",
       "    <tr>\n",
       "      <th>E</th>\n",
       "      <td>2114</td>\n",
       "    </tr>\n",
       "    <tr>\n",
       "      <th>F</th>\n",
       "      <td>974</td>\n",
       "    </tr>\n",
       "    <tr>\n",
       "      <th>G</th>\n",
       "      <td>273</td>\n",
       "    </tr>\n",
       "    <tr>\n",
       "      <th>Z</th>\n",
       "      <td>6712</td>\n",
       "    </tr>\n",
       "  </tbody>\n",
       "</table>\n",
       "</div>"
      ],
      "text/plain": [
       "             LONDSC\n",
       "MARITAL_ID         \n",
       "A           1570872\n",
       "B            467813\n",
       "C             17490\n",
       "D              6267\n",
       "E              2114\n",
       "F               974\n",
       "G               273\n",
       "Z              6712"
      ]
     },
     "execution_count": 52,
     "metadata": {},
     "output_type": "execute_result"
    }
   ],
   "source": [
    "df[['MARITAL_ID','LONDSC']].groupby('MARITAL_ID').count()"
   ]
  },
  {
   "cell_type": "code",
   "execution_count": null,
   "metadata": {},
   "outputs": [],
   "source": []
  }
 ],
 "metadata": {
  "kernelspec": {
   "display_name": "base",
   "language": "python",
   "name": "python3"
  },
  "language_info": {
   "codemirror_mode": {
    "name": "ipython",
    "version": 3
   },
   "file_extension": ".py",
   "mimetype": "text/x-python",
   "name": "python",
   "nbconvert_exporter": "python",
   "pygments_lexer": "ipython3",
   "version": "3.11.3"
  },
  "orig_nbformat": 4
 },
 "nbformat": 4,
 "nbformat_minor": 2
}
