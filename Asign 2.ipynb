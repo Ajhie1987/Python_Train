{
 "cells": [
  {
   "cell_type": "code",
   "execution_count": 22,
   "metadata": {},
   "outputs": [
    {
     "data": {
      "text/plain": [
       "<bound method Series.isnull of 0       98.0\n",
       "1      117.0\n",
       "2       91.0\n",
       "3      120.0\n",
       "4      150.0\n",
       "       ...  \n",
       "995    103.0\n",
       "996    150.0\n",
       "997    136.0\n",
       "998     87.0\n",
       "999    179.0\n",
       "Name: bpm, Length: 1000, dtype: float64>"
      ]
     },
     "execution_count": 22,
     "metadata": {},
     "output_type": "execute_result"
    }
   ],
   "source": [
    "import pandas as pd\n",
    "import numpy as np\n",
    "\n",
    "df = pd.read_csv(\"https://raw.githubusercontent.com/danupurnomo/dataset/main/top-songs-from-50-countries.csv\")\n",
    "\n",
    "df.loc[df[\"added\"] == \"1969-12-31\", \"added\"] = \"2023-08-15\"\n",
    "\n",
    "df[\"bpm\"].isnull"
   ]
  },
  {
   "cell_type": "code",
   "execution_count": null,
   "metadata": {},
   "outputs": [],
   "source": []
  }
 ],
 "metadata": {
  "kernelspec": {
   "display_name": "base",
   "language": "python",
   "name": "python3"
  },
  "language_info": {
   "codemirror_mode": {
    "name": "ipython",
    "version": 3
   },
   "file_extension": ".py",
   "mimetype": "text/x-python",
   "name": "python",
   "nbconvert_exporter": "python",
   "pygments_lexer": "ipython3",
   "version": "3.11.3"
  },
  "orig_nbformat": 4
 },
 "nbformat": 4,
 "nbformat_minor": 2
}
