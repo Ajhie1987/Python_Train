{
 "cells": [
  {
   "cell_type": "code",
   "execution_count": 2,
   "metadata": {},
   "outputs": [
    {
     "data": {
      "text/html": [
       "<div>\n",
       "<style scoped>\n",
       "    .dataframe tbody tr th:only-of-type {\n",
       "        vertical-align: middle;\n",
       "    }\n",
       "\n",
       "    .dataframe tbody tr th {\n",
       "        vertical-align: top;\n",
       "    }\n",
       "\n",
       "    .dataframe thead th {\n",
       "        text-align: right;\n",
       "    }\n",
       "</style>\n",
       "<table border=\"1\" class=\"dataframe\">\n",
       "  <thead>\n",
       "    <tr style=\"text-align: right;\">\n",
       "      <th></th>\n",
       "      <th>POSISI</th>\n",
       "      <th>RO</th>\n",
       "      <th>CABANG</th>\n",
       "      <th>OUTLET</th>\n",
       "      <th>NAMACAB</th>\n",
       "      <th>JUMLAH</th>\n",
       "      <th>TIPE</th>\n",
       "      <th>PROSES_BISNIS</th>\n",
       "      <th>ANOMALI</th>\n",
       "    </tr>\n",
       "  </thead>\n",
       "  <tbody>\n",
       "    <tr>\n",
       "      <th>0</th>\n",
       "      <td>2023-06-30</td>\n",
       "      <td>RO 1</td>\n",
       "      <td>35.0</td>\n",
       "      <td>35.0</td>\n",
       "      <td>CIREBON</td>\n",
       "      <td>10</td>\n",
       "      <td>KONVEN</td>\n",
       "      <td>PERKREDITAN</td>\n",
       "      <td>Adv Payment Lebih Besar Dari Saldo</td>\n",
       "    </tr>\n",
       "    <tr>\n",
       "      <th>1</th>\n",
       "      <td>2023-06-30</td>\n",
       "      <td>RO 1</td>\n",
       "      <td>36.0</td>\n",
       "      <td>36.0</td>\n",
       "      <td>PURWAKARTA</td>\n",
       "      <td>15</td>\n",
       "      <td>KONVEN</td>\n",
       "      <td>PERKREDITAN</td>\n",
       "      <td>Adv Payment Lebih Besar Dari Saldo</td>\n",
       "    </tr>\n",
       "    <tr>\n",
       "      <th>2</th>\n",
       "      <td>2023-06-30</td>\n",
       "      <td>RO 1</td>\n",
       "      <td>48.0</td>\n",
       "      <td>48.0</td>\n",
       "      <td>DEPOK</td>\n",
       "      <td>12</td>\n",
       "      <td>KONVEN</td>\n",
       "      <td>PERKREDITAN</td>\n",
       "      <td>Adv Payment Lebih Besar Dari Saldo</td>\n",
       "    </tr>\n",
       "    <tr>\n",
       "      <th>3</th>\n",
       "      <td>2023-06-30</td>\n",
       "      <td>RO 1</td>\n",
       "      <td>379.0</td>\n",
       "      <td>379.0</td>\n",
       "      <td>HARAPAN INDAH</td>\n",
       "      <td>5</td>\n",
       "      <td>KONVEN</td>\n",
       "      <td>PERKREDITAN</td>\n",
       "      <td>Adv Payment Lebih Besar Dari Saldo</td>\n",
       "    </tr>\n",
       "    <tr>\n",
       "      <th>4</th>\n",
       "      <td>2023-06-30</td>\n",
       "      <td>RO 2</td>\n",
       "      <td>1.0</td>\n",
       "      <td>1.0</td>\n",
       "      <td>JAKARTA KUNINGAN</td>\n",
       "      <td>16</td>\n",
       "      <td>KONVEN</td>\n",
       "      <td>PERKREDITAN</td>\n",
       "      <td>Adv Payment Lebih Besar Dari Saldo</td>\n",
       "    </tr>\n",
       "  </tbody>\n",
       "</table>\n",
       "</div>"
      ],
      "text/plain": [
       "      POSISI    RO  CABANG  OUTLET           NAMACAB  JUMLAH    TIPE  \\\n",
       "0 2023-06-30  RO 1    35.0    35.0           CIREBON      10  KONVEN   \n",
       "1 2023-06-30  RO 1    36.0    36.0        PURWAKARTA      15  KONVEN   \n",
       "2 2023-06-30  RO 1    48.0    48.0             DEPOK      12  KONVEN   \n",
       "3 2023-06-30  RO 1   379.0   379.0     HARAPAN INDAH       5  KONVEN   \n",
       "4 2023-06-30  RO 2     1.0     1.0  JAKARTA KUNINGAN      16  KONVEN   \n",
       "\n",
       "  PROSES_BISNIS                             ANOMALI  \n",
       "0   PERKREDITAN  Adv Payment Lebih Besar Dari Saldo  \n",
       "1   PERKREDITAN  Adv Payment Lebih Besar Dari Saldo  \n",
       "2   PERKREDITAN  Adv Payment Lebih Besar Dari Saldo  \n",
       "3   PERKREDITAN  Adv Payment Lebih Besar Dari Saldo  \n",
       "4   PERKREDITAN  Adv Payment Lebih Besar Dari Saldo  "
      ]
     },
     "execution_count": 2,
     "metadata": {},
     "output_type": "execute_result"
    }
   ],
   "source": [
    "import pandas as pd\n",
    "import numpy as np\n",
    "import matplotlib as mpl\n",
    "import matplotlib.pyplot as plt\n",
    "\n",
    "df = pd.read_excel(\"D:\\File_Analisa_Python\\IAM.xlsx\")\n",
    "\n",
    "df.head()\n"
   ]
  },
  {
   "cell_type": "code",
   "execution_count": 11,
   "metadata": {},
   "outputs": [
    {
     "data": {
      "text/plain": [
       "<bound method DataFrame.duplicated of           POSISI                                     ANOMALI\n",
       "0     2023-06-30          Adv Payment Lebih Besar Dari Saldo\n",
       "1     2023-06-30          Adv Payment Lebih Besar Dari Saldo\n",
       "2     2023-06-30          Adv Payment Lebih Besar Dari Saldo\n",
       "3     2023-06-30          Adv Payment Lebih Besar Dari Saldo\n",
       "4     2023-06-30          Adv Payment Lebih Besar Dari Saldo\n",
       "...          ...                                         ...\n",
       "60591 2023-06-30  Data Pencairan Depo Lembaga diatas 500Juta\n",
       "60592 2023-06-30  Data Pencairan Depo Lembaga diatas 500Juta\n",
       "60593 2023-06-30  Data Pencairan Depo Lembaga diatas 500Juta\n",
       "60594 2023-06-30  Data Pencairan Depo Lembaga diatas 500Juta\n",
       "60595 2023-06-30  Data Pencairan Depo Lembaga diatas 500Juta\n",
       "\n",
       "[60596 rows x 2 columns]>"
      ]
     },
     "execution_count": 11,
     "metadata": {},
     "output_type": "execute_result"
    }
   ],
   "source": [
    "df[['POSISI','ANOMALI']].duplicated"
   ]
  },
  {
   "cell_type": "code",
   "execution_count": null,
   "metadata": {},
   "outputs": [],
   "source": []
  }
 ],
 "metadata": {
  "kernelspec": {
   "display_name": "base",
   "language": "python",
   "name": "python3"
  },
  "language_info": {
   "codemirror_mode": {
    "name": "ipython",
    "version": 3
   },
   "file_extension": ".py",
   "mimetype": "text/x-python",
   "name": "python",
   "nbconvert_exporter": "python",
   "pygments_lexer": "ipython3",
   "version": "3.11.3"
  },
  "orig_nbformat": 4
 },
 "nbformat": 4,
 "nbformat_minor": 2
}
