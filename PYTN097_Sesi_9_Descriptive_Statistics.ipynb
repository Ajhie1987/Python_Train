{
  "nbformat": 4,
  "nbformat_minor": 0,
  "metadata": {
    "colab": {
      "provenance": []
    },
    "kernelspec": {
      "name": "python3",
      "display_name": "Python 3"
    },
    "language_info": {
      "name": "python"
    }
  },
  "cells": [
    {
      "cell_type": "markdown",
      "source": [
        "# Descriptive Statistics\n",
        "Statistik yang digunakan untuk mengetahui:\n",
        "- tengah data\n",
        "- penyebaran data\n",
        "\n",
        "### Terminologi Statistik\n",
        "- dataset: sekumpulan data\n",
        "- population: seluruh data yang termasuk. misalkan kita mau tau rata2 pemasukan orang Indonesia berapa per bulannya, maka populasi itu termasuk semua orang Indonesia, yg di dalam dan luar negri, yang umur kecil, dewasa, pensiun, yg pria wanita, yg di propinsi Jakarta, Bali, Papua, dll..\n",
        "- sample: sebagian data yang termasuk. untuk mencegah bias, kita harus mengambil sample dari setiap subgroup population.\n",
        "- outlier: data yang aneh, luar biasa\n",
        "\n",
        "## Measure of Central Tendency\n",
        "mencari tengah data seperti:\n",
        "- mean\n",
        "- median\n",
        "- modus\n",
        "\n",
        "## Measure of Spread\n",
        "mencari penyebaran data seperti:\n",
        "- variance\n",
        "- standard deviation\n",
        "- skewness\n",
        "- kurtosis\n",
        "- percentile/ quartile\n",
        "- range\n",
        "- interquartile range"
      ],
      "metadata": {
        "id": "RXEhHn67_mzj"
      }
    },
    {
      "cell_type": "code",
      "execution_count": null,
      "metadata": {
        "id": "-9YEbtSk_jVo"
      },
      "outputs": [],
      "source": [
        "# import package\n",
        "import math\n",
        "import statistics\n",
        "\n",
        "import numpy as np\n",
        "import scipy.stats\n",
        "import pandas as pd\n",
        "\n",
        "import matplotlib.pyplot as plt"
      ]
    },
    {
      "cell_type": "code",
      "source": [
        "# membuat data dummy\n",
        "x = np.round(np.random.random(10)*10+1)\n",
        "print(x)"
      ],
      "metadata": {
        "colab": {
          "base_uri": "https://localhost:8080/"
        },
        "id": "WJVR7rKqCBKZ",
        "outputId": "9e180fc3-37d5-4bfe-9b7c-e9148a4eba31"
      },
      "execution_count": null,
      "outputs": [
        {
          "output_type": "stream",
          "name": "stdout",
          "text": [
            "[4. 8. 2. 4. 9. 9. 2. 3. 3. 8.]\n"
          ]
        }
      ]
    },
    {
      "cell_type": "code",
      "source": [
        "# mean\n",
        "# rata-rata\n",
        "(4. +8. +2.+ 4. +9.+ 9.+ 2. +3. +3. +8.)/10"
      ],
      "metadata": {
        "colab": {
          "base_uri": "https://localhost:8080/"
        },
        "id": "XaDEEz8dB2Er",
        "outputId": "c5589b26-700f-47dc-9f7f-ee2223b06c38"
      },
      "execution_count": null,
      "outputs": [
        {
          "output_type": "execute_result",
          "data": {
            "text/plain": [
              "5.2"
            ]
          },
          "metadata": {},
          "execution_count": 5
        }
      ]
    },
    {
      "cell_type": "code",
      "source": [
        "# median\n",
        "# quartile-2\n",
        "# percentile-50\n",
        "# titik tengah jika kita urutkan datanya dari kecil ke besar\n",
        "\n",
        "# [2. 2. 3. 3. 4. 4. 8. 8. 9. 9. ]\n",
        "(4 + 4) / 2"
      ],
      "metadata": {
        "colab": {
          "base_uri": "https://localhost:8080/"
        },
        "id": "mzAplHGbB_oz",
        "outputId": "a08ca550-a7b2-4b8b-999d-62f30f5a81c9"
      },
      "execution_count": null,
      "outputs": [
        {
          "output_type": "execute_result",
          "data": {
            "text/plain": [
              "4.0"
            ]
          },
          "metadata": {},
          "execution_count": 6
        }
      ]
    },
    {
      "cell_type": "markdown",
      "source": [
        "kebetulan angka tengahnya adalah 4 dan 4, jadi jika ditambah dan dibagi 2 masih 4. Jika angka tengah berbeda, maka hasil median juga berbeda"
      ],
      "metadata": {
        "id": "M5WluZL9C3gL"
      }
    },
    {
      "cell_type": "code",
      "source": [
        "# contoh #2\n",
        "x2 = np.round(np.random.random(10)*10+1)\n",
        "print(x2)"
      ],
      "metadata": {
        "colab": {
          "base_uri": "https://localhost:8080/"
        },
        "id": "oIxK734nC2Hs",
        "outputId": "e96e0908-d542-4a8c-8904-cfa43c30b547"
      },
      "execution_count": null,
      "outputs": [
        {
          "output_type": "stream",
          "name": "stdout",
          "text": [
            "[ 5.  2.  9.  3. 10.  4.  2.  3.  6. 10.]\n"
          ]
        }
      ]
    },
    {
      "cell_type": "code",
      "source": [
        "# [ 2.  2.  3.  3.  4.  5.  6. 9.  10.  10.]\n",
        "( 4 + 5 ) / 2"
      ],
      "metadata": {
        "colab": {
          "base_uri": "https://localhost:8080/"
        },
        "id": "mSSGIz3jDBIn",
        "outputId": "e5b54774-8987-4bba-de24-5e399ff8db80"
      },
      "execution_count": null,
      "outputs": [
        {
          "output_type": "execute_result",
          "data": {
            "text/plain": [
              "4.5"
            ]
          },
          "metadata": {},
          "execution_count": 8
        }
      ]
    },
    {
      "cell_type": "markdown",
      "source": [
        "median untuk contoh data diatas adalah 4.5\n",
        "\n",
        "semua angka di dataset x2, 50% berada di bawah 4.5"
      ],
      "metadata": {
        "id": "bNom0q9RDOoz"
      }
    },
    {
      "cell_type": "code",
      "source": [
        "# modus\n",
        "# modus mencari angka yang paling sering muncul\n",
        "# untuk [ 2.  2.  3.  3.  3.  5.  6. 9.  10.  10.]\n",
        "# modusnya adalah 3, karena muncul 3 kali, paling sering dibanding value lainnya\n",
        "# titik data dengan frekuensi tertinggi"
      ],
      "metadata": {
        "id": "OvLef2fvDOAE"
      },
      "execution_count": null,
      "outputs": []
    },
    {
      "cell_type": "markdown",
      "source": [
        "measure of spread"
      ],
      "metadata": {
        "id": "PeV7ZR9gEHdh"
      }
    },
    {
      "cell_type": "code",
      "source": [
        "# standard deviation\n",
        "\n",
        "x3 = [2.,2.,3.,3.,3.,5.,6.,9.,10.,10.]\n",
        "x3_mean = np.mean(x3)\n",
        "\n",
        "print(x3_mean)"
      ],
      "metadata": {
        "colab": {
          "base_uri": "https://localhost:8080/"
        },
        "id": "H1UhlLT5EG5N",
        "outputId": "c5b769f0-fc85-44a4-e91c-073df33d7654"
      },
      "execution_count": null,
      "outputs": [
        {
          "output_type": "stream",
          "name": "stdout",
          "text": [
            "5.3\n"
          ]
        }
      ]
    },
    {
      "cell_type": "code",
      "source": [
        "# seberapa jauh setiap titik data dengan mean tersebut?\n",
        "2 - 5.3"
      ],
      "metadata": {
        "colab": {
          "base_uri": "https://localhost:8080/"
        },
        "id": "0TjoklXUEeOZ",
        "outputId": "6e764ed9-2b4b-4f74-ea0a-4610d024133f"
      },
      "execution_count": null,
      "outputs": [
        {
          "output_type": "execute_result",
          "data": {
            "text/plain": [
              "-3.3"
            ]
          },
          "metadata": {},
          "execution_count": 13
        }
      ]
    },
    {
      "cell_type": "code",
      "source": [
        "10. - 5.3"
      ],
      "metadata": {
        "colab": {
          "base_uri": "https://localhost:8080/"
        },
        "id": "jJpYAi2vEtBY",
        "outputId": "0c2c4b9e-c157-4d2d-aa06-8931f806c52a"
      },
      "execution_count": null,
      "outputs": [
        {
          "output_type": "execute_result",
          "data": {
            "text/plain": [
              "4.7"
            ]
          },
          "metadata": {},
          "execution_count": 14
        }
      ]
    },
    {
      "cell_type": "markdown",
      "source": [
        "kalau kita gunakan formula data_1 - mean_x3 + data_2 - mean_3, .... ada hasil yang negatif, dan ada yang positif, dan mereka saling cancel satu sama lain dan sum \"perbedaan\" kita menjadi mendekati 0\n",
        "\n",
        "jadi, kita perlu cara supaya \"perbedaan\" sebuah titik data dengan rata-rata disimpan secara angka positif saja.\n",
        "\n",
        "kita bisa gunakan absolut, atau lebih populer nya adalah teknik pakai kuadrat."
      ],
      "metadata": {
        "id": "Ft3a7-sNE0VY"
      }
    },
    {
      "cell_type": "code",
      "source": [
        "total_perbedaan = 0\n",
        "for n in [2.,2.,3.,3.,3.,5.,6.,9.,10.,10.]:\n",
        "  perbedaan = np.square(n - x3_mean)\n",
        "  print(n, x3_mean, perbedaan)\n",
        "  total_perbedaan += perbedaan\n",
        "\n",
        "print(\"total perbedaan\", total_perbedaan)"
      ],
      "metadata": {
        "colab": {
          "base_uri": "https://localhost:8080/"
        },
        "id": "8X52qvINEPT_",
        "outputId": "5ec625bc-0f15-461e-b318-5b859d235088"
      },
      "execution_count": null,
      "outputs": [
        {
          "output_type": "stream",
          "name": "stdout",
          "text": [
            "2.0 5.3 10.889999999999999\n",
            "2.0 5.3 10.889999999999999\n",
            "3.0 5.3 5.289999999999999\n",
            "3.0 5.3 5.289999999999999\n",
            "3.0 5.3 5.289999999999999\n",
            "5.0 5.3 0.0899999999999999\n",
            "6.0 5.3 0.49000000000000027\n",
            "9.0 5.3 13.690000000000001\n",
            "10.0 5.3 22.090000000000003\n",
            "10.0 5.3 22.090000000000003\n",
            "total perbedaan 96.10000000000001\n"
          ]
        }
      ]
    },
    {
      "cell_type": "markdown",
      "source": [
        "96.1 / n adalah variance untuk population   \n",
        "96.1 / (n-1) adalah variance untuk sample\n",
        "\n",
        "bayangkan sebuah angka dibagi 10, misalkan 25 / 10, kita dapat 2.5. kalau angka yang sama dibagi 9, misalkan 25 / 9, kita dapat 2.77, lebih besar dari 2.5\n",
        "\n",
        "formula diatas, membuat kita memastikan kalau datanya sample, maka penyebaran kita asumsikan lebih besar. kalau data population, kita bagi n saja bukan n-1 jadi penyebaran lebih kecil daripada sample.\n",
        "\n",
        "variance di akar adalah standard deviation"
      ],
      "metadata": {
        "id": "JOyPGtG4GDAw"
      }
    },
    {
      "cell_type": "code",
      "source": [
        "# range\n",
        "# max - min\n",
        "# dari data diatas, max 10, min 2, berarti range adalah\n",
        "10 - 2"
      ],
      "metadata": {
        "colab": {
          "base_uri": "https://localhost:8080/"
        },
        "id": "IarsMBxtGQq9",
        "outputId": "aa251f96-bed1-419b-9405-89c4fea2eaa6"
      },
      "execution_count": null,
      "outputs": [
        {
          "output_type": "execute_result",
          "data": {
            "text/plain": [
              "8"
            ]
          },
          "metadata": {},
          "execution_count": 19
        }
      ]
    },
    {
      "cell_type": "code",
      "source": [
        "# percentiles\n",
        "# quartiles"
      ],
      "metadata": {
        "id": "sBA_Fp9RHFUz"
      },
      "execution_count": null,
      "outputs": []
    },
    {
      "cell_type": "markdown",
      "source": [
        "- percentile 25 = quartile 1\n",
        "- percentile 50 = quartile 2 = median\n",
        "- percentile 75 = quartile 3\n",
        "\n",
        "misalkan kita hitung percentile 25 adalah di 10, kemudian percentil 50 ada di 70, dan percentile 75 ada di 80, kita bisa lihat kalau penyebaran data seperti berikut:\n",
        "\n",
        "- 25% mendapat nilai dibawah 10\n",
        "- 50% mendapat nilai dibawah 70\n",
        "- 75% mendapat nilai dibawah 80\n",
        "\n",
        "hanya 25% murid yang mendapat nilai di atas 80"
      ],
      "metadata": {
        "id": "bXVQptpKHYTe"
      }
    },
    {
      "cell_type": "code",
      "source": [
        "# IQR Inter-Quartile Range\n",
        "# Q3 - Q1\n",
        "# di contoh diatas, 80 - 10\n",
        "80-10"
      ],
      "metadata": {
        "colab": {
          "base_uri": "https://localhost:8080/"
        },
        "id": "hY99nPdjIUAl",
        "outputId": "fd0c7334-2485-4efd-a57e-d8cf53d4d328"
      },
      "execution_count": null,
      "outputs": [
        {
          "output_type": "execute_result",
          "data": {
            "text/plain": [
              "70"
            ]
          },
          "metadata": {},
          "execution_count": 20
        }
      ]
    },
    {
      "cell_type": "markdown",
      "source": [
        "skewness   \n",
        "kemiringan distribusi probabilitas dataset kita\n",
        "\n",
        "misalakan kita buat histogram, kita bisa lihat di setiap braket nilai, ada berapa murid yang mendapat nilai tersebut.\n",
        "\n",
        "kalau kebanyak nilainya jelek, tapi ada bbrp murid yang nilai bagus banget, membuat rata2 nilai jadi naik, kita bilang ini positive skew. nilai median dan mode akan ada di bawah nilai mean.\n",
        "\n",
        "sebaliknya, kalau kebanyakan nilai bagus, tapi ada bbrp murid yg nilai nya jelek banget, membuat rata2 nilai jadi turun, kita bilang ini negative skew. nilai median dan mode akan ada di atas nilai mean.\n",
        "\n",
        "terakhir, kalau nilainya imbang yg jelek dan yg bagus, distribusi akan berbentuk simetris, ini tidak memiliki skew, skew mendekati 0, kita bilang ini namanya distribusi normal"
      ],
      "metadata": {
        "id": "XBFDL6JHJfhN"
      }
    },
    {
      "cell_type": "code",
      "source": [
        "# kurtosis\n",
        "# positif -- banyak outlier, tajam\n",
        "# 0 -- normal, distribusi normal\n",
        "# negatif -- tidak ada outlier, tumpul"
      ],
      "metadata": {
        "id": "Z8LNIyCvKzJl"
      },
      "execution_count": null,
      "outputs": []
    },
    {
      "cell_type": "code",
      "source": [
        "# correlation\n",
        "# correlation coefficient r\n",
        "# r ada di antara -1, 0, 1\n",
        "# r = 0 tidak ada korelasi antara 2 set data tersebut\n",
        "# r negatif, artinya kalau data A bertambah, maka data B akan berkurang valuenya\n",
        "# r positif, artinya kalau data A bertambah, data B ikut bertambah"
      ],
      "metadata": {
        "id": "RmwZacuxLTYt"
      },
      "execution_count": null,
      "outputs": []
    },
    {
      "cell_type": "markdown",
      "source": [
        "# Practice on Python\n",
        "1. central tendency\n",
        "2. spread\n",
        "3. correlation"
      ],
      "metadata": {
        "id": "urFRGOsPLyT7"
      }
    },
    {
      "cell_type": "code",
      "source": [
        "# buat dummy data\n",
        "# atau tarik sample data, misalnya data diabetes dari kaggle (udah ku save ke github)\n",
        "\n",
        "df_diabet = pd.read_csv(\"https://raw.githubusercontent.com/stefkwan-h8/dataset/main/diabetes.csv\")\n",
        "df_diabet.info()"
      ],
      "metadata": {
        "colab": {
          "base_uri": "https://localhost:8080/"
        },
        "id": "Kc5WMUJgIaXu",
        "outputId": "5e645e5b-0aee-4b3a-9921-c87e0f6c74d0"
      },
      "execution_count": null,
      "outputs": [
        {
          "output_type": "stream",
          "name": "stdout",
          "text": [
            "<class 'pandas.core.frame.DataFrame'>\n",
            "RangeIndex: 768 entries, 0 to 767\n",
            "Data columns (total 9 columns):\n",
            " #   Column                    Non-Null Count  Dtype  \n",
            "---  ------                    --------------  -----  \n",
            " 0   Pregnancies               768 non-null    int64  \n",
            " 1   Glucose                   768 non-null    int64  \n",
            " 2   BloodPressure             768 non-null    int64  \n",
            " 3   SkinThickness             768 non-null    int64  \n",
            " 4   Insulin                   768 non-null    int64  \n",
            " 5   BMI                       768 non-null    float64\n",
            " 6   DiabetesPedigreeFunction  768 non-null    float64\n",
            " 7   Age                       768 non-null    int64  \n",
            " 8   Outcome                   768 non-null    int64  \n",
            "dtypes: float64(2), int64(7)\n",
            "memory usage: 54.1 KB\n"
          ]
        }
      ]
    },
    {
      "cell_type": "code",
      "source": [
        "df_diabet.head()"
      ],
      "metadata": {
        "colab": {
          "base_uri": "https://localhost:8080/",
          "height": 206
        },
        "id": "HxnckvdkPBgt",
        "outputId": "ba3378bd-5e05-417b-9d68-1f4132cd285c"
      },
      "execution_count": null,
      "outputs": [
        {
          "output_type": "execute_result",
          "data": {
            "text/plain": [
              "   Pregnancies  Glucose  BloodPressure  SkinThickness  Insulin   BMI  \\\n",
              "0            6      148             72             35        0  33.6   \n",
              "1            1       85             66             29        0  26.6   \n",
              "2            8      183             64              0        0  23.3   \n",
              "3            1       89             66             23       94  28.1   \n",
              "4            0      137             40             35      168  43.1   \n",
              "\n",
              "   DiabetesPedigreeFunction  Age  Outcome  \n",
              "0                     0.627   50        1  \n",
              "1                     0.351   31        0  \n",
              "2                     0.672   32        1  \n",
              "3                     0.167   21        0  \n",
              "4                     2.288   33        1  "
            ],
            "text/html": [
              "\n",
              "  <div id=\"df-2f05d965-23a4-4650-b6e3-fccf800a0039\" class=\"colab-df-container\">\n",
              "    <div>\n",
              "<style scoped>\n",
              "    .dataframe tbody tr th:only-of-type {\n",
              "        vertical-align: middle;\n",
              "    }\n",
              "\n",
              "    .dataframe tbody tr th {\n",
              "        vertical-align: top;\n",
              "    }\n",
              "\n",
              "    .dataframe thead th {\n",
              "        text-align: right;\n",
              "    }\n",
              "</style>\n",
              "<table border=\"1\" class=\"dataframe\">\n",
              "  <thead>\n",
              "    <tr style=\"text-align: right;\">\n",
              "      <th></th>\n",
              "      <th>Pregnancies</th>\n",
              "      <th>Glucose</th>\n",
              "      <th>BloodPressure</th>\n",
              "      <th>SkinThickness</th>\n",
              "      <th>Insulin</th>\n",
              "      <th>BMI</th>\n",
              "      <th>DiabetesPedigreeFunction</th>\n",
              "      <th>Age</th>\n",
              "      <th>Outcome</th>\n",
              "    </tr>\n",
              "  </thead>\n",
              "  <tbody>\n",
              "    <tr>\n",
              "      <th>0</th>\n",
              "      <td>6</td>\n",
              "      <td>148</td>\n",
              "      <td>72</td>\n",
              "      <td>35</td>\n",
              "      <td>0</td>\n",
              "      <td>33.6</td>\n",
              "      <td>0.627</td>\n",
              "      <td>50</td>\n",
              "      <td>1</td>\n",
              "    </tr>\n",
              "    <tr>\n",
              "      <th>1</th>\n",
              "      <td>1</td>\n",
              "      <td>85</td>\n",
              "      <td>66</td>\n",
              "      <td>29</td>\n",
              "      <td>0</td>\n",
              "      <td>26.6</td>\n",
              "      <td>0.351</td>\n",
              "      <td>31</td>\n",
              "      <td>0</td>\n",
              "    </tr>\n",
              "    <tr>\n",
              "      <th>2</th>\n",
              "      <td>8</td>\n",
              "      <td>183</td>\n",
              "      <td>64</td>\n",
              "      <td>0</td>\n",
              "      <td>0</td>\n",
              "      <td>23.3</td>\n",
              "      <td>0.672</td>\n",
              "      <td>32</td>\n",
              "      <td>1</td>\n",
              "    </tr>\n",
              "    <tr>\n",
              "      <th>3</th>\n",
              "      <td>1</td>\n",
              "      <td>89</td>\n",
              "      <td>66</td>\n",
              "      <td>23</td>\n",
              "      <td>94</td>\n",
              "      <td>28.1</td>\n",
              "      <td>0.167</td>\n",
              "      <td>21</td>\n",
              "      <td>0</td>\n",
              "    </tr>\n",
              "    <tr>\n",
              "      <th>4</th>\n",
              "      <td>0</td>\n",
              "      <td>137</td>\n",
              "      <td>40</td>\n",
              "      <td>35</td>\n",
              "      <td>168</td>\n",
              "      <td>43.1</td>\n",
              "      <td>2.288</td>\n",
              "      <td>33</td>\n",
              "      <td>1</td>\n",
              "    </tr>\n",
              "  </tbody>\n",
              "</table>\n",
              "</div>\n",
              "    <div class=\"colab-df-buttons\">\n",
              "\n",
              "  <div class=\"colab-df-container\">\n",
              "    <button class=\"colab-df-convert\" onclick=\"convertToInteractive('df-2f05d965-23a4-4650-b6e3-fccf800a0039')\"\n",
              "            title=\"Convert this dataframe to an interactive table.\"\n",
              "            style=\"display:none;\">\n",
              "\n",
              "  <svg xmlns=\"http://www.w3.org/2000/svg\" height=\"24px\" viewBox=\"0 -960 960 960\">\n",
              "    <path d=\"M120-120v-720h720v720H120Zm60-500h600v-160H180v160Zm220 220h160v-160H400v160Zm0 220h160v-160H400v160ZM180-400h160v-160H180v160Zm440 0h160v-160H620v160ZM180-180h160v-160H180v160Zm440 0h160v-160H620v160Z\"/>\n",
              "  </svg>\n",
              "    </button>\n",
              "\n",
              "  <style>\n",
              "    .colab-df-container {\n",
              "      display:flex;\n",
              "      gap: 12px;\n",
              "    }\n",
              "\n",
              "    .colab-df-convert {\n",
              "      background-color: #E8F0FE;\n",
              "      border: none;\n",
              "      border-radius: 50%;\n",
              "      cursor: pointer;\n",
              "      display: none;\n",
              "      fill: #1967D2;\n",
              "      height: 32px;\n",
              "      padding: 0 0 0 0;\n",
              "      width: 32px;\n",
              "    }\n",
              "\n",
              "    .colab-df-convert:hover {\n",
              "      background-color: #E2EBFA;\n",
              "      box-shadow: 0px 1px 2px rgba(60, 64, 67, 0.3), 0px 1px 3px 1px rgba(60, 64, 67, 0.15);\n",
              "      fill: #174EA6;\n",
              "    }\n",
              "\n",
              "    .colab-df-buttons div {\n",
              "      margin-bottom: 4px;\n",
              "    }\n",
              "\n",
              "    [theme=dark] .colab-df-convert {\n",
              "      background-color: #3B4455;\n",
              "      fill: #D2E3FC;\n",
              "    }\n",
              "\n",
              "    [theme=dark] .colab-df-convert:hover {\n",
              "      background-color: #434B5C;\n",
              "      box-shadow: 0px 1px 3px 1px rgba(0, 0, 0, 0.15);\n",
              "      filter: drop-shadow(0px 1px 2px rgba(0, 0, 0, 0.3));\n",
              "      fill: #FFFFFF;\n",
              "    }\n",
              "  </style>\n",
              "\n",
              "    <script>\n",
              "      const buttonEl =\n",
              "        document.querySelector('#df-2f05d965-23a4-4650-b6e3-fccf800a0039 button.colab-df-convert');\n",
              "      buttonEl.style.display =\n",
              "        google.colab.kernel.accessAllowed ? 'block' : 'none';\n",
              "\n",
              "      async function convertToInteractive(key) {\n",
              "        const element = document.querySelector('#df-2f05d965-23a4-4650-b6e3-fccf800a0039');\n",
              "        const dataTable =\n",
              "          await google.colab.kernel.invokeFunction('convertToInteractive',\n",
              "                                                    [key], {});\n",
              "        if (!dataTable) return;\n",
              "\n",
              "        const docLinkHtml = 'Like what you see? Visit the ' +\n",
              "          '<a target=\"_blank\" href=https://colab.research.google.com/notebooks/data_table.ipynb>data table notebook</a>'\n",
              "          + ' to learn more about interactive tables.';\n",
              "        element.innerHTML = '';\n",
              "        dataTable['output_type'] = 'display_data';\n",
              "        await google.colab.output.renderOutput(dataTable, element);\n",
              "        const docLink = document.createElement('div');\n",
              "        docLink.innerHTML = docLinkHtml;\n",
              "        element.appendChild(docLink);\n",
              "      }\n",
              "    </script>\n",
              "  </div>\n",
              "\n",
              "\n",
              "<div id=\"df-ad51b565-8442-45cb-aa30-0e8ec7faca40\">\n",
              "  <button class=\"colab-df-quickchart\" onclick=\"quickchart('df-ad51b565-8442-45cb-aa30-0e8ec7faca40')\"\n",
              "            title=\"Suggest charts.\"\n",
              "            style=\"display:none;\">\n",
              "\n",
              "<svg xmlns=\"http://www.w3.org/2000/svg\" height=\"24px\"viewBox=\"0 0 24 24\"\n",
              "     width=\"24px\">\n",
              "    <g>\n",
              "        <path d=\"M19 3H5c-1.1 0-2 .9-2 2v14c0 1.1.9 2 2 2h14c1.1 0 2-.9 2-2V5c0-1.1-.9-2-2-2zM9 17H7v-7h2v7zm4 0h-2V7h2v10zm4 0h-2v-4h2v4z\"/>\n",
              "    </g>\n",
              "</svg>\n",
              "  </button>\n",
              "\n",
              "<style>\n",
              "  .colab-df-quickchart {\n",
              "    background-color: #E8F0FE;\n",
              "    border: none;\n",
              "    border-radius: 50%;\n",
              "    cursor: pointer;\n",
              "    display: none;\n",
              "    fill: #1967D2;\n",
              "    height: 32px;\n",
              "    padding: 0 0 0 0;\n",
              "    width: 32px;\n",
              "  }\n",
              "\n",
              "  .colab-df-quickchart:hover {\n",
              "    background-color: #E2EBFA;\n",
              "    box-shadow: 0px 1px 2px rgba(60, 64, 67, 0.3), 0px 1px 3px 1px rgba(60, 64, 67, 0.15);\n",
              "    fill: #174EA6;\n",
              "  }\n",
              "\n",
              "  [theme=dark] .colab-df-quickchart {\n",
              "    background-color: #3B4455;\n",
              "    fill: #D2E3FC;\n",
              "  }\n",
              "\n",
              "  [theme=dark] .colab-df-quickchart:hover {\n",
              "    background-color: #434B5C;\n",
              "    box-shadow: 0px 1px 3px 1px rgba(0, 0, 0, 0.15);\n",
              "    filter: drop-shadow(0px 1px 2px rgba(0, 0, 0, 0.3));\n",
              "    fill: #FFFFFF;\n",
              "  }\n",
              "</style>\n",
              "\n",
              "  <script>\n",
              "    async function quickchart(key) {\n",
              "      const charts = await google.colab.kernel.invokeFunction(\n",
              "          'suggestCharts', [key], {});\n",
              "    }\n",
              "    (() => {\n",
              "      let quickchartButtonEl =\n",
              "        document.querySelector('#df-ad51b565-8442-45cb-aa30-0e8ec7faca40 button');\n",
              "      quickchartButtonEl.style.display =\n",
              "        google.colab.kernel.accessAllowed ? 'block' : 'none';\n",
              "    })();\n",
              "  </script>\n",
              "</div>\n",
              "    </div>\n",
              "  </div>\n"
            ]
          },
          "metadata": {},
          "execution_count": 25
        }
      ]
    },
    {
      "cell_type": "code",
      "source": [
        "# kita fokus ke 1 bagian dulu - Glucose - tingkat gula darah\n",
        "# berapa rata2 tingkat gula darah di dataset diabetes ini?\n",
        "\n",
        "dataset_gula = df_diabet['Glucose']\n",
        "dataset_gula"
      ],
      "metadata": {
        "colab": {
          "base_uri": "https://localhost:8080/"
        },
        "id": "OSg-9AyoPFYs",
        "outputId": "d82e92ff-5e5c-4885-8342-7413ab52b181"
      },
      "execution_count": null,
      "outputs": [
        {
          "output_type": "execute_result",
          "data": {
            "text/plain": [
              "0      148\n",
              "1       85\n",
              "2      183\n",
              "3       89\n",
              "4      137\n",
              "      ... \n",
              "763    101\n",
              "764    122\n",
              "765    121\n",
              "766    126\n",
              "767     93\n",
              "Name: Glucose, Length: 768, dtype: int64"
            ]
          },
          "metadata": {},
          "execution_count": 27
        }
      ]
    },
    {
      "cell_type": "code",
      "source": [
        "dataset_gula.mean()"
      ],
      "metadata": {
        "colab": {
          "base_uri": "https://localhost:8080/"
        },
        "id": "N3bjTfn-PYG8",
        "outputId": "fb3bcbe2-44ed-4d15-d977-e3b85d65836b"
      },
      "execution_count": null,
      "outputs": [
        {
          "output_type": "execute_result",
          "data": {
            "text/plain": [
              "120.89453125"
            ]
          },
          "metadata": {},
          "execution_count": 28
        }
      ]
    },
    {
      "cell_type": "markdown",
      "source": [
        "bagaimana kalau ada situasi dimana mean biasa itu kurang pas untuk data kita?\n",
        "\n",
        "- bobot nilai berbeda-beda, seperti nilai PR dengan nilai Ujian yang diberikan bobot berbeda. cara untuk cari rata2 kita gunakan **weighted mean**\n",
        "- ada data outlier yang menarik rata2 ke arah yang salah. misalkan sebuah perusahaan punya 5 karyawan, gaji nya 5, 6, 4, 3, 100jt. rata2 nya akan ketarik keatas oleh di gaji 100jt. supaya rata2 tidak terpengaruh oleh outlier seperti ini, kita gunakan **harmonic mean**\n",
        "- data yang kt ingin cari tidak memiliki unit yang sama. misalkan kita mau beli kamera dari seller A dan seller B. seller A punya 7rb rating dengan 4.6 bintang. seller B punya 300 rating dengan 5.0 bintang. kira2 kita beli dari siapa? nilai rata2 antara rating dan bintang, bisa kita cari menggunakan **geometric mean**"
      ],
      "metadata": {
        "id": "yFCx0CdMPqhh"
      }
    },
    {
      "cell_type": "code",
      "source": [
        "# nilai 3 assignment 1 final project\n",
        "nilai = [60, 70, 60, 100]\n",
        "bobot = [0.2, 0.2, 0.2, 0.4]\n",
        "\n",
        "# nilai weighted mean, dimana final project 40% dan setiap assignment 20%\n",
        "np.average(nilai, weights=bobot)"
      ],
      "metadata": {
        "colab": {
          "base_uri": "https://localhost:8080/"
        },
        "id": "DcvkxoLzPddH",
        "outputId": "81822be2-b177-4815-81e2-3ba3eded0d88"
      },
      "execution_count": null,
      "outputs": [
        {
          "output_type": "execute_result",
          "data": {
            "text/plain": [
              "78.0"
            ]
          },
          "metadata": {},
          "execution_count": 29
        }
      ]
    },
    {
      "cell_type": "code",
      "source": [
        "# nilai mean biasa\n",
        "np.mean(nilai)"
      ],
      "metadata": {
        "colab": {
          "base_uri": "https://localhost:8080/"
        },
        "id": "rI8e21hAQyj4",
        "outputId": "3977c839-7a9b-42c7-a31b-d633a8c6f945"
      },
      "execution_count": null,
      "outputs": [
        {
          "output_type": "execute_result",
          "data": {
            "text/plain": [
              "72.5"
            ]
          },
          "metadata": {},
          "execution_count": 30
        }
      ]
    },
    {
      "cell_type": "markdown",
      "source": [
        "karena bobot yang lebih besar berada di final project, dan nilai final project > nilai assignment, maka rata2 weighted mean lebih tinggi dari rata2 biasa"
      ],
      "metadata": {
        "id": "3oxx7CuXQ-EP"
      }
    },
    {
      "cell_type": "code",
      "source": [
        "# gaji 5 karyawan\n",
        "gaji = [5, 6, 4, 3, 100]\n",
        "\n",
        "# kalau kita cari rata2 biasa\n",
        "np.mean(gaji)"
      ],
      "metadata": {
        "colab": {
          "base_uri": "https://localhost:8080/"
        },
        "id": "1pgP3rjvQw9p",
        "outputId": "a2d7996f-a851-4b7e-c67b-e619dd9e015f"
      },
      "execution_count": null,
      "outputs": [
        {
          "output_type": "execute_result",
          "data": {
            "text/plain": [
              "23.6"
            ]
          },
          "metadata": {},
          "execution_count": 31
        }
      ]
    },
    {
      "cell_type": "markdown",
      "source": [
        "gaji rata2 23.6jt di perusahaan tersebut sebenarnya tidak menunjukkan rata2 gaji per karyawan. angka ini ketarik keatas karena outlier yang 1 orang itu yg gajinya besar sendiri.\n",
        "\n",
        "kita gunakan harmonic mean untuk angka rata2 yang lebih tepat di situasi ini"
      ],
      "metadata": {
        "id": "NrL83VJWRPdw"
      }
    },
    {
      "cell_type": "code",
      "source": [
        "scipy.stats.hmean(gaji)"
      ],
      "metadata": {
        "colab": {
          "base_uri": "https://localhost:8080/"
        },
        "id": "rc9i2W_pROsu",
        "outputId": "65ae3cbf-e2bc-47ac-8841-3e05695a023b"
      },
      "execution_count": null,
      "outputs": [
        {
          "output_type": "execute_result",
          "data": {
            "text/plain": [
              "5.208333333333333"
            ]
          },
          "metadata": {},
          "execution_count": 32
        }
      ]
    },
    {
      "cell_type": "markdown",
      "source": [
        "demikian nilai rata2 di 5.2 lebih menunjukkan realita gaji di perusahaan tersebut, tidak ditarik oleh outlier"
      ],
      "metadata": {
        "id": "UzgmItNSRnKI"
      }
    },
    {
      "cell_type": "code",
      "source": [
        "# saat unit berbeda\n",
        "# seller A punya 7rb rating dengan 4.6 bintang.\n",
        "# seller B punya 300 rating dengan 5.0 bintang.\n",
        "# kita bisa cari rata2 dan beri nilai overall per seller dengan teknik geometric mean\n",
        "seller_A = [7000, 4.6]\n",
        "seller_B = [300, 5.0]\n",
        "\n",
        "print(\"A:\", scipy.stats.gmean(seller_A))\n",
        "print(\"B:\", scipy.stats.gmean(seller_B))"
      ],
      "metadata": {
        "colab": {
          "base_uri": "https://localhost:8080/"
        },
        "id": "LODDlnN1Rj6G",
        "outputId": "416a8957-8c41-4027-d0a1-5b29296ab566"
      },
      "execution_count": null,
      "outputs": [
        {
          "output_type": "stream",
          "name": "stdout",
          "text": [
            "A: 179.4435844492635\n",
            "B: 38.72983346207417\n"
          ]
        }
      ]
    },
    {
      "cell_type": "markdown",
      "source": [
        "dari geometric mean per seller, kita bisa simpulkan nilai seller A lebih tinggi dan kita lebih baik beli dari seller A"
      ],
      "metadata": {
        "id": "jV7ljeXqSU9g"
      }
    },
    {
      "cell_type": "markdown",
      "source": [
        "perhatikan kembali dataset pasien2 kita yang sudah tes darah untuk tes diabetes:"
      ],
      "metadata": {
        "id": "yl40GQiAS5r4"
      }
    },
    {
      "cell_type": "code",
      "source": [
        "df_diabet"
      ],
      "metadata": {
        "colab": {
          "base_uri": "https://localhost:8080/",
          "height": 423
        },
        "id": "aEbMPruBS54O",
        "outputId": "35b157a6-001a-415c-e2dc-e662eae134a2"
      },
      "execution_count": null,
      "outputs": [
        {
          "output_type": "execute_result",
          "data": {
            "text/plain": [
              "     Pregnancies  Glucose  BloodPressure  SkinThickness  Insulin   BMI  \\\n",
              "0              6      148             72             35        0  33.6   \n",
              "1              1       85             66             29        0  26.6   \n",
              "2              8      183             64              0        0  23.3   \n",
              "3              1       89             66             23       94  28.1   \n",
              "4              0      137             40             35      168  43.1   \n",
              "..           ...      ...            ...            ...      ...   ...   \n",
              "763           10      101             76             48      180  32.9   \n",
              "764            2      122             70             27        0  36.8   \n",
              "765            5      121             72             23      112  26.2   \n",
              "766            1      126             60              0        0  30.1   \n",
              "767            1       93             70             31        0  30.4   \n",
              "\n",
              "     DiabetesPedigreeFunction  Age  Outcome  \n",
              "0                       0.627   50        1  \n",
              "1                       0.351   31        0  \n",
              "2                       0.672   32        1  \n",
              "3                       0.167   21        0  \n",
              "4                       2.288   33        1  \n",
              "..                        ...  ...      ...  \n",
              "763                     0.171   63        0  \n",
              "764                     0.340   27        0  \n",
              "765                     0.245   30        0  \n",
              "766                     0.349   47        1  \n",
              "767                     0.315   23        0  \n",
              "\n",
              "[768 rows x 9 columns]"
            ],
            "text/html": [
              "\n",
              "  <div id=\"df-9d238c8e-b6b3-473b-b081-434316da90ad\" class=\"colab-df-container\">\n",
              "    <div>\n",
              "<style scoped>\n",
              "    .dataframe tbody tr th:only-of-type {\n",
              "        vertical-align: middle;\n",
              "    }\n",
              "\n",
              "    .dataframe tbody tr th {\n",
              "        vertical-align: top;\n",
              "    }\n",
              "\n",
              "    .dataframe thead th {\n",
              "        text-align: right;\n",
              "    }\n",
              "</style>\n",
              "<table border=\"1\" class=\"dataframe\">\n",
              "  <thead>\n",
              "    <tr style=\"text-align: right;\">\n",
              "      <th></th>\n",
              "      <th>Pregnancies</th>\n",
              "      <th>Glucose</th>\n",
              "      <th>BloodPressure</th>\n",
              "      <th>SkinThickness</th>\n",
              "      <th>Insulin</th>\n",
              "      <th>BMI</th>\n",
              "      <th>DiabetesPedigreeFunction</th>\n",
              "      <th>Age</th>\n",
              "      <th>Outcome</th>\n",
              "    </tr>\n",
              "  </thead>\n",
              "  <tbody>\n",
              "    <tr>\n",
              "      <th>0</th>\n",
              "      <td>6</td>\n",
              "      <td>148</td>\n",
              "      <td>72</td>\n",
              "      <td>35</td>\n",
              "      <td>0</td>\n",
              "      <td>33.6</td>\n",
              "      <td>0.627</td>\n",
              "      <td>50</td>\n",
              "      <td>1</td>\n",
              "    </tr>\n",
              "    <tr>\n",
              "      <th>1</th>\n",
              "      <td>1</td>\n",
              "      <td>85</td>\n",
              "      <td>66</td>\n",
              "      <td>29</td>\n",
              "      <td>0</td>\n",
              "      <td>26.6</td>\n",
              "      <td>0.351</td>\n",
              "      <td>31</td>\n",
              "      <td>0</td>\n",
              "    </tr>\n",
              "    <tr>\n",
              "      <th>2</th>\n",
              "      <td>8</td>\n",
              "      <td>183</td>\n",
              "      <td>64</td>\n",
              "      <td>0</td>\n",
              "      <td>0</td>\n",
              "      <td>23.3</td>\n",
              "      <td>0.672</td>\n",
              "      <td>32</td>\n",
              "      <td>1</td>\n",
              "    </tr>\n",
              "    <tr>\n",
              "      <th>3</th>\n",
              "      <td>1</td>\n",
              "      <td>89</td>\n",
              "      <td>66</td>\n",
              "      <td>23</td>\n",
              "      <td>94</td>\n",
              "      <td>28.1</td>\n",
              "      <td>0.167</td>\n",
              "      <td>21</td>\n",
              "      <td>0</td>\n",
              "    </tr>\n",
              "    <tr>\n",
              "      <th>4</th>\n",
              "      <td>0</td>\n",
              "      <td>137</td>\n",
              "      <td>40</td>\n",
              "      <td>35</td>\n",
              "      <td>168</td>\n",
              "      <td>43.1</td>\n",
              "      <td>2.288</td>\n",
              "      <td>33</td>\n",
              "      <td>1</td>\n",
              "    </tr>\n",
              "    <tr>\n",
              "      <th>...</th>\n",
              "      <td>...</td>\n",
              "      <td>...</td>\n",
              "      <td>...</td>\n",
              "      <td>...</td>\n",
              "      <td>...</td>\n",
              "      <td>...</td>\n",
              "      <td>...</td>\n",
              "      <td>...</td>\n",
              "      <td>...</td>\n",
              "    </tr>\n",
              "    <tr>\n",
              "      <th>763</th>\n",
              "      <td>10</td>\n",
              "      <td>101</td>\n",
              "      <td>76</td>\n",
              "      <td>48</td>\n",
              "      <td>180</td>\n",
              "      <td>32.9</td>\n",
              "      <td>0.171</td>\n",
              "      <td>63</td>\n",
              "      <td>0</td>\n",
              "    </tr>\n",
              "    <tr>\n",
              "      <th>764</th>\n",
              "      <td>2</td>\n",
              "      <td>122</td>\n",
              "      <td>70</td>\n",
              "      <td>27</td>\n",
              "      <td>0</td>\n",
              "      <td>36.8</td>\n",
              "      <td>0.340</td>\n",
              "      <td>27</td>\n",
              "      <td>0</td>\n",
              "    </tr>\n",
              "    <tr>\n",
              "      <th>765</th>\n",
              "      <td>5</td>\n",
              "      <td>121</td>\n",
              "      <td>72</td>\n",
              "      <td>23</td>\n",
              "      <td>112</td>\n",
              "      <td>26.2</td>\n",
              "      <td>0.245</td>\n",
              "      <td>30</td>\n",
              "      <td>0</td>\n",
              "    </tr>\n",
              "    <tr>\n",
              "      <th>766</th>\n",
              "      <td>1</td>\n",
              "      <td>126</td>\n",
              "      <td>60</td>\n",
              "      <td>0</td>\n",
              "      <td>0</td>\n",
              "      <td>30.1</td>\n",
              "      <td>0.349</td>\n",
              "      <td>47</td>\n",
              "      <td>1</td>\n",
              "    </tr>\n",
              "    <tr>\n",
              "      <th>767</th>\n",
              "      <td>1</td>\n",
              "      <td>93</td>\n",
              "      <td>70</td>\n",
              "      <td>31</td>\n",
              "      <td>0</td>\n",
              "      <td>30.4</td>\n",
              "      <td>0.315</td>\n",
              "      <td>23</td>\n",
              "      <td>0</td>\n",
              "    </tr>\n",
              "  </tbody>\n",
              "</table>\n",
              "<p>768 rows × 9 columns</p>\n",
              "</div>\n",
              "    <div class=\"colab-df-buttons\">\n",
              "\n",
              "  <div class=\"colab-df-container\">\n",
              "    <button class=\"colab-df-convert\" onclick=\"convertToInteractive('df-9d238c8e-b6b3-473b-b081-434316da90ad')\"\n",
              "            title=\"Convert this dataframe to an interactive table.\"\n",
              "            style=\"display:none;\">\n",
              "\n",
              "  <svg xmlns=\"http://www.w3.org/2000/svg\" height=\"24px\" viewBox=\"0 -960 960 960\">\n",
              "    <path d=\"M120-120v-720h720v720H120Zm60-500h600v-160H180v160Zm220 220h160v-160H400v160Zm0 220h160v-160H400v160ZM180-400h160v-160H180v160Zm440 0h160v-160H620v160ZM180-180h160v-160H180v160Zm440 0h160v-160H620v160Z\"/>\n",
              "  </svg>\n",
              "    </button>\n",
              "\n",
              "  <style>\n",
              "    .colab-df-container {\n",
              "      display:flex;\n",
              "      gap: 12px;\n",
              "    }\n",
              "\n",
              "    .colab-df-convert {\n",
              "      background-color: #E8F0FE;\n",
              "      border: none;\n",
              "      border-radius: 50%;\n",
              "      cursor: pointer;\n",
              "      display: none;\n",
              "      fill: #1967D2;\n",
              "      height: 32px;\n",
              "      padding: 0 0 0 0;\n",
              "      width: 32px;\n",
              "    }\n",
              "\n",
              "    .colab-df-convert:hover {\n",
              "      background-color: #E2EBFA;\n",
              "      box-shadow: 0px 1px 2px rgba(60, 64, 67, 0.3), 0px 1px 3px 1px rgba(60, 64, 67, 0.15);\n",
              "      fill: #174EA6;\n",
              "    }\n",
              "\n",
              "    .colab-df-buttons div {\n",
              "      margin-bottom: 4px;\n",
              "    }\n",
              "\n",
              "    [theme=dark] .colab-df-convert {\n",
              "      background-color: #3B4455;\n",
              "      fill: #D2E3FC;\n",
              "    }\n",
              "\n",
              "    [theme=dark] .colab-df-convert:hover {\n",
              "      background-color: #434B5C;\n",
              "      box-shadow: 0px 1px 3px 1px rgba(0, 0, 0, 0.15);\n",
              "      filter: drop-shadow(0px 1px 2px rgba(0, 0, 0, 0.3));\n",
              "      fill: #FFFFFF;\n",
              "    }\n",
              "  </style>\n",
              "\n",
              "    <script>\n",
              "      const buttonEl =\n",
              "        document.querySelector('#df-9d238c8e-b6b3-473b-b081-434316da90ad button.colab-df-convert');\n",
              "      buttonEl.style.display =\n",
              "        google.colab.kernel.accessAllowed ? 'block' : 'none';\n",
              "\n",
              "      async function convertToInteractive(key) {\n",
              "        const element = document.querySelector('#df-9d238c8e-b6b3-473b-b081-434316da90ad');\n",
              "        const dataTable =\n",
              "          await google.colab.kernel.invokeFunction('convertToInteractive',\n",
              "                                                    [key], {});\n",
              "        if (!dataTable) return;\n",
              "\n",
              "        const docLinkHtml = 'Like what you see? Visit the ' +\n",
              "          '<a target=\"_blank\" href=https://colab.research.google.com/notebooks/data_table.ipynb>data table notebook</a>'\n",
              "          + ' to learn more about interactive tables.';\n",
              "        element.innerHTML = '';\n",
              "        dataTable['output_type'] = 'display_data';\n",
              "        await google.colab.output.renderOutput(dataTable, element);\n",
              "        const docLink = document.createElement('div');\n",
              "        docLink.innerHTML = docLinkHtml;\n",
              "        element.appendChild(docLink);\n",
              "      }\n",
              "    </script>\n",
              "  </div>\n",
              "\n",
              "\n",
              "<div id=\"df-75c27e36-1748-4103-a2d8-a8f9f2b5226e\">\n",
              "  <button class=\"colab-df-quickchart\" onclick=\"quickchart('df-75c27e36-1748-4103-a2d8-a8f9f2b5226e')\"\n",
              "            title=\"Suggest charts.\"\n",
              "            style=\"display:none;\">\n",
              "\n",
              "<svg xmlns=\"http://www.w3.org/2000/svg\" height=\"24px\"viewBox=\"0 0 24 24\"\n",
              "     width=\"24px\">\n",
              "    <g>\n",
              "        <path d=\"M19 3H5c-1.1 0-2 .9-2 2v14c0 1.1.9 2 2 2h14c1.1 0 2-.9 2-2V5c0-1.1-.9-2-2-2zM9 17H7v-7h2v7zm4 0h-2V7h2v10zm4 0h-2v-4h2v4z\"/>\n",
              "    </g>\n",
              "</svg>\n",
              "  </button>\n",
              "\n",
              "<style>\n",
              "  .colab-df-quickchart {\n",
              "    background-color: #E8F0FE;\n",
              "    border: none;\n",
              "    border-radius: 50%;\n",
              "    cursor: pointer;\n",
              "    display: none;\n",
              "    fill: #1967D2;\n",
              "    height: 32px;\n",
              "    padding: 0 0 0 0;\n",
              "    width: 32px;\n",
              "  }\n",
              "\n",
              "  .colab-df-quickchart:hover {\n",
              "    background-color: #E2EBFA;\n",
              "    box-shadow: 0px 1px 2px rgba(60, 64, 67, 0.3), 0px 1px 3px 1px rgba(60, 64, 67, 0.15);\n",
              "    fill: #174EA6;\n",
              "  }\n",
              "\n",
              "  [theme=dark] .colab-df-quickchart {\n",
              "    background-color: #3B4455;\n",
              "    fill: #D2E3FC;\n",
              "  }\n",
              "\n",
              "  [theme=dark] .colab-df-quickchart:hover {\n",
              "    background-color: #434B5C;\n",
              "    box-shadow: 0px 1px 3px 1px rgba(0, 0, 0, 0.15);\n",
              "    filter: drop-shadow(0px 1px 2px rgba(0, 0, 0, 0.3));\n",
              "    fill: #FFFFFF;\n",
              "  }\n",
              "</style>\n",
              "\n",
              "  <script>\n",
              "    async function quickchart(key) {\n",
              "      const charts = await google.colab.kernel.invokeFunction(\n",
              "          'suggestCharts', [key], {});\n",
              "    }\n",
              "    (() => {\n",
              "      let quickchartButtonEl =\n",
              "        document.querySelector('#df-75c27e36-1748-4103-a2d8-a8f9f2b5226e button');\n",
              "      quickchartButtonEl.style.display =\n",
              "        google.colab.kernel.accessAllowed ? 'block' : 'none';\n",
              "    })();\n",
              "  </script>\n",
              "</div>\n",
              "    </div>\n",
              "  </div>\n"
            ]
          },
          "metadata": {},
          "execution_count": 34
        }
      ]
    },
    {
      "cell_type": "markdown",
      "source": [
        "kalau kita mau tau apakah rata2 glucose itu byk outlier/ tidak, kita bisa pakai boxplot, kita bisa juga bandingkan rata biasa dengan rata2 harmonic nya"
      ],
      "metadata": {
        "id": "29kO5FRhTO34"
      }
    },
    {
      "cell_type": "code",
      "source": [
        "dataset_gula.mean()"
      ],
      "metadata": {
        "colab": {
          "base_uri": "https://localhost:8080/"
        },
        "id": "mBZfF89mTWCF",
        "outputId": "7f80a096-6ad3-44b3-a660-862a0911b190"
      },
      "execution_count": null,
      "outputs": [
        {
          "output_type": "execute_result",
          "data": {
            "text/plain": [
              "120.89453125"
            ]
          },
          "metadata": {},
          "execution_count": 36
        }
      ]
    },
    {
      "cell_type": "code",
      "source": [
        "scipy.stats.hmean(dataset_gula)"
      ],
      "metadata": {
        "colab": {
          "base_uri": "https://localhost:8080/"
        },
        "id": "Ypwa5DR8TaWv",
        "outputId": "77cdac09-5272-41d4-dd9d-c3f7e4c2730b"
      },
      "execution_count": null,
      "outputs": [
        {
          "output_type": "execute_result",
          "data": {
            "text/plain": [
              "0.0"
            ]
          },
          "metadata": {},
          "execution_count": 37
        }
      ]
    },
    {
      "cell_type": "code",
      "source": [
        "dataset_gula.min() # data 0 ini bikin salah, kita perlu hapus dulu"
      ],
      "metadata": {
        "colab": {
          "base_uri": "https://localhost:8080/"
        },
        "id": "PA4pqUqKThG-",
        "outputId": "74e00563-8e94-4d90-b082-68dd114c6e26"
      },
      "execution_count": null,
      "outputs": [
        {
          "output_type": "execute_result",
          "data": {
            "text/plain": [
              "0"
            ]
          },
          "metadata": {},
          "execution_count": 38
        }
      ]
    },
    {
      "cell_type": "code",
      "source": [
        "# hapus semua value 0\n",
        "dataset_gula = dataset_gula[dataset_gula > 0]"
      ],
      "metadata": {
        "id": "hb_7QIWZTv8F"
      },
      "execution_count": null,
      "outputs": []
    },
    {
      "cell_type": "code",
      "source": [
        "print(\"rata2:\", dataset_gula.mean())\n",
        "print(\"hmean:\", scipy.stats.hmean(dataset_gula))"
      ],
      "metadata": {
        "colab": {
          "base_uri": "https://localhost:8080/"
        },
        "id": "fJ-yMtQuT36u",
        "outputId": "cd450751-ca66-4d88-c9ba-86a4cdccb82c"
      },
      "execution_count": null,
      "outputs": [
        {
          "output_type": "stream",
          "name": "stdout",
          "text": [
            "rata2: 121.6867627785059\n",
            "hmean: 114.30029546159221\n"
          ]
        }
      ]
    },
    {
      "cell_type": "code",
      "source": [
        "dataset_gula.plot(kind=\"box\", vert=False, figsize=(12, 3))\n",
        "plt.show()"
      ],
      "metadata": {
        "colab": {
          "base_uri": "https://localhost:8080/",
          "height": 291
        },
        "id": "gMrD9LnrT_au",
        "outputId": "81bd2507-ba8f-4697-b43e-c8dd0e772aec"
      },
      "execution_count": null,
      "outputs": [
        {
          "output_type": "display_data",
          "data": {
            "text/plain": [
              "<Figure size 1200x300 with 1 Axes>"
            ],
            "image/png": "[encoded data removed]"
          },
          "metadata": {}
        }
      ]
    },
    {
      "cell_type": "code",
      "source": [
        "# median\n",
        "# gunakan data gula darah kita tadi\n",
        "np.median(dataset_gula)"
      ],
      "metadata": {
        "colab": {
          "base_uri": "https://localhost:8080/"
        },
        "id": "INrnX9ugSTZD",
        "outputId": "743a1bfb-e9da-4ffe-8c82-eb12a9958ff6"
      },
      "execution_count": null,
      "outputs": [
        {
          "output_type": "execute_result",
          "data": {
            "text/plain": [
              "117.0"
            ]
          },
          "metadata": {},
          "execution_count": 48
        }
      ]
    },
    {
      "cell_type": "code",
      "source": [
        "# mode\n",
        "# pakai pandas\n",
        "dataset_gula.mode()"
      ],
      "metadata": {
        "colab": {
          "base_uri": "https://localhost:8080/"
        },
        "id": "MySe34U8UYkh",
        "outputId": "88604e19-2c5f-48a2-e8c1-14583152bb5d"
      },
      "execution_count": null,
      "outputs": [
        {
          "output_type": "execute_result",
          "data": {
            "text/plain": [
              "0     99\n",
              "1    100\n",
              "Name: Glucose, dtype: int64"
            ]
          },
          "metadata": {},
          "execution_count": 49
        }
      ]
    },
    {
      "cell_type": "code",
      "source": [
        "# mode\n",
        "# pakai scipy stats\n",
        "scipy.stats.mode(dataset_gula)"
      ],
      "metadata": {
        "colab": {
          "base_uri": "https://localhost:8080/"
        },
        "id": "qKo8pDb5Uizc",
        "outputId": "7d94925a-d8c1-494d-9a96-14f069b1e92a"
      },
      "execution_count": null,
      "outputs": [
        {
          "output_type": "stream",
          "name": "stderr",
          "text": [
            "<ipython-input-50-8e804b3aa408>:3: FutureWarning: Unlike other reduction functions (e.g. `skew`, `kurtosis`), the default behavior of `mode` typically preserves the axis it acts along. In SciPy 1.11.0, this behavior will change: the default value of `keepdims` will become False, the `axis` over which the statistic is taken will be eliminated, and the value None will no longer be accepted. Set `keepdims` to True or False to avoid this warning.\n",
            "  scipy.stats.mode(dataset_gula)\n"
          ]
        },
        {
          "output_type": "execute_result",
          "data": {
            "text/plain": [
              "ModeResult(mode=array([99]), count=array([17]))"
            ]
          },
          "metadata": {},
          "execution_count": 50
        }
      ]
    },
    {
      "cell_type": "markdown",
      "source": [
        "scipy stats kasih lihat kalau angka yang paling sering muncul adalah 99, sebanyak 17 kali\n",
        "\n",
        "pandas kasih lihat kalau angka yang paling sering muncul adalah 99 dan 100. berarti kedua angka ini sama2 muncul 17 kali.\n",
        "\n",
        "total data kita ada 763 jadi sebenarnya tidak banyak 17 dari 763\n",
        "\n",
        "perlu diperhatikan kalau mode biasanya digunakan saat data yang dilihat bersifat kategorikal, seperti rating, atau nama tim bola basket, data yang discrete.\n",
        "\n",
        "untuk data continuous seperti waktu, berat, tinggi, uang, gula darah, mode kurang efektif."
      ],
      "metadata": {
        "id": "Lx1d0amEUtyv"
      }
    },
    {
      "cell_type": "code",
      "source": [
        "len(dataset_gula)"
      ],
      "metadata": {
        "colab": {
          "base_uri": "https://localhost:8080/"
        },
        "id": "QQP5yhYIUsGp",
        "outputId": "5e76eaa0-8c0a-4684-f052-5bec281442fc"
      },
      "execution_count": null,
      "outputs": [
        {
          "output_type": "execute_result",
          "data": {
            "text/plain": [
              "763"
            ]
          },
          "metadata": {},
          "execution_count": 51
        }
      ]
    },
    {
      "cell_type": "code",
      "source": [
        "# shortcut pandas .describe()\n",
        "dataset_gula.describe()"
      ],
      "metadata": {
        "colab": {
          "base_uri": "https://localhost:8080/"
        },
        "id": "adwzh3RQU5g-",
        "outputId": "c88ba816-a179-44e1-d8e8-581ca961cbb1"
      },
      "execution_count": null,
      "outputs": [
        {
          "output_type": "execute_result",
          "data": {
            "text/plain": [
              "count    763.000000\n",
              "mean     121.686763\n",
              "std       30.535641\n",
              "min       44.000000\n",
              "25%       99.000000\n",
              "50%      117.000000\n",
              "75%      141.000000\n",
              "max      199.000000\n",
              "Name: Glucose, dtype: float64"
            ]
          },
          "metadata": {},
          "execution_count": 52
        }
      ]
    },
    {
      "cell_type": "code",
      "source": [
        "# standard deviation\n",
        "# population, sample\n",
        "dataset_gula.std()"
      ],
      "metadata": {
        "colab": {
          "base_uri": "https://localhost:8080/"
        },
        "id": "MNfwwiX2XcPR",
        "outputId": "4a7ef775-c3bd-4308-d2e8-7cbe1ce75c55"
      },
      "execution_count": null,
      "outputs": [
        {
          "output_type": "execute_result",
          "data": {
            "text/plain": [
              "30.535641072804033"
            ]
          },
          "metadata": {},
          "execution_count": 53
        }
      ]
    },
    {
      "cell_type": "code",
      "source": [
        "dataset_gula.std(ddof=1) # sample"
      ],
      "metadata": {
        "colab": {
          "base_uri": "https://localhost:8080/"
        },
        "id": "GuQxNyxAXpp-",
        "outputId": "20061a65-d557-4382-f97f-fe45958d7db7"
      },
      "execution_count": null,
      "outputs": [
        {
          "output_type": "execute_result",
          "data": {
            "text/plain": [
              "30.535641072804033"
            ]
          },
          "metadata": {},
          "execution_count": 54
        }
      ]
    },
    {
      "cell_type": "markdown",
      "source": [
        "di pandas, saat cari standard deviation, dia otomatis kasih ddof 1 yang artinya ini data sample"
      ],
      "metadata": {
        "id": "Ohg3mYmrXtvK"
      }
    },
    {
      "cell_type": "code",
      "source": [
        "dataset_gula.std(ddof=0) # population"
      ],
      "metadata": {
        "colab": {
          "base_uri": "https://localhost:8080/"
        },
        "id": "8pdJUYFaXrzg",
        "outputId": "3df1bfb0-3694-472a-e529-1919392d57ea"
      },
      "execution_count": null,
      "outputs": [
        {
          "output_type": "execute_result",
          "data": {
            "text/plain": [
              "30.51562426234566"
            ]
          },
          "metadata": {},
          "execution_count": 55
        }
      ]
    },
    {
      "cell_type": "markdown",
      "source": [
        "ddof 0 memiliki angka spread/ variability yang lebih kecil, karena kita berasumsi datanya population"
      ],
      "metadata": {
        "id": "fZdaZChTX0d2"
      }
    },
    {
      "cell_type": "code",
      "source": [
        "# variance\n",
        "# std deviation di akar\n",
        "print(\"var:\", dataset_gula.var())\n",
        "print(\"var sample:\", dataset_gula.var(ddof=1))\n",
        "print(\"var population:\", dataset_gula.var(ddof=0))"
      ],
      "metadata": {
        "colab": {
          "base_uri": "https://localhost:8080/"
        },
        "id": "BEmXdmNxXzLL",
        "outputId": "6ffee899-b791-4615-c949-6e12f5be6430"
      },
      "execution_count": null,
      "outputs": [
        {
          "output_type": "stream",
          "name": "stdout",
          "text": [
            "var: 932.4253757271167\n",
            "var sample: 932.4253757271167\n",
            "var population: 931.2033241206591\n"
          ]
        }
      ]
    },
    {
      "cell_type": "code",
      "source": [
        "# skew\n",
        "dataset_gula.skew()"
      ],
      "metadata": {
        "colab": {
          "base_uri": "https://localhost:8080/"
        },
        "id": "u4gsGZCBYG5u",
        "outputId": "92017e29-26c5-4cce-af5c-4843b0d267f0"
      },
      "execution_count": null,
      "outputs": [
        {
          "output_type": "execute_result",
          "data": {
            "text/plain": [
              "0.5309885349396284"
            ]
          },
          "metadata": {},
          "execution_count": 58
        }
      ]
    },
    {
      "cell_type": "markdown",
      "source": [
        "skewness nya positif, berarti ada bbrp org yang nilai gula darah nya tinggi, sampai narik buntut datanya ke arah positif"
      ],
      "metadata": {
        "id": "oELPEXTjYk_C"
      }
    },
    {
      "cell_type": "code",
      "source": [
        "# kurtosis\n",
        "dataset_gula.kurtosis()"
      ],
      "metadata": {
        "colab": {
          "base_uri": "https://localhost:8080/"
        },
        "id": "fXcj4HxJYc9b",
        "outputId": "7547bf9a-1452-4068-8b80-cad2864e17db"
      },
      "execution_count": null,
      "outputs": [
        {
          "output_type": "execute_result",
          "data": {
            "text/plain": [
              "-0.2770397069186483"
            ]
          },
          "metadata": {},
          "execution_count": 59
        }
      ]
    },
    {
      "cell_type": "markdown",
      "source": [
        "kurtosis negatif, sesuai ekspektasi kita karena tidak ada outlier"
      ],
      "metadata": {
        "id": "UP7xvEWsY0QT"
      }
    },
    {
      "cell_type": "code",
      "source": [
        "# percentiles\n",
        "print(\"percentile ke 90:\", dataset_gula.quantile(0.9))\n",
        "\n",
        "# quartiles = percentiles ke 25, 50, 75\n",
        "print(\"Q1 percentile ke 25:\", dataset_gula.quantile(0.25))\n",
        "print(\"Q2 percentile ke 50:\", dataset_gula.quantile(0.50))\n",
        "print(\"Q3 percentile ke 75:\", dataset_gula.quantile(0.75))"
      ],
      "metadata": {
        "colab": {
          "base_uri": "https://localhost:8080/"
        },
        "id": "fkL9-BlbYb_D",
        "outputId": "ae1b3e02-b1e6-42cf-cce1-482292d09e13"
      },
      "execution_count": null,
      "outputs": [
        {
          "output_type": "stream",
          "name": "stdout",
          "text": [
            "percentile ke 90: 167.0\n",
            "Q1 percentile ke 25: 99.0\n",
            "Q2 percentile ke 50: 117.0\n",
            "Q3 percentile ke 75: 141.0\n"
          ]
        }
      ]
    },
    {
      "cell_type": "markdown",
      "source": [
        "orang yang memiliki gula darah 167 keatas adalah pasien2 dengan gula darah tertinggi 10% dari dataset kita"
      ],
      "metadata": {
        "id": "x78FWR1NZaOR"
      }
    },
    {
      "cell_type": "code",
      "source": [
        "# cari bbrp percentiles sekaligus\n",
        "dataset_gula.quantile([0.25, 0.50, 0.75])"
      ],
      "metadata": {
        "colab": {
          "base_uri": "https://localhost:8080/"
        },
        "id": "KiBIuV8eZoOT",
        "outputId": "6848588c-e3d1-4217-b588-55b02eb6e084"
      },
      "execution_count": null,
      "outputs": [
        {
          "output_type": "execute_result",
          "data": {
            "text/plain": [
              "0.25     99.0\n",
              "0.50    117.0\n",
              "0.75    141.0\n",
              "Name: Glucose, dtype: float64"
            ]
          },
          "metadata": {},
          "execution_count": 63
        }
      ]
    },
    {
      "cell_type": "code",
      "source": [
        "# range\n",
        "np.ptp(dataset_gula)"
      ],
      "metadata": {
        "colab": {
          "base_uri": "https://localhost:8080/"
        },
        "id": "XvDin2sAZPya",
        "outputId": "2b04dc6e-f193-4c8b-deb1-9f353757c0ab"
      },
      "execution_count": null,
      "outputs": [
        {
          "output_type": "execute_result",
          "data": {
            "text/plain": [
              "155"
            ]
          },
          "metadata": {},
          "execution_count": 64
        }
      ]
    },
    {
      "cell_type": "code",
      "source": [
        "# inter-quartile range\n",
        "# Q3 - Q1\n",
        "IQR = dataset_gula.quantile(0.75) - dataset_gula.quantile(0.25)\n",
        "print(IQR)"
      ],
      "metadata": {
        "colab": {
          "base_uri": "https://localhost:8080/"
        },
        "id": "arRZ7hxdbIKM",
        "outputId": "2a4ce45e-96dd-4f1a-c5da-bd086331022e"
      },
      "execution_count": null,
      "outputs": [
        {
          "output_type": "stream",
          "name": "stdout",
          "text": [
            "42.0\n"
          ]
        }
      ]
    },
    {
      "cell_type": "markdown",
      "source": [
        "perbedaan tingkat gula darah antara pasien kita yang memiliki gula darah teringgi dan terendah adalah 155"
      ],
      "metadata": {
        "id": "uBpUs1JvZ6Cp"
      }
    },
    {
      "cell_type": "markdown",
      "source": [
        "# Summary\n",
        "selain mencari angka2 statistik ini satu per satu, kita bisa juga pakai function bawaan pandas atau scipy stats untuk cari bbrp angka sekaligus"
      ],
      "metadata": {
        "id": "r0vXWvgmaDQX"
      }
    },
    {
      "cell_type": "code",
      "source": [
        "dataset_gula.describe()"
      ],
      "metadata": {
        "colab": {
          "base_uri": "https://localhost:8080/"
        },
        "id": "rSL42t3TZ5J6",
        "outputId": "0780915c-f7d8-4bbc-adf2-cbac38ecdc10"
      },
      "execution_count": null,
      "outputs": [
        {
          "output_type": "execute_result",
          "data": {
            "text/plain": [
              "count    763.000000\n",
              "mean     121.686763\n",
              "std       30.535641\n",
              "min       44.000000\n",
              "25%       99.000000\n",
              "50%      117.000000\n",
              "75%      141.000000\n",
              "max      199.000000\n",
              "Name: Glucose, dtype: float64"
            ]
          },
          "metadata": {},
          "execution_count": 65
        }
      ]
    },
    {
      "cell_type": "markdown",
      "source": [
        "pandas punya function describe() memberikan kita:\n",
        "- count: jumlah data\n",
        "- mean: rata-rata biasa\n",
        "- std: standard deviation\n",
        "- min: minimum\n",
        "- 25%, 50%, 75%: Q1 Q2 Q3\n",
        "- max: maximum\n",
        "\n",
        "kita tidak diberikan skew, kurtosis, range"
      ],
      "metadata": {
        "id": "9HpGrLH9aLdL"
      }
    },
    {
      "cell_type": "code",
      "source": [
        "gula_summary_pandas = dataset_gula.describe()\n",
        "# cari IQR\n",
        "gula_summary_pandas['75%'] - gula_summary_pandas['25%']"
      ],
      "metadata": {
        "colab": {
          "base_uri": "https://localhost:8080/"
        },
        "id": "3-CKcibdbXDx",
        "outputId": "21fe95eb-61e7-43fa-c29c-3110657cbbef"
      },
      "execution_count": null,
      "outputs": [
        {
          "output_type": "execute_result",
          "data": {
            "text/plain": [
              "42.0"
            ]
          },
          "metadata": {},
          "execution_count": 68
        }
      ]
    },
    {
      "cell_type": "code",
      "source": [
        "scipy.stats.describe(dataset_gula, bias=False)"
      ],
      "metadata": {
        "colab": {
          "base_uri": "https://localhost:8080/"
        },
        "id": "hjp5wxHFaKza",
        "outputId": "2399371f-106e-4e95-c9e4-5db7e2e12be9"
      },
      "execution_count": null,
      "outputs": [
        {
          "output_type": "execute_result",
          "data": {
            "text/plain": [
              "DescribeResult(nobs=763, minmax=(44, 199), mean=121.6867627785059, variance=932.4253757271166, skewness=0.5309885349396284, kurtosis=-0.2770397069186483)"
            ]
          },
          "metadata": {},
          "execution_count": 66
        }
      ]
    },
    {
      "cell_type": "markdown",
      "source": [
        "scipy stats describe kasih kita:\n",
        "- nobs: jumlah data\n",
        "- minmax: min dan max values\n",
        "- mean: rata-rata biasa\n",
        "- variance\n",
        "- skewness\n",
        "- kurtosis"
      ],
      "metadata": {
        "id": "B9bMzjvgaxPT"
      }
    },
    {
      "cell_type": "code",
      "source": [
        "gula_summary_scipy = scipy.stats.describe(dataset_gula, bias=False)\n",
        "# cari range\n",
        "gula_summary_scipy.minmax[1] - gula_summary_scipy.minmax[0]"
      ],
      "metadata": {
        "colab": {
          "base_uri": "https://localhost:8080/"
        },
        "id": "YA8Oyo6karfG",
        "outputId": "421e4f24-2ccd-4ac1-bb6e-2c387513d706"
      },
      "execution_count": null,
      "outputs": [
        {
          "output_type": "execute_result",
          "data": {
            "text/plain": [
              "155"
            ]
          },
          "metadata": {},
          "execution_count": 69
        }
      ]
    },
    {
      "cell_type": "markdown",
      "source": [
        "# Correlation\n",
        "adakah hubungan antara dua set data\n",
        "\n",
        "kalau A jualannya makin laku, apakah B julannya...\n",
        "1. ikutan makin laku (positive correlation, r > 0)\n",
        "2. tidak ada efek (no correlation, r ~= 0)\n",
        "3. malah makin tidak laku (negative correlation, r < 0)\n",
        "\n",
        "hubungan antara dua set data bisa kita quantify dengan menggunakan correlation coefficient r"
      ],
      "metadata": {
        "id": "3ATIvWAWbvI9"
      }
    },
    {
      "cell_type": "code",
      "source": [
        "# apakah ada hubungannya umur seseorang dengan tingkat gula darah mereka?\n",
        "df_diabet['Glucose'].corr(df_diabet['Age'])"
      ],
      "metadata": {
        "colab": {
          "base_uri": "https://localhost:8080/"
        },
        "id": "QEocvaVWbrD5",
        "outputId": "a493a653-e3b0-47c6-dcd3-8bbe0eb7165a"
      },
      "execution_count": null,
      "outputs": [
        {
          "output_type": "execute_result",
          "data": {
            "text/plain": [
              "0.2635143198243338"
            ]
          },
          "metadata": {},
          "execution_count": 72
        }
      ]
    },
    {
      "cell_type": "code",
      "source": [
        "scipy.stats.linregress(df_diabet['Glucose'], df_diabet['Age'])"
      ],
      "metadata": {
        "colab": {
          "base_uri": "https://localhost:8080/"
        },
        "id": "wMwXQy0Oc-qQ",
        "outputId": "d159409f-ebb4-4cd9-9049-31b4761d7322"
      },
      "execution_count": null,
      "outputs": [
        {
          "output_type": "execute_result",
          "data": {
            "text/plain": [
              "LinregressResult(slope=0.09692635731314765, intercept=21.52301888352367, rvalue=0.2635143198243338, pvalue=1.1501118165163638e-13, stderr=0.012820221353111816, intercept_stderr=1.6031124182811545)"
            ]
          },
          "metadata": {},
          "execution_count": 74
        }
      ]
    },
    {
      "cell_type": "code",
      "source": [
        "df_diabet.plot(kind=\"scatter\", x='Glucose', y='Age')"
      ],
      "metadata": {
        "colab": {
          "base_uri": "https://localhost:8080/",
          "height": 466
        },
        "id": "6dVOZ85hckWy",
        "outputId": "6915dc06-bf4e-4406-d60f-adaefa40d4f8"
      },
      "execution_count": null,
      "outputs": [
        {
          "output_type": "execute_result",
          "data": {
            "text/plain": [
              "<Axes: xlabel='Glucose', ylabel='Age'>"
            ]
          },
          "metadata": {},
          "execution_count": 85
        },
        {
          "output_type": "display_data",
          "data": {
            "text/plain": [
              "<Figure size 640x480 with 1 Axes>"
            ],
            "image/png": "[encoded data removed]"
          },
          "metadata": {}
        }
      ]
    },
    {
      "cell_type": "code",
      "source": [],
      "metadata": {
        "id": "Wk93WCzbc4LS"
      },
      "execution_count": null,
      "outputs": []
    },
    {
      "cell_type": "markdown",
      "source": [
        "# membuat histogram"
      ],
      "metadata": {
        "id": "Zf0bKULGe-df"
      }
    },
    {
      "cell_type": "code",
      "source": [
        "plt.style.use('ggplot')"
      ],
      "metadata": {
        "id": "S7_PYIQWf_Nm"
      },
      "execution_count": null,
      "outputs": []
    },
    {
      "cell_type": "code",
      "source": [
        "dataset_gula.plot(kind=\"hist\", bins=15)"
      ],
      "metadata": {
        "colab": {
          "base_uri": "https://localhost:8080/",
          "height": 447
        },
        "id": "66-G0NrNfANe",
        "outputId": "7fd875cb-37fd-4817-8408-0b4a8b18fd53"
      },
      "execution_count": null,
      "outputs": [
        {
          "output_type": "execute_result",
          "data": {
            "text/plain": [
              "<Axes: ylabel='Frequency'>"
            ]
          },
          "metadata": {},
          "execution_count": 98
        },
        {
          "output_type": "display_data",
          "data": {
            "text/plain": [
              "<Figure size 640x480 with 1 Axes>"
            ],
            "image/png": "[encoded data removed]"
          },
          "metadata": {}
        }
      ]
    },
    {
      "cell_type": "code",
      "source": [
        "# untuk membuat kotak bin pas dengan axis, kita minta bantuan numpy\n",
        "\n",
        "jumlah_bins = 11\n",
        "\n",
        "freq, bin_edges = np.histogram(dataset_gula, bins=jumlah_bins)\n",
        "\n",
        "dataset_gula.plot(kind=\"hist\", bins=jumlah_bins)\n",
        "\n",
        "plt.xticks(bin_edges)\n",
        "\n",
        "plt.title(\"Distribusi Tingkat Gula Darah Pasien\")\n",
        "plt.xlabel(\"Gula Darah\")\n",
        "plt.ylabel(\"Jumlah Pasien\")\n",
        "\n",
        "plt.show()"
      ],
      "metadata": {
        "colab": {
          "base_uri": "https://localhost:8080/",
          "height": 477
        },
        "id": "nnDgcn7ZfYMt",
        "outputId": "e9ce3123-e8f4-4a0f-f20a-b06597a2501d"
      },
      "execution_count": null,
      "outputs": [
        {
          "output_type": "display_data",
          "data": {
            "text/plain": [
              "<Figure size 640x480 with 1 Axes>"
            ],
            "image/png": "[encoded data removed]"
          },
          "metadata": {}
        }
      ]
    },
    {
      "cell_type": "code",
      "source": [],
      "metadata": {
        "id": "VO9mmGkQgHuu"
      },
      "execution_count": null,
      "outputs": []
    }
  ]
}