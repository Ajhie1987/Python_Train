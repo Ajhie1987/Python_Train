{
 "cells": [
  {
   "cell_type": "code",
   "execution_count": 1,
   "metadata": {},
   "outputs": [],
   "source": [
    "import folium\n",
    "import json\n",
    "import urllib.request, json\n",
    "import geopandas as gpd\n",
    "import pandas as pd\n",
    "\n",
    "from folium.plugins import HeatMap\n"
   ]
  },
  {
   "cell_type": "code",
   "execution_count": 2,
   "metadata": {},
   "outputs": [],
   "source": [
    "# json file = https://raw.githubusercontent.com/yusufsyaifudin/wilayah-indonesia/master/data/list_of_area/regencies.json\n",
    "\n",
    "loc_indonesia = (0.7893,113.9213)\n",
    "m = folium.Map(location=loc_indonesia, tiles='cartodb positron', zoom_start=6)\n",
    "\n",
    "branch = pd.read_csv('D:\\File_Analisa_Python\\SALDO_POSISI.csv', sep='|')"
   ]
  },
  {
   "cell_type": "code",
   "execution_count": 3,
   "metadata": {},
   "outputs": [
    {
     "name": "stdout",
     "output_type": "stream",
     "text": [
      "<class 'pandas.core.frame.DataFrame'>\n",
      "RangeIndex: 83 entries, 0 to 82\n",
      "Data columns (total 4 columns):\n",
      " #   Column          Non-Null Count  Dtype  \n",
      "---  ------          --------------  -----  \n",
      " 0   CONTROLLING_ID  83 non-null     object \n",
      " 1   LAT             83 non-null     float64\n",
      " 2   LONG            83 non-null     float64\n",
      " 3   SALDO_POSISI    83 non-null     float64\n",
      "dtypes: float64(3), object(1)\n",
      "memory usage: 2.7+ KB\n"
     ]
    }
   ],
   "source": [
    "branch = branch.fillna(0)\n",
    "\n",
    "branch.info()"
   ]
  },
  {
   "cell_type": "code",
   "execution_count": 4,
   "metadata": {},
   "outputs": [],
   "source": [
    "#f_choropleth = df[['borough','value']].groupby('borough').sum().reset_index()\n",
    " \n",
    "#with urllib.request.urlopen(\"https://raw.githubusercontent.com/junwatu/indonesia.json/master/indonesia.json\") as url:\n",
    "#    data = json.load(url)\n",
    "#    print(data)\n",
    "\n",
    "\n",
    "#folium.Choropleth(\n",
    "#    geo_data = geo_json_data,\n",
    "#    name=\"choropleth\",\n",
    "#    data=df_choropleth,\n",
    "#    columns=[\"borough\", \"value\"],               \n",
    "#    key_on=\"feature.properties.name\",           #KEY ID dari json ke data borough DF\n",
    "#    fill_color=\"Reds\",\n",
    "#    fill_opacity=0.7,\n",
    "#    line_opacity=0.2,\n",
    "#    legend_name=\"Total Crimes by Borough, 2008 - 2016\",\n",
    "#).add_to(maplondon)\n",
    "\n",
    "\n",
    "#maplondon"
   ]
  },
  {
   "cell_type": "code",
   "execution_count": 5,
   "metadata": {},
   "outputs": [],
   "source": [
    "#marker\n",
    "#for i in range(0,len(branch)):\n",
    "#   folium.Marker(\n",
    "#      location=[branch.iloc[i]['LAT'], branch.iloc[i]['LONG']],\n",
    "#      popup=branch.iloc[i]['CABANG'],\n",
    "#   ).add_to(m)"
   ]
  },
  {
   "cell_type": "code",
   "execution_count": 6,
   "metadata": {},
   "outputs": [
    {
     "data": {
      "text/html": [
       "<div>\n",
       "<style scoped>\n",
       "    .dataframe tbody tr th:only-of-type {\n",
       "        vertical-align: middle;\n",
       "    }\n",
       "\n",
       "    .dataframe tbody tr th {\n",
       "        vertical-align: top;\n",
       "    }\n",
       "\n",
       "    .dataframe thead th {\n",
       "        text-align: right;\n",
       "    }\n",
       "</style>\n",
       "<table border=\"1\" class=\"dataframe\">\n",
       "  <thead>\n",
       "    <tr style=\"text-align: right;\">\n",
       "      <th></th>\n",
       "      <th>CONTROLLING_ID</th>\n",
       "      <th>LAT</th>\n",
       "      <th>LONG</th>\n",
       "      <th>SALDO_POSISI</th>\n",
       "    </tr>\n",
       "  </thead>\n",
       "  <tbody>\n",
       "    <tr>\n",
       "      <th>0</th>\n",
       "      <td>1</td>\n",
       "      <td>-6.207121</td>\n",
       "      <td>106.829156</td>\n",
       "      <td>3.702402e+13</td>\n",
       "    </tr>\n",
       "    <tr>\n",
       "      <th>1</th>\n",
       "      <td>2</td>\n",
       "      <td>-7.256362</td>\n",
       "      <td>112.744623</td>\n",
       "      <td>4.978243e+12</td>\n",
       "    </tr>\n",
       "    <tr>\n",
       "      <th>2</th>\n",
       "      <td>3</td>\n",
       "      <td>3.598996</td>\n",
       "      <td>98.681011</td>\n",
       "      <td>2.987075e+12</td>\n",
       "    </tr>\n",
       "    <tr>\n",
       "      <th>3</th>\n",
       "      <td>4</td>\n",
       "      <td>-5.133708</td>\n",
       "      <td>119.410214</td>\n",
       "      <td>1.903281e+12</td>\n",
       "    </tr>\n",
       "    <tr>\n",
       "      <th>4</th>\n",
       "      <td>5</td>\n",
       "      <td>-7.779493</td>\n",
       "      <td>110.374562</td>\n",
       "      <td>1.862046e+12</td>\n",
       "    </tr>\n",
       "    <tr>\n",
       "      <th>...</th>\n",
       "      <td>...</td>\n",
       "      <td>...</td>\n",
       "      <td>...</td>\n",
       "      <td>...</td>\n",
       "    </tr>\n",
       "    <tr>\n",
       "      <th>77</th>\n",
       "      <td>379</td>\n",
       "      <td>-6.179838</td>\n",
       "      <td>106.973947</td>\n",
       "      <td>1.579979e+12</td>\n",
       "    </tr>\n",
       "    <tr>\n",
       "      <th>78</th>\n",
       "      <td>393</td>\n",
       "      <td>-7.285697</td>\n",
       "      <td>112.700284</td>\n",
       "      <td>1.762805e+12</td>\n",
       "    </tr>\n",
       "    <tr>\n",
       "      <th>79</th>\n",
       "      <td>602</td>\n",
       "      <td>-6.938393</td>\n",
       "      <td>107.737869</td>\n",
       "      <td>1.115807e+12</td>\n",
       "    </tr>\n",
       "    <tr>\n",
       "      <th>80</th>\n",
       "      <td>603</td>\n",
       "      <td>-6.245848</td>\n",
       "      <td>106.799504</td>\n",
       "      <td>1.720236e+13</td>\n",
       "    </tr>\n",
       "    <tr>\n",
       "      <th>81</th>\n",
       "      <td>999</td>\n",
       "      <td>-6.159888</td>\n",
       "      <td>106.819678</td>\n",
       "      <td>1.317526e+13</td>\n",
       "    </tr>\n",
       "  </tbody>\n",
       "</table>\n",
       "<p>82 rows × 4 columns</p>\n",
       "</div>"
      ],
      "text/plain": [
       "   CONTROLLING_ID       LAT        LONG  SALDO_POSISI\n",
       "0               1 -6.207121  106.829156  3.702402e+13\n",
       "1               2 -7.256362  112.744623  4.978243e+12\n",
       "2               3  3.598996   98.681011  2.987075e+12\n",
       "3               4 -5.133708  119.410214  1.903281e+12\n",
       "4               5 -7.779493  110.374562  1.862046e+12\n",
       "..            ...       ...         ...           ...\n",
       "77            379 -6.179838  106.973947  1.579979e+12\n",
       "78            393 -7.285697  112.700284  1.762805e+12\n",
       "79            602 -6.938393  107.737869  1.115807e+12\n",
       "80            603 -6.245848  106.799504  1.720236e+13\n",
       "81            999 -6.159888  106.819678  1.317526e+13\n",
       "\n",
       "[82 rows x 4 columns]"
      ]
     },
     "execution_count": 6,
     "metadata": {},
     "output_type": "execute_result"
    }
   ],
   "source": [
    "branch = branch.drop(index=82)\n",
    "branch"
   ]
  },
  {
   "cell_type": "code",
   "execution_count": 7,
   "metadata": {},
   "outputs": [],
   "source": [
    "lats_longs_npl = list(map(list, zip(branch[\"LAT\"],\n",
    "                          branch[\"LONG\"],\n",
    "                          branch[\"SALDO_POSISI\"]\n",
    "                         )\n",
    ")\n",
    ")"
   ]
  },
  {
   "cell_type": "code",
   "execution_count": 8,
   "metadata": {},
   "outputs": [
    {
     "data": {
      "text/plain": [
       "[[-6.207121438662044, 106.82915642737248, 37024020275352.3],\n",
       " [-7.256362030229406, 112.7446226489436, 4978242737222.88],\n",
       " [3.5989958959540878, 98.68101117676342, 2987074611720.66],\n",
       " [-5.133708314659775, 119.41021365271376, 1903280799741.84],\n",
       " [-7.779493481424241, 110.37456204425602, 1862046303676.7]]"
      ]
     },
     "execution_count": 8,
     "metadata": {},
     "output_type": "execute_result"
    }
   ],
   "source": [
    "lats_longs_npl[:5]"
   ]
  },
  {
   "cell_type": "code",
   "execution_count": 9,
   "metadata": {},
   "outputs": [
    {
     "data": {
      "text/plain": [
       "<folium.plugins.heat_map.HeatMap at 0x2212019f710>"
      ]
     },
     "execution_count": 9,
     "metadata": {},
     "output_type": "execute_result"
    }
   ],
   "source": [
    "HeatMap(lats_longs_npl).add_to(m)"
   ]
  },
  {
   "cell_type": "code",
   "execution_count": 10,
   "metadata": {},
   "outputs": [
    {
     "data": {
      "text/html": [
       "<div style=\"width:100%;\"><div style=\"position:relative;width:100%;height:0;padding-bottom:60%;\"><span style=\"color:#565656\">Make this Notebook Trusted to load map: File -> Trust Notebook</span><iframe srcdoc=\"&lt;!DOCTYPE html&gt;\n",
       "&lt;html&gt;\n",
       "&lt;head&gt;\n",
       "    \n",
       "    &lt;meta http-equiv=&quot;content-type&quot; content=&quot;text/html; charset=UTF-8&quot; /&gt;\n",
       "    \n",
       "        &lt;script&gt;\n",
       "            L_NO_TOUCH = false;\n",
       "            L_DISABLE_3D = false;\n",
       "        &lt;/script&gt;\n",
       "    \n",
       "    &lt;style&gt;html, body {width: 100%;height: 100%;margin: 0;padding: 0;}&lt;/style&gt;\n",
       "    &lt;style&gt;#map {position:absolute;top:0;bottom:0;right:0;left:0;}&lt;/style&gt;\n",
       "    &lt;script src=&quot;https://cdn.jsdelivr.net/npm/leaflet@1.9.3/dist/leaflet.js&quot;&gt;&lt;/script&gt;\n",
       "    &lt;script src=&quot;https://code.jquery.com/jquery-1.12.4.min.js&quot;&gt;&lt;/script&gt;\n",
       "    &lt;script src=&quot;https://cdn.jsdelivr.net/npm/bootstrap@5.2.2/dist/js/bootstrap.bundle.min.js&quot;&gt;&lt;/script&gt;\n",
       "    &lt;script src=&quot;https://cdnjs.cloudflare.com/ajax/libs/Leaflet.awesome-markers/2.0.2/leaflet.awesome-markers.js&quot;&gt;&lt;/script&gt;\n",
       "    &lt;link rel=&quot;stylesheet&quot; href=&quot;https://cdn.jsdelivr.net/npm/leaflet@1.9.3/dist/leaflet.css&quot;/&gt;\n",
       "    &lt;link rel=&quot;stylesheet&quot; href=&quot;https://cdn.jsdelivr.net/npm/bootstrap@5.2.2/dist/css/bootstrap.min.css&quot;/&gt;\n",
       "    &lt;link rel=&quot;stylesheet&quot; href=&quot;https://netdna.bootstrapcdn.com/bootstrap/3.0.0/css/bootstrap.min.css&quot;/&gt;\n",
       "    &lt;link rel=&quot;stylesheet&quot; href=&quot;https://cdn.jsdelivr.net/npm/@fortawesome/fontawesome-free@6.2.0/css/all.min.css&quot;/&gt;\n",
       "    &lt;link rel=&quot;stylesheet&quot; href=&quot;https://cdnjs.cloudflare.com/ajax/libs/Leaflet.awesome-markers/2.0.2/leaflet.awesome-markers.css&quot;/&gt;\n",
       "    &lt;link rel=&quot;stylesheet&quot; href=&quot;https://cdn.jsdelivr.net/gh/python-visualization/folium/folium/templates/leaflet.awesome.rotate.min.css&quot;/&gt;\n",
       "    \n",
       "            &lt;meta name=&quot;viewport&quot; content=&quot;width=device-width,\n",
       "                initial-scale=1.0, maximum-scale=1.0, user-scalable=no&quot; /&gt;\n",
       "            &lt;style&gt;\n",
       "                #map_703dd27dab30683f917a002a73902653 {\n",
       "                    position: relative;\n",
       "                    width: 100.0%;\n",
       "                    height: 100.0%;\n",
       "                    left: 0.0%;\n",
       "                    top: 0.0%;\n",
       "                }\n",
       "                .leaflet-container { font-size: 1rem; }\n",
       "            &lt;/style&gt;\n",
       "        \n",
       "    &lt;script src=&quot;https://cdn.jsdelivr.net/gh/python-visualization/folium@main/folium/templates/leaflet_heat.min.js&quot;&gt;&lt;/script&gt;\n",
       "&lt;/head&gt;\n",
       "&lt;body&gt;\n",
       "    \n",
       "    \n",
       "            &lt;div class=&quot;folium-map&quot; id=&quot;map_703dd27dab30683f917a002a73902653&quot; &gt;&lt;/div&gt;\n",
       "        \n",
       "&lt;/body&gt;\n",
       "&lt;script&gt;\n",
       "    \n",
       "    \n",
       "            var map_703dd27dab30683f917a002a73902653 = L.map(\n",
       "                &quot;map_703dd27dab30683f917a002a73902653&quot;,\n",
       "                {\n",
       "                    center: [0.7893, 113.9213],\n",
       "                    crs: L.CRS.EPSG3857,\n",
       "                    zoom: 6,\n",
       "                    zoomControl: true,\n",
       "                    preferCanvas: false,\n",
       "                }\n",
       "            );\n",
       "\n",
       "            \n",
       "\n",
       "        \n",
       "    \n",
       "            var tile_layer_01a55286df763ad22c82e360daade265 = L.tileLayer(\n",
       "                &quot;https://cartodb-basemaps-{s}.global.ssl.fastly.net/light_all/{z}/{x}/{y}.png&quot;,\n",
       "                {&quot;attribution&quot;: &quot;\\u0026copy; \\u003ca target=\\&quot;_blank\\&quot; href=\\&quot;http://www.openstreetmap.org/copyright\\&quot;\\u003eOpenStreetMap\\u003c/a\\u003e contributors \\u0026copy; \\u003ca target=\\&quot;_blank\\&quot; href=\\&quot;http://cartodb.com/attributions\\&quot;\\u003eCartoDB\\u003c/a\\u003e, CartoDB \\u003ca target=\\&quot;_blank\\&quot; href =\\&quot;http://cartodb.com/attributions\\&quot;\\u003eattributions\\u003c/a\\u003e&quot;, &quot;detectRetina&quot;: false, &quot;maxNativeZoom&quot;: 18, &quot;maxZoom&quot;: 18, &quot;minZoom&quot;: 0, &quot;noWrap&quot;: false, &quot;opacity&quot;: 1, &quot;subdomains&quot;: &quot;abc&quot;, &quot;tms&quot;: false}\n",
       "            ).addTo(map_703dd27dab30683f917a002a73902653);\n",
       "        \n",
       "    \n",
       "            var heat_map_e5c9c07b4c2f6da90d2775da40c1f39b = L.heatLayer(\n",
       "                [[-6.207121438662044, 106.82915642737248, 37024020275352.3], [-7.256362030229406, 112.7446226489436, 4978242737222.88], [3.5989958959540878, 98.68101117676342, 2987074611720.66], [-5.133708314659775, 119.41021365271376, 1903280799741.84], [-7.779493481424241, 110.37456204425602, 1862046303676.7], [-6.910527891742047, 107.6142905551423, 3580824498128.46], [-8.669058057270792, 115.21732716944526, 1988059886985.75], [-2.9568499608641763, 104.73690196102947, 2357081119580.95], [-0.9333901849342808, 100.36163585505486, 718705824613.57], [-3.290467384390676, 114.58926345212058, 1300220678541.72], [1.4665004339857413, 124.82736595219733, 613892429404.75], [-7.981071832247472, 112.63030108714317, 1935417856306.48], [-6.998494598394008, 110.43299875050327, 5101220768905.47], [-6.167016220533078, 106.81995800870382, 71402833709126.89], [-6.5841653215199365, 106.79411466124476, 2237948929427.45], [-6.225519044842711, 106.9870200810904, 4807743951492.43], [-2.5403702721340755, 140.70665241293864, 1139181973522.64], [-5.409595227559509, 105.255505963167, 907253977062.44], [-3.973727006425993, 122.52032715072812, 412155719155.94], [-0.4985449325443618, 117.13479509666028, 2308730623705.5], [-8.583135837792712, 116.1208247873342, 930733681529.78], [-10.172654295575173, 123.59215406896632, 781472745835.45], [-3.6956953507690327, 128.18231385004012, 408650451995.77], [-0.8853172667025627, 119.8701654755898, 322598798823.9], [-2.210275491244972, 113.9298742281993, 1019069539967.79], [1.1282982062196796, 104.05952734933204, 1007863554682.37], [-7.040050927955861, 112.74004628349432, 683065621135.24], [-7.623914942873851, 111.52390648335728, 346755794429.08], [-8.16934409032455, 113.703582033304, 446575510653.09], [-7.567723914452374, 110.81607219379612, 1298490457710.97], [-6.886955965753555, 109.66780042830528, 589145432880.4], [-7.426859214395773, 109.23930914935346, 525894947179.81], [-7.327278498967561, 108.22990072379088, 252987289852.57], [-6.695414006346477, 108.56818874639008, 852169002549.12], [-6.549573915712667, 107.44904826517572, 469290217806.63], [-3.7921725559536656, 102.2633928757626, 187466315434.46], [-1.6041626991993525, 103.60697197575878, 699676787880.63], [0.5194925325886582, 101.44884639272198, 1294231751590.25], [-0.0362391522096496, 109.34907686840266, 1731231480561.76], [-6.183624426031783, 106.6324633237873, 6630664342596.37], [-6.318416696459371, 106.74583056998532, 5096414188179.02], [-1.2764917627258243, 116.84215666181883, 876191102304.67], [-7.811156045128785, 112.01320998320408, 1207379481402.72], [-6.013781552109047, 106.04784232755308, 811704893042.34], [-6.384058146891037, 106.83145251466776, 3622242376152.7], [-7.262560580663821, 112.79559594728488, 1279904701192.19], [-7.467017012024081, 112.43257736484289, 867163635548.58], [-7.147791921472771, 112.65333621082036, 1046033514448.28], [-7.445605288281742, 112.71959345053698, 1117462624954.61], [2.955672301447942, 99.06250325934084, 529583859854.27], [-5.167913896376964, 119.4487342124358, 815555875710.0], [-7.483013894960099, 110.21601116955556, 397622447270.16], [-6.876278303825209, 107.54798165853089, 554123929548.01], [-3.443335310185538, 114.81789597585512, 260762362502.26], [0.54299367975048, 123.06181945773304, 105201069103.8], [-6.203240634772782, 106.76977691428156, 11030447533277.37], [-6.9195497756140725, 106.92056965914458, 285924968969.29], [-6.484675901032232, 106.8391502692902, 742678514169.1], [-6.340745560029845, 107.11970228331992, 2124579243157.51], [0.9189072643032054, 104.5034192237851, 373739489337.64], [-6.861648663534056, 109.13448841182876, 210737926172.95], [-6.210893622138392, 106.61473709447104, 1199779109877.24], [-6.280288978068053, 106.66229042557434, 7597151796085.66], [-6.120500193687122, 106.78839119837596, 3210404115826.13], [-6.375759623897248, 106.91952920585466, 2306574763906.09], [-6.306960999111603, 107.29233456606562, 1543462300319.8], [-6.812646266016282, 110.8403041967766, 773184556954.69], [-4.007893777546848, 119.62766989490788, 198149258441.75], [-6.276587863506655, 106.7209343261507, 1489930900347.5], [-2.1283790594529868, 106.11653773351776, 258342321050.94], [0.7881218551172008, 127.3885277288944, 211113206100.24], [-6.157679889682289, 106.90057812106436, 19791001610481.38], [-8.234419267047159, 114.35669107648454, 212737696954.69], [-6.242841110167793, 106.87632905891088, 6539941108574.44], [-2.6785285543930857, 118.88108061421514, 52797605900.11], [3.315890712565833, 117.57957395165808, 401164758665.16], [-6.998494598394008, 110.43299875050327, 138784103219.99], [-6.179838358298946, 106.97394661211916, 1579978769276.76], [-7.285697460040312, 112.70028351267143, 1762805493282.84], [-6.938392879615368, 107.73786932965014, 1115807469075.25], [-6.24584842921049, 106.79950404132022, 17202363145215.35], [-6.159888140341506, 106.8196782808995, 13175258040014.0]],\n",
       "                {&quot;blur&quot;: 15, &quot;maxZoom&quot;: 18, &quot;minOpacity&quot;: 0.5, &quot;radius&quot;: 25}\n",
       "            ).addTo(map_703dd27dab30683f917a002a73902653);\n",
       "        \n",
       "&lt;/script&gt;\n",
       "&lt;/html&gt;\" style=\"position:absolute;width:100%;height:100%;left:0;top:0;border:none !important;\" allowfullscreen webkitallowfullscreen mozallowfullscreen></iframe></div></div>"
      ],
      "text/plain": [
       "<folium.folium.Map at 0x221201bedd0>"
      ]
     },
     "execution_count": 10,
     "metadata": {},
     "output_type": "execute_result"
    }
   ],
   "source": [
    "m"
   ]
  },
  {
   "cell_type": "code",
   "execution_count": 12,
   "metadata": {},
   "outputs": [
    {
     "data": {
      "text/html": [
       "<div>\n",
       "<style scoped>\n",
       "    .dataframe tbody tr th:only-of-type {\n",
       "        vertical-align: middle;\n",
       "    }\n",
       "\n",
       "    .dataframe tbody tr th {\n",
       "        vertical-align: top;\n",
       "    }\n",
       "\n",
       "    .dataframe thead th {\n",
       "        text-align: right;\n",
       "    }\n",
       "</style>\n",
       "<table border=\"1\" class=\"dataframe\">\n",
       "  <thead>\n",
       "    <tr style=\"text-align: right;\">\n",
       "      <th></th>\n",
       "      <th>CONTROLLING_ID</th>\n",
       "      <th>LAT</th>\n",
       "      <th>LONG</th>\n",
       "      <th>SALDO_POSISI</th>\n",
       "    </tr>\n",
       "  </thead>\n",
       "  <tbody>\n",
       "    <tr>\n",
       "      <th>0</th>\n",
       "      <td>1</td>\n",
       "      <td>-6.207121</td>\n",
       "      <td>106.829156</td>\n",
       "      <td>3.702402e+13</td>\n",
       "    </tr>\n",
       "    <tr>\n",
       "      <th>1</th>\n",
       "      <td>2</td>\n",
       "      <td>-7.256362</td>\n",
       "      <td>112.744623</td>\n",
       "      <td>4.978243e+12</td>\n",
       "    </tr>\n",
       "    <tr>\n",
       "      <th>2</th>\n",
       "      <td>3</td>\n",
       "      <td>3.598996</td>\n",
       "      <td>98.681011</td>\n",
       "      <td>2.987075e+12</td>\n",
       "    </tr>\n",
       "    <tr>\n",
       "      <th>3</th>\n",
       "      <td>4</td>\n",
       "      <td>-5.133708</td>\n",
       "      <td>119.410214</td>\n",
       "      <td>1.903281e+12</td>\n",
       "    </tr>\n",
       "    <tr>\n",
       "      <th>4</th>\n",
       "      <td>5</td>\n",
       "      <td>-7.779493</td>\n",
       "      <td>110.374562</td>\n",
       "      <td>1.862046e+12</td>\n",
       "    </tr>\n",
       "    <tr>\n",
       "      <th>...</th>\n",
       "      <td>...</td>\n",
       "      <td>...</td>\n",
       "      <td>...</td>\n",
       "      <td>...</td>\n",
       "    </tr>\n",
       "    <tr>\n",
       "      <th>77</th>\n",
       "      <td>379</td>\n",
       "      <td>-6.179838</td>\n",
       "      <td>106.973947</td>\n",
       "      <td>1.579979e+12</td>\n",
       "    </tr>\n",
       "    <tr>\n",
       "      <th>78</th>\n",
       "      <td>393</td>\n",
       "      <td>-7.285697</td>\n",
       "      <td>112.700284</td>\n",
       "      <td>1.762805e+12</td>\n",
       "    </tr>\n",
       "    <tr>\n",
       "      <th>79</th>\n",
       "      <td>602</td>\n",
       "      <td>-6.938393</td>\n",
       "      <td>107.737869</td>\n",
       "      <td>1.115807e+12</td>\n",
       "    </tr>\n",
       "    <tr>\n",
       "      <th>80</th>\n",
       "      <td>603</td>\n",
       "      <td>-6.245848</td>\n",
       "      <td>106.799504</td>\n",
       "      <td>1.720236e+13</td>\n",
       "    </tr>\n",
       "    <tr>\n",
       "      <th>81</th>\n",
       "      <td>999</td>\n",
       "      <td>-6.159888</td>\n",
       "      <td>106.819678</td>\n",
       "      <td>1.317526e+13</td>\n",
       "    </tr>\n",
       "  </tbody>\n",
       "</table>\n",
       "<p>82 rows × 4 columns</p>\n",
       "</div>"
      ],
      "text/plain": [
       "   CONTROLLING_ID       LAT        LONG  SALDO_POSISI\n",
       "0               1 -6.207121  106.829156  3.702402e+13\n",
       "1               2 -7.256362  112.744623  4.978243e+12\n",
       "2               3  3.598996   98.681011  2.987075e+12\n",
       "3               4 -5.133708  119.410214  1.903281e+12\n",
       "4               5 -7.779493  110.374562  1.862046e+12\n",
       "..            ...       ...         ...           ...\n",
       "77            379 -6.179838  106.973947  1.579979e+12\n",
       "78            393 -7.285697  112.700284  1.762805e+12\n",
       "79            602 -6.938393  107.737869  1.115807e+12\n",
       "80            603 -6.245848  106.799504  1.720236e+13\n",
       "81            999 -6.159888  106.819678  1.317526e+13\n",
       "\n",
       "[82 rows x 4 columns]"
      ]
     },
     "execution_count": 12,
     "metadata": {},
     "output_type": "execute_result"
    }
   ],
   "source": [
    "branch"
   ]
  },
  {
   "cell_type": "code",
   "execution_count": 64,
   "metadata": {},
   "outputs": [
    {
     "data": {
      "application/vnd.plotly.v1+json": {
       "config": {
        "plotlyServerURL": "https://plot.ly"
       },
       "data": [
        {
         "coloraxis": "coloraxis",
         "hovertemplate": "SALDO_POSISI=%{z}<br>LAT=%{lat}<br>LONG=%{lon}<extra></extra>",
         "lat": [
          -6.207121438662044,
          -7.256362030229406,
          3.5989958959540878,
          -5.133708314659775,
          -7.779493481424241,
          -6.910527891742047,
          -8.669058057270792,
          -2.9568499608641763,
          -0.9333901849342808,
          -3.290467384390676,
          1.4665004339857413,
          -7.981071832247472,
          -6.998494598394008,
          -6.167016220533078,
          -6.5841653215199365,
          -6.225519044842711,
          -2.5403702721340755,
          -5.409595227559509,
          -3.973727006425993,
          -0.4985449325443618,
          -8.583135837792712,
          -10.172654295575173,
          -3.6956953507690327,
          -0.8853172667025627,
          -2.210275491244972,
          1.1282982062196796,
          -7.040050927955861,
          -7.623914942873851,
          -8.16934409032455,
          -7.567723914452374,
          -6.886955965753555,
          -7.426859214395773,
          -7.327278498967561,
          -6.695414006346477,
          -6.549573915712667,
          -3.7921725559536656,
          -1.6041626991993525,
          0.5194925325886582,
          -0.0362391522096496,
          -6.183624426031783,
          -6.318416696459371,
          -1.2764917627258243,
          -7.811156045128785,
          -6.013781552109047,
          -6.384058146891037,
          -7.262560580663821,
          -7.467017012024081,
          -7.147791921472771,
          -7.445605288281742,
          2.955672301447942,
          -5.167913896376964,
          -7.483013894960099,
          -6.876278303825209,
          -3.443335310185538,
          0.54299367975048,
          -6.203240634772782,
          -6.9195497756140725,
          -6.484675901032232,
          -6.340745560029845,
          0.9189072643032054,
          -6.861648663534056,
          -6.210893622138392,
          -6.280288978068053,
          -6.120500193687122,
          -6.375759623897248,
          -6.306960999111603,
          -6.812646266016282,
          -4.007893777546848,
          -6.276587863506655,
          -2.1283790594529868,
          0.7881218551172008,
          -6.157679889682289,
          -8.234419267047159,
          -6.242841110167793,
          -2.6785285543930857,
          3.315890712565833,
          -6.998494598394008,
          -6.179838358298946,
          -7.285697460040312,
          -6.938392879615368,
          -6.24584842921049,
          -6.159888140341506,
          null
         ],
         "lon": [
          106.82915642737248,
          112.7446226489436,
          98.68101117676342,
          119.41021365271376,
          110.37456204425602,
          107.6142905551423,
          115.21732716944526,
          104.73690196102947,
          100.36163585505486,
          114.58926345212058,
          124.82736595219733,
          112.63030108714317,
          110.43299875050327,
          106.81995800870382,
          106.79411466124476,
          106.9870200810904,
          140.70665241293864,
          105.255505963167,
          122.52032715072812,
          117.13479509666028,
          116.1208247873342,
          123.59215406896632,
          128.18231385004012,
          119.8701654755898,
          113.9298742281993,
          104.05952734933204,
          112.74004628349432,
          111.52390648335728,
          113.703582033304,
          110.81607219379612,
          109.66780042830528,
          109.23930914935346,
          108.22990072379088,
          108.56818874639008,
          107.44904826517572,
          102.2633928757626,
          103.60697197575878,
          101.44884639272198,
          109.34907686840266,
          106.6324633237873,
          106.74583056998532,
          116.84215666181883,
          112.01320998320408,
          106.04784232755308,
          106.83145251466776,
          112.79559594728488,
          112.43257736484289,
          112.65333621082036,
          112.71959345053698,
          99.06250325934084,
          119.4487342124358,
          110.21601116955556,
          107.54798165853089,
          114.81789597585512,
          123.06181945773304,
          106.76977691428156,
          106.92056965914458,
          106.8391502692902,
          107.11970228331992,
          104.5034192237851,
          109.13448841182876,
          106.61473709447104,
          106.66229042557434,
          106.78839119837596,
          106.91952920585466,
          107.29233456606562,
          110.8403041967766,
          119.62766989490788,
          106.7209343261507,
          106.11653773351776,
          127.3885277288944,
          106.90057812106436,
          114.35669107648454,
          106.87632905891088,
          118.88108061421514,
          117.57957395165808,
          110.43299875050327,
          106.97394661211916,
          112.70028351267143,
          107.73786932965014,
          106.79950404132022,
          106.8196782808995,
          null
         ],
         "name": "",
         "radius": 50,
         "subplot": "mapbox",
         "type": "densitymapbox",
         "z": [
          37024020275352.3,
          4978242737222.88,
          2987074611720.66,
          1903280799741.84,
          1862046303676.7,
          3580824498128.46,
          1988059886985.75,
          2357081119580.95,
          718705824613.57,
          1300220678541.72,
          613892429404.75,
          1935417856306.48,
          5101220768905.47,
          71402833709126.89,
          2237948929427.45,
          4807743951492.43,
          1139181973522.64,
          907253977062.44,
          412155719155.94,
          2308730623705.5,
          930733681529.78,
          781472745835.45,
          408650451995.77,
          322598798823.9,
          1019069539967.79,
          1007863554682.37,
          683065621135.24,
          346755794429.08,
          446575510653.09,
          1298490457710.97,
          589145432880.4,
          525894947179.81,
          252987289852.57,
          852169002549.12,
          469290217806.63,
          187466315434.46,
          699676787880.63,
          1294231751590.25,
          1731231480561.76,
          6630664342596.37,
          5096414188179.02,
          876191102304.67,
          1207379481402.72,
          811704893042.34,
          3622242376152.7,
          1279904701192.19,
          867163635548.58,
          1046033514448.28,
          1117462624954.61,
          529583859854.27,
          815555875710,
          397622447270.16,
          554123929548.01,
          260762362502.26,
          105201069103.8,
          11030447533277.37,
          285924968969.29,
          742678514169.1,
          2124579243157.51,
          373739489337.64,
          210737926172.95,
          1199779109877.24,
          7597151796085.66,
          3210404115826.13,
          2306574763906.09,
          1543462300319.8,
          773184556954.69,
          198149258441.75,
          1489930900347.5,
          258342321050.94,
          211113206100.24,
          19791001610481.38,
          212737696954.69,
          6539941108574.44,
          52797605900.11,
          401164758665.16,
          138784103219.99,
          1579978769276.76,
          1762805493282.84,
          1115807469075.25,
          17202363145215.35,
          13175258040014,
          null
         ]
        }
       ],
       "layout": {
        "coloraxis": {
         "colorbar": {
          "title": {
           "text": "SALDO_POSISI"
          }
         },
         "colorscale": [
          [
           0,
           "rgb(150,0,90)"
          ],
          [
           0.125,
           "rgb(0,0,200)"
          ],
          [
           0.25,
           "rgb(0,25,255)"
          ],
          [
           0.375,
           "rgb(0,152,255)"
          ],
          [
           0.5,
           "rgb(44,255,150)"
          ],
          [
           0.625,
           "rgb(151,255,0)"
          ],
          [
           0.75,
           "rgb(255,234,0)"
          ],
          [
           0.875,
           "rgb(255,111,0)"
          ],
          [
           1,
           "rgb(255,0,0)"
          ]
         ]
        },
        "legend": {
         "tracegroupgap": 0
        },
        "mapbox": {
         "center": {
          "lat": 0.7893,
          "lon": 113.9213
         },
         "domain": {
          "x": [
           0,
           1
          ],
          "y": [
           0,
           1
          ]
         },
         "style": "open-street-map",
         "zoom": 3
        },
        "margin": {
         "t": 60
        },
        "template": {
         "data": {
          "bar": [
           {
            "error_x": {
             "color": "#2a3f5f"
            },
            "error_y": {
             "color": "#2a3f5f"
            },
            "marker": {
             "line": {
              "color": "#E5ECF6",
              "width": 0.5
             },
             "pattern": {
              "fillmode": "overlay",
              "size": 10,
              "solidity": 0.2
             }
            },
            "type": "bar"
           }
          ],
          "barpolar": [
           {
            "marker": {
             "line": {
              "color": "#E5ECF6",
              "width": 0.5
             },
             "pattern": {
              "fillmode": "overlay",
              "size": 10,
              "solidity": 0.2
             }
            },
            "type": "barpolar"
           }
          ],
          "carpet": [
           {
            "aaxis": {
             "endlinecolor": "#2a3f5f",
             "gridcolor": "white",
             "linecolor": "white",
             "minorgridcolor": "white",
             "startlinecolor": "#2a3f5f"
            },
            "baxis": {
             "endlinecolor": "#2a3f5f",
             "gridcolor": "white",
             "linecolor": "white",
             "minorgridcolor": "white",
             "startlinecolor": "#2a3f5f"
            },
            "type": "carpet"
           }
          ],
          "choropleth": [
           {
            "colorbar": {
             "outlinewidth": 0,
             "ticks": ""
            },
            "type": "choropleth"
           }
          ],
          "contour": [
           {
            "colorbar": {
             "outlinewidth": 0,
             "ticks": ""
            },
            "colorscale": [
             [
              0,
              "#0d0887"
             ],
             [
              0.1111111111111111,
              "#46039f"
             ],
             [
              0.2222222222222222,
              "#7201a8"
             ],
             [
              0.3333333333333333,
              "#9c179e"
             ],
             [
              0.4444444444444444,
              "#bd3786"
             ],
             [
              0.5555555555555556,
              "#d8576b"
             ],
             [
              0.6666666666666666,
              "#ed7953"
             ],
             [
              0.7777777777777778,
              "#fb9f3a"
             ],
             [
              0.8888888888888888,
              "#fdca26"
             ],
             [
              1,
              "#f0f921"
             ]
            ],
            "type": "contour"
           }
          ],
          "contourcarpet": [
           {
            "colorbar": {
             "outlinewidth": 0,
             "ticks": ""
            },
            "type": "contourcarpet"
           }
          ],
          "heatmap": [
           {
            "colorbar": {
             "outlinewidth": 0,
             "ticks": ""
            },
            "colorscale": [
             [
              0,
              "#0d0887"
             ],
             [
              0.1111111111111111,
              "#46039f"
             ],
             [
              0.2222222222222222,
              "#7201a8"
             ],
             [
              0.3333333333333333,
              "#9c179e"
             ],
             [
              0.4444444444444444,
              "#bd3786"
             ],
             [
              0.5555555555555556,
              "#d8576b"
             ],
             [
              0.6666666666666666,
              "#ed7953"
             ],
             [
              0.7777777777777778,
              "#fb9f3a"
             ],
             [
              0.8888888888888888,
              "#fdca26"
             ],
             [
              1,
              "#f0f921"
             ]
            ],
            "type": "heatmap"
           }
          ],
          "heatmapgl": [
           {
            "colorbar": {
             "outlinewidth": 0,
             "ticks": ""
            },
            "colorscale": [
             [
              0,
              "#0d0887"
             ],
             [
              0.1111111111111111,
              "#46039f"
             ],
             [
              0.2222222222222222,
              "#7201a8"
             ],
             [
              0.3333333333333333,
              "#9c179e"
             ],
             [
              0.4444444444444444,
              "#bd3786"
             ],
             [
              0.5555555555555556,
              "#d8576b"
             ],
             [
              0.6666666666666666,
              "#ed7953"
             ],
             [
              0.7777777777777778,
              "#fb9f3a"
             ],
             [
              0.8888888888888888,
              "#fdca26"
             ],
             [
              1,
              "#f0f921"
             ]
            ],
            "type": "heatmapgl"
           }
          ],
          "histogram": [
           {
            "marker": {
             "pattern": {
              "fillmode": "overlay",
              "size": 10,
              "solidity": 0.2
             }
            },
            "type": "histogram"
           }
          ],
          "histogram2d": [
           {
            "colorbar": {
             "outlinewidth": 0,
             "ticks": ""
            },
            "colorscale": [
             [
              0,
              "#0d0887"
             ],
             [
              0.1111111111111111,
              "#46039f"
             ],
             [
              0.2222222222222222,
              "#7201a8"
             ],
             [
              0.3333333333333333,
              "#9c179e"
             ],
             [
              0.4444444444444444,
              "#bd3786"
             ],
             [
              0.5555555555555556,
              "#d8576b"
             ],
             [
              0.6666666666666666,
              "#ed7953"
             ],
             [
              0.7777777777777778,
              "#fb9f3a"
             ],
             [
              0.8888888888888888,
              "#fdca26"
             ],
             [
              1,
              "#f0f921"
             ]
            ],
            "type": "histogram2d"
           }
          ],
          "histogram2dcontour": [
           {
            "colorbar": {
             "outlinewidth": 0,
             "ticks": ""
            },
            "colorscale": [
             [
              0,
              "#0d0887"
             ],
             [
              0.1111111111111111,
              "#46039f"
             ],
             [
              0.2222222222222222,
              "#7201a8"
             ],
             [
              0.3333333333333333,
              "#9c179e"
             ],
             [
              0.4444444444444444,
              "#bd3786"
             ],
             [
              0.5555555555555556,
              "#d8576b"
             ],
             [
              0.6666666666666666,
              "#ed7953"
             ],
             [
              0.7777777777777778,
              "#fb9f3a"
             ],
             [
              0.8888888888888888,
              "#fdca26"
             ],
             [
              1,
              "#f0f921"
             ]
            ],
            "type": "histogram2dcontour"
           }
          ],
          "mesh3d": [
           {
            "colorbar": {
             "outlinewidth": 0,
             "ticks": ""
            },
            "type": "mesh3d"
           }
          ],
          "parcoords": [
           {
            "line": {
             "colorbar": {
              "outlinewidth": 0,
              "ticks": ""
             }
            },
            "type": "parcoords"
           }
          ],
          "pie": [
           {
            "automargin": true,
            "type": "pie"
           }
          ],
          "scatter": [
           {
            "fillpattern": {
             "fillmode": "overlay",
             "size": 10,
             "solidity": 0.2
            },
            "type": "scatter"
           }
          ],
          "scatter3d": [
           {
            "line": {
             "colorbar": {
              "outlinewidth": 0,
              "ticks": ""
             }
            },
            "marker": {
             "colorbar": {
              "outlinewidth": 0,
              "ticks": ""
             }
            },
            "type": "scatter3d"
           }
          ],
          "scattercarpet": [
           {
            "marker": {
             "colorbar": {
              "outlinewidth": 0,
              "ticks": ""
             }
            },
            "type": "scattercarpet"
           }
          ],
          "scattergeo": [
           {
            "marker": {
             "colorbar": {
              "outlinewidth": 0,
              "ticks": ""
             }
            },
            "type": "scattergeo"
           }
          ],
          "scattergl": [
           {
            "marker": {
             "colorbar": {
              "outlinewidth": 0,
              "ticks": ""
             }
            },
            "type": "scattergl"
           }
          ],
          "scattermapbox": [
           {
            "marker": {
             "colorbar": {
              "outlinewidth": 0,
              "ticks": ""
             }
            },
            "type": "scattermapbox"
           }
          ],
          "scatterpolar": [
           {
            "marker": {
             "colorbar": {
              "outlinewidth": 0,
              "ticks": ""
             }
            },
            "type": "scatterpolar"
           }
          ],
          "scatterpolargl": [
           {
            "marker": {
             "colorbar": {
              "outlinewidth": 0,
              "ticks": ""
             }
            },
            "type": "scatterpolargl"
           }
          ],
          "scatterternary": [
           {
            "marker": {
             "colorbar": {
              "outlinewidth": 0,
              "ticks": ""
             }
            },
            "type": "scatterternary"
           }
          ],
          "surface": [
           {
            "colorbar": {
             "outlinewidth": 0,
             "ticks": ""
            },
            "colorscale": [
             [
              0,
              "#0d0887"
             ],
             [
              0.1111111111111111,
              "#46039f"
             ],
             [
              0.2222222222222222,
              "#7201a8"
             ],
             [
              0.3333333333333333,
              "#9c179e"
             ],
             [
              0.4444444444444444,
              "#bd3786"
             ],
             [
              0.5555555555555556,
              "#d8576b"
             ],
             [
              0.6666666666666666,
              "#ed7953"
             ],
             [
              0.7777777777777778,
              "#fb9f3a"
             ],
             [
              0.8888888888888888,
              "#fdca26"
             ],
             [
              1,
              "#f0f921"
             ]
            ],
            "type": "surface"
           }
          ],
          "table": [
           {
            "cells": {
             "fill": {
              "color": "#EBF0F8"
             },
             "line": {
              "color": "white"
             }
            },
            "header": {
             "fill": {
              "color": "#C8D4E3"
             },
             "line": {
              "color": "white"
             }
            },
            "type": "table"
           }
          ]
         },
         "layout": {
          "annotationdefaults": {
           "arrowcolor": "#2a3f5f",
           "arrowhead": 0,
           "arrowwidth": 1
          },
          "autotypenumbers": "strict",
          "coloraxis": {
           "colorbar": {
            "outlinewidth": 0,
            "ticks": ""
           }
          },
          "colorscale": {
           "diverging": [
            [
             0,
             "#8e0152"
            ],
            [
             0.1,
             "#c51b7d"
            ],
            [
             0.2,
             "#de77ae"
            ],
            [
             0.3,
             "#f1b6da"
            ],
            [
             0.4,
             "#fde0ef"
            ],
            [
             0.5,
             "#f7f7f7"
            ],
            [
             0.6,
             "#e6f5d0"
            ],
            [
             0.7,
             "#b8e186"
            ],
            [
             0.8,
             "#7fbc41"
            ],
            [
             0.9,
             "#4d9221"
            ],
            [
             1,
             "#276419"
            ]
           ],
           "sequential": [
            [
             0,
             "#0d0887"
            ],
            [
             0.1111111111111111,
             "#46039f"
            ],
            [
             0.2222222222222222,
             "#7201a8"
            ],
            [
             0.3333333333333333,
             "#9c179e"
            ],
            [
             0.4444444444444444,
             "#bd3786"
            ],
            [
             0.5555555555555556,
             "#d8576b"
            ],
            [
             0.6666666666666666,
             "#ed7953"
            ],
            [
             0.7777777777777778,
             "#fb9f3a"
            ],
            [
             0.8888888888888888,
             "#fdca26"
            ],
            [
             1,
             "#f0f921"
            ]
           ],
           "sequentialminus": [
            [
             0,
             "#0d0887"
            ],
            [
             0.1111111111111111,
             "#46039f"
            ],
            [
             0.2222222222222222,
             "#7201a8"
            ],
            [
             0.3333333333333333,
             "#9c179e"
            ],
            [
             0.4444444444444444,
             "#bd3786"
            ],
            [
             0.5555555555555556,
             "#d8576b"
            ],
            [
             0.6666666666666666,
             "#ed7953"
            ],
            [
             0.7777777777777778,
             "#fb9f3a"
            ],
            [
             0.8888888888888888,
             "#fdca26"
            ],
            [
             1,
             "#f0f921"
            ]
           ]
          },
          "colorway": [
           "#636efa",
           "#EF553B",
           "#00cc96",
           "#ab63fa",
           "#FFA15A",
           "#19d3f3",
           "#FF6692",
           "#B6E880",
           "#FF97FF",
           "#FECB52"
          ],
          "font": {
           "color": "#2a3f5f"
          },
          "geo": {
           "bgcolor": "white",
           "lakecolor": "white",
           "landcolor": "#E5ECF6",
           "showlakes": true,
           "showland": true,
           "subunitcolor": "white"
          },
          "hoverlabel": {
           "align": "left"
          },
          "hovermode": "closest",
          "mapbox": {
           "style": "light"
          },
          "paper_bgcolor": "white",
          "plot_bgcolor": "#E5ECF6",
          "polar": {
           "angularaxis": {
            "gridcolor": "white",
            "linecolor": "white",
            "ticks": ""
           },
           "bgcolor": "#E5ECF6",
           "radialaxis": {
            "gridcolor": "white",
            "linecolor": "white",
            "ticks": ""
           }
          },
          "scene": {
           "xaxis": {
            "backgroundcolor": "#E5ECF6",
            "gridcolor": "white",
            "gridwidth": 2,
            "linecolor": "white",
            "showbackground": true,
            "ticks": "",
            "zerolinecolor": "white"
           },
           "yaxis": {
            "backgroundcolor": "#E5ECF6",
            "gridcolor": "white",
            "gridwidth": 2,
            "linecolor": "white",
            "showbackground": true,
            "ticks": "",
            "zerolinecolor": "white"
           },
           "zaxis": {
            "backgroundcolor": "#E5ECF6",
            "gridcolor": "white",
            "gridwidth": 2,
            "linecolor": "white",
            "showbackground": true,
            "ticks": "",
            "zerolinecolor": "white"
           }
          },
          "shapedefaults": {
           "line": {
            "color": "#2a3f5f"
           }
          },
          "ternary": {
           "aaxis": {
            "gridcolor": "white",
            "linecolor": "white",
            "ticks": ""
           },
           "baxis": {
            "gridcolor": "white",
            "linecolor": "white",
            "ticks": ""
           },
           "bgcolor": "#E5ECF6",
           "caxis": {
            "gridcolor": "white",
            "linecolor": "white",
            "ticks": ""
           }
          },
          "title": {
           "x": 0.05
          },
          "xaxis": {
           "automargin": true,
           "gridcolor": "white",
           "linecolor": "white",
           "ticks": "",
           "title": {
            "standoff": 15
           },
           "zerolinecolor": "white",
           "zerolinewidth": 2
          },
          "yaxis": {
           "automargin": true,
           "gridcolor": "white",
           "linecolor": "white",
           "ticks": "",
           "title": {
            "standoff": 15
           },
           "zerolinecolor": "white",
           "zerolinewidth": 2
          }
         }
        }
       }
      }
     },
     "metadata": {},
     "output_type": "display_data"
    }
   ],
   "source": [
    "import pandas as pd\n",
    "import plotly.express as px\n",
    "\n",
    "# Data with latitude/longitude and values\n",
    "df = pd.read_csv('D:\\File_Analisa_Python\\SALDO_POSISI.csv', sep='|')\n",
    "\n",
    "fig = px.density_mapbox(df, lat = 'LAT', lon = 'LONG', z = 'SALDO_POSISI',\n",
    "                        radius = 50,\n",
    "                        center = dict(lat = 0.7893, lon = 113.9213),\n",
    "                        zoom = 3,\n",
    "                        mapbox_style = 'open-street-map',\n",
    "                        color_continuous_scale = 'rainbow')\n",
    "fig.show()"
   ]
  },
  {
   "cell_type": "code",
   "execution_count": 3,
   "metadata": {},
   "outputs": [
    {
     "data": {
      "application/vnd.plotly.v1+json": {
       "config": {
        "plotlyServerURL": "https://plot.ly"
       },
       "data": [
        {
         "hovertemplate": "CABANG=JAKARTA KUNINGAN<br>SALDO_POSISI=%{marker.size}<br>LAT=%{lat}<br>LONG=%{lon}<extra></extra>",
         "lat": [
          -6.207121438662044
         ],
         "legendgroup": "JAKARTA KUNINGAN",
         "lon": [
          106.82915642737248
         ],
         "marker": {
          "color": "#636efa",
          "opacity": 0.5,
          "size": [
           37024020275352.3
          ],
          "sizemode": "area",
          "sizeref": 11156692767.051077
         },
         "mode": "markers",
         "name": "JAKARTA KUNINGAN",
         "showlegend": true,
         "subplot": "mapbox",
         "type": "scattermapbox"
        },
        {
         "hovertemplate": "CABANG=SURABAYA<br>SALDO_POSISI=%{marker.size}<br>LAT=%{lat}<br>LONG=%{lon}<extra></extra>",
         "lat": [
          -7.256362030229406
         ],
         "legendgroup": "SURABAYA",
         "lon": [
          112.7446226489436
         ],
         "marker": {
          "color": "#EF553B",
          "opacity": 0.5,
          "size": [
           4978242737222.88
          ],
          "sizemode": "area",
          "sizeref": 11156692767.051077
         },
         "mode": "markers",
         "name": "SURABAYA",
         "showlegend": true,
         "subplot": "mapbox",
         "type": "scattermapbox"
        },
        {
         "hovertemplate": "CABANG=MEDAN<br>SALDO_POSISI=%{marker.size}<br>LAT=%{lat}<br>LONG=%{lon}<extra></extra>",
         "lat": [
          3.5989958959540873
         ],
         "legendgroup": "MEDAN",
         "lon": [
          98.68101117676342
         ],
         "marker": {
          "color": "#00cc96",
          "opacity": 0.5,
          "size": [
           2987074611720.66
          ],
          "sizemode": "area",
          "sizeref": 11156692767.051077
         },
         "mode": "markers",
         "name": "MEDAN",
         "showlegend": true,
         "subplot": "mapbox",
         "type": "scattermapbox"
        },
        {
         "hovertemplate": "CABANG=MAKASSAR<br>SALDO_POSISI=%{marker.size}<br>LAT=%{lat}<br>LONG=%{lon}<extra></extra>",
         "lat": [
          -5.133708314659775
         ],
         "legendgroup": "MAKASSAR",
         "lon": [
          119.41021365271375
         ],
         "marker": {
          "color": "#ab63fa",
          "opacity": 0.5,
          "size": [
           1903280799741.84
          ],
          "sizemode": "area",
          "sizeref": 11156692767.051077
         },
         "mode": "markers",
         "name": "MAKASSAR",
         "showlegend": true,
         "subplot": "mapbox",
         "type": "scattermapbox"
        },
        {
         "hovertemplate": "CABANG=YOGYAKARTA<br>SALDO_POSISI=%{marker.size}<br>LAT=%{lat}<br>LONG=%{lon}<extra></extra>",
         "lat": [
          -7.779493481424241
         ],
         "legendgroup": "YOGYAKARTA",
         "lon": [
          110.37456204425602
         ],
         "marker": {
          "color": "#FFA15A",
          "opacity": 0.5,
          "size": [
           1862046303676.7
          ],
          "sizemode": "area",
          "sizeref": 11156692767.051077
         },
         "mode": "markers",
         "name": "YOGYAKARTA",
         "showlegend": true,
         "subplot": "mapbox",
         "type": "scattermapbox"
        },
        {
         "hovertemplate": "CABANG=BANDUNG<br>SALDO_POSISI=%{marker.size}<br>LAT=%{lat}<br>LONG=%{lon}<extra></extra>",
         "lat": [
          -6.910527891742047
         ],
         "legendgroup": "BANDUNG",
         "lon": [
          107.6142905551423
         ],
         "marker": {
          "color": "#19d3f3",
          "opacity": 0.5,
          "size": [
           3580824498128.46
          ],
          "sizemode": "area",
          "sizeref": 11156692767.051077
         },
         "mode": "markers",
         "name": "BANDUNG",
         "showlegend": true,
         "subplot": "mapbox",
         "type": "scattermapbox"
        },
        {
         "hovertemplate": "CABANG=DENPASAR<br>SALDO_POSISI=%{marker.size}<br>LAT=%{lat}<br>LONG=%{lon}<extra></extra>",
         "lat": [
          -8.669058057270792
         ],
         "legendgroup": "DENPASAR",
         "lon": [
          115.21732716944526
         ],
         "marker": {
          "color": "#FF6692",
          "opacity": 0.5,
          "size": [
           1988059886985.75
          ],
          "sizemode": "area",
          "sizeref": 11156692767.051077
         },
         "mode": "markers",
         "name": "DENPASAR",
         "showlegend": true,
         "subplot": "mapbox",
         "type": "scattermapbox"
        },
        {
         "hovertemplate": "CABANG=PALEMBANG<br>SALDO_POSISI=%{marker.size}<br>LAT=%{lat}<br>LONG=%{lon}<extra></extra>",
         "lat": [
          -2.9568499608641763
         ],
         "legendgroup": "PALEMBANG",
         "lon": [
          104.73690196102949
         ],
         "marker": {
          "color": "#B6E880",
          "opacity": 0.5,
          "size": [
           2357081119580.95
          ],
          "sizemode": "area",
          "sizeref": 11156692767.051077
         },
         "mode": "markers",
         "name": "PALEMBANG",
         "showlegend": true,
         "subplot": "mapbox",
         "type": "scattermapbox"
        },
        {
         "hovertemplate": "CABANG=PADANG<br>SALDO_POSISI=%{marker.size}<br>LAT=%{lat}<br>LONG=%{lon}<extra></extra>",
         "lat": [
          -0.9333901849342807
         ],
         "legendgroup": "PADANG",
         "lon": [
          100.36163585505486
         ],
         "marker": {
          "color": "#FF97FF",
          "opacity": 0.5,
          "size": [
           718705824613.57
          ],
          "sizemode": "area",
          "sizeref": 11156692767.051077
         },
         "mode": "markers",
         "name": "PADANG",
         "showlegend": true,
         "subplot": "mapbox",
         "type": "scattermapbox"
        },
        {
         "hovertemplate": "CABANG=BANJARMASIN<br>SALDO_POSISI=%{marker.size}<br>LAT=%{lat}<br>LONG=%{lon}<extra></extra>",
         "lat": [
          -3.2904673843906758
         ],
         "legendgroup": "BANJARMASIN",
         "lon": [
          114.58926345212058
         ],
         "marker": {
          "color": "#FECB52",
          "opacity": 0.5,
          "size": [
           1300220678541.72
          ],
          "sizemode": "area",
          "sizeref": 11156692767.051077
         },
         "mode": "markers",
         "name": "BANJARMASIN",
         "showlegend": true,
         "subplot": "mapbox",
         "type": "scattermapbox"
        },
        {
         "hovertemplate": "CABANG=MANADO<br>SALDO_POSISI=%{marker.size}<br>LAT=%{lat}<br>LONG=%{lon}<extra></extra>",
         "lat": [
          1.4665004339857413
         ],
         "legendgroup": "MANADO",
         "lon": [
          124.82736595219733
         ],
         "marker": {
          "color": "#636efa",
          "opacity": 0.5,
          "size": [
           613892429404.75
          ],
          "sizemode": "area",
          "sizeref": 11156692767.051077
         },
         "mode": "markers",
         "name": "MANADO",
         "showlegend": true,
         "subplot": "mapbox",
         "type": "scattermapbox"
        },
        {
         "hovertemplate": "CABANG=MALANG<br>SALDO_POSISI=%{marker.size}<br>LAT=%{lat}<br>LONG=%{lon}<extra></extra>",
         "lat": [
          -7.981071832247472
         ],
         "legendgroup": "MALANG",
         "lon": [
          112.63030108714315
         ],
         "marker": {
          "color": "#EF553B",
          "opacity": 0.5,
          "size": [
           1935417856306.48
          ],
          "sizemode": "area",
          "sizeref": 11156692767.051077
         },
         "mode": "markers",
         "name": "MALANG",
         "showlegend": true,
         "subplot": "mapbox",
         "type": "scattermapbox"
        },
        {
         "hovertemplate": "CABANG=SEMARANG<br>SALDO_POSISI=%{marker.size}<br>LAT=%{lat}<br>LONG=%{lon}<extra></extra>",
         "lat": [
          -6.998494598394008
         ],
         "legendgroup": "SEMARANG",
         "lon": [
          110.43299875050329
         ],
         "marker": {
          "color": "#00cc96",
          "opacity": 0.5,
          "size": [
           5101220768905.47
          ],
          "sizemode": "area",
          "sizeref": 11156692767.051077
         },
         "mode": "markers",
         "name": "SEMARANG",
         "showlegend": true,
         "subplot": "mapbox",
         "type": "scattermapbox"
        },
        {
         "hovertemplate": "CABANG=JAKARTA HARMONI<br>SALDO_POSISI=%{marker.size}<br>LAT=%{lat}<br>LONG=%{lon}<extra></extra>",
         "lat": [
          -6.167016220533078
         ],
         "legendgroup": "JAKARTA HARMONI",
         "lon": [
          106.81995800870382
         ],
         "marker": {
          "color": "#ab63fa",
          "opacity": 0.5,
          "size": [
           71402833709126.89
          ],
          "sizemode": "area",
          "sizeref": 11156692767.051077
         },
         "mode": "markers",
         "name": "JAKARTA HARMONI",
         "showlegend": true,
         "subplot": "mapbox",
         "type": "scattermapbox"
        },
        {
         "hovertemplate": "CABANG=BOGOR<br>SALDO_POSISI=%{marker.size}<br>LAT=%{lat}<br>LONG=%{lon}<extra></extra>",
         "lat": [
          -6.5841653215199365
         ],
         "legendgroup": "BOGOR",
         "lon": [
          106.79411466124475
         ],
         "marker": {
          "color": "#FFA15A",
          "opacity": 0.5,
          "size": [
           2237948929427.45
          ],
          "sizemode": "area",
          "sizeref": 11156692767.051077
         },
         "mode": "markers",
         "name": "BOGOR",
         "showlegend": true,
         "subplot": "mapbox",
         "type": "scattermapbox"
        },
        {
         "hovertemplate": "CABANG=BEKASI<br>SALDO_POSISI=%{marker.size}<br>LAT=%{lat}<br>LONG=%{lon}<extra></extra>",
         "lat": [
          -6.225519044842711
         ],
         "legendgroup": "BEKASI",
         "lon": [
          106.9870200810904
         ],
         "marker": {
          "color": "#19d3f3",
          "opacity": 0.5,
          "size": [
           4807743951492.43
          ],
          "sizemode": "area",
          "sizeref": 11156692767.051077
         },
         "mode": "markers",
         "name": "BEKASI",
         "showlegend": true,
         "subplot": "mapbox",
         "type": "scattermapbox"
        },
        {
         "hovertemplate": "CABANG=JAYAPURA<br>SALDO_POSISI=%{marker.size}<br>LAT=%{lat}<br>LONG=%{lon}<extra></extra>",
         "lat": [
          -2.5403702721340755
         ],
         "legendgroup": "JAYAPURA",
         "lon": [
          140.70665241293864
         ],
         "marker": {
          "color": "#FF6692",
          "opacity": 0.5,
          "size": [
           1139181973522.64
          ],
          "sizemode": "area",
          "sizeref": 11156692767.051077
         },
         "mode": "markers",
         "name": "JAYAPURA",
         "showlegend": true,
         "subplot": "mapbox",
         "type": "scattermapbox"
        },
        {
         "hovertemplate": "CABANG=BANDAR LAMPUNG<br>SALDO_POSISI=%{marker.size}<br>LAT=%{lat}<br>LONG=%{lon}<extra></extra>",
         "lat": [
          -5.409595227559509
         ],
         "legendgroup": "BANDAR LAMPUNG",
         "lon": [
          105.25550596316701
         ],
         "marker": {
          "color": "#B6E880",
          "opacity": 0.5,
          "size": [
           907253977062.44
          ],
          "sizemode": "area",
          "sizeref": 11156692767.051077
         },
         "mode": "markers",
         "name": "BANDAR LAMPUNG",
         "showlegend": true,
         "subplot": "mapbox",
         "type": "scattermapbox"
        },
        {
         "hovertemplate": "CABANG=KENDARI<br>SALDO_POSISI=%{marker.size}<br>LAT=%{lat}<br>LONG=%{lon}<extra></extra>",
         "lat": [
          -3.9737270064259933
         ],
         "legendgroup": "KENDARI",
         "lon": [
          122.52032715072812
         ],
         "marker": {
          "color": "#FF97FF",
          "opacity": 0.5,
          "size": [
           412155719155.94
          ],
          "sizemode": "area",
          "sizeref": 11156692767.051077
         },
         "mode": "markers",
         "name": "KENDARI",
         "showlegend": true,
         "subplot": "mapbox",
         "type": "scattermapbox"
        },
        {
         "hovertemplate": "CABANG=SAMARINDA<br>SALDO_POSISI=%{marker.size}<br>LAT=%{lat}<br>LONG=%{lon}<extra></extra>",
         "lat": [
          -0.4985449325443618
         ],
         "legendgroup": "SAMARINDA",
         "lon": [
          117.13479509666028
         ],
         "marker": {
          "color": "#FECB52",
          "opacity": 0.5,
          "size": [
           2308730623705.5
          ],
          "sizemode": "area",
          "sizeref": 11156692767.051077
         },
         "mode": "markers",
         "name": "SAMARINDA",
         "showlegend": true,
         "subplot": "mapbox",
         "type": "scattermapbox"
        },
        {
         "hovertemplate": "CABANG=MATARAM<br>SALDO_POSISI=%{marker.size}<br>LAT=%{lat}<br>LONG=%{lon}<extra></extra>",
         "lat": [
          -8.583135837792712
         ],
         "legendgroup": "MATARAM",
         "lon": [
          116.1208247873342
         ],
         "marker": {
          "color": "#636efa",
          "opacity": 0.5,
          "size": [
           930733681529.78
          ],
          "sizemode": "area",
          "sizeref": 11156692767.051077
         },
         "mode": "markers",
         "name": "MATARAM",
         "showlegend": true,
         "subplot": "mapbox",
         "type": "scattermapbox"
        },
        {
         "hovertemplate": "CABANG=KUPANG<br>SALDO_POSISI=%{marker.size}<br>LAT=%{lat}<br>LONG=%{lon}<extra></extra>",
         "lat": [
          -10.172654295575171
         ],
         "legendgroup": "KUPANG",
         "lon": [
          123.59215406896632
         ],
         "marker": {
          "color": "#EF553B",
          "opacity": 0.5,
          "size": [
           781472745835.45
          ],
          "sizemode": "area",
          "sizeref": 11156692767.051077
         },
         "mode": "markers",
         "name": "KUPANG",
         "showlegend": true,
         "subplot": "mapbox",
         "type": "scattermapbox"
        },
        {
         "hovertemplate": "CABANG=AMBON<br>SALDO_POSISI=%{marker.size}<br>LAT=%{lat}<br>LONG=%{lon}<extra></extra>",
         "lat": [
          -3.6956953507690327
         ],
         "legendgroup": "AMBON",
         "lon": [
          128.18231385004012
         ],
         "marker": {
          "color": "#00cc96",
          "opacity": 0.5,
          "size": [
           408650451995.77
          ],
          "sizemode": "area",
          "sizeref": 11156692767.051077
         },
         "mode": "markers",
         "name": "AMBON",
         "showlegend": true,
         "subplot": "mapbox",
         "type": "scattermapbox"
        },
        {
         "hovertemplate": "CABANG=PALU<br>SALDO_POSISI=%{marker.size}<br>LAT=%{lat}<br>LONG=%{lon}<extra></extra>",
         "lat": [
          -0.8853172667025627
         ],
         "legendgroup": "PALU",
         "lon": [
          119.8701654755898
         ],
         "marker": {
          "color": "#ab63fa",
          "opacity": 0.5,
          "size": [
           322598798823.9
          ],
          "sizemode": "area",
          "sizeref": 11156692767.051077
         },
         "mode": "markers",
         "name": "PALU",
         "showlegend": true,
         "subplot": "mapbox",
         "type": "scattermapbox"
        },
        {
         "hovertemplate": "CABANG=PALANGKARAYA<br>SALDO_POSISI=%{marker.size}<br>LAT=%{lat}<br>LONG=%{lon}<extra></extra>",
         "lat": [
          -2.210275491244972
         ],
         "legendgroup": "PALANGKARAYA",
         "lon": [
          113.9298742281993
         ],
         "marker": {
          "color": "#FFA15A",
          "opacity": 0.5,
          "size": [
           1019069539967.79
          ],
          "sizemode": "area",
          "sizeref": 11156692767.051077
         },
         "mode": "markers",
         "name": "PALANGKARAYA",
         "showlegend": true,
         "subplot": "mapbox",
         "type": "scattermapbox"
        },
        {
         "hovertemplate": "CABANG=BATAM<br>SALDO_POSISI=%{marker.size}<br>LAT=%{lat}<br>LONG=%{lon}<extra></extra>",
         "lat": [
          1.1282982062196796
         ],
         "legendgroup": "BATAM",
         "lon": [
          104.05952734933204
         ],
         "marker": {
          "color": "#19d3f3",
          "opacity": 0.5,
          "size": [
           1007863554682.37
          ],
          "sizemode": "area",
          "sizeref": 11156692767.051077
         },
         "mode": "markers",
         "name": "BATAM",
         "showlegend": true,
         "subplot": "mapbox",
         "type": "scattermapbox"
        },
        {
         "hovertemplate": "CABANG=BANGKALAN<br>SALDO_POSISI=%{marker.size}<br>LAT=%{lat}<br>LONG=%{lon}<extra></extra>",
         "lat": [
          -7.040050927955861
         ],
         "legendgroup": "BANGKALAN",
         "lon": [
          112.74004628349431
         ],
         "marker": {
          "color": "#FF6692",
          "opacity": 0.5,
          "size": [
           683065621135.24
          ],
          "sizemode": "area",
          "sizeref": 11156692767.051077
         },
         "mode": "markers",
         "name": "BANGKALAN",
         "showlegend": true,
         "subplot": "mapbox",
         "type": "scattermapbox"
        },
        {
         "hovertemplate": "CABANG=MADIUN<br>SALDO_POSISI=%{marker.size}<br>LAT=%{lat}<br>LONG=%{lon}<extra></extra>",
         "lat": [
          -7.623914942873851
         ],
         "legendgroup": "MADIUN",
         "lon": [
          111.52390648335727
         ],
         "marker": {
          "color": "#B6E880",
          "opacity": 0.5,
          "size": [
           346755794429.08
          ],
          "sizemode": "area",
          "sizeref": 11156692767.051077
         },
         "mode": "markers",
         "name": "MADIUN",
         "showlegend": true,
         "subplot": "mapbox",
         "type": "scattermapbox"
        },
        {
         "hovertemplate": "CABANG=JEMBER<br>SALDO_POSISI=%{marker.size}<br>LAT=%{lat}<br>LONG=%{lon}<extra></extra>",
         "lat": [
          -8.16934409032455
         ],
         "legendgroup": "JEMBER",
         "lon": [
          113.70358203330399
         ],
         "marker": {
          "color": "#FF97FF",
          "opacity": 0.5,
          "size": [
           446575510653.09
          ],
          "sizemode": "area",
          "sizeref": 11156692767.051077
         },
         "mode": "markers",
         "name": "JEMBER",
         "showlegend": true,
         "subplot": "mapbox",
         "type": "scattermapbox"
        },
        {
         "hovertemplate": "CABANG=SOLO<br>SALDO_POSISI=%{marker.size}<br>LAT=%{lat}<br>LONG=%{lon}<extra></extra>",
         "lat": [
          -7.567723914452374
         ],
         "legendgroup": "SOLO",
         "lon": [
          110.81607219379613
         ],
         "marker": {
          "color": "#FECB52",
          "opacity": 0.5,
          "size": [
           1298490457710.97
          ],
          "sizemode": "area",
          "sizeref": 11156692767.051077
         },
         "mode": "markers",
         "name": "SOLO",
         "showlegend": true,
         "subplot": "mapbox",
         "type": "scattermapbox"
        },
        {
         "hovertemplate": "CABANG=PEKALONGAN<br>SALDO_POSISI=%{marker.size}<br>LAT=%{lat}<br>LONG=%{lon}<extra></extra>",
         "lat": [
          -6.886955965753555
         ],
         "legendgroup": "PEKALONGAN",
         "lon": [
          109.66780042830528
         ],
         "marker": {
          "color": "#636efa",
          "opacity": 0.5,
          "size": [
           589145432880.4
          ],
          "sizemode": "area",
          "sizeref": 11156692767.051077
         },
         "mode": "markers",
         "name": "PEKALONGAN",
         "showlegend": true,
         "subplot": "mapbox",
         "type": "scattermapbox"
        },
        {
         "hovertemplate": "CABANG=PURWOKERTO<br>SALDO_POSISI=%{marker.size}<br>LAT=%{lat}<br>LONG=%{lon}<extra></extra>",
         "lat": [
          -7.426859214395773
         ],
         "legendgroup": "PURWOKERTO",
         "lon": [
          109.23930914935346
         ],
         "marker": {
          "color": "#EF553B",
          "opacity": 0.5,
          "size": [
           525894947179.81
          ],
          "sizemode": "area",
          "sizeref": 11156692767.051077
         },
         "mode": "markers",
         "name": "PURWOKERTO",
         "showlegend": true,
         "subplot": "mapbox",
         "type": "scattermapbox"
        },
        {
         "hovertemplate": "CABANG=TASIKMALAYA<br>SALDO_POSISI=%{marker.size}<br>LAT=%{lat}<br>LONG=%{lon}<extra></extra>",
         "lat": [
          -7.327278498967561
         ],
         "legendgroup": "TASIKMALAYA",
         "lon": [
          108.22990072379088
         ],
         "marker": {
          "color": "#00cc96",
          "opacity": 0.5,
          "size": [
           252987289852.57
          ],
          "sizemode": "area",
          "sizeref": 11156692767.051077
         },
         "mode": "markers",
         "name": "TASIKMALAYA",
         "showlegend": true,
         "subplot": "mapbox",
         "type": "scattermapbox"
        },
        {
         "hovertemplate": "CABANG=CIREBON<br>SALDO_POSISI=%{marker.size}<br>LAT=%{lat}<br>LONG=%{lon}<extra></extra>",
         "lat": [
          -6.695414006346477
         ],
         "legendgroup": "CIREBON",
         "lon": [
          108.56818874639008
         ],
         "marker": {
          "color": "#ab63fa",
          "opacity": 0.5,
          "size": [
           852169002549.12
          ],
          "sizemode": "area",
          "sizeref": 11156692767.051077
         },
         "mode": "markers",
         "name": "CIREBON",
         "showlegend": true,
         "subplot": "mapbox",
         "type": "scattermapbox"
        },
        {
         "hovertemplate": "CABANG=PURWAKARTA<br>SALDO_POSISI=%{marker.size}<br>LAT=%{lat}<br>LONG=%{lon}<extra></extra>",
         "lat": [
          -6.549573915712667
         ],
         "legendgroup": "PURWAKARTA",
         "lon": [
          107.44904826517572
         ],
         "marker": {
          "color": "#FFA15A",
          "opacity": 0.5,
          "size": [
           469290217806.63
          ],
          "sizemode": "area",
          "sizeref": 11156692767.051077
         },
         "mode": "markers",
         "name": "PURWAKARTA",
         "showlegend": true,
         "subplot": "mapbox",
         "type": "scattermapbox"
        },
        {
         "hovertemplate": "CABANG=BENGKULU<br>SALDO_POSISI=%{marker.size}<br>LAT=%{lat}<br>LONG=%{lon}<extra></extra>",
         "lat": [
          -3.7921725559536656
         ],
         "legendgroup": "BENGKULU",
         "lon": [
          102.2633928757626
         ],
         "marker": {
          "color": "#19d3f3",
          "opacity": 0.5,
          "size": [
           187466315434.46
          ],
          "sizemode": "area",
          "sizeref": 11156692767.051077
         },
         "mode": "markers",
         "name": "BENGKULU",
         "showlegend": true,
         "subplot": "mapbox",
         "type": "scattermapbox"
        },
        {
         "hovertemplate": "CABANG=JAMBI<br>SALDO_POSISI=%{marker.size}<br>LAT=%{lat}<br>LONG=%{lon}<extra></extra>",
         "lat": [
          -1.6041626991993523
         ],
         "legendgroup": "JAMBI",
         "lon": [
          103.60697197575878
         ],
         "marker": {
          "color": "#FF6692",
          "opacity": 0.5,
          "size": [
           699676787880.63
          ],
          "sizemode": "area",
          "sizeref": 11156692767.051077
         },
         "mode": "markers",
         "name": "JAMBI",
         "showlegend": true,
         "subplot": "mapbox",
         "type": "scattermapbox"
        },
        {
         "hovertemplate": "CABANG=PEKANBARU<br>SALDO_POSISI=%{marker.size}<br>LAT=%{lat}<br>LONG=%{lon}<extra></extra>",
         "lat": [
          0.5194925325886582
         ],
         "legendgroup": "PEKANBARU",
         "lon": [
          101.44884639272198
         ],
         "marker": {
          "color": "#B6E880",
          "opacity": 0.5,
          "size": [
           1294231751590.25
          ],
          "sizemode": "area",
          "sizeref": 11156692767.051077
         },
         "mode": "markers",
         "name": "PEKANBARU",
         "showlegend": true,
         "subplot": "mapbox",
         "type": "scattermapbox"
        },
        {
         "hovertemplate": "CABANG=PONTIANAK<br>SALDO_POSISI=%{marker.size}<br>LAT=%{lat}<br>LONG=%{lon}<extra></extra>",
         "lat": [
          -0.03623915220964965
         ],
         "legendgroup": "PONTIANAK",
         "lon": [
          109.34907686840266
         ],
         "marker": {
          "color": "#FF97FF",
          "opacity": 0.5,
          "size": [
           1731231480561.76
          ],
          "sizemode": "area",
          "sizeref": 11156692767.051077
         },
         "mode": "markers",
         "name": "PONTIANAK",
         "showlegend": true,
         "subplot": "mapbox",
         "type": "scattermapbox"
        },
        {
         "hovertemplate": "CABANG=TANGERANG<br>SALDO_POSISI=%{marker.size}<br>LAT=%{lat}<br>LONG=%{lon}<extra></extra>",
         "lat": [
          -6.183624426031783
         ],
         "legendgroup": "TANGERANG",
         "lon": [
          106.6324633237873
         ],
         "marker": {
          "color": "#FECB52",
          "opacity": 0.5,
          "size": [
           6630664342596.37
          ],
          "sizemode": "area",
          "sizeref": 11156692767.051077
         },
         "mode": "markers",
         "name": "TANGERANG",
         "showlegend": true,
         "subplot": "mapbox",
         "type": "scattermapbox"
        },
        {
         "hovertemplate": "CABANG=CIPUTAT<br>SALDO_POSISI=%{marker.size}<br>LAT=%{lat}<br>LONG=%{lon}<extra></extra>",
         "lat": [
          -6.318416696459371
         ],
         "legendgroup": "CIPUTAT",
         "lon": [
          106.74583056998532
         ],
         "marker": {
          "color": "#636efa",
          "opacity": 0.5,
          "size": [
           5096414188179.02
          ],
          "sizemode": "area",
          "sizeref": 11156692767.051077
         },
         "mode": "markers",
         "name": "CIPUTAT",
         "showlegend": true,
         "subplot": "mapbox",
         "type": "scattermapbox"
        },
        {
         "hovertemplate": "CABANG=BALIKPAPAN<br>SALDO_POSISI=%{marker.size}<br>LAT=%{lat}<br>LONG=%{lon}<extra></extra>",
         "lat": [
          -1.2764917627258245
         ],
         "legendgroup": "BALIKPAPAN",
         "lon": [
          116.84215666181883
         ],
         "marker": {
          "color": "#EF553B",
          "opacity": 0.5,
          "size": [
           876191102304.67
          ],
          "sizemode": "area",
          "sizeref": 11156692767.051077
         },
         "mode": "markers",
         "name": "BALIKPAPAN",
         "showlegend": true,
         "subplot": "mapbox",
         "type": "scattermapbox"
        },
        {
         "hovertemplate": "CABANG=KEDIRI<br>SALDO_POSISI=%{marker.size}<br>LAT=%{lat}<br>LONG=%{lon}<extra></extra>",
         "lat": [
          -7.811156045128785
         ],
         "legendgroup": "KEDIRI",
         "lon": [
          112.01320998320409
         ],
         "marker": {
          "color": "#00cc96",
          "opacity": 0.5,
          "size": [
           1207379481402.72
          ],
          "sizemode": "area",
          "sizeref": 11156692767.051077
         },
         "mode": "markers",
         "name": "KEDIRI",
         "showlegend": true,
         "subplot": "mapbox",
         "type": "scattermapbox"
        },
        {
         "hovertemplate": "CABANG=CILEGON<br>SALDO_POSISI=%{marker.size}<br>LAT=%{lat}<br>LONG=%{lon}<extra></extra>",
         "lat": [
          -6.013781552109047
         ],
         "legendgroup": "CILEGON",
         "lon": [
          106.04784232755308
         ],
         "marker": {
          "color": "#ab63fa",
          "opacity": 0.5,
          "size": [
           811704893042.34
          ],
          "sizemode": "area",
          "sizeref": 11156692767.051077
         },
         "mode": "markers",
         "name": "CILEGON",
         "showlegend": true,
         "subplot": "mapbox",
         "type": "scattermapbox"
        },
        {
         "hovertemplate": "CABANG=DEPOK<br>SALDO_POSISI=%{marker.size}<br>LAT=%{lat}<br>LONG=%{lon}<extra></extra>",
         "lat": [
          -6.384058146891037
         ],
         "legendgroup": "DEPOK",
         "lon": [
          106.83145251466777
         ],
         "marker": {
          "color": "#FFA15A",
          "opacity": 0.5,
          "size": [
           3622242376152.7
          ],
          "sizemode": "area",
          "sizeref": 11156692767.051077
         },
         "mode": "markers",
         "name": "DEPOK",
         "showlegend": true,
         "subplot": "mapbox",
         "type": "scattermapbox"
        },
        {
         "hovertemplate": "CABANG=MULYOSARI<br>SALDO_POSISI=%{marker.size}<br>LAT=%{lat}<br>LONG=%{lon}<extra></extra>",
         "lat": [
          -7.262560580663821
         ],
         "legendgroup": "MULYOSARI",
         "lon": [
          112.79559594728487
         ],
         "marker": {
          "color": "#19d3f3",
          "opacity": 0.5,
          "size": [
           1279904701192.19
          ],
          "sizemode": "area",
          "sizeref": 11156692767.051077
         },
         "mode": "markers",
         "name": "MULYOSARI",
         "showlegend": true,
         "subplot": "mapbox",
         "type": "scattermapbox"
        },
        {
         "hovertemplate": "CABANG=MOJOKERTO<br>SALDO_POSISI=%{marker.size}<br>LAT=%{lat}<br>LONG=%{lon}<extra></extra>",
         "lat": [
          -7.467017012024081
         ],
         "legendgroup": "MOJOKERTO",
         "lon": [
          112.43257736484289
         ],
         "marker": {
          "color": "#FF6692",
          "opacity": 0.5,
          "size": [
           867163635548.58
          ],
          "sizemode": "area",
          "sizeref": 11156692767.051077
         },
         "mode": "markers",
         "name": "MOJOKERTO",
         "showlegend": true,
         "subplot": "mapbox",
         "type": "scattermapbox"
        },
        {
         "hovertemplate": "CABANG=GRESIK<br>SALDO_POSISI=%{marker.size}<br>LAT=%{lat}<br>LONG=%{lon}<extra></extra>",
         "lat": [
          -7.147791921472771
         ],
         "legendgroup": "GRESIK",
         "lon": [
          112.65333621082037
         ],
         "marker": {
          "color": "#B6E880",
          "opacity": 0.5,
          "size": [
           1046033514448.28
          ],
          "sizemode": "area",
          "sizeref": 11156692767.051077
         },
         "mode": "markers",
         "name": "GRESIK",
         "showlegend": true,
         "subplot": "mapbox",
         "type": "scattermapbox"
        },
        {
         "hovertemplate": "CABANG=SIDOARJO<br>SALDO_POSISI=%{marker.size}<br>LAT=%{lat}<br>LONG=%{lon}<extra></extra>",
         "lat": [
          -7.445605288281742
         ],
         "legendgroup": "SIDOARJO",
         "lon": [
          112.71959345053698
         ],
         "marker": {
          "color": "#FF97FF",
          "opacity": 0.5,
          "size": [
           1117462624954.61
          ],
          "sizemode": "area",
          "sizeref": 11156692767.051077
         },
         "mode": "markers",
         "name": "SIDOARJO",
         "showlegend": true,
         "subplot": "mapbox",
         "type": "scattermapbox"
        },
        {
         "hovertemplate": "CABANG=PEMATANG SIANTAR<br>SALDO_POSISI=%{marker.size}<br>LAT=%{lat}<br>LONG=%{lon}<extra></extra>",
         "lat": [
          2.955672301447942
         ],
         "legendgroup": "PEMATANG SIANTAR",
         "lon": [
          99.06250325934084
         ],
         "marker": {
          "color": "#FECB52",
          "opacity": 0.5,
          "size": [
           529583859854.27
          ],
          "sizemode": "area",
          "sizeref": 11156692767.051077
         },
         "mode": "markers",
         "name": "PEMATANG SIANTAR",
         "showlegend": true,
         "subplot": "mapbox",
         "type": "scattermapbox"
        },
        {
         "hovertemplate": "CABANG=PANAKUKANG<br>SALDO_POSISI=%{marker.size}<br>LAT=%{lat}<br>LONG=%{lon}<extra></extra>",
         "lat": [
          -5.167913896376964
         ],
         "legendgroup": "PANAKUKANG",
         "lon": [
          119.4487342124358
         ],
         "marker": {
          "color": "#636efa",
          "opacity": 0.5,
          "size": [
           815555875710
          ],
          "sizemode": "area",
          "sizeref": 11156692767.051077
         },
         "mode": "markers",
         "name": "PANAKUKANG",
         "showlegend": true,
         "subplot": "mapbox",
         "type": "scattermapbox"
        },
        {
         "hovertemplate": "CABANG=MAGELANG<br>SALDO_POSISI=%{marker.size}<br>LAT=%{lat}<br>LONG=%{lon}<extra></extra>",
         "lat": [
          -7.483013894960099
         ],
         "legendgroup": "MAGELANG",
         "lon": [
          110.21601116955556
         ],
         "marker": {
          "color": "#EF553B",
          "opacity": 0.5,
          "size": [
           397622447270.16
          ],
          "sizemode": "area",
          "sizeref": 11156692767.051077
         },
         "mode": "markers",
         "name": "MAGELANG",
         "showlegend": true,
         "subplot": "mapbox",
         "type": "scattermapbox"
        },
        {
         "hovertemplate": "CABANG=CIMAHI<br>SALDO_POSISI=%{marker.size}<br>LAT=%{lat}<br>LONG=%{lon}<extra></extra>",
         "lat": [
          -6.876278303825209
         ],
         "legendgroup": "CIMAHI",
         "lon": [
          107.54798165853087
         ],
         "marker": {
          "color": "#00cc96",
          "opacity": 0.5,
          "size": [
           554123929548.01
          ],
          "sizemode": "area",
          "sizeref": 11156692767.051077
         },
         "mode": "markers",
         "name": "CIMAHI",
         "showlegend": true,
         "subplot": "mapbox",
         "type": "scattermapbox"
        },
        {
         "hovertemplate": "CABANG=BANJARBARU<br>SALDO_POSISI=%{marker.size}<br>LAT=%{lat}<br>LONG=%{lon}<extra></extra>",
         "lat": [
          -3.443335310185538
         ],
         "legendgroup": "BANJARBARU",
         "lon": [
          114.81789597585512
         ],
         "marker": {
          "color": "#ab63fa",
          "opacity": 0.5,
          "size": [
           260762362502.26
          ],
          "sizemode": "area",
          "sizeref": 11156692767.051077
         },
         "mode": "markers",
         "name": "BANJARBARU",
         "showlegend": true,
         "subplot": "mapbox",
         "type": "scattermapbox"
        },
        {
         "hovertemplate": "CABANG=GORONTALO<br>SALDO_POSISI=%{marker.size}<br>LAT=%{lat}<br>LONG=%{lon}<extra></extra>",
         "lat": [
          0.54299367975048
         ],
         "legendgroup": "GORONTALO",
         "lon": [
          123.06181945773304
         ],
         "marker": {
          "color": "#FFA15A",
          "opacity": 0.5,
          "size": [
           105201069103.8
          ],
          "sizemode": "area",
          "sizeref": 11156692767.051077
         },
         "mode": "markers",
         "name": "GORONTALO",
         "showlegend": true,
         "subplot": "mapbox",
         "type": "scattermapbox"
        },
        {
         "hovertemplate": "CABANG=KEBON JERUK<br>SALDO_POSISI=%{marker.size}<br>LAT=%{lat}<br>LONG=%{lon}<extra></extra>",
         "lat": [
          -6.203240634772782
         ],
         "legendgroup": "KEBON JERUK",
         "lon": [
          106.76977691428156
         ],
         "marker": {
          "color": "#19d3f3",
          "opacity": 0.5,
          "size": [
           11030447533277.37
          ],
          "sizemode": "area",
          "sizeref": 11156692767.051077
         },
         "mode": "markers",
         "name": "KEBON JERUK",
         "showlegend": true,
         "subplot": "mapbox",
         "type": "scattermapbox"
        },
        {
         "hovertemplate": "CABANG=SUKABUMI<br>SALDO_POSISI=%{marker.size}<br>LAT=%{lat}<br>LONG=%{lon}<extra></extra>",
         "lat": [
          -6.9195497756140725
         ],
         "legendgroup": "SUKABUMI",
         "lon": [
          106.92056965914458
         ],
         "marker": {
          "color": "#FF6692",
          "opacity": 0.5,
          "size": [
           285924968969.29
          ],
          "sizemode": "area",
          "sizeref": 11156692767.051077
         },
         "mode": "markers",
         "name": "SUKABUMI",
         "showlegend": true,
         "subplot": "mapbox",
         "type": "scattermapbox"
        },
        {
         "hovertemplate": "CABANG=CIBINONG<br>SALDO_POSISI=%{marker.size}<br>LAT=%{lat}<br>LONG=%{lon}<extra></extra>",
         "lat": [
          -6.484675901032232
         ],
         "legendgroup": "CIBINONG",
         "lon": [
          106.8391502692902
         ],
         "marker": {
          "color": "#B6E880",
          "opacity": 0.5,
          "size": [
           742678514169.1
          ],
          "sizemode": "area",
          "sizeref": 11156692767.051077
         },
         "mode": "markers",
         "name": "CIBINONG",
         "showlegend": true,
         "subplot": "mapbox",
         "type": "scattermapbox"
        },
        {
         "hovertemplate": "CABANG=CIKARANG<br>SALDO_POSISI=%{marker.size}<br>LAT=%{lat}<br>LONG=%{lon}<extra></extra>",
         "lat": [
          -6.340745560029845
         ],
         "legendgroup": "CIKARANG",
         "lon": [
          107.11970228331992
         ],
         "marker": {
          "color": "#FF97FF",
          "opacity": 0.5,
          "size": [
           2124579243157.51
          ],
          "sizemode": "area",
          "sizeref": 11156692767.051077
         },
         "mode": "markers",
         "name": "CIKARANG",
         "showlegend": true,
         "subplot": "mapbox",
         "type": "scattermapbox"
        },
        {
         "hovertemplate": "CABANG=TANJUNG PINANG<br>SALDO_POSISI=%{marker.size}<br>LAT=%{lat}<br>LONG=%{lon}<extra></extra>",
         "lat": [
          0.9189072643032054
         ],
         "legendgroup": "TANJUNG PINANG",
         "lon": [
          104.5034192237851
         ],
         "marker": {
          "color": "#FECB52",
          "opacity": 0.5,
          "size": [
           373739489337.64
          ],
          "sizemode": "area",
          "sizeref": 11156692767.051077
         },
         "mode": "markers",
         "name": "TANJUNG PINANG",
         "showlegend": true,
         "subplot": "mapbox",
         "type": "scattermapbox"
        },
        {
         "hovertemplate": "CABANG=TEGAL<br>SALDO_POSISI=%{marker.size}<br>LAT=%{lat}<br>LONG=%{lon}<extra></extra>",
         "lat": [
          -6.861648663534056
         ],
         "legendgroup": "TEGAL",
         "lon": [
          109.13448841182876
         ],
         "marker": {
          "color": "#636efa",
          "opacity": 0.5,
          "size": [
           210737926172.95
          ],
          "sizemode": "area",
          "sizeref": 11156692767.051077
         },
         "mode": "markers",
         "name": "TEGAL",
         "showlegend": true,
         "subplot": "mapbox",
         "type": "scattermapbox"
        },
        {
         "hovertemplate": "CABANG=KARAWACI<br>SALDO_POSISI=%{marker.size}<br>LAT=%{lat}<br>LONG=%{lon}<extra></extra>",
         "lat": [
          -6.210893622138392
         ],
         "legendgroup": "KARAWACI",
         "lon": [
          106.61473709447105
         ],
         "marker": {
          "color": "#EF553B",
          "opacity": 0.5,
          "size": [
           1199779109877.24
          ],
          "sizemode": "area",
          "sizeref": 11156692767.051077
         },
         "mode": "markers",
         "name": "KARAWACI",
         "showlegend": true,
         "subplot": "mapbox",
         "type": "scattermapbox"
        },
        {
         "hovertemplate": "CABANG=BUMI SERPONG DAMAI<br>SALDO_POSISI=%{marker.size}<br>LAT=%{lat}<br>LONG=%{lon}<extra></extra>",
         "lat": [
          -6.280288978068053
         ],
         "legendgroup": "BUMI SERPONG DAMAI",
         "lon": [
          106.66229042557434
         ],
         "marker": {
          "color": "#00cc96",
          "opacity": 0.5,
          "size": [
           7597151796085.66
          ],
          "sizemode": "area",
          "sizeref": 11156692767.051077
         },
         "mode": "markers",
         "name": "BUMI SERPONG DAMAI",
         "showlegend": true,
         "subplot": "mapbox",
         "type": "scattermapbox"
        },
        {
         "hovertemplate": "CABANG=PLUIT<br>SALDO_POSISI=%{marker.size}<br>LAT=%{lat}<br>LONG=%{lon}<extra></extra>",
         "lat": [
          -6.120500193687122
         ],
         "legendgroup": "PLUIT",
         "lon": [
          106.78839119837596
         ],
         "marker": {
          "color": "#ab63fa",
          "opacity": 0.5,
          "size": [
           3210404115826.13
          ],
          "sizemode": "area",
          "sizeref": 11156692767.051077
         },
         "mode": "markers",
         "name": "PLUIT",
         "showlegend": true,
         "subplot": "mapbox",
         "type": "scattermapbox"
        },
        {
         "hovertemplate": "CABANG=CIBUBUR<br>SALDO_POSISI=%{marker.size}<br>LAT=%{lat}<br>LONG=%{lon}<extra></extra>",
         "lat": [
          -6.375759623897248
         ],
         "legendgroup": "CIBUBUR",
         "lon": [
          106.91952920585466
         ],
         "marker": {
          "color": "#FFA15A",
          "opacity": 0.5,
          "size": [
           2306574763906.09
          ],
          "sizemode": "area",
          "sizeref": 11156692767.051077
         },
         "mode": "markers",
         "name": "CIBUBUR",
         "showlegend": true,
         "subplot": "mapbox",
         "type": "scattermapbox"
        },
        {
         "hovertemplate": "CABANG=KARAWANG<br>SALDO_POSISI=%{marker.size}<br>LAT=%{lat}<br>LONG=%{lon}<extra></extra>",
         "lat": [
          -6.306960999111603
         ],
         "legendgroup": "KARAWANG",
         "lon": [
          107.29233456606562
         ],
         "marker": {
          "color": "#19d3f3",
          "opacity": 0.5,
          "size": [
           1543462300319.8
          ],
          "sizemode": "area",
          "sizeref": 11156692767.051077
         },
         "mode": "markers",
         "name": "KARAWANG",
         "showlegend": true,
         "subplot": "mapbox",
         "type": "scattermapbox"
        },
        {
         "hovertemplate": "CABANG=KUDUS<br>SALDO_POSISI=%{marker.size}<br>LAT=%{lat}<br>LONG=%{lon}<extra></extra>",
         "lat": [
          -6.812646266016282
         ],
         "legendgroup": "KUDUS",
         "lon": [
          110.8403041967766
         ],
         "marker": {
          "color": "#FF6692",
          "opacity": 0.5,
          "size": [
           773184556954.69
          ],
          "sizemode": "area",
          "sizeref": 11156692767.051077
         },
         "mode": "markers",
         "name": "KUDUS",
         "showlegend": true,
         "subplot": "mapbox",
         "type": "scattermapbox"
        },
        {
         "hovertemplate": "CABANG=PARE-PARE<br>SALDO_POSISI=%{marker.size}<br>LAT=%{lat}<br>LONG=%{lon}<extra></extra>",
         "lat": [
          -4.0078937775468475
         ],
         "legendgroup": "PARE-PARE",
         "lon": [
          119.62766989490787
         ],
         "marker": {
          "color": "#B6E880",
          "opacity": 0.5,
          "size": [
           198149258441.75
          ],
          "sizemode": "area",
          "sizeref": 11156692767.051077
         },
         "mode": "markers",
         "name": "PARE-PARE",
         "showlegend": true,
         "subplot": "mapbox",
         "type": "scattermapbox"
        },
        {
         "hovertemplate": "CABANG=BINTARO JAYA<br>SALDO_POSISI=%{marker.size}<br>LAT=%{lat}<br>LONG=%{lon}<extra></extra>",
         "lat": [
          -6.276587863506655
         ],
         "legendgroup": "BINTARO JAYA",
         "lon": [
          106.7209343261507
         ],
         "marker": {
          "color": "#FF97FF",
          "opacity": 0.5,
          "size": [
           1489930900347.5
          ],
          "sizemode": "area",
          "sizeref": 11156692767.051077
         },
         "mode": "markers",
         "name": "BINTARO JAYA",
         "showlegend": true,
         "subplot": "mapbox",
         "type": "scattermapbox"
        },
        {
         "hovertemplate": "CABANG=PANGKALPINANG<br>SALDO_POSISI=%{marker.size}<br>LAT=%{lat}<br>LONG=%{lon}<extra></extra>",
         "lat": [
          -2.1283790594529868
         ],
         "legendgroup": "PANGKALPINANG",
         "lon": [
          106.11653773351775
         ],
         "marker": {
          "color": "#FECB52",
          "opacity": 0.5,
          "size": [
           258342321050.94
          ],
          "sizemode": "area",
          "sizeref": 11156692767.051077
         },
         "mode": "markers",
         "name": "PANGKALPINANG",
         "showlegend": true,
         "subplot": "mapbox",
         "type": "scattermapbox"
        },
        {
         "hovertemplate": "CABANG=TERNATE<br>SALDO_POSISI=%{marker.size}<br>LAT=%{lat}<br>LONG=%{lon}<extra></extra>",
         "lat": [
          0.7881218551172008
         ],
         "legendgroup": "TERNATE",
         "lon": [
          127.3885277288944
         ],
         "marker": {
          "color": "#636efa",
          "opacity": 0.5,
          "size": [
           211113206100.24
          ],
          "sizemode": "area",
          "sizeref": 11156692767.051077
         },
         "mode": "markers",
         "name": "TERNATE",
         "showlegend": true,
         "subplot": "mapbox",
         "type": "scattermapbox"
        },
        {
         "hovertemplate": "CABANG=KELAPA GADING SQUARE<br>SALDO_POSISI=%{marker.size}<br>LAT=%{lat}<br>LONG=%{lon}<extra></extra>",
         "lat": [
          -6.157679889682289
         ],
         "legendgroup": "KELAPA GADING SQUARE",
         "lon": [
          106.90057812106437
         ],
         "marker": {
          "color": "#EF553B",
          "opacity": 0.5,
          "size": [
           19791001610481.38
          ],
          "sizemode": "area",
          "sizeref": 11156692767.051077
         },
         "mode": "markers",
         "name": "KELAPA GADING SQUARE",
         "showlegend": true,
         "subplot": "mapbox",
         "type": "scattermapbox"
        },
        {
         "hovertemplate": "CABANG=BANYUWANGI<br>SALDO_POSISI=%{marker.size}<br>LAT=%{lat}<br>LONG=%{lon}<extra></extra>",
         "lat": [
          -8.234419267047159
         ],
         "legendgroup": "BANYUWANGI",
         "lon": [
          114.35669107648454
         ],
         "marker": {
          "color": "#00cc96",
          "opacity": 0.5,
          "size": [
           212737696954.69
          ],
          "sizemode": "area",
          "sizeref": 11156692767.051077
         },
         "mode": "markers",
         "name": "BANYUWANGI",
         "showlegend": true,
         "subplot": "mapbox",
         "type": "scattermapbox"
        },
        {
         "hovertemplate": "CABANG=JAKARTA CAWANG<br>SALDO_POSISI=%{marker.size}<br>LAT=%{lat}<br>LONG=%{lon}<extra></extra>",
         "lat": [
          -6.242841110167793
         ],
         "legendgroup": "JAKARTA CAWANG",
         "lon": [
          106.87632905891088
         ],
         "marker": {
          "color": "#ab63fa",
          "opacity": 0.5,
          "size": [
           6539941108574.44
          ],
          "sizemode": "area",
          "sizeref": 11156692767.051077
         },
         "mode": "markers",
         "name": "JAKARTA CAWANG",
         "showlegend": true,
         "subplot": "mapbox",
         "type": "scattermapbox"
        },
        {
         "hovertemplate": "CABANG=MAMUJU<br>SALDO_POSISI=%{marker.size}<br>LAT=%{lat}<br>LONG=%{lon}<extra></extra>",
         "lat": [
          -2.6785285543930857
         ],
         "legendgroup": "MAMUJU",
         "lon": [
          118.88108061421514
         ],
         "marker": {
          "color": "#FFA15A",
          "opacity": 0.5,
          "size": [
           52797605900.11
          ],
          "sizemode": "area",
          "sizeref": 11156692767.051077
         },
         "mode": "markers",
         "name": "MAMUJU",
         "showlegend": true,
         "subplot": "mapbox",
         "type": "scattermapbox"
        },
        {
         "hovertemplate": "CABANG=TARAKAN<br>SALDO_POSISI=%{marker.size}<br>LAT=%{lat}<br>LONG=%{lon}<extra></extra>",
         "lat": [
          3.3158907125658326
         ],
         "legendgroup": "TARAKAN",
         "lon": [
          117.57957395165809
         ],
         "marker": {
          "color": "#19d3f3",
          "opacity": 0.5,
          "size": [
           401164758665.16
          ],
          "sizemode": "area",
          "sizeref": 11156692767.051077
         },
         "mode": "markers",
         "name": "TARAKAN",
         "showlegend": true,
         "subplot": "mapbox",
         "type": "scattermapbox"
        },
        {
         "hovertemplate": "CABANG=SINGARAJA<br>SALDO_POSISI=%{marker.size}<br>LAT=%{lat}<br>LONG=%{lon}<extra></extra>",
         "lat": [
          -6.998494598394008
         ],
         "legendgroup": "SINGARAJA",
         "lon": [
          110.43299875050329
         ],
         "marker": {
          "color": "#FF6692",
          "opacity": 0.5,
          "size": [
           138784103219.99
          ],
          "sizemode": "area",
          "sizeref": 11156692767.051077
         },
         "mode": "markers",
         "name": "SINGARAJA",
         "showlegend": true,
         "subplot": "mapbox",
         "type": "scattermapbox"
        },
        {
         "hovertemplate": "CABANG=HARAPAN INDAH<br>SALDO_POSISI=%{marker.size}<br>LAT=%{lat}<br>LONG=%{lon}<extra></extra>",
         "lat": [
          -6.179838358298946
         ],
         "legendgroup": "HARAPAN INDAH",
         "lon": [
          106.97394661211915
         ],
         "marker": {
          "color": "#B6E880",
          "opacity": 0.5,
          "size": [
           1579978769276.76
          ],
          "sizemode": "area",
          "sizeref": 11156692767.051077
         },
         "mode": "markers",
         "name": "HARAPAN INDAH",
         "showlegend": true,
         "subplot": "mapbox",
         "type": "scattermapbox"
        },
        {
         "hovertemplate": "CABANG=SURABAYA BUKIT DARMO<br>SALDO_POSISI=%{marker.size}<br>LAT=%{lat}<br>LONG=%{lon}<extra></extra>",
         "lat": [
          -7.285697460040312
         ],
         "legendgroup": "SURABAYA BUKIT DARMO",
         "lon": [
          112.70028351267145
         ],
         "marker": {
          "color": "#FF97FF",
          "opacity": 0.5,
          "size": [
           1762805493282.84
          ],
          "sizemode": "area",
          "sizeref": 11156692767.051077
         },
         "mode": "markers",
         "name": "SURABAYA BUKIT DARMO",
         "showlegend": true,
         "subplot": "mapbox",
         "type": "scattermapbox"
        },
        {
         "hovertemplate": "CABANG=BANDUNG TIMUR<br>SALDO_POSISI=%{marker.size}<br>LAT=%{lat}<br>LONG=%{lon}<extra></extra>",
         "lat": [
          -6.938392879615368
         ],
         "legendgroup": "BANDUNG TIMUR",
         "lon": [
          107.73786932965014
         ],
         "marker": {
          "color": "#FECB52",
          "opacity": 0.5,
          "size": [
           1115807469075.25
          ],
          "sizemode": "area",
          "sizeref": 11156692767.051077
         },
         "mode": "markers",
         "name": "BANDUNG TIMUR",
         "showlegend": true,
         "subplot": "mapbox",
         "type": "scattermapbox"
        },
        {
         "hovertemplate": "CABANG=JAKARTA MELAWAI<br>SALDO_POSISI=%{marker.size}<br>LAT=%{lat}<br>LONG=%{lon}<extra></extra>",
         "lat": [
          -6.24584842921049
         ],
         "legendgroup": "JAKARTA MELAWAI",
         "lon": [
          106.79950404132022
         ],
         "marker": {
          "color": "#636efa",
          "opacity": 0.5,
          "size": [
           17202363145215.35
          ],
          "sizemode": "area",
          "sizeref": 11156692767.051077
         },
         "mode": "markers",
         "name": "JAKARTA MELAWAI",
         "showlegend": true,
         "subplot": "mapbox",
         "type": "scattermapbox"
        },
        {
         "hovertemplate": "CABANG=KANTOR PUSAT<br>SALDO_POSISI=%{marker.size}<br>LAT=%{lat}<br>LONG=%{lon}<extra></extra>",
         "lat": [
          -6.159888140341506
         ],
         "legendgroup": "KANTOR PUSAT",
         "lon": [
          106.8196782808995
         ],
         "marker": {
          "color": "#EF553B",
          "opacity": 0.5,
          "size": [
           13175258040014
          ],
          "sizemode": "area",
          "sizeref": 11156692767.051077
         },
         "mode": "markers",
         "name": "KANTOR PUSAT",
         "showlegend": true,
         "subplot": "mapbox",
         "type": "scattermapbox"
        }
       ],
       "layout": {
        "height": 600,
        "legend": {
         "itemsizing": "constant",
         "title": {
          "text": "CABANG"
         },
         "tracegroupgap": 0
        },
        "mapbox": {
         "center": {
          "lat": -4.991217352285497,
          "lon": 110.99042593726807
         },
         "domain": {
          "x": [
           0,
           1
          ],
          "y": [
           0,
           1
          ]
         },
         "style": "carto-positron",
         "zoom": 3.8
        },
        "margin": {
         "b": 1,
         "l": 1,
         "r": 1,
         "t": 0
        },
        "template": {
         "data": {
          "bar": [
           {
            "error_x": {
             "color": "#2a3f5f"
            },
            "error_y": {
             "color": "#2a3f5f"
            },
            "marker": {
             "line": {
              "color": "#E5ECF6",
              "width": 0.5
             },
             "pattern": {
              "fillmode": "overlay",
              "size": 10,
              "solidity": 0.2
             }
            },
            "type": "bar"
           }
          ],
          "barpolar": [
           {
            "marker": {
             "line": {
              "color": "#E5ECF6",
              "width": 0.5
             },
             "pattern": {
              "fillmode": "overlay",
              "size": 10,
              "solidity": 0.2
             }
            },
            "type": "barpolar"
           }
          ],
          "carpet": [
           {
            "aaxis": {
             "endlinecolor": "#2a3f5f",
             "gridcolor": "white",
             "linecolor": "white",
             "minorgridcolor": "white",
             "startlinecolor": "#2a3f5f"
            },
            "baxis": {
             "endlinecolor": "#2a3f5f",
             "gridcolor": "white",
             "linecolor": "white",
             "minorgridcolor": "white",
             "startlinecolor": "#2a3f5f"
            },
            "type": "carpet"
           }
          ],
          "choropleth": [
           {
            "colorbar": {
             "outlinewidth": 0,
             "ticks": ""
            },
            "type": "choropleth"
           }
          ],
          "contour": [
           {
            "colorbar": {
             "outlinewidth": 0,
             "ticks": ""
            },
            "colorscale": [
             [
              0,
              "#0d0887"
             ],
             [
              0.1111111111111111,
              "#46039f"
             ],
             [
              0.2222222222222222,
              "#7201a8"
             ],
             [
              0.3333333333333333,
              "#9c179e"
             ],
             [
              0.4444444444444444,
              "#bd3786"
             ],
             [
              0.5555555555555556,
              "#d8576b"
             ],
             [
              0.6666666666666666,
              "#ed7953"
             ],
             [
              0.7777777777777778,
              "#fb9f3a"
             ],
             [
              0.8888888888888888,
              "#fdca26"
             ],
             [
              1,
              "#f0f921"
             ]
            ],
            "type": "contour"
           }
          ],
          "contourcarpet": [
           {
            "colorbar": {
             "outlinewidth": 0,
             "ticks": ""
            },
            "type": "contourcarpet"
           }
          ],
          "heatmap": [
           {
            "colorbar": {
             "outlinewidth": 0,
             "ticks": ""
            },
            "colorscale": [
             [
              0,
              "#0d0887"
             ],
             [
              0.1111111111111111,
              "#46039f"
             ],
             [
              0.2222222222222222,
              "#7201a8"
             ],
             [
              0.3333333333333333,
              "#9c179e"
             ],
             [
              0.4444444444444444,
              "#bd3786"
             ],
             [
              0.5555555555555556,
              "#d8576b"
             ],
             [
              0.6666666666666666,
              "#ed7953"
             ],
             [
              0.7777777777777778,
              "#fb9f3a"
             ],
             [
              0.8888888888888888,
              "#fdca26"
             ],
             [
              1,
              "#f0f921"
             ]
            ],
            "type": "heatmap"
           }
          ],
          "heatmapgl": [
           {
            "colorbar": {
             "outlinewidth": 0,
             "ticks": ""
            },
            "colorscale": [
             [
              0,
              "#0d0887"
             ],
             [
              0.1111111111111111,
              "#46039f"
             ],
             [
              0.2222222222222222,
              "#7201a8"
             ],
             [
              0.3333333333333333,
              "#9c179e"
             ],
             [
              0.4444444444444444,
              "#bd3786"
             ],
             [
              0.5555555555555556,
              "#d8576b"
             ],
             [
              0.6666666666666666,
              "#ed7953"
             ],
             [
              0.7777777777777778,
              "#fb9f3a"
             ],
             [
              0.8888888888888888,
              "#fdca26"
             ],
             [
              1,
              "#f0f921"
             ]
            ],
            "type": "heatmapgl"
           }
          ],
          "histogram": [
           {
            "marker": {
             "pattern": {
              "fillmode": "overlay",
              "size": 10,
              "solidity": 0.2
             }
            },
            "type": "histogram"
           }
          ],
          "histogram2d": [
           {
            "colorbar": {
             "outlinewidth": 0,
             "ticks": ""
            },
            "colorscale": [
             [
              0,
              "#0d0887"
             ],
             [
              0.1111111111111111,
              "#46039f"
             ],
             [
              0.2222222222222222,
              "#7201a8"
             ],
             [
              0.3333333333333333,
              "#9c179e"
             ],
             [
              0.4444444444444444,
              "#bd3786"
             ],
             [
              0.5555555555555556,
              "#d8576b"
             ],
             [
              0.6666666666666666,
              "#ed7953"
             ],
             [
              0.7777777777777778,
              "#fb9f3a"
             ],
             [
              0.8888888888888888,
              "#fdca26"
             ],
             [
              1,
              "#f0f921"
             ]
            ],
            "type": "histogram2d"
           }
          ],
          "histogram2dcontour": [
           {
            "colorbar": {
             "outlinewidth": 0,
             "ticks": ""
            },
            "colorscale": [
             [
              0,
              "#0d0887"
             ],
             [
              0.1111111111111111,
              "#46039f"
             ],
             [
              0.2222222222222222,
              "#7201a8"
             ],
             [
              0.3333333333333333,
              "#9c179e"
             ],
             [
              0.4444444444444444,
              "#bd3786"
             ],
             [
              0.5555555555555556,
              "#d8576b"
             ],
             [
              0.6666666666666666,
              "#ed7953"
             ],
             [
              0.7777777777777778,
              "#fb9f3a"
             ],
             [
              0.8888888888888888,
              "#fdca26"
             ],
             [
              1,
              "#f0f921"
             ]
            ],
            "type": "histogram2dcontour"
           }
          ],
          "mesh3d": [
           {
            "colorbar": {
             "outlinewidth": 0,
             "ticks": ""
            },
            "type": "mesh3d"
           }
          ],
          "parcoords": [
           {
            "line": {
             "colorbar": {
              "outlinewidth": 0,
              "ticks": ""
             }
            },
            "type": "parcoords"
           }
          ],
          "pie": [
           {
            "automargin": true,
            "type": "pie"
           }
          ],
          "scatter": [
           {
            "fillpattern": {
             "fillmode": "overlay",
             "size": 10,
             "solidity": 0.2
            },
            "type": "scatter"
           }
          ],
          "scatter3d": [
           {
            "line": {
             "colorbar": {
              "outlinewidth": 0,
              "ticks": ""
             }
            },
            "marker": {
             "colorbar": {
              "outlinewidth": 0,
              "ticks": ""
             }
            },
            "type": "scatter3d"
           }
          ],
          "scattercarpet": [
           {
            "marker": {
             "colorbar": {
              "outlinewidth": 0,
              "ticks": ""
             }
            },
            "type": "scattercarpet"
           }
          ],
          "scattergeo": [
           {
            "marker": {
             "colorbar": {
              "outlinewidth": 0,
              "ticks": ""
             }
            },
            "type": "scattergeo"
           }
          ],
          "scattergl": [
           {
            "marker": {
             "colorbar": {
              "outlinewidth": 0,
              "ticks": ""
             }
            },
            "type": "scattergl"
           }
          ],
          "scattermapbox": [
           {
            "marker": {
             "colorbar": {
              "outlinewidth": 0,
              "ticks": ""
             }
            },
            "type": "scattermapbox"
           }
          ],
          "scatterpolar": [
           {
            "marker": {
             "colorbar": {
              "outlinewidth": 0,
              "ticks": ""
             }
            },
            "type": "scatterpolar"
           }
          ],
          "scatterpolargl": [
           {
            "marker": {
             "colorbar": {
              "outlinewidth": 0,
              "ticks": ""
             }
            },
            "type": "scatterpolargl"
           }
          ],
          "scatterternary": [
           {
            "marker": {
             "colorbar": {
              "outlinewidth": 0,
              "ticks": ""
             }
            },
            "type": "scatterternary"
           }
          ],
          "surface": [
           {
            "colorbar": {
             "outlinewidth": 0,
             "ticks": ""
            },
            "colorscale": [
             [
              0,
              "#0d0887"
             ],
             [
              0.1111111111111111,
              "#46039f"
             ],
             [
              0.2222222222222222,
              "#7201a8"
             ],
             [
              0.3333333333333333,
              "#9c179e"
             ],
             [
              0.4444444444444444,
              "#bd3786"
             ],
             [
              0.5555555555555556,
              "#d8576b"
             ],
             [
              0.6666666666666666,
              "#ed7953"
             ],
             [
              0.7777777777777778,
              "#fb9f3a"
             ],
             [
              0.8888888888888888,
              "#fdca26"
             ],
             [
              1,
              "#f0f921"
             ]
            ],
            "type": "surface"
           }
          ],
          "table": [
           {
            "cells": {
             "fill": {
              "color": "#EBF0F8"
             },
             "line": {
              "color": "white"
             }
            },
            "header": {
             "fill": {
              "color": "#C8D4E3"
             },
             "line": {
              "color": "white"
             }
            },
            "type": "table"
           }
          ]
         },
         "layout": {
          "annotationdefaults": {
           "arrowcolor": "#2a3f5f",
           "arrowhead": 0,
           "arrowwidth": 1
          },
          "autotypenumbers": "strict",
          "coloraxis": {
           "colorbar": {
            "outlinewidth": 0,
            "ticks": ""
           }
          },
          "colorscale": {
           "diverging": [
            [
             0,
             "#8e0152"
            ],
            [
             0.1,
             "#c51b7d"
            ],
            [
             0.2,
             "#de77ae"
            ],
            [
             0.3,
             "#f1b6da"
            ],
            [
             0.4,
             "#fde0ef"
            ],
            [
             0.5,
             "#f7f7f7"
            ],
            [
             0.6,
             "#e6f5d0"
            ],
            [
             0.7,
             "#b8e186"
            ],
            [
             0.8,
             "#7fbc41"
            ],
            [
             0.9,
             "#4d9221"
            ],
            [
             1,
             "#276419"
            ]
           ],
           "sequential": [
            [
             0,
             "#0d0887"
            ],
            [
             0.1111111111111111,
             "#46039f"
            ],
            [
             0.2222222222222222,
             "#7201a8"
            ],
            [
             0.3333333333333333,
             "#9c179e"
            ],
            [
             0.4444444444444444,
             "#bd3786"
            ],
            [
             0.5555555555555556,
             "#d8576b"
            ],
            [
             0.6666666666666666,
             "#ed7953"
            ],
            [
             0.7777777777777778,
             "#fb9f3a"
            ],
            [
             0.8888888888888888,
             "#fdca26"
            ],
            [
             1,
             "#f0f921"
            ]
           ],
           "sequentialminus": [
            [
             0,
             "#0d0887"
            ],
            [
             0.1111111111111111,
             "#46039f"
            ],
            [
             0.2222222222222222,
             "#7201a8"
            ],
            [
             0.3333333333333333,
             "#9c179e"
            ],
            [
             0.4444444444444444,
             "#bd3786"
            ],
            [
             0.5555555555555556,
             "#d8576b"
            ],
            [
             0.6666666666666666,
             "#ed7953"
            ],
            [
             0.7777777777777778,
             "#fb9f3a"
            ],
            [
             0.8888888888888888,
             "#fdca26"
            ],
            [
             1,
             "#f0f921"
            ]
           ]
          },
          "colorway": [
           "#636efa",
           "#EF553B",
           "#00cc96",
           "#ab63fa",
           "#FFA15A",
           "#19d3f3",
           "#FF6692",
           "#B6E880",
           "#FF97FF",
           "#FECB52"
          ],
          "font": {
           "color": "#2a3f5f"
          },
          "geo": {
           "bgcolor": "white",
           "lakecolor": "white",
           "landcolor": "#E5ECF6",
           "showlakes": true,
           "showland": true,
           "subunitcolor": "white"
          },
          "hoverlabel": {
           "align": "left"
          },
          "hovermode": "closest",
          "mapbox": {
           "style": "light"
          },
          "paper_bgcolor": "white",
          "plot_bgcolor": "#E5ECF6",
          "polar": {
           "angularaxis": {
            "gridcolor": "white",
            "linecolor": "white",
            "ticks": ""
           },
           "bgcolor": "#E5ECF6",
           "radialaxis": {
            "gridcolor": "white",
            "linecolor": "white",
            "ticks": ""
           }
          },
          "scene": {
           "xaxis": {
            "backgroundcolor": "#E5ECF6",
            "gridcolor": "white",
            "gridwidth": 2,
            "linecolor": "white",
            "showbackground": true,
            "ticks": "",
            "zerolinecolor": "white"
           },
           "yaxis": {
            "backgroundcolor": "#E5ECF6",
            "gridcolor": "white",
            "gridwidth": 2,
            "linecolor": "white",
            "showbackground": true,
            "ticks": "",
            "zerolinecolor": "white"
           },
           "zaxis": {
            "backgroundcolor": "#E5ECF6",
            "gridcolor": "white",
            "gridwidth": 2,
            "linecolor": "white",
            "showbackground": true,
            "ticks": "",
            "zerolinecolor": "white"
           }
          },
          "shapedefaults": {
           "line": {
            "color": "#2a3f5f"
           }
          },
          "ternary": {
           "aaxis": {
            "gridcolor": "white",
            "linecolor": "white",
            "ticks": ""
           },
           "baxis": {
            "gridcolor": "white",
            "linecolor": "white",
            "ticks": ""
           },
           "bgcolor": "#E5ECF6",
           "caxis": {
            "gridcolor": "white",
            "linecolor": "white",
            "ticks": ""
           }
          },
          "title": {
           "x": 0.05
          },
          "xaxis": {
           "automargin": true,
           "gridcolor": "white",
           "linecolor": "white",
           "ticks": "",
           "title": {
            "standoff": 15
           },
           "zerolinecolor": "white",
           "zerolinewidth": 2
          },
          "yaxis": {
           "automargin": true,
           "gridcolor": "white",
           "linecolor": "white",
           "ticks": "",
           "title": {
            "standoff": 15
           },
           "zerolinecolor": "white",
           "zerolinewidth": 2
          }
         }
        }
       }
      }
     },
     "metadata": {},
     "output_type": "display_data"
    }
   ],
   "source": [
    "import pandas as pd\n",
    "import plotly.express as px\n",
    "\n",
    "# Data with latitude/longitude and values\n",
    "df = pd.read_excel('D:\\File_Analisa_Python\\DataSaldoPosisi.xlsx')\n",
    "\n",
    "fig = px.scatter_mapbox(df, lat = 'LAT', lon = 'LONG', size = 'SALDO_POSISI', color = 'CABANG', color_continuous_scale = 'plasma', size_max= 80,\n",
    "                        opacity= 0.5, zoom = 3.8, mapbox_style = 'carto-positron', height=600)\n",
    "fig.update_layout(margin={\"r\":1, \"t\":0, \"l\":1, \"b\":1})\n",
    "                        \n",
    "fig.show()"
   ]
  },
  {
   "cell_type": "code",
   "execution_count": 7,
   "metadata": {},
   "outputs": [
    {
     "data": {
      "text/plain": [
       "0     3.702402e+13\n",
       "1     4.978243e+12\n",
       "2     2.987075e+12\n",
       "3     1.903281e+12\n",
       "4     1.862046e+12\n",
       "          ...     \n",
       "77    1.579979e+12\n",
       "78    1.762805e+12\n",
       "79    1.115807e+12\n",
       "80    1.720236e+13\n",
       "81    1.317526e+13\n",
       "Name: SALDO_POSISI, Length: 82, dtype: float64"
      ]
     },
     "execution_count": 7,
     "metadata": {},
     "output_type": "execute_result"
    }
   ],
   "source": [
    "df['SALDO_POSISI']"
   ]
  },
  {
   "cell_type": "code",
   "execution_count": 21,
   "metadata": {},
   "outputs": [
    {
     "data": {
      "text/plain": [
       "0     Rp.37024020.28Juta\n",
       "1      Rp.4978242.74Juta\n",
       "2      Rp.2987074.61Juta\n",
       "3      Rp.1903280.80Juta\n",
       "4      Rp.1862046.30Juta\n",
       "             ...        \n",
       "77     Rp.1579978.77Juta\n",
       "78     Rp.1762805.49Juta\n",
       "79     Rp.1115807.47Juta\n",
       "80    Rp.17202363.15Juta\n",
       "81    Rp.13175258.04Juta\n",
       "Name: SALDO_POSISI, Length: 82, dtype: object"
      ]
     },
     "execution_count": 21,
     "metadata": {},
     "output_type": "execute_result"
    }
   ],
   "source": [
    "df['SALDO_POSISI'].apply(lambda x: \"Rp.{:.2f}Juta\".format((x/1000000)))"
   ]
  },
  {
   "cell_type": "code",
   "execution_count": null,
   "metadata": {},
   "outputs": [],
   "source": []
  }
 ],
 "metadata": {
  "kernelspec": {
   "display_name": "base",
   "language": "python",
   "name": "python3"
  },
  "language_info": {
   "codemirror_mode": {
    "name": "ipython",
    "version": 3
   },
   "file_extension": ".py",
   "mimetype": "text/x-python",
   "name": "python",
   "nbconvert_exporter": "python",
   "pygments_lexer": "ipython3",
   "version": "3.11.3"
  },
  "orig_nbformat": 4
 },
 "nbformat": 4,
 "nbformat_minor": 2
}
