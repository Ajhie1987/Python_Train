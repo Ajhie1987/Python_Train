{
 "cells": [
  {
   "cell_type": "markdown",
   "metadata": {},
   "source": [
    "Assignment 2\n",
    "\n",
    "Fajri Sofianto\n",
    "\n",
    "Link Data : https://www.kaggle.com/datasets/new-york-city/nyc-property-sales\n",
    "\n",
    "Guna menghitung statistik dari data tersebut\n"
   ]
  },
  {
   "cell_type": "code",
   "execution_count": 1,
   "metadata": {},
   "outputs": [],
   "source": [
    "import math\n",
    "import statistics\n",
    "import numpy as np\n",
    "import pandas as pd\n",
    "import seaborn as sns\n",
    "import matplotlib.pyplot as plt\n",
    "import scipy.stats\n",
    "import statsmodels.api as sm\n",
    "from scipy.stats import uniform\n",
    "\n",
    "from datetime import datetime\n",
    "\n",
    "class color:      # untuk warna teks penjelasan grafik\n",
    "   PURPLE = '\\033[95m'\n",
    "   CYAN = '\\033[96m'\n",
    "   DARKCYAN = '\\033[36m'\n",
    "   BLUE = '\\033[94m'\n",
    "   GREEN = '\\033[92m'\n",
    "   YELLOW = '\\033[93m'\n",
    "   RED = '\\033[91m'\n",
    "   BOLD = '\\033[1m'\n",
    "   UNDERLINE = '\\033[4m'\n",
    "   END = '\\033[0m'\n",
    "\n",
    "## Borough 1 : Manhattan, Borough 2 : Bronx, Borough 3 : Brooklyn, Borough 4 : Queens, Borough 5 : Staten Island"
   ]
  },
  {
   "cell_type": "code",
   "execution_count": 2,
   "metadata": {},
   "outputs": [
    {
     "data": {
      "text/html": [
       "<div>\n",
       "<style scoped>\n",
       "    .dataframe tbody tr th:only-of-type {\n",
       "        vertical-align: middle;\n",
       "    }\n",
       "\n",
       "    .dataframe tbody tr th {\n",
       "        vertical-align: top;\n",
       "    }\n",
       "\n",
       "    .dataframe thead th {\n",
       "        text-align: right;\n",
       "    }\n",
       "</style>\n",
       "<table border=\"1\" class=\"dataframe\">\n",
       "  <thead>\n",
       "    <tr style=\"text-align: right;\">\n",
       "      <th></th>\n",
       "      <th>KEY</th>\n",
       "      <th>BOROUGH</th>\n",
       "      <th>BLOCK</th>\n",
       "      <th>LOT</th>\n",
       "      <th>ZIP CODE</th>\n",
       "      <th>RESIDENTIAL UNITS</th>\n",
       "      <th>COMMERCIAL UNITS</th>\n",
       "      <th>TOTAL UNITS</th>\n",
       "      <th>YEAR BUILT</th>\n",
       "      <th>TAX CLASS AT TIME OF SALE</th>\n",
       "      <th>SALE PRICE</th>\n",
       "    </tr>\n",
       "  </thead>\n",
       "  <tbody>\n",
       "    <tr>\n",
       "      <th>count</th>\n",
       "      <td>84548.000000</td>\n",
       "      <td>84548.000000</td>\n",
       "      <td>84548.000000</td>\n",
       "      <td>84548.000000</td>\n",
       "      <td>84548.000000</td>\n",
       "      <td>84548.000000</td>\n",
       "      <td>84548.000000</td>\n",
       "      <td>84548.000000</td>\n",
       "      <td>84548.000000</td>\n",
       "      <td>84548.000000</td>\n",
       "      <td>8.454800e+04</td>\n",
       "    </tr>\n",
       "    <tr>\n",
       "      <th>mean</th>\n",
       "      <td>10344.359878</td>\n",
       "      <td>2.998758</td>\n",
       "      <td>4237.218976</td>\n",
       "      <td>376.224015</td>\n",
       "      <td>10731.991614</td>\n",
       "      <td>2.025264</td>\n",
       "      <td>0.193559</td>\n",
       "      <td>2.249184</td>\n",
       "      <td>1945.965227</td>\n",
       "      <td>1.657485</td>\n",
       "      <td>1.056623e+06</td>\n",
       "    </tr>\n",
       "    <tr>\n",
       "      <th>std</th>\n",
       "      <td>7151.779436</td>\n",
       "      <td>1.289790</td>\n",
       "      <td>3568.263407</td>\n",
       "      <td>658.136814</td>\n",
       "      <td>1290.879147</td>\n",
       "      <td>16.721037</td>\n",
       "      <td>8.713183</td>\n",
       "      <td>18.972584</td>\n",
       "      <td>35.537798</td>\n",
       "      <td>0.819341</td>\n",
       "      <td>1.038794e+07</td>\n",
       "    </tr>\n",
       "    <tr>\n",
       "      <th>min</th>\n",
       "      <td>4.000000</td>\n",
       "      <td>1.000000</td>\n",
       "      <td>1.000000</td>\n",
       "      <td>1.000000</td>\n",
       "      <td>0.000000</td>\n",
       "      <td>0.000000</td>\n",
       "      <td>0.000000</td>\n",
       "      <td>0.000000</td>\n",
       "      <td>1680.000000</td>\n",
       "      <td>1.000000</td>\n",
       "      <td>0.000000e+00</td>\n",
       "    </tr>\n",
       "    <tr>\n",
       "      <th>25%</th>\n",
       "      <td>4231.000000</td>\n",
       "      <td>2.000000</td>\n",
       "      <td>1322.750000</td>\n",
       "      <td>22.000000</td>\n",
       "      <td>10305.000000</td>\n",
       "      <td>0.000000</td>\n",
       "      <td>0.000000</td>\n",
       "      <td>1.000000</td>\n",
       "      <td>1920.000000</td>\n",
       "      <td>1.000000</td>\n",
       "      <td>0.000000e+00</td>\n",
       "    </tr>\n",
       "    <tr>\n",
       "      <th>50%</th>\n",
       "      <td>8942.000000</td>\n",
       "      <td>3.000000</td>\n",
       "      <td>3311.000000</td>\n",
       "      <td>50.000000</td>\n",
       "      <td>11209.000000</td>\n",
       "      <td>1.000000</td>\n",
       "      <td>0.000000</td>\n",
       "      <td>1.000000</td>\n",
       "      <td>1940.000000</td>\n",
       "      <td>2.000000</td>\n",
       "      <td>4.150000e+05</td>\n",
       "    </tr>\n",
       "    <tr>\n",
       "      <th>75%</th>\n",
       "      <td>15987.250000</td>\n",
       "      <td>4.000000</td>\n",
       "      <td>6281.000000</td>\n",
       "      <td>1001.000000</td>\n",
       "      <td>11357.000000</td>\n",
       "      <td>2.000000</td>\n",
       "      <td>0.000000</td>\n",
       "      <td>2.000000</td>\n",
       "      <td>1965.000000</td>\n",
       "      <td>2.000000</td>\n",
       "      <td>8.300000e+05</td>\n",
       "    </tr>\n",
       "    <tr>\n",
       "      <th>max</th>\n",
       "      <td>26739.000000</td>\n",
       "      <td>5.000000</td>\n",
       "      <td>16322.000000</td>\n",
       "      <td>9106.000000</td>\n",
       "      <td>11694.000000</td>\n",
       "      <td>1844.000000</td>\n",
       "      <td>2261.000000</td>\n",
       "      <td>2261.000000</td>\n",
       "      <td>2017.000000</td>\n",
       "      <td>4.000000</td>\n",
       "      <td>2.210000e+09</td>\n",
       "    </tr>\n",
       "  </tbody>\n",
       "</table>\n",
       "</div>"
      ],
      "text/plain": [
       "                KEY       BOROUGH         BLOCK           LOT      ZIP CODE  \\\n",
       "count  84548.000000  84548.000000  84548.000000  84548.000000  84548.000000   \n",
       "mean   10344.359878      2.998758   4237.218976    376.224015  10731.991614   \n",
       "std     7151.779436      1.289790   3568.263407    658.136814   1290.879147   \n",
       "min        4.000000      1.000000      1.000000      1.000000      0.000000   \n",
       "25%     4231.000000      2.000000   1322.750000     22.000000  10305.000000   \n",
       "50%     8942.000000      3.000000   3311.000000     50.000000  11209.000000   \n",
       "75%    15987.250000      4.000000   6281.000000   1001.000000  11357.000000   \n",
       "max    26739.000000      5.000000  16322.000000   9106.000000  11694.000000   \n",
       "\n",
       "       RESIDENTIAL UNITS  COMMERCIAL UNITS   TOTAL UNITS    YEAR BUILT  \\\n",
       "count       84548.000000      84548.000000  84548.000000  84548.000000   \n",
       "mean            2.025264          0.193559      2.249184   1945.965227   \n",
       "std            16.721037          8.713183     18.972584     35.537798   \n",
       "min             0.000000          0.000000      0.000000   1680.000000   \n",
       "25%             0.000000          0.000000      1.000000   1920.000000   \n",
       "50%             1.000000          0.000000      1.000000   1940.000000   \n",
       "75%             2.000000          0.000000      2.000000   1965.000000   \n",
       "max          1844.000000       2261.000000   2261.000000   2017.000000   \n",
       "\n",
       "       TAX CLASS AT TIME OF SALE    SALE PRICE  \n",
       "count               84548.000000  8.454800e+04  \n",
       "mean                    1.657485  1.056623e+06  \n",
       "std                     0.819341  1.038794e+07  \n",
       "min                     1.000000  0.000000e+00  \n",
       "25%                     1.000000  0.000000e+00  \n",
       "50%                     2.000000  4.150000e+05  \n",
       "75%                     2.000000  8.300000e+05  \n",
       "max                     4.000000  2.210000e+09  "
      ]
     },
     "execution_count": 2,
     "metadata": {},
     "output_type": "execute_result"
    }
   ],
   "source": [
    "df = pd.read_csv('D:\\File_Analisa_Python/nycrollingsales.csv')      #insert file from local drive\n",
    "\n",
    "\n",
    "## Change anomaly values\n",
    "df['SALE PRICE'] = df['SALE PRICE'].replace(' -  ',0).astype(float) #replace - (dash) to zero and convert it to float\n",
    "\n",
    "df['SALE DATE'] = pd.to_datetime(df['SALE DATE'])                   #convert SALE DATE to Datetime\n",
    "\n",
    "df = df.rename(columns={'Unnamed: 0': 'KEY'})                       #rename column Unnamed 0 to KEY\n",
    "\n",
    "df['YEAR BUILT'] = df['YEAR BUILT'].replace(0,1900)\n",
    "df['YEAR BUILT'] = df['YEAR BUILT'].replace(1111,1900)              #change year built from 0 to 1900 and 1111 to 1900\n",
    "\n",
    "df['EASE-MENT'] = df['EASE-MENT'].replace(' ','-')                  #fill column Ease-ment with - (dash)\n",
    "\n",
    "df.describe()"
   ]
  },
  {
   "cell_type": "code",
   "execution_count": 18,
   "metadata": {},
   "outputs": [
    {
     "name": "stdout",
     "output_type": "stream",
     "text": [
      "Membaca data borough yang paling laku secara jumlah properti\n"
     ]
    },
    {
     "data": {
      "image/png": "[encoded data removed]",
      "text/plain": [
       "<Figure size 900x900 with 1 Axes>"
      ]
     },
     "metadata": {},
     "output_type": "display_data"
    },
    {
     "name": "stdout",
     "output_type": "stream",
     "text": [
      "Berdasarkan Jumlah Property yang terjual/pindah tangan, Borough 4 (Queens) merupakan borough yang paling banyak\n"
     ]
    }
   ],
   "source": [
    "df_count = df.groupby('BOROUGH').count()                                    #Menentukan Data Borough yang akan dianalisa berdasarkan jumlah properti yang terjual &\n",
    "df_count = df_count.reset_index()\n",
    "df_count = df_count[['BOROUGH', 'KEY']].rename(columns={'KEY':'COUNT'})\n",
    "\n",
    "\n",
    "print('''Membaca data borough yang paling laku secara jumlah properti''')\n",
    "\n",
    "df_count.set_index('BOROUGH').plot.pie(y='COUNT', figsize = (9,9), fontsize= 7, autopct='%1.1f%%', explode=[0, 0, 0, 0.1, 0])\n",
    "plt.legend()\n",
    "plt.ylabel('')\n",
    "plt.show()\n",
    "print('''Berdasarkan Jumlah Property yang terjual/pindah tangan, Borough 4 (Queens) merupakan borough yang paling banyak''')"
   ]
  },
  {
   "cell_type": "code",
   "execution_count": 4,
   "metadata": {},
   "outputs": [
    {
     "data": {
      "image/png": "[encoded data removed]",
      "text/plain": [
       "<Figure size 800x300 with 1 Axes>"
      ]
     },
     "metadata": {},
     "output_type": "display_data"
    },
    {
     "name": "stdout",
     "output_type": "stream",
     "text": [
      "Rata - rata properti Queens dibangun tahun 1947.42\n",
      "Nilai tengah 1945.0\n",
      "Nilai Modus 1920\n",
      "Outliers terlihat tidak terlalu banyak\n",
      "\n",
      "ModeResult(mode=array([1920], dtype=int64), count=array([1717]))\n"
     ]
    }
   ],
   "source": [
    "borough4 = df[(df['BOROUGH'] == 4 ) & (df['SALE PRICE'] != 0)]                  #filter borough 4 dan harga != 0 (bukan balik nama)\n",
    "\n",
    "plt.style.use('ggplot')\n",
    "borough4['YEAR BUILT'].plot(kind='box', vert=False, figsize=(8,3))\n",
    "plt.show()\n",
    "\n",
    "mean_year = borough4['YEAR BUILT'].mean()                        #Menghitung Rata - rata\n",
    "median_year = borough4['YEAR BUILT'].median()                    #Menghitung Nilai tengah\n",
    "mode_year = statistics.mode(borough4['YEAR BUILT'])              #Menghitung Modus\n",
    "hmean_year = statistics.harmonic_mean(borough4['YEAR BUILT'])    #Menghitung Harmonic Mean\n",
    "max_year = borough4['YEAR BUILT'].max()                          #Menghitung Nilai Maksimal\n",
    "min_year = borough4['YEAR BUILT'].min()                          #Menghitung Nilai Minimal\n",
    "modus_year = scipy.stats.mode(borough4['YEAR BUILT'], axis=None, keepdims=True)  #Menghitung Nilai Modus menggunakan Scipy\n",
    "\n",
    "print('Rata - rata properti Queens dibangun tahun',round(mean_year,2))\n",
    "print('Nilai tengah',median_year)\n",
    "print('Nilai Modus',mode_year)\n",
    "print('Outliers terlihat tidak terlalu banyak')\n",
    "print('')\n",
    "print(modus_year)"
   ]
  },
  {
   "cell_type": "code",
   "execution_count": 5,
   "metadata": {},
   "outputs": [
    {
     "name": "stdout",
     "output_type": "stream",
     "text": [
      "\u001b[92mkesimpulan dari data diatas didapat bahwa tahun pembuatan properti di NYC dengan rata - rata 1947 sedangkan nilai tengah dari\n",
      "tahun pembuatan 1945 dan frekuensi terbanyak properti dibangun tahun 1920 dengan jumlah 1717 kali\u001b[0m\n"
     ]
    }
   ],
   "source": [
    "print(color.GREEN+'kesimpulan dari data diatas didapat bahwa tahun pembuatan properti di NYC dengan rata - rata',round(mean_year),'''sedangkan nilai tengah dari\n",
    "tahun pembuatan''',round(median_year),'''dan frekuensi terbanyak properti dibangun tahun''',mode_year,'dengan jumlah 1717 kali'+color.END)"
   ]
  },
  {
   "cell_type": "code",
   "execution_count": 6,
   "metadata": {},
   "outputs": [
    {
     "name": "stdout",
     "output_type": "stream",
     "text": [
      "Rentang waktu bangunan didirikan pada Queens yaitu 147 tahun dimana bangunan paling tua didirikan dari tahun 1870 dan bangunan yg paling muda di tahun 2017\n",
      "Varian tahun properti didirikan di NYC sebesar 833.4\n",
      "Dengan nilai standar deviasi sebesar 28.87\n",
      "Nilai Skewness = 0.78 (positif) artinya data tersebut banyak properti yang didirikan di tahun muda sehingga membentuk distribusi positif\n",
      "Nilai Kurtosis = 0.22 (positif) dimana nilai kurtosis positif yaitu distribusi runcing dan data lebih banyak di bagian ekor\n",
      "\u001b[92m========================================================================\u001b[0m\n",
      "25% data property Quantile2 dibangun dibawah tahun 1925.0\n",
      "50% data property Quantile3 dibangun di tahun 1945.0\n",
      "25% data property Quantile4 dibangun di tahun 1960.0\n"
     ]
    }
   ],
   "source": [
    "build_max = borough4['YEAR BUILT'].max()\n",
    "build_min = borough4['YEAR BUILT'].min()\n",
    "\n",
    "df_year = borough4[['YEAR BUILT']]\n",
    "\n",
    "range = build_max - build_min                   #periksa rentang waktu property dibangun\n",
    "var = borough4['YEAR BUILT'].var(ddof=0)              #periksa variance populasi\n",
    "stdeviation = borough4['YEAR BUILT'].std(ddof=0)      #periksa standar deviasi populasi\n",
    "skew = borough4['YEAR BUILT'].skew()\n",
    "kurt = borough4['YEAR BUILT'].kurtosis()\n",
    "\n",
    "\n",
    "print('Rentang waktu bangunan didirikan pada Queens yaitu',range,'tahun', 'dimana bangunan paling tua didirikan dari tahun', build_min, 'dan bangunan yg paling muda di tahun', build_max )\n",
    "print('Varian tahun properti didirikan di NYC sebesar',round(var,2))\n",
    "print('Dengan nilai standar deviasi sebesar',round(stdeviation,2))\n",
    "print('Nilai Skewness =',round(skew,2),'(positif) artinya data tersebut banyak properti yang didirikan di tahun muda sehingga membentuk distribusi positif')\n",
    "print('Nilai Kurtosis =',round(kurt,2),'(positif) dimana nilai kurtosis positif yaitu distribusi runcing dan data lebih banyak di bagian ekor')\n",
    "print(color.GREEN+'========================================================================'+color.END)\n",
    "print('25% data property Quantile2 dibangun dibawah tahun',borough4['YEAR BUILT'].quantile(0.25))\n",
    "print('50% data property Quantile3 dibangun di tahun',borough4['YEAR BUILT'].quantile(0.5))\n",
    "print('25% data property Quantile4 dibangun di tahun',borough4['YEAR BUILT'].quantile(0.75))\n"
   ]
  },
  {
   "cell_type": "code",
   "execution_count": 7,
   "metadata": {},
   "outputs": [
    {
     "name": "stdout",
     "output_type": "stream",
     "text": [
      "\u001b[92mNilai korelasi R hampir mendekati 0 ( 0.0032641678174891533 ) yang dapat diartikan bahwa tidak ada hubungannya antara tahun didirikan bangunan pada Queens dengan Harga penjualannya\u001b[0m\n"
     ]
    }
   ],
   "source": [
    "cor_year_price = borough4['YEAR BUILT'].corr(borough4['SALE PRICE'])            #mencari korelasi\n",
    "\n",
    "print(color.GREEN+'Nilai korelasi R hampir mendekati 0 (',cor_year_price,') yang dapat diartikan bahwa tidak ada hubungannya antara tahun didirikan bangunan pada Queens dengan Harga penjualannya'+color.END)"
   ]
  },
  {
   "cell_type": "code",
   "execution_count": 8,
   "metadata": {},
   "outputs": [
    {
     "data": {
      "image/png": "[encoded data removed]",
      "text/plain": [
       "<Figure size 500x500 with 1 Axes>"
      ]
     },
     "metadata": {},
     "output_type": "display_data"
    },
    {
     "name": "stdout",
     "output_type": "stream",
     "text": [
      "Properti di Queens terdistribusi normal dalam segi tahun dibangunnya\n"
     ]
    }
   ],
   "source": [
    "data_norm = scipy.stats.norm.rvs(size= len(borough4['YEAR BUILT']), loc=mean_year, scale=stdeviation)\n",
    "\n",
    "sns.displot(data_norm,\n",
    "            kde=True,\n",
    "            bins=20,\n",
    "            color='darkgreen',\n",
    "            alpha=0.5)\n",
    "plt.ylabel('Freq')\n",
    "plt.xlabel('Year Built')\n",
    "plt.show()\n",
    "\n",
    "print('Properti di Queens terdistribusi normal dalam segi tahun dibangunnya')"
   ]
  },
  {
   "cell_type": "code",
   "execution_count": 9,
   "metadata": {},
   "outputs": [
    {
     "name": "stdout",
     "output_type": "stream",
     "text": [
      "CONFIDENCE INTERVAL\n",
      "\n",
      "\u001b[91mPertanyaan : Berapa persen property yang dibangun diatas tahun 1950 di Queens?\u001b[0m\n",
      "18441 total properti di Queens\n",
      "7191 total properti yang dibangun setelah tahun 1950 atau 38.99 %\n",
      "\n",
      "1975 1976\n",
      "\n",
      "\u001b[92m38,9% properti di Queens dibangun direntang tahun 1974 - 1975\u001b[0m\n"
     ]
    }
   ],
   "source": [
    "n = len(borough4['YEAR BUILT'])\n",
    "x = borough4[borough4['YEAR BUILT'] > 1950]['YEAR BUILT'].count()\n",
    "percentage_year = (x/len(borough4['YEAR BUILT'])*100)\n",
    "\n",
    "print('CONFIDENCE INTERVAL')\n",
    "print('')\n",
    "print(color.RED+'Pertanyaan : Berapa persen property yang dibangun diatas tahun 1950 di Queens?'+color.END)\n",
    "print(n,'total properti di Queens')\n",
    "print(x,'total properti yang dibangun setelah tahun 1950 atau',round(percentage_year,2),'%')\n",
    "print('')\n",
    "\n",
    "data4 = borough4[borough4['YEAR BUILT'] > 1950]\n",
    "be = data4['YEAR BUILT'].mean()\n",
    "z = 1.96\n",
    "std = data4['YEAR BUILT'].std() \n",
    "n = len(data4['YEAR BUILT'])\n",
    "se = std / np.sqrt(n)\n",
    "me = z * se\n",
    "\n",
    "print(round(be - me), round(be + me))\n",
    "\n",
    "print('')\n",
    "print(color.GREEN+'38,9% properti di Queens dibangun direntang tahun 1974 - 1975'+color.END)"
   ]
  },
  {
   "cell_type": "code",
   "execution_count": 10,
   "metadata": {},
   "outputs": [
    {
     "name": "stdout",
     "output_type": "stream",
     "text": [
      "HYPOTHESIS TESTING\n",
      "\n",
      "Hypothesis : 38,9% properti di Borough Queens dibangung di rentang tahun 1974 - 1975\n",
      "H1 = 38.9% di Queens tahun 1974 - 1975\n",
      "H0 = 38.9% di Queens bukan di tahun 1974 - 1975\n",
      "rata2 properti Queens dibangun di tahun 1974.844155844156 dari 77 properti\n",
      "rata2 properti Queens dibangun di tahun 1947.4234043706958 dari 18441 properti\n",
      "\n",
      "7.78915550965464e-17\n",
      "\n",
      "REJECT null hypothesis H0\n",
      "\n",
      "hipotesa H0 bisa direject, artinya properti di Queens dibangun diantara tahun 1974-1975\n"
     ]
    }
   ],
   "source": [
    "print('HYPOTHESIS TESTING')\n",
    "print('')\n",
    "print('Hypothesis : 38,9% properti di Borough Queens dibangung di rentang tahun 1974 - 1975')\n",
    "print('H1 = 38.9% di Queens tahun 1974 - 1975')\n",
    "print('H0 = 38.9% di Queens bukan di tahun 1974 - 1975')\n",
    "alpha = 0.05\n",
    "\n",
    "df_h1 = borough4[(borough4['YEAR BUILT'] >= 1974 ) & (borough4['YEAR BUILT'] <= 1975)]['YEAR BUILT']\n",
    "df_h0 = borough4[(borough4['YEAR BUILT'] <= 1974 ) | (borough4['YEAR BUILT'] >= 1975)]['YEAR BUILT']\n",
    "\n",
    "print(\"rata2 properti Queens dibangun di tahun\", df_h1.mean(), 'dari', len(df_h1), 'properti' )\n",
    "print(\"rata2 properti Queens dibangun di tahun\", df_h0.mean(), 'dari', len(df_h0), 'properti' )\n",
    "print('')\n",
    "\n",
    "zstat, pvalue = sm.stats.ztest(df_h1, df_h0, alternative=\"two-sided\")\n",
    "print(pvalue)\n",
    "print('')\n",
    "\n",
    "if (pvalue < alpha):\n",
    "  print(\"REJECT null hypothesis H0\")\n",
    "else:\n",
    "  print(\"FAIL to reject null hypothesis H0\")\n",
    "\n",
    "print('')\n",
    "print('hipotesa H0 bisa direject, artinya properti di Queens dibangun diantara tahun 1974-1975')"
   ]
  },
  {
   "cell_type": "markdown",
   "metadata": {},
   "source": [
    "# Hasil Analisa\n",
    "\n",
    "- Queens merupakan borough paling banyak laku dalam jumlah properti di NYC dengan jumlah penjualan properti sebanyak 26.736 dari total 84.548 properti di NYC dimana transaksi penjualan properti tersebut termasuk\n",
    "dalam transaksi balik nama / waris (nominal 0 dolar)\n",
    "- Properti di Queens rata - rata dibangun di tahun 1947 dengan frekuensi properti dibangun di tahun 1920 sebanyak 1.717 properti\n",
    "- Bangunan paling tua di Queens didirikan di tahun 1870 dan bangunan yg paling muda di tahun 2017 dengan nilai deviasi sebesar 28,87 terdistribusi normal\n",
    "- dengan rata - rata properti didirikan di tahun 1947, dapat dikatakan bahwa sebanyak 38,9% bangunan di Queens didirikan setelah tahun 1950"
   ]
  },
  {
   "cell_type": "code",
   "execution_count": null,
   "metadata": {},
   "outputs": [],
   "source": []
  }
 ],
 "metadata": {
  "kernelspec": {
   "display_name": "base",
   "language": "python",
   "name": "python3"
  },
  "language_info": {
   "codemirror_mode": {
    "name": "ipython",
    "version": 3
   },
   "file_extension": ".py",
   "mimetype": "text/x-python",
   "name": "python",
   "nbconvert_exporter": "python",
   "pygments_lexer": "ipython3",
   "version": "3.11.3"
  },
  "orig_nbformat": 4
 },
 "nbformat": 4,
 "nbformat_minor": 2
}
