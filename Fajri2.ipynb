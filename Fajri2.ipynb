{
 "cells": [
  {
   "cell_type": "markdown",
   "metadata": {},
   "source": [
    "Assignment 2\n",
    "\n",
    "Fajri Sofianto\n",
    "\n",
    "Link Data : https://www.kaggle.com/datasets/new-york-city/nyc-property-sales\n",
    "\n",
    "Guna menghitung statistik dari data tersebut\n"
   ]
  },
  {
   "cell_type": "code",
   "execution_count": 2,
   "metadata": {},
   "outputs": [],
   "source": [
    "import math\n",
    "import statistics\n",
    "import numpy as np\n",
    "import pandas as pd\n",
    "import matplotlib.pyplot as plt\n",
    "import scipy.stats\n",
    "from scipy.stats import uniform\n",
    "\n",
    "from datetime import datetime\n",
    "\n",
    "class color:      # untuk warna teks penjelasan grafik\n",
    "   PURPLE = '\\033[95m'\n",
    "   CYAN = '\\033[96m'\n",
    "   DARKCYAN = '\\033[36m'\n",
    "   BLUE = '\\033[94m'\n",
    "   GREEN = '\\033[92m'\n",
    "   YELLOW = '\\033[93m'\n",
    "   RED = '\\033[91m'\n",
    "   BOLD = '\\033[1m'\n",
    "   UNDERLINE = '\\033[4m'\n",
    "   END = '\\033[0m'"
   ]
  },
  {
   "cell_type": "code",
   "execution_count": 3,
   "metadata": {},
   "outputs": [
    {
     "data": {
      "text/html": [
       "<div>\n",
       "<style scoped>\n",
       "    .dataframe tbody tr th:only-of-type {\n",
       "        vertical-align: middle;\n",
       "    }\n",
       "\n",
       "    .dataframe tbody tr th {\n",
       "        vertical-align: top;\n",
       "    }\n",
       "\n",
       "    .dataframe thead th {\n",
       "        text-align: right;\n",
       "    }\n",
       "</style>\n",
       "<table border=\"1\" class=\"dataframe\">\n",
       "  <thead>\n",
       "    <tr style=\"text-align: right;\">\n",
       "      <th></th>\n",
       "      <th>KEY</th>\n",
       "      <th>BOROUGH</th>\n",
       "      <th>BLOCK</th>\n",
       "      <th>LOT</th>\n",
       "      <th>ZIP CODE</th>\n",
       "      <th>RESIDENTIAL UNITS</th>\n",
       "      <th>COMMERCIAL UNITS</th>\n",
       "      <th>TOTAL UNITS</th>\n",
       "      <th>YEAR BUILT</th>\n",
       "      <th>TAX CLASS AT TIME OF SALE</th>\n",
       "      <th>SALE PRICE</th>\n",
       "    </tr>\n",
       "  </thead>\n",
       "  <tbody>\n",
       "    <tr>\n",
       "      <th>count</th>\n",
       "      <td>84548.000000</td>\n",
       "      <td>84548.000000</td>\n",
       "      <td>84548.000000</td>\n",
       "      <td>84548.000000</td>\n",
       "      <td>84548.000000</td>\n",
       "      <td>84548.000000</td>\n",
       "      <td>84548.000000</td>\n",
       "      <td>84548.000000</td>\n",
       "      <td>84548.000000</td>\n",
       "      <td>84548.000000</td>\n",
       "      <td>8.454800e+04</td>\n",
       "    </tr>\n",
       "    <tr>\n",
       "      <th>mean</th>\n",
       "      <td>10344.359878</td>\n",
       "      <td>2.998758</td>\n",
       "      <td>4237.218976</td>\n",
       "      <td>376.224015</td>\n",
       "      <td>10731.991614</td>\n",
       "      <td>2.025264</td>\n",
       "      <td>0.193559</td>\n",
       "      <td>2.249184</td>\n",
       "      <td>1945.965227</td>\n",
       "      <td>1.657485</td>\n",
       "      <td>1.056623e+06</td>\n",
       "    </tr>\n",
       "    <tr>\n",
       "      <th>std</th>\n",
       "      <td>7151.779436</td>\n",
       "      <td>1.289790</td>\n",
       "      <td>3568.263407</td>\n",
       "      <td>658.136814</td>\n",
       "      <td>1290.879147</td>\n",
       "      <td>16.721037</td>\n",
       "      <td>8.713183</td>\n",
       "      <td>18.972584</td>\n",
       "      <td>35.537798</td>\n",
       "      <td>0.819341</td>\n",
       "      <td>1.038794e+07</td>\n",
       "    </tr>\n",
       "    <tr>\n",
       "      <th>min</th>\n",
       "      <td>4.000000</td>\n",
       "      <td>1.000000</td>\n",
       "      <td>1.000000</td>\n",
       "      <td>1.000000</td>\n",
       "      <td>0.000000</td>\n",
       "      <td>0.000000</td>\n",
       "      <td>0.000000</td>\n",
       "      <td>0.000000</td>\n",
       "      <td>1680.000000</td>\n",
       "      <td>1.000000</td>\n",
       "      <td>0.000000e+00</td>\n",
       "    </tr>\n",
       "    <tr>\n",
       "      <th>25%</th>\n",
       "      <td>4231.000000</td>\n",
       "      <td>2.000000</td>\n",
       "      <td>1322.750000</td>\n",
       "      <td>22.000000</td>\n",
       "      <td>10305.000000</td>\n",
       "      <td>0.000000</td>\n",
       "      <td>0.000000</td>\n",
       "      <td>1.000000</td>\n",
       "      <td>1920.000000</td>\n",
       "      <td>1.000000</td>\n",
       "      <td>0.000000e+00</td>\n",
       "    </tr>\n",
       "    <tr>\n",
       "      <th>50%</th>\n",
       "      <td>8942.000000</td>\n",
       "      <td>3.000000</td>\n",
       "      <td>3311.000000</td>\n",
       "      <td>50.000000</td>\n",
       "      <td>11209.000000</td>\n",
       "      <td>1.000000</td>\n",
       "      <td>0.000000</td>\n",
       "      <td>1.000000</td>\n",
       "      <td>1940.000000</td>\n",
       "      <td>2.000000</td>\n",
       "      <td>4.150000e+05</td>\n",
       "    </tr>\n",
       "    <tr>\n",
       "      <th>75%</th>\n",
       "      <td>15987.250000</td>\n",
       "      <td>4.000000</td>\n",
       "      <td>6281.000000</td>\n",
       "      <td>1001.000000</td>\n",
       "      <td>11357.000000</td>\n",
       "      <td>2.000000</td>\n",
       "      <td>0.000000</td>\n",
       "      <td>2.000000</td>\n",
       "      <td>1965.000000</td>\n",
       "      <td>2.000000</td>\n",
       "      <td>8.300000e+05</td>\n",
       "    </tr>\n",
       "    <tr>\n",
       "      <th>max</th>\n",
       "      <td>26739.000000</td>\n",
       "      <td>5.000000</td>\n",
       "      <td>16322.000000</td>\n",
       "      <td>9106.000000</td>\n",
       "      <td>11694.000000</td>\n",
       "      <td>1844.000000</td>\n",
       "      <td>2261.000000</td>\n",
       "      <td>2261.000000</td>\n",
       "      <td>2017.000000</td>\n",
       "      <td>4.000000</td>\n",
       "      <td>2.210000e+09</td>\n",
       "    </tr>\n",
       "  </tbody>\n",
       "</table>\n",
       "</div>"
      ],
      "text/plain": [
       "                KEY       BOROUGH         BLOCK           LOT      ZIP CODE  \\\n",
       "count  84548.000000  84548.000000  84548.000000  84548.000000  84548.000000   \n",
       "mean   10344.359878      2.998758   4237.218976    376.224015  10731.991614   \n",
       "std     7151.779436      1.289790   3568.263407    658.136814   1290.879147   \n",
       "min        4.000000      1.000000      1.000000      1.000000      0.000000   \n",
       "25%     4231.000000      2.000000   1322.750000     22.000000  10305.000000   \n",
       "50%     8942.000000      3.000000   3311.000000     50.000000  11209.000000   \n",
       "75%    15987.250000      4.000000   6281.000000   1001.000000  11357.000000   \n",
       "max    26739.000000      5.000000  16322.000000   9106.000000  11694.000000   \n",
       "\n",
       "       RESIDENTIAL UNITS  COMMERCIAL UNITS   TOTAL UNITS    YEAR BUILT  \\\n",
       "count       84548.000000      84548.000000  84548.000000  84548.000000   \n",
       "mean            2.025264          0.193559      2.249184   1945.965227   \n",
       "std            16.721037          8.713183     18.972584     35.537798   \n",
       "min             0.000000          0.000000      0.000000   1680.000000   \n",
       "25%             0.000000          0.000000      1.000000   1920.000000   \n",
       "50%             1.000000          0.000000      1.000000   1940.000000   \n",
       "75%             2.000000          0.000000      2.000000   1965.000000   \n",
       "max          1844.000000       2261.000000   2261.000000   2017.000000   \n",
       "\n",
       "       TAX CLASS AT TIME OF SALE    SALE PRICE  \n",
       "count               84548.000000  8.454800e+04  \n",
       "mean                    1.657485  1.056623e+06  \n",
       "std                     0.819341  1.038794e+07  \n",
       "min                     1.000000  0.000000e+00  \n",
       "25%                     1.000000  0.000000e+00  \n",
       "50%                     2.000000  4.150000e+05  \n",
       "75%                     2.000000  8.300000e+05  \n",
       "max                     4.000000  2.210000e+09  "
      ]
     },
     "execution_count": 3,
     "metadata": {},
     "output_type": "execute_result"
    }
   ],
   "source": [
    "df = pd.read_csv('D:\\File_Analisa_Python/nycrollingsales.csv')      #insert file from local drive\n",
    "\n",
    "\n",
    "## Change anomaly values\n",
    "df['SALE PRICE'] = df['SALE PRICE'].replace(' -  ',0).astype(float) #replace - (dash) to zero and convert it to float\n",
    "\n",
    "df['SALE DATE'] = pd.to_datetime(df['SALE DATE'])                   #convert SALE DATE to Datetime\n",
    "\n",
    "df = df.rename(columns={'Unnamed: 0': 'KEY'})                       #rename column Unnamed 0 to KEY\n",
    "\n",
    "df['YEAR BUILT'] = df['YEAR BUILT'].replace(0,1900)\n",
    "df['YEAR BUILT'] = df['YEAR BUILT'].replace(1111,1900)              #change year built from 0 to 1900 and 1111 to 1900\n",
    "\n",
    "df['EASE-MENT'] = df['EASE-MENT'].replace(' ','-')                  #fill column Ease-ment with - (dash)\n",
    "\n",
    "df.describe()"
   ]
  },
  {
   "cell_type": "code",
   "execution_count": 4,
   "metadata": {},
   "outputs": [
    {
     "data": {
      "image/png": "[encoded data removed]",
      "text/plain": [
       "<Figure size 1200x300 with 1 Axes>"
      ]
     },
     "metadata": {},
     "output_type": "display_data"
    },
    {
     "name": "stdout",
     "output_type": "stream",
     "text": [
      "Rata - rata harga jual 1494927.31 dolar\n",
      "Nilai tengah 625500.0 dolar\n",
      "Nilai Modus 10.0 dolar\n",
      "Outliers terlihat sangat banyak\n",
      "\n",
      "ModeResult(mode=array([10.]), count=array([766]))\n"
     ]
    }
   ],
   "source": [
    "df[df['BUILDING CLASS AT PRESENT'] != df['BUILDING CLASS AT TIME OF SALE']] # Cek Jenis Bangunan yang dijual berbeda dari Jenis Awalnya\n",
    "\n",
    "df_sale = df[df['SALE PRICE'] != 0]             #Menurut informasi, data harga jual dengan nilai 0 dolar merupakan transaksi balik nama, dan orang tua kasih ke anak (warisan)\n",
    "                                                #exclude bangunan yang diwariskan / balik nama (harga jual = 0 dolar)\n",
    "\n",
    "plt.style.use('ggplot')\n",
    "df_sale['SALE PRICE'].plot(kind='box', vert=False, figsize=(12,3))\n",
    "plt.show()\n",
    "\n",
    "mean_sale = df_sale['SALE PRICE'].mean()                        #Menghitung Rata - rata\n",
    "median_sale = df_sale['SALE PRICE'].median()                    #Menghitung Nilai tengah\n",
    "mode_sale = statistics.mode(df_sale['SALE PRICE'])              #Menghitung Modus\n",
    "hmean_sale = statistics.harmonic_mean(df_sale['SALE PRICE'])    #Menghitung Harmonic Mean\n",
    "max_sale = df_sale['SALE PRICE'].max()                          #Menghitung Nilai Maksimal\n",
    "min_sale = df_sale['SALE PRICE'].min()                          #Menghitung Nilai Minimal\n",
    "modus_sale = scipy.stats.mode(df_sale['SALE PRICE'], axis=None, keepdims=True)  #Menghitung Nilai Modus menggunakan Scipy\n",
    "\n",
    "print('Rata - rata harga jual',round(mean_sale,2),'dolar')\n",
    "print('Nilai tengah',median_sale,'dolar')\n",
    "print('Nilai Modus',mode_sale, 'dolar')\n",
    "print('Outliers terlihat sangat banyak')\n",
    "print('')\n",
    "print(modus_sale)"
   ]
  },
  {
   "cell_type": "code",
   "execution_count": 5,
   "metadata": {},
   "outputs": [
    {
     "name": "stdout",
     "output_type": "stream",
     "text": [
      "\u001b[4m\u001b[92msetelah dicek lebih lanjut, ternyata terdapat 23.327 dari 59.759 data dimana harga jual bangunan dibawah 500ribu dolar dan merupakan harga yang tidak wajar\u001b[0m\n",
      "\n",
      "dari hasil diatas, pengujian nilai rata - rata perlu menggunakan perhitungan Harmonic Mean dimana terdapat data outliers yang besar sedangkan data modus hanya 10 dolar\n",
      "menurut https://www.propertyshark.com/mason/market-trends/residential/nyc-all menyebutkan harga rata - rata penjualan property NYC di 740ribu dolar\n",
      "\n",
      "kesimpulan dari harga penjualan bangunan di NYC pada tahun 2016 - 2017 masih terdapat anomali dengan harga rata - rata harga penjualan sebesar 278.37 dolar\n",
      "sedangkan nilai tengah dari harga penjualan tersebut adalah sebesar 625500.0 dolar dan setelah mengeluarkan harga penjualan bangunan yang 0 (gratis), ternyata masih terdapat \n",
      "harga jual bangunan sebesar 1 dolar dengan harga penjualan frekuensi terbanyak (modus) sebesar 10.0 dolar dengan jumlah 766 kali\n"
     ]
    }
   ],
   "source": [
    "df_sale[df_sale['SALE PRICE'] <= 50000].count()       #cek harga jual bangunan dibawah 100 dolar\n",
    "\n",
    "print(color.UNDERLINE+color.GREEN+'setelah dicek lebih lanjut, ternyata terdapat 23.327 dari 59.759 data dimana harga jual bangunan dibawah 500ribu dolar dan merupakan harga yang tidak wajar'+color.END)\n",
    "print('')\n",
    "\n",
    "print('''dari hasil diatas, pengujian nilai rata - rata perlu menggunakan perhitungan Harmonic Mean dimana terdapat data outliers yang besar sedangkan data modus hanya 10 dolar\n",
    "menurut https://www.propertyshark.com/mason/market-trends/residential/nyc-all menyebutkan harga rata - rata penjualan property NYC di 740ribu dolar''')\n",
    "print('')\n",
    "print('kesimpulan dari harga penjualan bangunan di NYC pada tahun 2016 - 2017 masih terdapat anomali dengan harga rata - rata harga penjualan sebesar',round(hmean_sale,2),'''dolar\n",
    "sedangkan nilai tengah dari harga penjualan tersebut adalah sebesar''',median_sale,'''dolar dan setelah mengeluarkan harga penjualan bangunan yang 0 (gratis), ternyata masih terdapat \n",
    "harga jual bangunan sebesar 1 dolar dengan harga penjualan frekuensi terbanyak (modus) sebesar''',mode_sale,'dolar dengan jumlah 766 kali')"
   ]
  },
  {
   "cell_type": "code",
   "execution_count": 6,
   "metadata": {},
   "outputs": [
    {
     "data": {
      "image/png": "[encoded data removed]",
      "text/plain": [
       "<Figure size 1200x300 with 1 Axes>"
      ]
     },
     "metadata": {},
     "output_type": "display_data"
    },
    {
     "name": "stdout",
     "output_type": "stream",
     "text": [
      "Rentang waktu bangunan didirikan pada data ini yaitu 337 tahun dimana bangunan paling tua didirikan dari tahun 1680 dan bangunan yg paling muda di tahun 2017\n",
      "Varian tahun properti didirikan di NYC sebesar 1262.92\n",
      "Dengan nilai standar deviasi sebesar 35.54\n",
      "Nilai Skewness = 0.45 (positif) artinya data tersebut banyak properti yang didirikan di tahun muda sehingga membentuk distribusi positif\n",
      "Nilai Kurtosis = -0.69 (negatif) dimana nilai kurtosis negatif yaitu distribusi kurang memuncak daripada distribusi normal\n",
      "Persentile Q1 1920.0\n",
      "Persentile Q2 1940.0\n",
      "Persentile Q3 1965.0\n"
     ]
    }
   ],
   "source": [
    "build_max = df['YEAR BUILT'].max()\n",
    "build_min = df['YEAR BUILT'].min()\n",
    "\n",
    "df_year = df[['YEAR BUILT']]\n",
    "\n",
    "df_year.plot(kind='box', vert=False, figsize=(12,3))\n",
    "plt.xlabel('Tahun Didirikan')\n",
    "plt.show()\n",
    "\n",
    "range = build_max - build_min                   #periksa rentang waktu property dibangun\n",
    "var = df['YEAR BUILT'].var(ddof=0)              #periksa variance populasi\n",
    "stdeviation = df['YEAR BUILT'].std(ddof=0)      #periksa standar deviasi populasi\n",
    "skew = df['YEAR BUILT'].skew()\n",
    "kurt = df['YEAR BUILT'].kurtosis()\n",
    "\n",
    "\n",
    "print('Rentang waktu bangunan didirikan pada data ini yaitu',range,'tahun', 'dimana bangunan paling tua didirikan dari tahun', build_min, 'dan bangunan yg paling muda di tahun', build_max )\n",
    "print('Varian tahun properti didirikan di NYC sebesar',round(var,2))\n",
    "print('Dengan nilai standar deviasi sebesar',round(stdeviation,2))\n",
    "print('Nilai Skewness =',round(skew,2),'(positif) artinya data tersebut banyak properti yang didirikan di tahun muda sehingga membentuk distribusi positif')\n",
    "print('Nilai Kurtosis =',round(kurt,2),'(negatif) dimana nilai kurtosis negatif yaitu distribusi kurang memuncak daripada distribusi normal')\n",
    "print('Persentile Q1',df['YEAR BUILT'].quantile(0.25))\n",
    "print('Persentile Q2',df['YEAR BUILT'].quantile(0.5))\n",
    "print('Persentile Q3',df['YEAR BUILT'].quantile(0.75))\n"
   ]
  },
  {
   "cell_type": "code",
   "execution_count": 10,
   "metadata": {},
   "outputs": [
    {
     "data": {
      "text/plain": [
       "<Axes: xlabel='YEAR BUILT'>"
      ]
     },
     "execution_count": 10,
     "metadata": {},
     "output_type": "execute_result"
    },
    {
     "data": {
      "image/png": "[encoded data removed]",
      "text/plain": [
       "<Figure size 640x480 with 1 Axes>"
      ]
     },
     "metadata": {},
     "output_type": "display_data"
    }
   ],
   "source": [
    "df[['YEAR BUILT', 'KEY']].groupby('YEAR BUILT').count().plot()"
   ]
  },
  {
   "cell_type": "code",
   "execution_count": null,
   "metadata": {},
   "outputs": [],
   "source": []
  }
 ],
 "metadata": {
  "kernelspec": {
   "display_name": "base",
   "language": "python",
   "name": "python3"
  },
  "language_info": {
   "codemirror_mode": {
    "name": "ipython",
    "version": 3
   },
   "file_extension": ".py",
   "mimetype": "text/x-python",
   "name": "python",
   "nbconvert_exporter": "python",
   "pygments_lexer": "ipython3",
   "version": "3.11.3"
  },
  "orig_nbformat": 4
 },
 "nbformat": 4,
 "nbformat_minor": 2
}
