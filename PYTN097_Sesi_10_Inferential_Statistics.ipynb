{
  "nbformat": 4,
  "nbformat_minor": 0,
  "metadata": {
    "colab": {
      "provenance": []
    },
    "kernelspec": {
      "name": "python3",
      "display_name": "Python 3"
    },
    "language_info": {
      "name": "python"
    }
  },
  "cells": [
    {
      "cell_type": "markdown",
      "source": [
        "# Inferential Statistics\n",
        "statistik untuk mengambil kesimpulan.\n",
        "\n",
        "statement yang benar, berbasis statistik, dibuat berdasarkan data menggunakan teknik inferential statistics.\n",
        "\n",
        "## Terminologi\n",
        "- Probability Distribution - Histogram, frekuensi kejadian per kategori/ per grup (bin) range angka\n",
        "- Sample vs Population - contoh data vs keseluruhan data\n",
        "- Random Variable: satu titik data di dataset\n",
        "    - Discrete, kategorikal, seperti 1 2 3 4 5 6 hasil buang dadu\n",
        "    - Continuous, berjalan terus, seperti waktu, uang, berat, tinggi\n",
        "- Probability Mass Function (Discrete)\n",
        "- Probability Density Function (Continuous)\n",
        "\n",
        "# Hal yang Dipelajari hari ini\n",
        " 1. Probability Distribution\n",
        " 2. Confidence Interval\n",
        " 3. Hypothesis Testing\n",
        "\n",
        "## Probability Distribution\n",
        " Uniform Distribution - saat distribusi data nya sama untuk setiap kategori, seperti buang dadu.\n",
        "\n"
      ],
      "metadata": {
        "id": "ZPJ8GN_-T5OS"
      }
    },
    {
      "cell_type": "code",
      "execution_count": null,
      "metadata": {
        "id": "fN6nohxKRY6j"
      },
      "outputs": [],
      "source": [
        "# import package\n",
        "import numpy as np\n",
        "import pandas as pd\n",
        "import matplotlib.pyplot as plt\n",
        "import seaborn as sns\n",
        "\n",
        "import scipy.stats\n",
        "from scipy.stats import uniform\n",
        "\n",
        "import statsmodels.api as sm"
      ]
    },
    {
      "cell_type": "code",
      "source": [
        "# membuat dummy data yang distribusinya uniform\n",
        "n = 10000\n",
        "low = 1\n",
        "high = 7\n",
        "\n",
        "# discrete\n",
        "data_uniform = scipy.stats.randint.rvs(size=n, low=low, high=high)\n",
        "data_uniform"
      ],
      "metadata": {
        "colab": {
          "base_uri": "https://localhost:8080/"
        },
        "id": "SRKPB-3qVwk4",
        "outputId": "70f4e9fe-71f5-4853-ca96-22983581f742"
      },
      "execution_count": null,
      "outputs": [
        {
          "output_type": "execute_result",
          "data": {
            "text/plain": [
              "array([1, 4, 2, ..., 2, 2, 2])"
            ]
          },
          "metadata": {},
          "execution_count": 2
        }
      ]
    },
    {
      "cell_type": "code",
      "source": [
        "pd.Series(data_uniform).value_counts()"
      ],
      "metadata": {
        "colab": {
          "base_uri": "https://localhost:8080/"
        },
        "id": "CRe2RUbwWGFQ",
        "outputId": "37957aaf-7782-4904-b798-f4e1ef28e3fb"
      },
      "execution_count": null,
      "outputs": [
        {
          "output_type": "execute_result",
          "data": {
            "text/plain": [
              "5    1739\n",
              "2    1690\n",
              "4    1672\n",
              "3    1658\n",
              "1    1651\n",
              "6    1590\n",
              "dtype: int64"
            ]
          },
          "metadata": {},
          "execution_count": 3
        }
      ]
    },
    {
      "cell_type": "code",
      "source": [
        "pd.Series(data_uniform).plot(kind=\"hist\")"
      ],
      "metadata": {
        "colab": {
          "base_uri": "https://localhost:8080/",
          "height": 447
        },
        "id": "zpG0GzI5W-fs",
        "outputId": "dd04f851-e3c6-4a01-d69d-bd2f659ef4a6"
      },
      "execution_count": null,
      "outputs": [
        {
          "output_type": "execute_result",
          "data": {
            "text/plain": [
              "<Axes: ylabel='Frequency'>"
            ]
          },
          "metadata": {},
          "execution_count": 4
        },
        {
          "output_type": "display_data",
          "data": {
            "text/plain": [
              "<Figure size 640x480 with 1 Axes>"
            ],
            "image/png": "[encoded data removed]"
          },
          "metadata": {}
        }
      ]
    },
    {
      "cell_type": "code",
      "source": [
        "# membuat dummy data yang distribusinya uniform\n",
        "n = 10000\n",
        "low = 1\n",
        "high = 5\n",
        "\n",
        "# continuous\n",
        "data_uniform = uniform.rvs(size=n, loc=low, scale=high)\n",
        "data_uniform[:5]"
      ],
      "metadata": {
        "colab": {
          "base_uri": "https://localhost:8080/"
        },
        "id": "kZGqsnE7XHg-",
        "outputId": "224bee86-fb00-4bb3-efc5-4b461071a90b"
      },
      "execution_count": null,
      "outputs": [
        {
          "output_type": "execute_result",
          "data": {
            "text/plain": [
              "array([4.40986864, 4.93862287, 5.62942907, 2.84667937, 4.82685202])"
            ]
          },
          "metadata": {},
          "execution_count": 5
        }
      ]
    },
    {
      "cell_type": "code",
      "source": [
        "pd.Series(data_uniform).plot(kind=\"hist\", bins=10)"
      ],
      "metadata": {
        "colab": {
          "base_uri": "https://localhost:8080/",
          "height": 447
        },
        "id": "oNnQYfN-X6uL",
        "outputId": "d7d6de91-1e1a-4ca4-be48-6e2800fe2d13"
      },
      "execution_count": null,
      "outputs": [
        {
          "output_type": "execute_result",
          "data": {
            "text/plain": [
              "<Axes: ylabel='Frequency'>"
            ]
          },
          "metadata": {},
          "execution_count": 6
        },
        {
          "output_type": "display_data",
          "data": {
            "text/plain": [
              "<Figure size 640x480 with 1 Axes>"
            ],
            "image/png": "[encoded data removed]"
          },
          "metadata": {}
        }
      ]
    },
    {
      "cell_type": "code",
      "source": [
        "# pakai seaborn\n",
        "\n",
        "sns.displot(pd.Series(data_uniform),\n",
        "            kde=True, # garis trend data\n",
        "            color='skyblue', # warna bar dan garis kde\n",
        "            bins=10, # jumlah bins\n",
        "            )"
      ],
      "metadata": {
        "colab": {
          "base_uri": "https://localhost:8080/",
          "height": 523
        },
        "id": "RY71Z03vYG13",
        "outputId": "27c751d8-4622-43bf-ea80-23019ce90b16"
      },
      "execution_count": null,
      "outputs": [
        {
          "output_type": "execute_result",
          "data": {
            "text/plain": [
              "<seaborn.axisgrid.FacetGrid at 0x7a7a43d77af0>"
            ]
          },
          "metadata": {},
          "execution_count": 7
        },
        {
          "output_type": "display_data",
          "data": {
            "text/plain": [
              "<Figure size 500x500 with 1 Axes>"
            ],
            "image/png": "[encoded data removed]"
          },
          "metadata": {}
        }
      ]
    },
    {
      "cell_type": "markdown",
      "source": [
        "begitulah uniform distribution, pembagian distribusi datanya untuk setiap kategori/ bin data hampir sama. rata. kemungkinan dapat satu kategori (discrete) atau suatu angka di sebuah range angka (continuous) adalah sama.\n",
        "\n",
        "contoh continuous: nunggu bus antara 1-15 menit kemungkinan sama."
      ],
      "metadata": {
        "id": "EEtoCTbeZksZ"
      }
    },
    {
      "cell_type": "markdown",
      "source": [
        "## Normal distribution\n",
        "disebut juga sebagai Gaussian distribution\n",
        "\n",
        "data ini, kalau kita ambil dari range mean +- 2* std, kita akan dapat 95% datanya di dalam range ini."
      ],
      "metadata": {
        "id": "xu91ou1wagSN"
      }
    },
    {
      "cell_type": "code",
      "source": [
        "# continuous\n",
        "size = 10000\n",
        "loc = 100\n",
        "scale = 3\n",
        "data_normal = scipy.stats.norm.rvs(size=n, loc=loc, scale=scale)\n",
        "\n",
        "pd.Series(data_normal).plot(kind=\"hist\")\n",
        "plt.show()"
      ],
      "metadata": {
        "colab": {
          "base_uri": "https://localhost:8080/",
          "height": 430
        },
        "id": "orADFmy5Y1Uz",
        "outputId": "3b5fcd7c-6715-4f28-d94d-fa134c806bee"
      },
      "execution_count": null,
      "outputs": [
        {
          "output_type": "display_data",
          "data": {
            "text/plain": [
              "<Figure size 640x480 with 1 Axes>"
            ],
            "image/png": "[encoded data removed]"
          },
          "metadata": {}
        }
      ]
    },
    {
      "cell_type": "code",
      "source": [
        "pd.Series(data_normal).std()"
      ],
      "metadata": {
        "colab": {
          "base_uri": "https://localhost:8080/"
        },
        "id": "lymc-Z0_a6c6",
        "outputId": "c98988f5-b65c-4e2b-fc75-3280dab26978"
      },
      "execution_count": null,
      "outputs": [
        {
          "output_type": "execute_result",
          "data": {
            "text/plain": [
              "3.014849997072397"
            ]
          },
          "metadata": {},
          "execution_count": 9
        }
      ]
    },
    {
      "cell_type": "markdown",
      "source": [
        "95% data di data_normal ada di antara 100 +- 2 * 3"
      ],
      "metadata": {
        "id": "LZ-K1frWbDy9"
      }
    },
    {
      "cell_type": "code",
      "source": [
        "sns.displot(data_normal, kde=True)"
      ],
      "metadata": {
        "colab": {
          "base_uri": "https://localhost:8080/",
          "height": 523
        },
        "id": "yShpk2m7bB9V",
        "outputId": "fe194c39-ae79-487b-edba-fb271177468b"
      },
      "execution_count": null,
      "outputs": [
        {
          "output_type": "execute_result",
          "data": {
            "text/plain": [
              "<seaborn.axisgrid.FacetGrid at 0x7a7a816a6b90>"
            ]
          },
          "metadata": {},
          "execution_count": 10
        },
        {
          "output_type": "display_data",
          "data": {
            "text/plain": [
              "<Figure size 500x500 with 1 Axes>"
            ],
            "image/png": "[encoded data removed]"
          },
          "metadata": {}
        }
      ]
    },
    {
      "cell_type": "markdown",
      "source": [
        "pelajari juga tipe distribusi lainnya seperti:\n",
        "- gamma distribution\n",
        "- exponential distribution\n",
        "- poisson distribution (exponential distribution spesial)\n",
        "- binomial distribution\n",
        "- bernoulli distribution (binomial distribution spesial)\n",
        "\n",
        "---\n",
        "\n",
        "# Confidence Interval\n",
        "1. membuat statement rata-rata\n",
        "- nilai kelas A rata2 di 60-80\n",
        "- tinggi lelaki Semarang ada di antara 160-180cm\n",
        "- harga TV ada di antara 1-5jt\n",
        "\n",
        "2. membuat statement proporsi\n",
        "- 50-60% es krim yang dijual di bazaar rasanya vanilla\n",
        "- 70-80% lelaki di Semarang lebih tinggi dari 150cm\n",
        "\n",
        "\n",
        "best estimate +- margin of error\n",
        "- best estimate\n",
        "  - rata-rata: mean\n",
        "  - proporsi: p\n",
        "- margin of error\n",
        "  - z * estimated standard error\n",
        "    - z = 1.96 saat confidence di 95%\n",
        "    - estimated standard error\n",
        "      - rata-rata: std / np.sqrt(n)\n",
        "      - proporsi: np.sqrt( p * (1-p) / n )\n",
        "- n: jumlah data\n",
        "- std: standard deviation"
      ],
      "metadata": {
        "id": "3N-f83XIc1_G"
      }
    },
    {
      "cell_type": "code",
      "source": [
        "# Contoh: Dataset Heart.csv dari https://raw.githubusercontent.com/stefkwan-h8/dataset/main/heart.csv\n",
        "\n",
        "df_heart = pd.read_csv(\"https://raw.githubusercontent.com/stefkwan-h8/dataset/main/heart.csv\")\n",
        "df_heart.info()"
      ],
      "metadata": {
        "colab": {
          "base_uri": "https://localhost:8080/"
        },
        "id": "LtZC4aRXbPwU",
        "outputId": "56951013-c3d5-4e3f-f2bb-147c8c83f7d4"
      },
      "execution_count": null,
      "outputs": [
        {
          "output_type": "stream",
          "name": "stdout",
          "text": [
            "<class 'pandas.core.frame.DataFrame'>\n",
            "RangeIndex: 1025 entries, 0 to 1024\n",
            "Data columns (total 14 columns):\n",
            " #   Column    Non-Null Count  Dtype  \n",
            "---  ------    --------------  -----  \n",
            " 0   age       1025 non-null   int64  \n",
            " 1   sex       1025 non-null   int64  \n",
            " 2   cp        1025 non-null   int64  \n",
            " 3   trestbps  1025 non-null   int64  \n",
            " 4   chol      1025 non-null   int64  \n",
            " 5   fbs       1025 non-null   int64  \n",
            " 6   restecg   1025 non-null   int64  \n",
            " 7   thalach   1025 non-null   int64  \n",
            " 8   exang     1025 non-null   int64  \n",
            " 9   oldpeak   1025 non-null   float64\n",
            " 10  slope     1025 non-null   int64  \n",
            " 11  ca        1025 non-null   int64  \n",
            " 12  thal      1025 non-null   int64  \n",
            " 13  target    1025 non-null   int64  \n",
            "dtypes: float64(1), int64(13)\n",
            "memory usage: 112.2 KB\n"
          ]
        }
      ]
    },
    {
      "cell_type": "markdown",
      "source": [
        "### Dataset Heart.csv\n",
        "diambil dari https://www.kaggle.com/ronitf/heart-disease-uci ini merupakan dataset tentang orang yang ke rumah sakit, tes darah, punya keluhan sakit dada, dan di diagnosa punya sakit jantung atau tidak.\n",
        "\n",
        "beberapa kolomnya:\n",
        "\n",
        "- age (umur)\n",
        "- sex (gender, 1 = Pria, 0 = Wanita)\n",
        "- chest pain type (tipe sakit di dada, ada 4 jenis)\n",
        "- resting blood pressure (tekanan darah dalam mm Hg saat masuk rumah sakit)\n",
        "- serum cholestoral in mg/dl (tingkat kolesterol dalam mg/dl)\n",
        "- fasting blood sugar > 120 mg/dl (tingkat gula darah >= 120 mg/dl, 1 = ya, 0 = tidak)\n",
        "- resting electrocardiographic results (hasil tes dcg untuk lihat ritme jantung, ada 3 jenis hasil 0,1,2)\n",
        "- maximum heart rate achieved (maximum detak jantung)\n",
        "- exercise induced angina (merasakan sakit dada saat olahraga? 1 = ya, 0 = tidak)\n",
        "- target (0 = sehat; 1 = sakit jantung)"
      ],
      "metadata": {
        "id": "gu-y5ZEfi3sc"
      }
    },
    {
      "cell_type": "code",
      "source": [
        "df_heart.head()"
      ],
      "metadata": {
        "colab": {
          "base_uri": "https://localhost:8080/",
          "height": 206
        },
        "id": "zpoyOg0fikAa",
        "outputId": "ad8fc0cd-896c-4b34-fa22-d6d4f5b26092"
      },
      "execution_count": null,
      "outputs": [
        {
          "output_type": "execute_result",
          "data": {
            "text/plain": [
              "   age  sex  cp  trestbps  chol  fbs  restecg  thalach  exang  oldpeak  slope  \\\n",
              "0   52    1   0       125   212    0        1      168      0      1.0      2   \n",
              "1   53    1   0       140   203    1        0      155      1      3.1      0   \n",
              "2   70    1   0       145   174    0        1      125      1      2.6      0   \n",
              "3   61    1   0       148   203    0        1      161      0      0.0      2   \n",
              "4   62    0   0       138   294    1        1      106      0      1.9      1   \n",
              "\n",
              "   ca  thal  target  \n",
              "0   2     3       0  \n",
              "1   0     3       0  \n",
              "2   0     3       0  \n",
              "3   1     3       0  \n",
              "4   3     2       0  "
            ],
            "text/html": [
              "\n",
              "  <div id=\"df-cce9d098-6683-4fe8-aca9-faaca34cb455\" class=\"colab-df-container\">\n",
              "    <div>\n",
              "<style scoped>\n",
              "    .dataframe tbody tr th:only-of-type {\n",
              "        vertical-align: middle;\n",
              "    }\n",
              "\n",
              "    .dataframe tbody tr th {\n",
              "        vertical-align: top;\n",
              "    }\n",
              "\n",
              "    .dataframe thead th {\n",
              "        text-align: right;\n",
              "    }\n",
              "</style>\n",
              "<table border=\"1\" class=\"dataframe\">\n",
              "  <thead>\n",
              "    <tr style=\"text-align: right;\">\n",
              "      <th></th>\n",
              "      <th>age</th>\n",
              "      <th>sex</th>\n",
              "      <th>cp</th>\n",
              "      <th>trestbps</th>\n",
              "      <th>chol</th>\n",
              "      <th>fbs</th>\n",
              "      <th>restecg</th>\n",
              "      <th>thalach</th>\n",
              "      <th>exang</th>\n",
              "      <th>oldpeak</th>\n",
              "      <th>slope</th>\n",
              "      <th>ca</th>\n",
              "      <th>thal</th>\n",
              "      <th>target</th>\n",
              "    </tr>\n",
              "  </thead>\n",
              "  <tbody>\n",
              "    <tr>\n",
              "      <th>0</th>\n",
              "      <td>52</td>\n",
              "      <td>1</td>\n",
              "      <td>0</td>\n",
              "      <td>125</td>\n",
              "      <td>212</td>\n",
              "      <td>0</td>\n",
              "      <td>1</td>\n",
              "      <td>168</td>\n",
              "      <td>0</td>\n",
              "      <td>1.0</td>\n",
              "      <td>2</td>\n",
              "      <td>2</td>\n",
              "      <td>3</td>\n",
              "      <td>0</td>\n",
              "    </tr>\n",
              "    <tr>\n",
              "      <th>1</th>\n",
              "      <td>53</td>\n",
              "      <td>1</td>\n",
              "      <td>0</td>\n",
              "      <td>140</td>\n",
              "      <td>203</td>\n",
              "      <td>1</td>\n",
              "      <td>0</td>\n",
              "      <td>155</td>\n",
              "      <td>1</td>\n",
              "      <td>3.1</td>\n",
              "      <td>0</td>\n",
              "      <td>0</td>\n",
              "      <td>3</td>\n",
              "      <td>0</td>\n",
              "    </tr>\n",
              "    <tr>\n",
              "      <th>2</th>\n",
              "      <td>70</td>\n",
              "      <td>1</td>\n",
              "      <td>0</td>\n",
              "      <td>145</td>\n",
              "      <td>174</td>\n",
              "      <td>0</td>\n",
              "      <td>1</td>\n",
              "      <td>125</td>\n",
              "      <td>1</td>\n",
              "      <td>2.6</td>\n",
              "      <td>0</td>\n",
              "      <td>0</td>\n",
              "      <td>3</td>\n",
              "      <td>0</td>\n",
              "    </tr>\n",
              "    <tr>\n",
              "      <th>3</th>\n",
              "      <td>61</td>\n",
              "      <td>1</td>\n",
              "      <td>0</td>\n",
              "      <td>148</td>\n",
              "      <td>203</td>\n",
              "      <td>0</td>\n",
              "      <td>1</td>\n",
              "      <td>161</td>\n",
              "      <td>0</td>\n",
              "      <td>0.0</td>\n",
              "      <td>2</td>\n",
              "      <td>1</td>\n",
              "      <td>3</td>\n",
              "      <td>0</td>\n",
              "    </tr>\n",
              "    <tr>\n",
              "      <th>4</th>\n",
              "      <td>62</td>\n",
              "      <td>0</td>\n",
              "      <td>0</td>\n",
              "      <td>138</td>\n",
              "      <td>294</td>\n",
              "      <td>1</td>\n",
              "      <td>1</td>\n",
              "      <td>106</td>\n",
              "      <td>0</td>\n",
              "      <td>1.9</td>\n",
              "      <td>1</td>\n",
              "      <td>3</td>\n",
              "      <td>2</td>\n",
              "      <td>0</td>\n",
              "    </tr>\n",
              "  </tbody>\n",
              "</table>\n",
              "</div>\n",
              "    <div class=\"colab-df-buttons\">\n",
              "\n",
              "  <div class=\"colab-df-container\">\n",
              "    <button class=\"colab-df-convert\" onclick=\"convertToInteractive('df-cce9d098-6683-4fe8-aca9-faaca34cb455')\"\n",
              "            title=\"Convert this dataframe to an interactive table.\"\n",
              "            style=\"display:none;\">\n",
              "\n",
              "  <svg xmlns=\"http://www.w3.org/2000/svg\" height=\"24px\" viewBox=\"0 -960 960 960\">\n",
              "    <path d=\"M120-120v-720h720v720H120Zm60-500h600v-160H180v160Zm220 220h160v-160H400v160Zm0 220h160v-160H400v160ZM180-400h160v-160H180v160Zm440 0h160v-160H620v160ZM180-180h160v-160H180v160Zm440 0h160v-160H620v160Z\"/>\n",
              "  </svg>\n",
              "    </button>\n",
              "\n",
              "  <style>\n",
              "    .colab-df-container {\n",
              "      display:flex;\n",
              "      gap: 12px;\n",
              "    }\n",
              "\n",
              "    .colab-df-convert {\n",
              "      background-color: #E8F0FE;\n",
              "      border: none;\n",
              "      border-radius: 50%;\n",
              "      cursor: pointer;\n",
              "      display: none;\n",
              "      fill: #1967D2;\n",
              "      height: 32px;\n",
              "      padding: 0 0 0 0;\n",
              "      width: 32px;\n",
              "    }\n",
              "\n",
              "    .colab-df-convert:hover {\n",
              "      background-color: #E2EBFA;\n",
              "      box-shadow: 0px 1px 2px rgba(60, 64, 67, 0.3), 0px 1px 3px 1px rgba(60, 64, 67, 0.15);\n",
              "      fill: #174EA6;\n",
              "    }\n",
              "\n",
              "    .colab-df-buttons div {\n",
              "      margin-bottom: 4px;\n",
              "    }\n",
              "\n",
              "    [theme=dark] .colab-df-convert {\n",
              "      background-color: #3B4455;\n",
              "      fill: #D2E3FC;\n",
              "    }\n",
              "\n",
              "    [theme=dark] .colab-df-convert:hover {\n",
              "      background-color: #434B5C;\n",
              "      box-shadow: 0px 1px 3px 1px rgba(0, 0, 0, 0.15);\n",
              "      filter: drop-shadow(0px 1px 2px rgba(0, 0, 0, 0.3));\n",
              "      fill: #FFFFFF;\n",
              "    }\n",
              "  </style>\n",
              "\n",
              "    <script>\n",
              "      const buttonEl =\n",
              "        document.querySelector('#df-cce9d098-6683-4fe8-aca9-faaca34cb455 button.colab-df-convert');\n",
              "      buttonEl.style.display =\n",
              "        google.colab.kernel.accessAllowed ? 'block' : 'none';\n",
              "\n",
              "      async function convertToInteractive(key) {\n",
              "        const element = document.querySelector('#df-cce9d098-6683-4fe8-aca9-faaca34cb455');\n",
              "        const dataTable =\n",
              "          await google.colab.kernel.invokeFunction('convertToInteractive',\n",
              "                                                    [key], {});\n",
              "        if (!dataTable) return;\n",
              "\n",
              "        const docLinkHtml = 'Like what you see? Visit the ' +\n",
              "          '<a target=\"_blank\" href=https://colab.research.google.com/notebooks/data_table.ipynb>data table notebook</a>'\n",
              "          + ' to learn more about interactive tables.';\n",
              "        element.innerHTML = '';\n",
              "        dataTable['output_type'] = 'display_data';\n",
              "        await google.colab.output.renderOutput(dataTable, element);\n",
              "        const docLink = document.createElement('div');\n",
              "        docLink.innerHTML = docLinkHtml;\n",
              "        element.appendChild(docLink);\n",
              "      }\n",
              "    </script>\n",
              "  </div>\n",
              "\n",
              "\n",
              "<div id=\"df-2be789a1-4ccc-49ec-9f6c-581e7477e27b\">\n",
              "  <button class=\"colab-df-quickchart\" onclick=\"quickchart('df-2be789a1-4ccc-49ec-9f6c-581e7477e27b')\"\n",
              "            title=\"Suggest charts.\"\n",
              "            style=\"display:none;\">\n",
              "\n",
              "<svg xmlns=\"http://www.w3.org/2000/svg\" height=\"24px\"viewBox=\"0 0 24 24\"\n",
              "     width=\"24px\">\n",
              "    <g>\n",
              "        <path d=\"M19 3H5c-1.1 0-2 .9-2 2v14c0 1.1.9 2 2 2h14c1.1 0 2-.9 2-2V5c0-1.1-.9-2-2-2zM9 17H7v-7h2v7zm4 0h-2V7h2v10zm4 0h-2v-4h2v4z\"/>\n",
              "    </g>\n",
              "</svg>\n",
              "  </button>\n",
              "\n",
              "<style>\n",
              "  .colab-df-quickchart {\n",
              "    background-color: #E8F0FE;\n",
              "    border: none;\n",
              "    border-radius: 50%;\n",
              "    cursor: pointer;\n",
              "    display: none;\n",
              "    fill: #1967D2;\n",
              "    height: 32px;\n",
              "    padding: 0 0 0 0;\n",
              "    width: 32px;\n",
              "  }\n",
              "\n",
              "  .colab-df-quickchart:hover {\n",
              "    background-color: #E2EBFA;\n",
              "    box-shadow: 0px 1px 2px rgba(60, 64, 67, 0.3), 0px 1px 3px 1px rgba(60, 64, 67, 0.15);\n",
              "    fill: #174EA6;\n",
              "  }\n",
              "\n",
              "  [theme=dark] .colab-df-quickchart {\n",
              "    background-color: #3B4455;\n",
              "    fill: #D2E3FC;\n",
              "  }\n",
              "\n",
              "  [theme=dark] .colab-df-quickchart:hover {\n",
              "    background-color: #434B5C;\n",
              "    box-shadow: 0px 1px 3px 1px rgba(0, 0, 0, 0.15);\n",
              "    filter: drop-shadow(0px 1px 2px rgba(0, 0, 0, 0.3));\n",
              "    fill: #FFFFFF;\n",
              "  }\n",
              "</style>\n",
              "\n",
              "  <script>\n",
              "    async function quickchart(key) {\n",
              "      const charts = await google.colab.kernel.invokeFunction(\n",
              "          'suggestCharts', [key], {});\n",
              "    }\n",
              "    (() => {\n",
              "      let quickchartButtonEl =\n",
              "        document.querySelector('#df-2be789a1-4ccc-49ec-9f6c-581e7477e27b button');\n",
              "      quickchartButtonEl.style.display =\n",
              "        google.colab.kernel.accessAllowed ? 'block' : 'none';\n",
              "    })();\n",
              "  </script>\n",
              "</div>\n",
              "    </div>\n",
              "  </div>\n"
            ]
          },
          "metadata": {},
          "execution_count": 12
        }
      ]
    },
    {
      "cell_type": "markdown",
      "source": [
        "## Case Study - Confidence Interval - Mean\n",
        "berapa rata-rata tingkat kolesterol wanita yang memiliki sakit jantung?"
      ],
      "metadata": {
        "id": "UuUpoHv6jJsq"
      }
    },
    {
      "cell_type": "code",
      "source": [
        "# sex 0 = Wanita\n",
        "# target 1 = sakit\n",
        "wanita = df_heart['sex'] == 0\n",
        "sakit = df_heart['target'] == 1\n",
        "\n",
        "df_data = df_heart[wanita & sakit]\n",
        "df_data['chol'].describe()"
      ],
      "metadata": {
        "colab": {
          "base_uri": "https://localhost:8080/"
        },
        "id": "m2aRrHV7io9s",
        "outputId": "0c36092b-f104-406d-e4e0-db2134b3d129"
      },
      "execution_count": null,
      "outputs": [
        {
          "output_type": "execute_result",
          "data": {
            "text/plain": [
              "count    226.000000\n",
              "mean     255.641593\n",
              "std       65.539605\n",
              "min      141.000000\n",
              "25%      210.000000\n",
              "50%      248.000000\n",
              "75%      288.000000\n",
              "max      564.000000\n",
              "Name: chol, dtype: float64"
            ]
          },
          "metadata": {},
          "execution_count": 13
        }
      ]
    },
    {
      "cell_type": "code",
      "source": [
        "# confidence interval rata2 chol wanita sakit jantung\n",
        "\n",
        "be = df_data['chol'].mean() # 255.641593 #\n",
        "z = 1.96\n",
        "std = df_data['chol'].std() # 65.539605 #\n",
        "n = len(df_data['chol']) # 226 #\n",
        "se = std / np.sqrt(n)\n",
        "me = z * se\n",
        "\n",
        "print(\"mean\", be)\n",
        "print(\"std\", std)\n",
        "print(\"n\", n)\n",
        "\n",
        "print(be - me, be + me)"
      ],
      "metadata": {
        "colab": {
          "base_uri": "https://localhost:8080/"
        },
        "id": "p2yerIlxjTK9",
        "outputId": "e436ff9d-b99b-4e04-d96b-f78d187d46b0"
      },
      "execution_count": null,
      "outputs": [
        {
          "output_type": "stream",
          "name": "stdout",
          "text": [
            "mean 255.641592920354\n",
            "std 65.53960529588362\n",
            "n 226\n",
            "247.09671871932827 264.1864671213797\n"
          ]
        }
      ]
    },
    {
      "cell_type": "markdown",
      "source": [
        "para wanita yang memiliki sakit jantung, mempunyai tingkat kolesterol di antara 247 - 264\n",
        "\n",
        "lalu, bagaimana dengan para wanita yang tidak memiliki sakit jantung? apakah tingkat kolesterol nya juga setinggi grup yang memiliki sakit jantung?\n",
        "\n",
        "kita bisa cek confidence interval rata2 tingkat kolesterol wanita yang tidak memiliki sakit jantung"
      ],
      "metadata": {
        "id": "UZJgGmGxkkvq"
      }
    },
    {
      "cell_type": "code",
      "source": [
        "# sex 0 = Wanita\n",
        "# target 1 = sakit\n",
        "wanita = df_heart['sex'] == 0\n",
        "sehat = df_heart['target'] == 0\n",
        "\n",
        "df_data = df_heart[wanita & sehat]\n",
        "display(df_data['chol'].describe())\n",
        "\n",
        "# confidence interval rata2 chol wanita sehat\n",
        "be = df_data['chol'].mean()\n",
        "z = 1.96\n",
        "std = df_data['chol'].std()\n",
        "n = len(df_data['chol'])\n",
        "se = std / np.sqrt(n)\n",
        "me = z * se\n",
        "\n",
        "print(\"mean\", be)\n",
        "print(\"std\", std)\n",
        "print(\"n\", n)\n",
        "\n",
        "print(be - me, be + me)"
      ],
      "metadata": {
        "colab": {
          "base_uri": "https://localhost:8080/",
          "height": 243
        },
        "id": "XbaTVRX6kjrK",
        "outputId": "b9adea4f-7d96-435a-e34c-5dfddde9b9b3"
      },
      "execution_count": null,
      "outputs": [
        {
          "output_type": "display_data",
          "data": {
            "text/plain": [
              "count     86.000000\n",
              "mean     276.732558\n",
              "std       59.242359\n",
              "min      164.000000\n",
              "25%      230.000000\n",
              "50%      268.000000\n",
              "75%      319.000000\n",
              "max      409.000000\n",
              "Name: chol, dtype: float64"
            ]
          },
          "metadata": {}
        },
        {
          "output_type": "stream",
          "name": "stdout",
          "text": [
            "mean 276.7325581395349\n",
            "std 59.242358537989006\n",
            "n 86\n",
            "264.2115532274979 289.25356305157186\n"
          ]
        }
      ]
    },
    {
      "cell_type": "markdown",
      "source": [
        "kalau dari data yang kita miliki, wanita yang sehat justru memiliki tingkat kolesterol yang lebih tinggi, di atnara 264-289"
      ],
      "metadata": {
        "id": "GRGKbMZ1l63b"
      }
    },
    {
      "cell_type": "markdown",
      "source": [
        "## Case Study - Confidence Interval - Proportion\n",
        "berapa persen pasien dari data kita, yang memiliki tingkat kolesterol diatas 200?"
      ],
      "metadata": {
        "id": "S_MtYJwhmOsi"
      }
    },
    {
      "cell_type": "code",
      "source": [
        "# n = jumlah seluruh pasien\n",
        "n = len(df_heart)\n",
        "print(n, \"seluruh pasien\")\n",
        "\n",
        "# p = jumlah pasien yang kolesterol diatas 200 / jumlah seluruh pasien\n",
        "kon = df_heart[\"chol\"] > 200\n",
        "df_kol200 = df_heart[kon]\n",
        "\n",
        "p = len(df_kol200) / n\n",
        "print(len(df_kol200), \"pasien kol > 200\")\n",
        "print(p, \"proporsi paseian kol > 200 dibanding seluruh pasien\")"
      ],
      "metadata": {
        "colab": {
          "base_uri": "https://localhost:8080/"
        },
        "id": "Btd6bLOAl3Qa",
        "outputId": "ced2bd43-6c78-4ada-94cc-bf4e0b2f68c4"
      },
      "execution_count": null,
      "outputs": [
        {
          "output_type": "stream",
          "name": "stdout",
          "text": [
            "1025 seluruh pasien\n",
            "853 pasien kol > 200\n",
            "0.8321951219512195 proporsi paseian kol > 200 dibanding seluruh pasien\n"
          ]
        }
      ]
    },
    {
      "cell_type": "code",
      "source": [
        "be = p\n",
        "\n",
        "z = 1.96\n",
        "se = np.sqrt( p * (1-p) / n )\n",
        "me = z * se\n",
        "\n",
        "print(be - me, be + me)"
      ],
      "metadata": {
        "colab": {
          "base_uri": "https://localhost:8080/"
        },
        "id": "VxySRgl2mj0v",
        "outputId": "885da5e6-1610-4229-96a8-d5f7c8b5e769"
      },
      "execution_count": null,
      "outputs": [
        {
          "output_type": "stream",
          "name": "stdout",
          "text": [
            "0.8093175983368008 0.8550726455656381\n"
          ]
        }
      ]
    },
    {
      "cell_type": "markdown",
      "source": [
        "81-86% pasien yang cekup memiliki tingkat kolesterol diatas 200"
      ],
      "metadata": {
        "id": "qtBSUWmCotQy"
      }
    },
    {
      "cell_type": "markdown",
      "source": [
        "# Latihan: Buatlah Confidence Interval untuk mencari proporsi pasien yang umurnya 60 tahun keatas"
      ],
      "metadata": {
        "id": "fP_2hxyWo634"
      }
    },
    {
      "cell_type": "code",
      "source": [
        "df_lansia = df_heart[df_heart[\"age\"]>=60]\n",
        "\n",
        "n = len(df_heart)\n",
        "p = len(df_lansia) / n\n",
        "\n",
        "print(len(df_lansia), n, p)"
      ],
      "metadata": {
        "colab": {
          "base_uri": "https://localhost:8080/"
        },
        "id": "rg6kgG8Por2O",
        "outputId": "246ab9ac-7f15-4225-831f-50fca24dd29a"
      },
      "execution_count": null,
      "outputs": [
        {
          "output_type": "stream",
          "name": "stdout",
          "text": [
            "309 1025 0.30146341463414633\n"
          ]
        }
      ]
    },
    {
      "cell_type": "code",
      "source": [
        "be = p\n",
        "z = 1.96\n",
        "se = np.sqrt( p * (1-p) / n )\n",
        "me = z * se\n",
        "\n",
        "print(be - me, be + me)"
      ],
      "metadata": {
        "colab": {
          "base_uri": "https://localhost:8080/"
        },
        "id": "2zWivxWNqtXF",
        "outputId": "28ae6268-f249-433c-e90d-13fc24ddc5c9"
      },
      "execution_count": null,
      "outputs": [
        {
          "output_type": "stream",
          "name": "stdout",
          "text": [
            "0.2733699032860805 0.32955692598221215\n"
          ]
        }
      ]
    },
    {
      "cell_type": "markdown",
      "source": [
        "27.3-33.0% pasien yang cekup berumur 60 tahun keatas"
      ],
      "metadata": {
        "id": "Wo_VOHU8q6LO"
      }
    },
    {
      "cell_type": "markdown",
      "source": [
        "# Hypothesis Testing\n",
        "alternate hypothesis   \n",
        "H1 = statement A\n",
        "\n",
        "null hypothesis   \n",
        "H0 = statement bukan A\n",
        "\n",
        "kalkulasi **pvalue** --> reject H0 atau tidak berhasil reject H0\n",
        "```python\n",
        "alpha = 0.05 # 5% error rate, 95% confidence\n",
        "if (pvalue < alpha):\n",
        "  \"reject null hypothesis H0\"\n",
        "else:\n",
        "  \"FAIL to reject null hypothesis H0\"\n",
        "```\n"
      ],
      "metadata": {
        "id": "FhWAxBZ2rM6J"
      }
    },
    {
      "cell_type": "markdown",
      "source": [
        "### contoh - membuat alternate dan null hypothesis\n",
        "\n",
        "Researcher - pasien operasi lutut terapi fisik 2x seminggu (bukan 3x), masa pemulihannya akan lebih lama dari 8.2 minggu.\n",
        "\n",
        "alternate hypothesis    \n",
        "statement A: pemulihan > 8.2 minggu\n",
        "\n",
        "H1: μ > 8.2\n",
        "\n",
        "null hypothesis   \n",
        "statement B: pemulihan <= 8.2 minggu\n",
        "\n",
        "H0: μ <= 8.2"
      ],
      "metadata": {
        "id": "8ymHOByUtkWY"
      }
    },
    {
      "cell_type": "markdown",
      "source": [
        "# Case Study - One Population Proportion\n",
        "- dulu 52% orang tua percaya x\n",
        "- apakah sekarang lebih banyak? apakah sekarang lebih dari 52% orang tua percaya?\n",
        "\n",
        "H0: p <= 0.52   \n",
        "H1: p > 0.52\n",
        "\n",
        "- n = 1018\n",
        "- p = 0.56\n",
        "\n",
        "dari 1018 orang tua yang di survey sekarang, 56% percaya x\n",
        "\n",
        "apakah perbedaan ini signifikan? apakah kita bisa bilang kalau sekarang > 52% orang tua percaya x? atau mungkin cuma kebetulan yang di survey banyak yang bilang iya percaya x.\n",
        "\n",
        "bayangkan kalau jumlah orang tua yang di survey cuma 10 orang, dan dibilang 50% percaya x.\n",
        "\n",
        "jika pvalue yang kita cari lebih kecil dari error rate alpha kita (5%) kita bisa bilang kalau perbedaan ini signifikan."
      ],
      "metadata": {
        "id": "R3kF88HvueUS"
      }
    },
    {
      "cell_type": "code",
      "source": [
        "n = 1018\n",
        "pnull = 0.52\n",
        "phat = 0.56\n",
        "\n",
        "zstat, pvalue = sm.stats.proportions_ztest(phat * n, n, pnull, alternative='larger')\n",
        "\n",
        "print(pvalue)"
      ],
      "metadata": {
        "colab": {
          "base_uri": "https://localhost:8080/"
        },
        "id": "rcf_QvD2q4kZ",
        "outputId": "a65ed6fd-05d7-46c5-e27e-f342dee705f2"
      },
      "execution_count": null,
      "outputs": [
        {
          "output_type": "stream",
          "name": "stdout",
          "text": [
            "0.005069273865860533\n"
          ]
        }
      ]
    },
    {
      "cell_type": "code",
      "source": [
        "alpha = 0.05 # error rate biasanya di 5%\n",
        "if (pvalue < alpha):\n",
        "  print(\"REJECT null hypothesis H0\")\n",
        "else:\n",
        "  print(\"FAIL to reject null hypothesis H0\")"
      ],
      "metadata": {
        "colab": {
          "base_uri": "https://localhost:8080/"
        },
        "id": "3XPwSm_FwzSY",
        "outputId": "5b81eef7-ac17-424f-fdef-19978289bc54"
      },
      "execution_count": null,
      "outputs": [
        {
          "output_type": "stream",
          "name": "stdout",
          "text": [
            "REJECT null hypothesis H0\n"
          ]
        }
      ]
    },
    {
      "cell_type": "markdown",
      "source": [
        "sepertinya H1 benar, kalau sekarang lebih banyak orang tua yang percaya x, lebih dari 52% orang tua percaya x"
      ],
      "metadata": {
        "id": "iFsjG3W1w8Hq"
      }
    },
    {
      "cell_type": "markdown",
      "source": [
        "# Case Study - Hypothesis Testing - Difference in population means\n",
        "perbedaan rata-rata antara dua set data\n",
        "\n",
        "kita gunakan data heart.csv yang tadi, dan kita buat statement: rata2 kolesterol pria dan wanita berbeda.\n",
        "\n",
        "H0: u_p == u_w\n",
        "\n",
        "H1: u_p != u_w\n",
        "\n",
        "set data chol_p dan set data chol_w"
      ],
      "metadata": {
        "id": "ihDZC-WKxtSY"
      }
    },
    {
      "cell_type": "code",
      "source": [
        "df_chol_p = df_heart[df_heart['sex'] == 1]['chol']\n",
        "print(df_chol_p.shape)\n",
        "\n",
        "df_chol_w = df_heart[df_heart['sex'] == 0]['chol']\n",
        "print(df_chol_w.shape)"
      ],
      "metadata": {
        "colab": {
          "base_uri": "https://localhost:8080/"
        },
        "id": "6laDYjXmw6x6",
        "outputId": "45093280-31bd-4170-e3ae-cd250b58496a"
      },
      "execution_count": null,
      "outputs": [
        {
          "output_type": "stream",
          "name": "stdout",
          "text": [
            "(713,)\n",
            "(312,)\n"
          ]
        }
      ]
    },
    {
      "cell_type": "code",
      "source": [
        "print(\"rata2 chol pria\", df_chol_p.mean(), 'dari', len(df_chol_p), 'orang' )\n",
        "print(\"rata2 chol wanita\", df_chol_w.mean(), 'dari', len(df_chol_w), 'orang' )"
      ],
      "metadata": {
        "colab": {
          "base_uri": "https://localhost:8080/"
        },
        "id": "XSj7wTfCyTf8",
        "outputId": "4b79f03a-4001-47fc-be71-c889d2946c42"
      },
      "execution_count": null,
      "outputs": [
        {
          "output_type": "stream",
          "name": "stdout",
          "text": [
            "rata2 chol pria 239.23702664796633 dari 713 orang\n",
            "rata2 chol wanita 261.45512820512823 dari 312 orang\n"
          ]
        }
      ]
    },
    {
      "cell_type": "code",
      "source": [
        "zstat, pvalue = sm.stats.ztest(df_chol_p, df_chol_w, alternative=\"two-sided\")\n",
        "print(pvalue)"
      ],
      "metadata": {
        "colab": {
          "base_uri": "https://localhost:8080/"
        },
        "id": "7AjX8nIvywC-",
        "outputId": "fa2b605e-9fe1-4ba5-e27e-d1ba7404afa0"
      },
      "execution_count": null,
      "outputs": [
        {
          "output_type": "stream",
          "name": "stdout",
          "text": [
            "9.827887332708898e-11\n"
          ]
        }
      ]
    },
    {
      "cell_type": "code",
      "source": [
        "alpha = 0.05 # error rate biasanya di 5%\n",
        "if (pvalue < alpha):\n",
        "  print(\"REJECT null hypothesis H0\")\n",
        "else:\n",
        "  print(\"FAIL to reject null hypothesis H0\")"
      ],
      "metadata": {
        "colab": {
          "base_uri": "https://localhost:8080/"
        },
        "id": "1uXbsG81zHuH",
        "outputId": "18004093-ef8b-46aa-efe9-6fd8d4afc3f1"
      },
      "execution_count": null,
      "outputs": [
        {
          "output_type": "stream",
          "name": "stdout",
          "text": [
            "REJECT null hypothesis H0\n"
          ]
        }
      ]
    },
    {
      "cell_type": "markdown",
      "source": [
        "ada perbedaan signifikan yang menunjukkan kalau H0 bisa kita REJECT, rata2 chol pria dan rata2 chol wanita sama kita REJECT, kemungkinan besar rata2 chol pria dan wanita berbeda"
      ],
      "metadata": {
        "id": "J_2vB767zNLb"
      }
    },
    {
      "cell_type": "code",
      "source": [
        "sns.displot(df_chol_p)\n",
        "\n",
        "plt.title(\"Distribusi Cholesterol Pria\")\n",
        "plt.ylabel(\"Total Pria\")\n",
        "plt.xlabel(\"Tingkat Cholesterol\")\n",
        "plt.show()"
      ],
      "metadata": {
        "colab": {
          "base_uri": "https://localhost:8080/",
          "height": 529
        },
        "id": "5cFsgpB1zL3w",
        "outputId": "5efe9fa7-1e31-4c17-a128-d745cd38e3f7"
      },
      "execution_count": null,
      "outputs": [
        {
          "output_type": "display_data",
          "data": {
            "text/plain": [
              "<Figure size 500x500 with 1 Axes>"
            ],
            "image/png": "[encoded data removed]"
          },
          "metadata": {}
        }
      ]
    },
    {
      "cell_type": "code",
      "source": [
        "sns.displot(df_chol_w)\n",
        "\n",
        "plt.title(\"Distribusi Cholesterol Wanita\")\n",
        "plt.ylabel(\"Total wanita\")\n",
        "plt.xlabel(\"Tingkat Cholesterol\")\n",
        "plt.show()"
      ],
      "metadata": {
        "colab": {
          "base_uri": "https://localhost:8080/",
          "height": 529
        },
        "id": "03pmNC8mzwGf",
        "outputId": "1951c235-7326-4639-f001-0705af42ce8f"
      },
      "execution_count": null,
      "outputs": [
        {
          "output_type": "display_data",
          "data": {
            "text/plain": [
              "<Figure size 500x500 with 1 Axes>"
            ],
            "image/png": "[encoded data removed]"
          },
          "metadata": {}
        }
      ]
    },
    {
      "cell_type": "code",
      "source": [
        "# latihan - coba kerjakan sesuai contoh kode.id,\n",
        "# apakah dataset kita heart.csv (ceritanya org US) proporsi org sakit > 42% (proporsi org sakit di Irlandia)\n",
        "\n",
        "df_sakit = df_heart[df_heart[\"target\"] == 1]\n",
        "n_sakit = len(df_sakit)\n",
        "n = len(df_heart)\n",
        "\n",
        "p = n_sakit / n\n",
        "\n",
        "print(\"jumlah pasien\", n)\n",
        "print(\"jumlah sakit\", n_sakit)\n",
        "print(\"proporsi sakit\", p)"
      ],
      "metadata": {
        "colab": {
          "base_uri": "https://localhost:8080/"
        },
        "id": "ebJ3b8waz3GR",
        "outputId": "f7436d4a-73ef-4a80-a451-c0bd79927c53"
      },
      "execution_count": null,
      "outputs": [
        {
          "output_type": "stream",
          "name": "stdout",
          "text": [
            "jumlah pasien 1025\n",
            "jumlah sakit 526\n",
            "proporsi sakit 0.5131707317073171\n"
          ]
        }
      ]
    },
    {
      "cell_type": "markdown",
      "source": [
        "- proporsi org US yang sakit ada di 0.51\n",
        "- proporsi org Ireland yang sakit ada di 0.42\n",
        "- apakah p_US > p_Ireland?\n",
        "\n",
        "H0: p_US <= p_Ireland   \n",
        "H1: p_US > p_Ireland"
      ],
      "metadata": {
        "id": "70HuAkg63toW"
      }
    },
    {
      "cell_type": "code",
      "source": [
        "n = n\n",
        "pnull = 0.42\n",
        "phat = 0.51\n",
        "\n",
        "zstat, pvalue = sm.stats.proportions_ztest(phat * n, n, pnull, alternative='larger')\n",
        "\n",
        "print(pvalue)"
      ],
      "metadata": {
        "colab": {
          "base_uri": "https://localhost:8080/"
        },
        "id": "HCdt16T13RN7",
        "outputId": "ed27e3a5-8617-4965-aa65-41c4aff6a521"
      },
      "execution_count": null,
      "outputs": [
        {
          "output_type": "stream",
          "name": "stdout",
          "text": [
            "4.108029802635625e-09\n"
          ]
        }
      ]
    },
    {
      "cell_type": "code",
      "source": [
        "alpha = 0.05 # error rate biasanya di 5%\n",
        "if (pvalue < alpha):\n",
        "  print(\"REJECT null hypothesis H0\")\n",
        "else:\n",
        "  print(\"FAIL to reject null hypothesis H0\")"
      ],
      "metadata": {
        "colab": {
          "base_uri": "https://localhost:8080/"
        },
        "id": "jvsImyPD4VHE",
        "outputId": "aa9fb916-0f9e-4f19-f7e3-fe290eb07f26"
      },
      "execution_count": null,
      "outputs": [
        {
          "output_type": "stream",
          "name": "stdout",
          "text": [
            "REJECT null hypothesis H0\n"
          ]
        }
      ]
    },
    {
      "cell_type": "markdown",
      "source": [
        "sepertinya proporsi orang sakit di US lebih banyak daripada di Ireland."
      ],
      "metadata": {
        "id": "K78TcR274fJt"
      }
    },
    {
      "cell_type": "code",
      "source": [],
      "metadata": {
        "id": "VFuq8lnn4bxm"
      },
      "execution_count": null,
      "outputs": []
    }
  ]
}