{
 "cells": [
  {
   "cell_type": "code",
   "execution_count": 44,
   "metadata": {},
   "outputs": [],
   "source": [
    "import numpy as np\n",
    "import matplotlib as plt\n",
    "import pandas as pd"
   ]
  },
  {
   "cell_type": "code",
   "execution_count": 2,
   "metadata": {},
   "outputs": [
    {
     "name": "stdout",
     "output_type": "stream",
     "text": [
      "[[ 0  1  2  3]\n",
      " [ 4  5  6  7]\n",
      " [ 8  9 10 11]]\n"
     ]
    }
   ],
   "source": [
    "arr_contoh = np.arange(12).reshape(3,4)\n",
    "\n",
    "print(arr_contoh)     #ambil 2 6 10"
   ]
  },
  {
   "cell_type": "code",
   "execution_count": 20,
   "metadata": {},
   "outputs": [
    {
     "name": "stdout",
     "output_type": "stream",
     "text": [
      "[[ 2]\n",
      " [ 6]\n",
      " [10]]\n"
     ]
    }
   ],
   "source": [
    "print(arr_contoh[:,2].reshape(3,1))"
   ]
  },
  {
   "cell_type": "code",
   "execution_count": 26,
   "metadata": {},
   "outputs": [
    {
     "name": "stdout",
     "output_type": "stream",
     "text": [
      "[ 0  1  2  3  4  5  6  7  8  9 10 11]\n"
     ]
    }
   ],
   "source": [
    "test_array = np.arange(12)\n",
    "\n",
    "print(test_array)"
   ]
  },
  {
   "cell_type": "code",
   "execution_count": 31,
   "metadata": {},
   "outputs": [
    {
     "name": "stdout",
     "output_type": "stream",
     "text": [
      "66\n",
      "5.5\n",
      "5.5\n",
      "11\n",
      "0\n",
      "5.5\n"
     ]
    }
   ],
   "source": [
    "print(np.sum(test_array))\n",
    "print(np.mean(test_array))\n",
    "print(np.median(test_array))\n",
    "print(np.max(test_array))\n",
    "print(np.min(test_array))\n",
    "print(np.average(test_array))"
   ]
  },
  {
   "cell_type": "code",
   "execution_count": 43,
   "metadata": {},
   "outputs": [
    {
     "name": "stdout",
     "output_type": "stream",
     "text": [
      "[0.00185075 0.97262273 0.9644154  0.04532081 0.7093147  0.37941298\n",
      " 0.5616021  0.41647179 0.66226633 0.87672059 0.70333908 0.97950217\n",
      " 0.58231018 0.03919793 0.087401   0.20423062 0.13984337 0.04206746\n",
      " 0.59566231 0.85268286 0.88195535 0.38157797 0.92956866 0.65227688\n",
      " 0.15191229 0.52589507 0.48277882 0.13939081 0.8638534  0.8385158\n",
      " 0.01344154 0.16396411 0.11141371 0.55878366 0.20298963 0.57998079\n",
      " 0.45742973 0.65184184 0.58641318 0.51761109 0.01457092 0.26394247\n",
      " 0.04173664 0.69667096 0.82147048 0.93398034 0.70797536 0.35302997\n",
      " 0.06134401 0.64567413 0.02659799 0.75845114 0.96619667 0.90198038\n",
      " 0.76335002 0.90428358 0.65802841 0.09666638 0.85060974 0.14429972\n",
      " 0.97458452 0.39614005 0.95139556 0.10657618 0.59381582 0.79645628\n",
      " 0.34168276 0.87656437 0.6255744  0.48046494 0.69194496 0.76842656\n",
      " 0.14303129 0.83855642 0.52523557 0.48102903 0.15217899 0.83528698\n",
      " 0.34116435 0.8585383  0.92597367 0.30844409 0.88984077 0.35715264\n",
      " 0.47433756 0.28733921 0.7243424  0.83030101 0.54155946 0.47021913\n",
      " 0.66626514 0.21543362 0.15790779 0.08589309 0.46864257 0.22260284\n",
      " 0.37036315 0.38548942 0.96062294 0.39851829]\n",
      "\n",
      "[0.70333908 0.88195535]\n"
     ]
    }
   ],
   "source": [
    "dadu100 = np.random.random(100)\n",
    "print(dadu100)\n",
    "print(\"\")\n",
    "print(dadu100[[10,20]])"
   ]
  },
  {
   "cell_type": "code",
   "execution_count": 45,
   "metadata": {},
   "outputs": [
    {
     "name": "stdout",
     "output_type": "stream",
     "text": [
      "<class 'numpy.ndarray'>\n"
     ]
    }
   ],
   "source": [
    "a = np.zeros(10)\n",
    "\n",
    "print(type(a))"
   ]
  },
  {
   "cell_type": "code",
   "execution_count": 46,
   "metadata": {},
   "outputs": [
    {
     "name": "stdout",
     "output_type": "stream",
     "text": [
      "[[0. 0. 0. 0.]\n",
      " [0. 0. 0. 0.]\n",
      " [0. 0. 0. 0.]]\n"
     ]
    }
   ],
   "source": [
    "b2 = np.zeros((3,4))\n",
    "print(b2)"
   ]
  },
  {
   "cell_type": "code",
   "execution_count": 47,
   "metadata": {},
   "outputs": [
    {
     "name": "stdout",
     "output_type": "stream",
     "text": [
      "[1. 1. 1. 1. 1. 1. 1. 1.]\n",
      "[[0.36330309 0.52947504 0.64088781]\n",
      " [0.96058134 0.28070406 0.89425007]\n",
      " [0.95220057 0.34423016 0.38815431]\n",
      " [0.083391   0.83177148 0.18748385]\n",
      " [0.46096732 0.01893831 0.08364995]\n",
      " [0.99105365 0.53280687 0.87555191]\n",
      " [0.37811046 0.21781809 0.14276152]\n",
      " [0.93773205 0.04231983 0.47953752]]\n",
      "[[0. 0. 0. 0. 0. 0.]\n",
      " [0. 0. 0. 0. 0. 0.]]\n",
      "[ 2  4  6  8 10 12 14 16 18 20 22 24 26 28 30 32 34 36 38 40 42 44 46 48\n",
      " 50 52 54 56 58 60 62 64 66 68 70 72 74 76 78]\n"
     ]
    }
   ],
   "source": [
    "c = np.ones(8)\n",
    "c2 = np.random.random((8,3))\n",
    "c3 = np.empty((2,6))\n",
    "c4 = np.arange(2,80,2)\n",
    "\n",
    "print(c)\n",
    "print(c2)\n",
    "print(c3)\n",
    "print(c4)"
   ]
  },
  {
   "cell_type": "code",
   "execution_count": 48,
   "metadata": {},
   "outputs": [
    {
     "name": "stdout",
     "output_type": "stream",
     "text": [
      "(8,)\n",
      "1\n",
      "8\n",
      "24\n",
      "(2, 6)\n",
      "1\n",
      "2\n",
      "[[0. 0. 0. 0. 0. 0.]\n",
      " [0. 0. 0. 0. 0. 0.]]\n",
      "(2, 6)\n",
      "2\n",
      "12\n"
     ]
    }
   ],
   "source": [
    "print (c.shape) #bentuk ada 8 array C\n",
    "print(c.ndim) #dimensi ada 1 dimensi\n",
    "print(c.size) #Ukuran ada 8 angka di dalam array C\n",
    "\n",
    "print(c2.size)\n",
    "print(c3.shape)\n",
    "print(c4.ndim)\n",
    "print(c3.ndim) #2 dimensi\n",
    "\n",
    "print(c3)\n",
    "print(c3.shape)\n",
    "print(c3.ndim)\n",
    "print(c3.size)"
   ]
  },
  {
   "cell_type": "code",
   "execution_count": 49,
   "metadata": {},
   "outputs": [
    {
     "name": "stdout",
     "output_type": "stream",
     "text": [
      "[1 2 3 4 5]\n",
      "[1 2 3 4 5 7]\n"
     ]
    }
   ],
   "source": [
    "arr_urut = np.array([1,2,3,4,5])\n",
    "\n",
    "print(arr_urut)\n",
    "\n",
    "arr_baru = np.append(arr_urut,7)\n",
    "\n",
    "print(arr_baru)"
   ]
  },
  {
   "cell_type": "code",
   "execution_count": 50,
   "metadata": {},
   "outputs": [
    {
     "name": "stdout",
     "output_type": "stream",
     "text": [
      "[1 2 4 5 7]\n",
      "[9, 4, 1, 56, 6, 2, 6, 31, 12, 5, 7, 3]\n",
      "[ 1  2  3  4  5  6  6  7  9 12 31 56]\n"
     ]
    }
   ],
   "source": [
    "arr_baru2 = np.delete(arr_baru,2)\n",
    "\n",
    "print(arr_baru2)\n",
    "\n",
    "arr_acak = ([9,4,1,56,6,2,6,31,12,5,7,3])\n",
    "\n",
    "arr_urut = np.sort(arr_acak)\n",
    "\n",
    "print(arr_acak)\n",
    "print(arr_urut)"
   ]
  },
  {
   "cell_type": "code",
   "execution_count": 51,
   "metadata": {},
   "outputs": [
    {
     "name": "stdout",
     "output_type": "stream",
     "text": [
      "[0 1 2 3 4 5]\n",
      "\n",
      "[[0 1 2]\n",
      " [3 4 5]]\n",
      "\n",
      "[[0 1]\n",
      " [2 3]\n",
      " [4 5]]\n"
     ]
    }
   ],
   "source": [
    "arr_shape = np.arange(6)\n",
    "\n",
    "arr_reshaped = arr_shape.reshape((2,3))\n",
    "arr_reshaped2 = arr_shape.reshape((3,2))\n",
    "\n",
    "print(arr_shape)\n",
    "print(\"\")\n",
    "print(arr_reshaped)\n",
    "print(\"\")\n",
    "print(arr_reshaped2)"
   ]
  },
  {
   "cell_type": "code",
   "execution_count": 52,
   "metadata": {},
   "outputs": [
    {
     "name": "stdout",
     "output_type": "stream",
     "text": [
      "[ 0  1  2  3  4  5  6  7  8  9 10 11]\n",
      "\n",
      "[[ 0  1  2  3]\n",
      " [ 4  5  6  7]\n",
      " [ 8  9 10 11]]\n",
      "\n",
      "Atau dengan cara 1 baris\n",
      "\n",
      "[[ 0  1  2  3]\n",
      " [ 4  5  6  7]\n",
      " [ 8  9 10 11]]\n"
     ]
    }
   ],
   "source": [
    "# @title\n",
    "arr_contoh = np.arange(12)\n",
    "\n",
    "print(arr_contoh)\n",
    "\n",
    "arr_reshape3 = arr_contoh.reshape(3,4)\n",
    "print(\"\")\n",
    "print(arr_reshape3)\n",
    "print(\"\")\n",
    "print(\"Atau dengan cara 1 baris\")\n",
    "\n",
    "arr_contoh2 = np.arange(12).reshape(3,4) #contoh 1 baris code\n",
    "print(\"\")\n",
    "print(arr_contoh2)"
   ]
  },
  {
   "cell_type": "code",
   "execution_count": 53,
   "metadata": {},
   "outputs": [
    {
     "name": "stdout",
     "output_type": "stream",
     "text": [
      "[[ 0  1  2  3]\n",
      " [ 4  5  6  7]\n",
      " [ 8  9 10 11]]\n"
     ]
    },
    {
     "data": {
      "text/plain": [
       "array([[1, 2],\n",
       "       [5, 6]])"
      ]
     },
     "execution_count": 53,
     "metadata": {},
     "output_type": "execute_result"
    }
   ],
   "source": [
    "arr_contoh2[2,1] #contoh indexing ( tiap dimensi dimulai dari 0 )\n",
    "\n",
    "print(arr_contoh2)\n",
    "\n",
    "arr_contoh2[[0,1]]\n",
    "\n",
    "arr_contoh2[0:2,1:3] #untuk ambil index 1, 2, 5, 6 (index 0 sampai index 2 dan index 1 sampai index 3)"
   ]
  },
  {
   "cell_type": "code",
   "execution_count": 62,
   "metadata": {},
   "outputs": [
    {
     "name": "stdout",
     "output_type": "stream",
     "text": [
      "[[1 4 7]\n",
      " [2 5 8]\n",
      " [3 6 9]]\n",
      "\n",
      "[[1 4 7]\n",
      " [2 5 8]\n",
      " [3 6 9]]\n",
      "\n",
      "[[ 4  4  4]\n",
      " [10 10 10]\n",
      " [16 16 16]]\n",
      "\n",
      "[[-2  0  2]\n",
      " [-2  0  2]\n",
      " [-2  0  2]]\n",
      "\n",
      "[[ 3  4  3]\n",
      " [24 25 24]\n",
      " [63 64 63]]\n",
      "\n",
      "[[0.33333333 1.         3.        ]\n",
      " [0.66666667 1.         1.5       ]\n",
      " [0.77777778 1.         1.28571429]]\n",
      "\n",
      "[[3 6 9]\n",
      " [2 5 8]\n",
      " [1 4 7]]\n"
     ]
    }
   ],
   "source": [
    "matrik_a = np.array([\n",
    "    [1,2,3],\n",
    "    [4,5,6],\n",
    "    [7,8,9]\n",
    "])\n",
    "\n",
    "matrik_b = np.array([\n",
    "    [3,2,1],\n",
    "    [6,5,4],\n",
    "    [9,8,7]\n",
    "])\n",
    "\n",
    "tambah = matrik_a + matrik_b\n",
    "kurang = matrik_a - matrik_b\n",
    "kali = matrik_a*matrik_b\n",
    "bagi = matrik_a/matrik_b\n",
    "balik = matrik_a.transpose()\n",
    "balika = matrik_a.T\n",
    "balikb = matrik_b.transpose()\n",
    "\n",
    "\n",
    "print(balik)\n",
    "print(\"\")\n",
    "print(balika)\n",
    "print(\"\")\n",
    "print(tambah)\n",
    "print(\"\")\n",
    "print(kurang)\n",
    "print(\"\")\n",
    "print(kali)\n",
    "print(\"\")\n",
    "print(bagi)\n",
    "print(\"\")\n",
    "print(balikb)"
   ]
  },
  {
   "cell_type": "code",
   "execution_count": null,
   "metadata": {},
   "outputs": [],
   "source": []
  }
 ],
 "metadata": {
  "kernelspec": {
   "display_name": "Python 3",
   "language": "python",
   "name": "python3"
  },
  "language_info": {
   "codemirror_mode": {
    "name": "ipython",
    "version": 3
   },
   "file_extension": ".py",
   "mimetype": "text/x-python",
   "name": "python",
   "nbconvert_exporter": "python",
   "pygments_lexer": "ipython3",
   "version": "3.11.3"
  },
  "orig_nbformat": 4
 },
 "nbformat": 4,
 "nbformat_minor": 2
}
