{
 "cells": [
  {
   "cell_type": "code",
   "execution_count": 1,
   "metadata": {},
   "outputs": [],
   "source": [
    "import numpy as np"
   ]
  },
  {
   "cell_type": "code",
   "execution_count": 2,
   "metadata": {},
   "outputs": [
    {
     "name": "stdout",
     "output_type": "stream",
     "text": [
      "[[ 0  1  2  3]\n",
      " [ 4  5  6  7]\n",
      " [ 8  9 10 11]]\n"
     ]
    }
   ],
   "source": [
    "arr_contoh = np.arange(12).reshape(3,4)\n",
    "\n",
    "print(arr_contoh)     #ambil 2 6 10"
   ]
  },
  {
   "cell_type": "code",
   "execution_count": 20,
   "metadata": {},
   "outputs": [
    {
     "name": "stdout",
     "output_type": "stream",
     "text": [
      "[[ 2]\n",
      " [ 6]\n",
      " [10]]\n"
     ]
    }
   ],
   "source": [
    "print(arr_contoh[:,2].reshape(3,1))"
   ]
  },
  {
   "cell_type": "code",
   "execution_count": 26,
   "metadata": {},
   "outputs": [
    {
     "name": "stdout",
     "output_type": "stream",
     "text": [
      "[ 0  1  2  3  4  5  6  7  8  9 10 11]\n"
     ]
    }
   ],
   "source": [
    "test_array = np.arange(12)\n",
    "\n",
    "print(test_array)"
   ]
  },
  {
   "cell_type": "code",
   "execution_count": 31,
   "metadata": {},
   "outputs": [
    {
     "name": "stdout",
     "output_type": "stream",
     "text": [
      "66\n",
      "5.5\n",
      "5.5\n",
      "11\n",
      "0\n",
      "5.5\n"
     ]
    }
   ],
   "source": [
    "print(np.sum(test_array))\n",
    "print(np.mean(test_array))\n",
    "print(np.median(test_array))\n",
    "print(np.max(test_array))\n",
    "print(np.min(test_array))\n",
    "print(np.average(test_array))"
   ]
  },
  {
   "cell_type": "code",
   "execution_count": 37,
   "metadata": {},
   "outputs": [
    {
     "name": "stdout",
     "output_type": "stream",
     "text": [
      "[0.06413871 0.18977236 0.15475111 0.52212467 0.31249948 0.45613436\n",
      " 0.46122367 0.0789155  0.37161922 0.73960391 0.11752526 0.84193248\n",
      " 0.19676028 0.87062713 0.42893576 0.48530072 0.93534127 0.05859628\n",
      " 0.19474743 0.0951927  0.52401616 0.83816561 0.05250499 0.6361859\n",
      " 0.18494958 0.3573783  0.40838767 0.53914683 0.22526162 0.5741604\n",
      " 0.09660529 0.35308395 0.13820477 0.51672839 0.20752809 0.53097032\n",
      " 0.17861499 0.20602592 0.96570783 0.13586651 0.70452498 0.81986424\n",
      " 0.57829848 0.21462316 0.4361458  0.4653729  0.1987218  0.89107586\n",
      " 0.88462567 0.60209551 0.87515293 0.97544996 0.94653852 0.89811741\n",
      " 0.06166219 0.31664183 0.77606792 0.75920377 0.71549526 0.31825206\n",
      " 0.51189307 0.95064189 0.27848233 0.95524109 0.12096196 0.79672552\n",
      " 0.41782209 0.94745961 0.50161341 0.32943676 0.79528345 0.01622693\n",
      " 0.84543907 0.81530381 0.03808874 0.14148301 0.37504307 0.54378422\n",
      " 0.77453979 0.28039423 0.63865693 0.48742463 0.18999774 0.43444727\n",
      " 0.37166447 0.47338945 0.81788019 0.17163206 0.81019967 0.01890361\n",
      " 0.31474673 0.31197473 0.76569647 0.33172368 0.93469179 0.6940527\n",
      " 0.6682812  0.10179927 0.47735777 0.88085119]\n",
      "\n",
      "0.11752526413103837\n"
     ]
    }
   ],
   "source": [
    "dadu100 = np.random.random(100)\n",
    "print(dadu100)\n",
    "print(\"\")\n",
    "print(dadu100[10])"
   ]
  },
  {
   "cell_type": "code",
   "execution_count": null,
   "metadata": {},
   "outputs": [],
   "source": []
  },
  {
   "cell_type": "code",
   "execution_count": null,
   "metadata": {},
   "outputs": [],
   "source": []
  }
 ],
 "metadata": {
  "kernelspec": {
   "display_name": "Python 3",
   "language": "python",
   "name": "python3"
  },
  "language_info": {
   "codemirror_mode": {
    "name": "ipython",
    "version": 3
   },
   "file_extension": ".py",
   "mimetype": "text/x-python",
   "name": "python",
   "nbconvert_exporter": "python",
   "pygments_lexer": "ipython3",
   "version": "3.11.3"
  },
  "orig_nbformat": 4
 },
 "nbformat": 4,
 "nbformat_minor": 2
}
