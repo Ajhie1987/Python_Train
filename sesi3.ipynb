{
 "cells": [
  {
   "cell_type": "markdown",
   "id": "5ad04a6b",
   "metadata": {},
   "source": [
    "# sesi 2 - conditional\n",
    "\n",
    "## Conditional \n",
    "membuat kondisi\n",
    "\n",
    "membuat peraturan untuk programnya\n",
    "\n",
    "kalau hari ini hujan, maka kita bawa payung"
   ]
  },
  {
   "cell_type": "code",
   "execution_count": null,
   "id": "fcf49890-e7db-46fb-ba79-f754d1b796d7",
   "metadata": {},
   "outputs": [],
   "source": [
    "hujan = True\n",
    "\n",
    "if (hujan):\n",
    "    print(\"bawa payung\")"
   ]
  },
  {
   "cell_type": "code",
   "execution_count": null,
   "id": "f6a4ffb5",
   "metadata": {},
   "outputs": [],
   "source": [
    "#operator pembanding\n",
    "\n",
    "a = 10\n",
    "b = 5\n",
    "print(a>b)"
   ]
  },
  {
   "cell_type": "code",
   "execution_count": null,
   "id": "ff334dc8",
   "metadata": {},
   "outputs": [],
   "source": [
    "print(bool(a))"
   ]
  },
  {
   "cell_type": "code",
   "execution_count": null,
   "id": "7ba74951",
   "metadata": {},
   "outputs": [],
   "source": [
    "andri = 20\n",
    "\n",
    "if(andri>=17):\n",
    "    print(\"Punya Ktp\")\n",
    "else:\n",
    "    print(\"Belum punya KTP\")"
   ]
  },
  {
   "cell_type": "code",
   "execution_count": null,
   "id": "a71be79a",
   "metadata": {},
   "outputs": [],
   "source": [
    "#Function\n",
    "\n",
    "seperti membuat variable khusus untuk simpan code, dengan keyword \"def\""
   ]
  },
  {
   "cell_type": "code",
   "execution_count": null,
   "id": "510de1d0",
   "metadata": {},
   "outputs": [],
   "source": [
    "def "
   ]
  },
  {
   "cell_type": "code",
   "execution_count": null,
   "id": "76558a22",
   "metadata": {},
   "outputs": [],
   "source": [
    "def menyapa():\n",
    "    print(\"Halo\")\n",
    "    print(\"Selamat Malam\")"
   ]
  },
  {
   "cell_type": "code",
   "execution_count": null,
   "id": "6943bd32",
   "metadata": {},
   "outputs": [],
   "source": [
    "menyapa"
   ]
  },
  {
   "cell_type": "code",
   "execution_count": null,
   "id": "c3f8a22c",
   "metadata": {},
   "outputs": [],
   "source": [
    "menyapa()"
   ]
  },
  {
   "cell_type": "markdown",
   "id": "408264d9",
   "metadata": {},
   "source": [
    "#Function adalah blok code dimulai dengan def dengan nama fungsi dan tanda kurung ()"
   ]
  },
  {
   "cell_type": "code",
   "execution_count": null,
   "id": "04f2523a",
   "metadata": {},
   "outputs": [],
   "source": [
    "def menyapaDenganWaktu(waktu): #waktu adalah parameter / argumen / variable\n",
    "    print(\"Selamat\",waktu)\n"
   ]
  },
  {
   "cell_type": "code",
   "execution_count": null,
   "id": "91ce6efa",
   "metadata": {},
   "outputs": [],
   "source": [
    "menyapaDenganWaktu(\"Siang\")"
   ]
  },
  {
   "cell_type": "code",
   "execution_count": null,
   "id": "167029c2",
   "metadata": {},
   "outputs": [],
   "source": [
    "menyapaDenganWaktu(\"Siang\")\n",
    "menyapaDenganWaktu(\"Malam\")"
   ]
  },
  {
   "cell_type": "code",
   "execution_count": null,
   "id": "712f98b1",
   "metadata": {},
   "outputs": [],
   "source": [
    "def nilaiAngka(angka):\n",
    "    print(\"Anda menginput angka\", angka)\n",
    "    print(\"\")\n",
    "    while(angka<5):\n",
    "        print(\"Angka sekarang\",angka)\n",
    "        angka += 1"
   ]
  },
  {
   "cell_type": "code",
   "execution_count": null,
   "id": "eed9eff0",
   "metadata": {},
   "outputs": [],
   "source": [
    "nilaiAngka(0)"
   ]
  },
  {
   "cell_type": "code",
   "execution_count": null,
   "id": "bcd6469b",
   "metadata": {},
   "outputs": [],
   "source": [
    "def nilaiAngka2(angka2):\n",
    "    for c in range(angka2):\n",
    "        print(\"Angka\",c)\n",
    "    "
   ]
  },
  {
   "cell_type": "code",
   "execution_count": null,
   "id": "1ab3e247",
   "metadata": {},
   "outputs": [],
   "source": [
    "nilaiAngka2(5)"
   ]
  },
  {
   "cell_type": "markdown",
   "id": "130856b2",
   "metadata": {},
   "source": [
    "Function lebih umum digunakan untuk menjalankan sebuah proses (kalkulasi, rangkuman, filter, sortir, dll)\n",
    "\n",
    "input -> proses -> output"
   ]
  },
  {
   "cell_type": "markdown",
   "id": "59b79653",
   "metadata": {},
   "source": [
    "hasil kalkulasi function tidak disimpan apabila hanya di PRINT"
   ]
  },
  {
   "cell_type": "code",
   "execution_count": null,
   "id": "0d95689d",
   "metadata": {},
   "outputs": [],
   "source": [
    "def tambahSepuluh(num):\n",
    "    return num + 10"
   ]
  },
  {
   "cell_type": "code",
   "execution_count": null,
   "id": "c90d6377",
   "metadata": {},
   "outputs": [],
   "source": [
    "hasil_function = tambahSepuluh(5)"
   ]
  },
  {
   "cell_type": "code",
   "execution_count": null,
   "id": "22a46a42",
   "metadata": {},
   "outputs": [],
   "source": [
    "print(hasil_function)"
   ]
  },
  {
   "cell_type": "code",
   "execution_count": null,
   "id": "b07f034d",
   "metadata": {},
   "outputs": [],
   "source": [
    "def totalPelanggar(list_plat,tanggal_hari_ini):\n",
    "    counter = 0\n",
    "    for plat in list_plat:\n",
    "        if ((plat % 2) != (tanggal_hari_ini % 2)):\n",
    "            counter += 1\n",
    "    return counter          "
   ]
  },
  {
   "cell_type": "code",
   "execution_count": null,
   "id": "d867476f",
   "metadata": {},
   "outputs": [],
   "source": [
    "hasil_function = totalPelanggar([2176,4513,5452,1231231,5453,13123,23,351,2234], 30)\n",
    "\n",
    "print(\"Pelanggar hari ini : \",hasil_function)"
   ]
  },
  {
   "cell_type": "code",
   "execution_count": null,
   "id": "1086bced",
   "metadata": {},
   "outputs": [],
   "source": [
    "def testReturn(tanggal):\n",
    "    return (tanggal)\n"
   ]
  },
  {
   "cell_type": "code",
   "execution_count": null,
   "id": "4ed96c2e",
   "metadata": {},
   "outputs": [],
   "source": [
    "function_return = testReturn(23)\n",
    "print(\"Sekarang tanggal :\", function_return)"
   ]
  },
  {
   "cell_type": "code",
   "execution_count": null,
   "id": "cb8d43dd",
   "metadata": {},
   "outputs": [],
   "source": [
    "function_return"
   ]
  },
  {
   "cell_type": "code",
   "execution_count": null,
   "id": "5ae5bd57",
   "metadata": {},
   "outputs": [],
   "source": [
    "def tambah(a,b):\n",
    "    print(\"ini adalah hasil tambah\")\n",
    "    return a + b"
   ]
  },
  {
   "cell_type": "code",
   "execution_count": null,
   "id": "e6afcf57",
   "metadata": {},
   "outputs": [],
   "source": [
    "hasil_function = tambah( 7 , 12 )\n",
    "hasil_function = tambah(\"Selamat\", \" Siang\")"
   ]
  },
  {
   "cell_type": "code",
   "execution_count": null,
   "id": "f5a4f1f1",
   "metadata": {},
   "outputs": [],
   "source": [
    "print(hasil_func)"
   ]
  },
  {
   "cell_type": "code",
   "execution_count": null,
   "id": "bf5c4b51",
   "metadata": {},
   "outputs": [],
   "source": [
    "def menyapaDengandefault(nama,waktu=\"pagi\", tempat=\"tempat\"):\n",
    "    print(\"selamat\", waktu, \"pak/bu\", nama, \"di\", tempat)"
   ]
  },
  {
   "cell_type": "code",
   "execution_count": null,
   "id": "61faafef",
   "metadata": {},
   "outputs": [],
   "source": [
    "menyapaDengandefault(\"Cantika\")"
   ]
  },
  {
   "cell_type": "code",
   "execution_count": null,
   "id": "d2574acf",
   "metadata": {},
   "outputs": [],
   "source": [
    "def sapaBanyak(*nama_orang):\n",
    "    for nama in nama_orang:\n",
    "        print(\"halo\",nama)"
   ]
  },
  {
   "cell_type": "code",
   "execution_count": null,
   "id": "1bfdeba9",
   "metadata": {},
   "outputs": [],
   "source": [
    "sapaBanyak()"
   ]
  },
  {
   "cell_type": "code",
   "execution_count": null,
   "id": "dbb51817",
   "metadata": {},
   "outputs": [],
   "source": [
    "sapaBanyak(\"andi\",\"budi\",\"tono\")"
   ]
  },
  {
   "cell_type": "code",
   "execution_count": null,
   "id": "892ed13a",
   "metadata": {},
   "outputs": [],
   "source": [
    "buah_buahan = [\"apel\", \"jeruk\", \"mangga\"] #pass by reference"
   ]
  },
  {
   "cell_type": "code",
   "execution_count": null,
   "id": "08ce5a0a",
   "metadata": {},
   "outputs": [],
   "source": [
    "buah_buahan_copy = buah_buahan"
   ]
  },
  {
   "cell_type": "code",
   "execution_count": null,
   "id": "a2513be7",
   "metadata": {},
   "outputs": [],
   "source": [
    "print(buah_buahan_copy)"
   ]
  },
  {
   "cell_type": "code",
   "execution_count": null,
   "id": "3a28e6d0",
   "metadata": {},
   "outputs": [],
   "source": [
    "buah_buahan_copy.append (\"Semangka\")"
   ]
  },
  {
   "cell_type": "code",
   "execution_count": null,
   "id": "a2bc1ac2",
   "metadata": {},
   "outputs": [],
   "source": [
    "print(buah_buahan_copy)\n",
    "print(buah_buahan)"
   ]
  },
  {
   "cell_type": "code",
   "execution_count": null,
   "id": "3c08dea9",
   "metadata": {},
   "outputs": [],
   "source": [
    "#pass by value\n",
    "\n",
    "nama_buah = \"apel\"\n",
    "copy_nama_buah = nama_buah\n",
    "\n",
    "print(nama_buah)\n",
    "print(copy_nama_buah)\n",
    "\n",
    "copy_nama_buah += \"....!\"\n",
    "\n",
    "print(nama_buah)\n",
    "print(copy_nama_buah)"
   ]
  },
  {
   "cell_type": "code",
   "execution_count": 110,
   "id": "01599190",
   "metadata": {},
   "outputs": [
    {
     "name": "stdout",
     "output_type": "stream",
     "text": [
      "['apel', 'jeruk', 'mangga']\n"
     ]
    }
   ],
   "source": [
    "def addBuah(list_buah, *buah_tambahan):\n",
    "    list_buah_copy = list_buah.copy() #agar value sebelumnya tidak ikut berubah\n",
    "    \n",
    "    for bt in buah_tambahan:\n",
    "        list_buah_copy.append(bt)\n",
    "    return list_buah_copy\n",
    "\n",
    "print(buah_buahan)"
   ]
  },
  {
   "cell_type": "code",
   "execution_count": 111,
   "id": "78e36cfb",
   "metadata": {},
   "outputs": [
    {
     "name": "stdout",
     "output_type": "stream",
     "text": [
      "['apel', 'jeruk', 'mangga']\n",
      "['apel', 'jeruk', 'mangga', 'Kelapa', 'Nangka']\n"
     ]
    }
   ],
   "source": [
    "list_baru = addBuah(buah_buahan, \"Kelapa\", \"Nangka\")\n",
    "\n",
    "print(buah_buahan)\n",
    "print(list_baru)"
   ]
  },
  {
   "cell_type": "code",
   "execution_count": 115,
   "id": "fe70f3f2",
   "metadata": {},
   "outputs": [
    {
     "name": "stdout",
     "output_type": "stream",
     "text": [
      "['andi', 'tono', 'doni']\n",
      "['andi', 'tono', 'doni', 'zulkarnain']\n"
     ]
    }
   ],
   "source": [
    "list_nama = ['andi','tono','doni']\n",
    "\n",
    "list_nama_copy = list_nama.copy()\n",
    "list_nama_copy.append('zulkarnain')\n",
    "\n",
    "print(list_nama)\n",
    "print(list_nama_copy)"
   ]
  },
  {
   "cell_type": "code",
   "execution_count": 120,
   "id": "42b1fa21",
   "metadata": {},
   "outputs": [],
   "source": [
    "lambda a, b: a+b #berfungsi untuk menulis function tanpa nama dalam 1 baris\n",
    "\n",
    "def tambahTambahan (a,b):\n",
    "    return a-b"
   ]
  },
  {
   "cell_type": "code",
   "execution_count": null,
   "id": "b9d0d48a",
   "metadata": {},
   "outputs": [],
   "source": []
  }
 ],
 "metadata": {
  "kernelspec": {
   "display_name": "Python 3 (ipykernel)",
   "language": "python",
   "name": "python3"
  },
  "language_info": {
   "codemirror_mode": {
    "name": "ipython",
    "version": 3
   },
   "file_extension": ".py",
   "mimetype": "text/x-python",
   "name": "python",
   "nbconvert_exporter": "python",
   "pygments_lexer": "ipython3",
   "version": "3.9.6"
  }
 },
 "nbformat": 4,
 "nbformat_minor": 5
}
